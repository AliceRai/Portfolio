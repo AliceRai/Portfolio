{
  "cells": [
    {
      "cell_type": "markdown",
      "metadata": {
        "id": "view-in-github",
        "colab_type": "text"
      },
      "source": [
        "<a href=\"https://colab.research.google.com/github/AliceRai/Portfolio/blob/main/Progetto_filtro_per_fake_news.ipynb\" target=\"_parent\"><img src=\"https://colab.research.google.com/assets/colab-badge.svg\" alt=\"Open In Colab\"/></a>"
      ]
    },
    {
      "cell_type": "code",
      "execution_count": null,
      "metadata": {
        "id": "M-opLerCVAbl",
        "colab": {
          "base_uri": "https://localhost:8080/"
        },
        "outputId": "125d5d37-2be4-4337-d877-e39cd3869cab"
      },
      "outputs": [
        {
          "output_type": "stream",
          "name": "stderr",
          "text": [
            "[nltk_data] Downloading package stopwords to /root/nltk_data...\n",
            "[nltk_data]   Package stopwords is already up-to-date!\n"
          ]
        }
      ],
      "source": [
        "import pandas as pd\n",
        "import matplotlib.pyplot as plt\n",
        "\n",
        "import gensim\n",
        "from gensim.utils import simple_preprocess\n",
        "import gensim.corpora as corpora\n",
        "import nltk\n",
        "nltk.download('stopwords')  #scarichiamo le stopwords\n",
        "from nltk.corpus import stopwords  #importiamo le stopwords\n",
        "stop_words = stopwords.words('english') #prediamo solo le stopwords in inglese\n",
        "\n",
        "from collections import Counter\n",
        "\n",
        "import pyLDAvis\n",
        "import pyLDAvis.gensim_models as gensimvis\n",
        "\n",
        "from sklearn.model_selection import train_test_split\n",
        "from sklearn.feature_extraction.text import TfidfVectorizer\n",
        "from sklearn.linear_model import LogisticRegression\n",
        "from sklearn.naive_bayes import MultinomialNB\n",
        "from sklearn.metrics import accuracy_score, classification_report, mean_squared_error, r2_score\n"
      ]
    },
    {
      "cell_type": "code",
      "execution_count": null,
      "metadata": {
        "colab": {
          "base_uri": "https://localhost:8080/",
          "height": 263
        },
        "id": "HtlCwy0wVNuD",
        "outputId": "834fae18-ce36-4921-d72f-facfb404f0eb"
      },
      "outputs": [
        {
          "output_type": "stream",
          "name": "stderr",
          "text": [
            "/usr/local/lib/python3.10/dist-packages/ipykernel/ipkernel.py:283: DeprecationWarning: `should_run_async` will not call `transform_cell` automatically in the future. Please pass the result to `transformed_cell` argument and any exception that happen during thetransform in `preprocessing_exc_tuple` in IPython 7.17 and above.\n",
            "  and should_run_async(code)\n"
          ]
        },
        {
          "output_type": "execute_result",
          "data": {
            "text/plain": [
              "                                               title  \\\n",
              "0   Donald Trump Sends Out Embarrassing New Year’...   \n",
              "1   Drunk Bragging Trump Staffer Started Russian ...   \n",
              "2   Sheriff David Clarke Becomes An Internet Joke...   \n",
              "3   Trump Is So Obsessed He Even Has Obama’s Name...   \n",
              "4   Pope Francis Just Called Out Donald Trump Dur...   \n",
              "\n",
              "                                                text subject  \\\n",
              "0  Donald Trump just couldn t wish all Americans ...    News   \n",
              "1  House Intelligence Committee Chairman Devin Nu...    News   \n",
              "2  On Friday, it was revealed that former Milwauk...    News   \n",
              "3  On Christmas day, Donald Trump announced that ...    News   \n",
              "4  Pope Francis used his annual Christmas Day mes...    News   \n",
              "\n",
              "                date  \n",
              "0  December 31, 2017  \n",
              "1  December 31, 2017  \n",
              "2  December 30, 2017  \n",
              "3  December 29, 2017  \n",
              "4  December 25, 2017  "
            ],
            "text/html": [
              "\n",
              "  <div id=\"df-b0acf976-d4fc-4400-bca1-3b1e7a512a57\" class=\"colab-df-container\">\n",
              "    <div>\n",
              "<style scoped>\n",
              "    .dataframe tbody tr th:only-of-type {\n",
              "        vertical-align: middle;\n",
              "    }\n",
              "\n",
              "    .dataframe tbody tr th {\n",
              "        vertical-align: top;\n",
              "    }\n",
              "\n",
              "    .dataframe thead th {\n",
              "        text-align: right;\n",
              "    }\n",
              "</style>\n",
              "<table border=\"1\" class=\"dataframe\">\n",
              "  <thead>\n",
              "    <tr style=\"text-align: right;\">\n",
              "      <th></th>\n",
              "      <th>title</th>\n",
              "      <th>text</th>\n",
              "      <th>subject</th>\n",
              "      <th>date</th>\n",
              "    </tr>\n",
              "  </thead>\n",
              "  <tbody>\n",
              "    <tr>\n",
              "      <th>0</th>\n",
              "      <td>Donald Trump Sends Out Embarrassing New Year’...</td>\n",
              "      <td>Donald Trump just couldn t wish all Americans ...</td>\n",
              "      <td>News</td>\n",
              "      <td>December 31, 2017</td>\n",
              "    </tr>\n",
              "    <tr>\n",
              "      <th>1</th>\n",
              "      <td>Drunk Bragging Trump Staffer Started Russian ...</td>\n",
              "      <td>House Intelligence Committee Chairman Devin Nu...</td>\n",
              "      <td>News</td>\n",
              "      <td>December 31, 2017</td>\n",
              "    </tr>\n",
              "    <tr>\n",
              "      <th>2</th>\n",
              "      <td>Sheriff David Clarke Becomes An Internet Joke...</td>\n",
              "      <td>On Friday, it was revealed that former Milwauk...</td>\n",
              "      <td>News</td>\n",
              "      <td>December 30, 2017</td>\n",
              "    </tr>\n",
              "    <tr>\n",
              "      <th>3</th>\n",
              "      <td>Trump Is So Obsessed He Even Has Obama’s Name...</td>\n",
              "      <td>On Christmas day, Donald Trump announced that ...</td>\n",
              "      <td>News</td>\n",
              "      <td>December 29, 2017</td>\n",
              "    </tr>\n",
              "    <tr>\n",
              "      <th>4</th>\n",
              "      <td>Pope Francis Just Called Out Donald Trump Dur...</td>\n",
              "      <td>Pope Francis used his annual Christmas Day mes...</td>\n",
              "      <td>News</td>\n",
              "      <td>December 25, 2017</td>\n",
              "    </tr>\n",
              "  </tbody>\n",
              "</table>\n",
              "</div>\n",
              "    <div class=\"colab-df-buttons\">\n",
              "\n",
              "  <div class=\"colab-df-container\">\n",
              "    <button class=\"colab-df-convert\" onclick=\"convertToInteractive('df-b0acf976-d4fc-4400-bca1-3b1e7a512a57')\"\n",
              "            title=\"Convert this dataframe to an interactive table.\"\n",
              "            style=\"display:none;\">\n",
              "\n",
              "  <svg xmlns=\"http://www.w3.org/2000/svg\" height=\"24px\" viewBox=\"0 -960 960 960\">\n",
              "    <path d=\"M120-120v-720h720v720H120Zm60-500h600v-160H180v160Zm220 220h160v-160H400v160Zm0 220h160v-160H400v160ZM180-400h160v-160H180v160Zm440 0h160v-160H620v160ZM180-180h160v-160H180v160Zm440 0h160v-160H620v160Z\"/>\n",
              "  </svg>\n",
              "    </button>\n",
              "\n",
              "  <style>\n",
              "    .colab-df-container {\n",
              "      display:flex;\n",
              "      gap: 12px;\n",
              "    }\n",
              "\n",
              "    .colab-df-convert {\n",
              "      background-color: #E8F0FE;\n",
              "      border: none;\n",
              "      border-radius: 50%;\n",
              "      cursor: pointer;\n",
              "      display: none;\n",
              "      fill: #1967D2;\n",
              "      height: 32px;\n",
              "      padding: 0 0 0 0;\n",
              "      width: 32px;\n",
              "    }\n",
              "\n",
              "    .colab-df-convert:hover {\n",
              "      background-color: #E2EBFA;\n",
              "      box-shadow: 0px 1px 2px rgba(60, 64, 67, 0.3), 0px 1px 3px 1px rgba(60, 64, 67, 0.15);\n",
              "      fill: #174EA6;\n",
              "    }\n",
              "\n",
              "    .colab-df-buttons div {\n",
              "      margin-bottom: 4px;\n",
              "    }\n",
              "\n",
              "    [theme=dark] .colab-df-convert {\n",
              "      background-color: #3B4455;\n",
              "      fill: #D2E3FC;\n",
              "    }\n",
              "\n",
              "    [theme=dark] .colab-df-convert:hover {\n",
              "      background-color: #434B5C;\n",
              "      box-shadow: 0px 1px 3px 1px rgba(0, 0, 0, 0.15);\n",
              "      filter: drop-shadow(0px 1px 2px rgba(0, 0, 0, 0.3));\n",
              "      fill: #FFFFFF;\n",
              "    }\n",
              "  </style>\n",
              "\n",
              "    <script>\n",
              "      const buttonEl =\n",
              "        document.querySelector('#df-b0acf976-d4fc-4400-bca1-3b1e7a512a57 button.colab-df-convert');\n",
              "      buttonEl.style.display =\n",
              "        google.colab.kernel.accessAllowed ? 'block' : 'none';\n",
              "\n",
              "      async function convertToInteractive(key) {\n",
              "        const element = document.querySelector('#df-b0acf976-d4fc-4400-bca1-3b1e7a512a57');\n",
              "        const dataTable =\n",
              "          await google.colab.kernel.invokeFunction('convertToInteractive',\n",
              "                                                    [key], {});\n",
              "        if (!dataTable) return;\n",
              "\n",
              "        const docLinkHtml = 'Like what you see? Visit the ' +\n",
              "          '<a target=\"_blank\" href=https://colab.research.google.com/notebooks/data_table.ipynb>data table notebook</a>'\n",
              "          + ' to learn more about interactive tables.';\n",
              "        element.innerHTML = '';\n",
              "        dataTable['output_type'] = 'display_data';\n",
              "        await google.colab.output.renderOutput(dataTable, element);\n",
              "        const docLink = document.createElement('div');\n",
              "        docLink.innerHTML = docLinkHtml;\n",
              "        element.appendChild(docLink);\n",
              "      }\n",
              "    </script>\n",
              "  </div>\n",
              "\n",
              "\n",
              "<div id=\"df-b020dd33-0428-45d1-a46a-449011744654\">\n",
              "  <button class=\"colab-df-quickchart\" onclick=\"quickchart('df-b020dd33-0428-45d1-a46a-449011744654')\"\n",
              "            title=\"Suggest charts\"\n",
              "            style=\"display:none;\">\n",
              "\n",
              "<svg xmlns=\"http://www.w3.org/2000/svg\" height=\"24px\"viewBox=\"0 0 24 24\"\n",
              "     width=\"24px\">\n",
              "    <g>\n",
              "        <path d=\"M19 3H5c-1.1 0-2 .9-2 2v14c0 1.1.9 2 2 2h14c1.1 0 2-.9 2-2V5c0-1.1-.9-2-2-2zM9 17H7v-7h2v7zm4 0h-2V7h2v10zm4 0h-2v-4h2v4z\"/>\n",
              "    </g>\n",
              "</svg>\n",
              "  </button>\n",
              "\n",
              "<style>\n",
              "  .colab-df-quickchart {\n",
              "      --bg-color: #E8F0FE;\n",
              "      --fill-color: #1967D2;\n",
              "      --hover-bg-color: #E2EBFA;\n",
              "      --hover-fill-color: #174EA6;\n",
              "      --disabled-fill-color: #AAA;\n",
              "      --disabled-bg-color: #DDD;\n",
              "  }\n",
              "\n",
              "  [theme=dark] .colab-df-quickchart {\n",
              "      --bg-color: #3B4455;\n",
              "      --fill-color: #D2E3FC;\n",
              "      --hover-bg-color: #434B5C;\n",
              "      --hover-fill-color: #FFFFFF;\n",
              "      --disabled-bg-color: #3B4455;\n",
              "      --disabled-fill-color: #666;\n",
              "  }\n",
              "\n",
              "  .colab-df-quickchart {\n",
              "    background-color: var(--bg-color);\n",
              "    border: none;\n",
              "    border-radius: 50%;\n",
              "    cursor: pointer;\n",
              "    display: none;\n",
              "    fill: var(--fill-color);\n",
              "    height: 32px;\n",
              "    padding: 0;\n",
              "    width: 32px;\n",
              "  }\n",
              "\n",
              "  .colab-df-quickchart:hover {\n",
              "    background-color: var(--hover-bg-color);\n",
              "    box-shadow: 0 1px 2px rgba(60, 64, 67, 0.3), 0 1px 3px 1px rgba(60, 64, 67, 0.15);\n",
              "    fill: var(--button-hover-fill-color);\n",
              "  }\n",
              "\n",
              "  .colab-df-quickchart-complete:disabled,\n",
              "  .colab-df-quickchart-complete:disabled:hover {\n",
              "    background-color: var(--disabled-bg-color);\n",
              "    fill: var(--disabled-fill-color);\n",
              "    box-shadow: none;\n",
              "  }\n",
              "\n",
              "  .colab-df-spinner {\n",
              "    border: 2px solid var(--fill-color);\n",
              "    border-color: transparent;\n",
              "    border-bottom-color: var(--fill-color);\n",
              "    animation:\n",
              "      spin 1s steps(1) infinite;\n",
              "  }\n",
              "\n",
              "  @keyframes spin {\n",
              "    0% {\n",
              "      border-color: transparent;\n",
              "      border-bottom-color: var(--fill-color);\n",
              "      border-left-color: var(--fill-color);\n",
              "    }\n",
              "    20% {\n",
              "      border-color: transparent;\n",
              "      border-left-color: var(--fill-color);\n",
              "      border-top-color: var(--fill-color);\n",
              "    }\n",
              "    30% {\n",
              "      border-color: transparent;\n",
              "      border-left-color: var(--fill-color);\n",
              "      border-top-color: var(--fill-color);\n",
              "      border-right-color: var(--fill-color);\n",
              "    }\n",
              "    40% {\n",
              "      border-color: transparent;\n",
              "      border-right-color: var(--fill-color);\n",
              "      border-top-color: var(--fill-color);\n",
              "    }\n",
              "    60% {\n",
              "      border-color: transparent;\n",
              "      border-right-color: var(--fill-color);\n",
              "    }\n",
              "    80% {\n",
              "      border-color: transparent;\n",
              "      border-right-color: var(--fill-color);\n",
              "      border-bottom-color: var(--fill-color);\n",
              "    }\n",
              "    90% {\n",
              "      border-color: transparent;\n",
              "      border-bottom-color: var(--fill-color);\n",
              "    }\n",
              "  }\n",
              "</style>\n",
              "\n",
              "  <script>\n",
              "    async function quickchart(key) {\n",
              "      const quickchartButtonEl =\n",
              "        document.querySelector('#' + key + ' button');\n",
              "      quickchartButtonEl.disabled = true;  // To prevent multiple clicks.\n",
              "      quickchartButtonEl.classList.add('colab-df-spinner');\n",
              "      try {\n",
              "        const charts = await google.colab.kernel.invokeFunction(\n",
              "            'suggestCharts', [key], {});\n",
              "      } catch (error) {\n",
              "        console.error('Error during call to suggestCharts:', error);\n",
              "      }\n",
              "      quickchartButtonEl.classList.remove('colab-df-spinner');\n",
              "      quickchartButtonEl.classList.add('colab-df-quickchart-complete');\n",
              "    }\n",
              "    (() => {\n",
              "      let quickchartButtonEl =\n",
              "        document.querySelector('#df-b020dd33-0428-45d1-a46a-449011744654 button');\n",
              "      quickchartButtonEl.style.display =\n",
              "        google.colab.kernel.accessAllowed ? 'block' : 'none';\n",
              "    })();\n",
              "  </script>\n",
              "</div>\n",
              "\n",
              "    </div>\n",
              "  </div>\n"
            ],
            "application/vnd.google.colaboratory.intrinsic+json": {
              "type": "dataframe",
              "variable_name": "data_fake",
              "summary": "{\n  \"name\": \"data_fake\",\n  \"rows\": 23481,\n  \"fields\": [\n    {\n      \"column\": \"title\",\n      \"properties\": {\n        \"dtype\": \"string\",\n        \"num_unique_values\": 17903,\n        \"samples\": [\n          \" Fox News Mocked Into Oblivion After This F*cking STUPID Attempt To Make Steve Bannon Look Sane (TWEETS)\",\n          \"BREAKING: FL GOV RICK SCOTT Calls for FBI Director to Resign\",\n          \" WATCH: Mike Pence\\u2019s Photo Op With Puerto Rico Survivors Just Went TERRIBLY Wrong (VIDEO)\"\n        ],\n        \"semantic_type\": \"\",\n        \"description\": \"\"\n      }\n    },\n    {\n      \"column\": \"text\",\n      \"properties\": {\n        \"dtype\": \"string\",\n        \"num_unique_values\": 17455,\n        \"samples\": [\n          \"The moral decay continues The Kapiolani Medical Center for Women and Children at the University of Hawaii is currently recruiting pregnant girls and women to participate in second-trimester abortions to measure their bleeding during the operation, with and without antihemorrhagic drugs. According to the Clinical Trials website, run by the National Institutes of Health, participants must be at least 14 years old and 18-24 weeks pregnant.The controversial study, led by Bliss Kaneshiro, MD and Kate Whitehouse, DO, will monitor bleeding during D&E abortions to determine the effects of the drug oxytocin, commonly used to minimize blood loss and decrease the risk of hemorrhage.The clinical trial, called  Effects of Oxytocin on Bleeding Outcomes during Dilation and Evacuation  began in October 2014 and is a collaboration between UH, Society of Family Planning and the University of Washington.The Society of Family Planning funds a number of similar research projects, such as experimenting with the dosage of Misoprostol, a uterine contracting agent, prior to surgical abortions at 13-18 weeks and exploring umbilical cord injections to produce fetal death prior to late-term abortions.In the UH study, researchers will carry out a  randomized, double-blinded, placebo-controlled trials,  to determine the effect of oxytocin s use on uterine bleeding, meaning that they will either provide or deny intravenous oxytocin to the women.Reports suggest that some doctors are concerned that withholding oxytocin during surgery may put patients, especially teen girls, at risk. This study is reminiscent of Nazi concentration camp experiments. I pity the poor women who are being treated like lab rats, especially those who are denied the drug to reduce hemorrhaging,  said Troy Newman, President of Operation Rescue.Dilation and evacuation abortions are surgical procedures that involve dismembering the pre-born baby with forceps, scraping the inside of the uterus with a curette to remove any residuals and finally suctioning out the womb to make sure the contents are completely removed.After the abortion, the corpse of the fetus is reassembled and examined to ensure everything was successfully removed and that the abortion was complete.The study is hoping to attract up to 166 test subjects and is expected to conclude in July 2015.Via: Breitbart News\",\n          \"CNN was quick to scoop up Corey Lewandowski after Donald Trump kicked him out of his role as campaign manager, but his first week on the job is going pretty much exactly how you would expect it to go   terribly.Not only has Lewandowski proven himself to be pretty much like a paid spokesman for Trump, but his defense of the disgraced GOP candidate isn t being received well. Earlier this week, Lewandowski revealed that he was under contract and couldn t criticize The Donald, even after being fired from the campaign. Today, Lewandowski got called out by Hillary Clinton surrogate Christine Quinn for hyping Trump up to be an expert on the Brexit decision   a suggestion that was clearly false.On Monday s edition of CNN s New Day, Lewandowski made another pathetic defense of Trump by trying to reframe the candidate s disgusting reaction to Brexit, where he mostly spoke about how much the decision would be good for his Scotland golf resort. Lewandowski s defense was: Obviously the U.S. dollar has become much stronger now against the British pound. If you re going to spend money in Europe, now would actually be a good time to go with the fall of the pound.What you have is a world view, so what you have is someone who is saying,  Let s look at this from the U.S. perspective. If you want to go and travel overseas   just from a monetary perspective   now is the right time to do that because what you re getting is more for your dollar. Quinn wasn t having it. She ripped into Lewandowski, firing back, Donald Trump is not running to be travel agent of the world, he s running to be president of the United States.  She continued: What he said wasn t a commentary on international markets, it was,  When the pound goes down, more people will come to my golf course. Donald Trump s main concern isn t the international markets, it isn t the impact that Brexit will have on hard working Americans  401Ks, it s himself. How can he make more money, how can he put more money in his bank account? Lewandowski compared the Brexit decision to Trump s rise in the GOP, and Quinn once again called him out and put him back in his place. She said: Trump touted that he saw this coming. That s ridiculous because when he was first asked about Brexit by the press, he didn t appear to know what it was. Lewandowski tried to counter by insisting that People are too smart, they are tired of being told what to do.  He then tried to commend Trump for being a selfish moron: You know what Donald Trump said about Brexit? What he said was, you don t have to listen to me because it s not my decision. He didn t weigh in like Hillary Clinton did, like Barack Obama did, saying that you can t do this. Quinn fought back, Because he didn t know what it was. Lewandowski was fighting a losing battle. Trump s reaction to Brexit was just as terrifying as it was humorous   it truly proved that Trump knows nothing about foreign affairs, and hasn t spent any time educating himself since the beginning of his presidential candidacy. If only some of the hours he spent getting into fights on Twitter were being used for learning about how the world works. But instead, he once again exposed himself as an unfit choice for President. And when people like Lewandowski try to make sense of his idiocy, they only make themselves look equally foolish.You can watch the embarrassing video below:Featured image via screen capture\",\n          \"A Michigan woman decided to defend against tyranny? when she and another shopper couldn t agree over who got to buy the last notebook on the shelf at the Novi Towne Center store.According to ABC 13, the brawl   yes, brawl    involved two Farmington Hills residents, ages 46 and 32, and a mother and daughter from South Lyon, ages 51 and 20. In other words, these were all grown adults who should have known better but hey   there was only one notebook on the shelf, and we ve all seen what happens in those post-apocalyptic movies when a store is down to the last gallon of milk, right?Two of the women, one of whom was the unnamed 20-year-old, reached for the notebook at the same time. The 46 and 32-year-olds apparently decided that she wasn t getting their goddamn notebook and began pulling her hair.Then, because this had almost hit peak  trailer park,  the 20-year-old s mother decided to go for bonus points by pulling out her gun. Fortunately, someone pushed her aside before she could do any harm.This is one of the NRA s  responsible gun owners  (conservatives can t dismiss this one, as it is confirmed that she is a concealed carry permit holder)   ready to leap into action at the most minor sign of danger and make things worse by turning the situation potentially deadly.Watch it happen below:Featured image via screengrab\"\n        ],\n        \"semantic_type\": \"\",\n        \"description\": \"\"\n      }\n    },\n    {\n      \"column\": \"subject\",\n      \"properties\": {\n        \"dtype\": \"category\",\n        \"num_unique_values\": 6,\n        \"samples\": [\n          \"News\",\n          \"politics\",\n          \"Middle-east\"\n        ],\n        \"semantic_type\": \"\",\n        \"description\": \"\"\n      }\n    },\n    {\n      \"column\": \"date\",\n      \"properties\": {\n        \"dtype\": \"category\",\n        \"num_unique_values\": 1681,\n        \"samples\": [\n          \"Jun 5, 2015\",\n          \"August 28, 2016\",\n          \"June 3, 2017\"\n        ],\n        \"semantic_type\": \"\",\n        \"description\": \"\"\n      }\n    }\n  ]\n}"
            }
          },
          "metadata": {},
          "execution_count": 2
        }
      ],
      "source": [
        "#leggiamo il testo che contiene le fake news\n",
        "data_fake=pd.read_csv(\"Fake.csv\",  encoding='utf-8')\n",
        "data_fake.head()"
      ]
    },
    {
      "cell_type": "code",
      "execution_count": null,
      "metadata": {
        "colab": {
          "base_uri": "https://localhost:8080/",
          "height": 263
        },
        "id": "DRurhU4WVUjk",
        "outputId": "d3567aea-7d7c-483c-f80f-222cec0220c0"
      },
      "outputs": [
        {
          "output_type": "stream",
          "name": "stderr",
          "text": [
            "/usr/local/lib/python3.10/dist-packages/ipykernel/ipkernel.py:283: DeprecationWarning: `should_run_async` will not call `transform_cell` automatically in the future. Please pass the result to `transformed_cell` argument and any exception that happen during thetransform in `preprocessing_exc_tuple` in IPython 7.17 and above.\n",
            "  and should_run_async(code)\n"
          ]
        },
        {
          "output_type": "execute_result",
          "data": {
            "text/plain": [
              "                                               title  \\\n",
              "0  As U.S. budget fight looms, Republicans flip t...   \n",
              "1  U.S. military to accept transgender recruits o...   \n",
              "2  Senior U.S. Republican senator: 'Let Mr. Muell...   \n",
              "3  FBI Russia probe helped by Australian diplomat...   \n",
              "4  Trump wants Postal Service to charge 'much mor...   \n",
              "\n",
              "                                                text       subject  \\\n",
              "0  WASHINGTON (Reuters) - The head of a conservat...  politicsNews   \n",
              "1  WASHINGTON (Reuters) - Transgender people will...  politicsNews   \n",
              "2  WASHINGTON (Reuters) - The special counsel inv...  politicsNews   \n",
              "3  WASHINGTON (Reuters) - Trump campaign adviser ...  politicsNews   \n",
              "4  SEATTLE/WASHINGTON (Reuters) - President Donal...  politicsNews   \n",
              "\n",
              "                 date  \n",
              "0  December 31, 2017   \n",
              "1  December 29, 2017   \n",
              "2  December 31, 2017   \n",
              "3  December 30, 2017   \n",
              "4  December 29, 2017   "
            ],
            "text/html": [
              "\n",
              "  <div id=\"df-4212b6d4-3c82-43c6-bbdf-37d7724b6bb8\" class=\"colab-df-container\">\n",
              "    <div>\n",
              "<style scoped>\n",
              "    .dataframe tbody tr th:only-of-type {\n",
              "        vertical-align: middle;\n",
              "    }\n",
              "\n",
              "    .dataframe tbody tr th {\n",
              "        vertical-align: top;\n",
              "    }\n",
              "\n",
              "    .dataframe thead th {\n",
              "        text-align: right;\n",
              "    }\n",
              "</style>\n",
              "<table border=\"1\" class=\"dataframe\">\n",
              "  <thead>\n",
              "    <tr style=\"text-align: right;\">\n",
              "      <th></th>\n",
              "      <th>title</th>\n",
              "      <th>text</th>\n",
              "      <th>subject</th>\n",
              "      <th>date</th>\n",
              "    </tr>\n",
              "  </thead>\n",
              "  <tbody>\n",
              "    <tr>\n",
              "      <th>0</th>\n",
              "      <td>As U.S. budget fight looms, Republicans flip t...</td>\n",
              "      <td>WASHINGTON (Reuters) - The head of a conservat...</td>\n",
              "      <td>politicsNews</td>\n",
              "      <td>December 31, 2017</td>\n",
              "    </tr>\n",
              "    <tr>\n",
              "      <th>1</th>\n",
              "      <td>U.S. military to accept transgender recruits o...</td>\n",
              "      <td>WASHINGTON (Reuters) - Transgender people will...</td>\n",
              "      <td>politicsNews</td>\n",
              "      <td>December 29, 2017</td>\n",
              "    </tr>\n",
              "    <tr>\n",
              "      <th>2</th>\n",
              "      <td>Senior U.S. Republican senator: 'Let Mr. Muell...</td>\n",
              "      <td>WASHINGTON (Reuters) - The special counsel inv...</td>\n",
              "      <td>politicsNews</td>\n",
              "      <td>December 31, 2017</td>\n",
              "    </tr>\n",
              "    <tr>\n",
              "      <th>3</th>\n",
              "      <td>FBI Russia probe helped by Australian diplomat...</td>\n",
              "      <td>WASHINGTON (Reuters) - Trump campaign adviser ...</td>\n",
              "      <td>politicsNews</td>\n",
              "      <td>December 30, 2017</td>\n",
              "    </tr>\n",
              "    <tr>\n",
              "      <th>4</th>\n",
              "      <td>Trump wants Postal Service to charge 'much mor...</td>\n",
              "      <td>SEATTLE/WASHINGTON (Reuters) - President Donal...</td>\n",
              "      <td>politicsNews</td>\n",
              "      <td>December 29, 2017</td>\n",
              "    </tr>\n",
              "  </tbody>\n",
              "</table>\n",
              "</div>\n",
              "    <div class=\"colab-df-buttons\">\n",
              "\n",
              "  <div class=\"colab-df-container\">\n",
              "    <button class=\"colab-df-convert\" onclick=\"convertToInteractive('df-4212b6d4-3c82-43c6-bbdf-37d7724b6bb8')\"\n",
              "            title=\"Convert this dataframe to an interactive table.\"\n",
              "            style=\"display:none;\">\n",
              "\n",
              "  <svg xmlns=\"http://www.w3.org/2000/svg\" height=\"24px\" viewBox=\"0 -960 960 960\">\n",
              "    <path d=\"M120-120v-720h720v720H120Zm60-500h600v-160H180v160Zm220 220h160v-160H400v160Zm0 220h160v-160H400v160ZM180-400h160v-160H180v160Zm440 0h160v-160H620v160ZM180-180h160v-160H180v160Zm440 0h160v-160H620v160Z\"/>\n",
              "  </svg>\n",
              "    </button>\n",
              "\n",
              "  <style>\n",
              "    .colab-df-container {\n",
              "      display:flex;\n",
              "      gap: 12px;\n",
              "    }\n",
              "\n",
              "    .colab-df-convert {\n",
              "      background-color: #E8F0FE;\n",
              "      border: none;\n",
              "      border-radius: 50%;\n",
              "      cursor: pointer;\n",
              "      display: none;\n",
              "      fill: #1967D2;\n",
              "      height: 32px;\n",
              "      padding: 0 0 0 0;\n",
              "      width: 32px;\n",
              "    }\n",
              "\n",
              "    .colab-df-convert:hover {\n",
              "      background-color: #E2EBFA;\n",
              "      box-shadow: 0px 1px 2px rgba(60, 64, 67, 0.3), 0px 1px 3px 1px rgba(60, 64, 67, 0.15);\n",
              "      fill: #174EA6;\n",
              "    }\n",
              "\n",
              "    .colab-df-buttons div {\n",
              "      margin-bottom: 4px;\n",
              "    }\n",
              "\n",
              "    [theme=dark] .colab-df-convert {\n",
              "      background-color: #3B4455;\n",
              "      fill: #D2E3FC;\n",
              "    }\n",
              "\n",
              "    [theme=dark] .colab-df-convert:hover {\n",
              "      background-color: #434B5C;\n",
              "      box-shadow: 0px 1px 3px 1px rgba(0, 0, 0, 0.15);\n",
              "      filter: drop-shadow(0px 1px 2px rgba(0, 0, 0, 0.3));\n",
              "      fill: #FFFFFF;\n",
              "    }\n",
              "  </style>\n",
              "\n",
              "    <script>\n",
              "      const buttonEl =\n",
              "        document.querySelector('#df-4212b6d4-3c82-43c6-bbdf-37d7724b6bb8 button.colab-df-convert');\n",
              "      buttonEl.style.display =\n",
              "        google.colab.kernel.accessAllowed ? 'block' : 'none';\n",
              "\n",
              "      async function convertToInteractive(key) {\n",
              "        const element = document.querySelector('#df-4212b6d4-3c82-43c6-bbdf-37d7724b6bb8');\n",
              "        const dataTable =\n",
              "          await google.colab.kernel.invokeFunction('convertToInteractive',\n",
              "                                                    [key], {});\n",
              "        if (!dataTable) return;\n",
              "\n",
              "        const docLinkHtml = 'Like what you see? Visit the ' +\n",
              "          '<a target=\"_blank\" href=https://colab.research.google.com/notebooks/data_table.ipynb>data table notebook</a>'\n",
              "          + ' to learn more about interactive tables.';\n",
              "        element.innerHTML = '';\n",
              "        dataTable['output_type'] = 'display_data';\n",
              "        await google.colab.output.renderOutput(dataTable, element);\n",
              "        const docLink = document.createElement('div');\n",
              "        docLink.innerHTML = docLinkHtml;\n",
              "        element.appendChild(docLink);\n",
              "      }\n",
              "    </script>\n",
              "  </div>\n",
              "\n",
              "\n",
              "<div id=\"df-d8d703e3-1946-4378-9872-5483450dacd3\">\n",
              "  <button class=\"colab-df-quickchart\" onclick=\"quickchart('df-d8d703e3-1946-4378-9872-5483450dacd3')\"\n",
              "            title=\"Suggest charts\"\n",
              "            style=\"display:none;\">\n",
              "\n",
              "<svg xmlns=\"http://www.w3.org/2000/svg\" height=\"24px\"viewBox=\"0 0 24 24\"\n",
              "     width=\"24px\">\n",
              "    <g>\n",
              "        <path d=\"M19 3H5c-1.1 0-2 .9-2 2v14c0 1.1.9 2 2 2h14c1.1 0 2-.9 2-2V5c0-1.1-.9-2-2-2zM9 17H7v-7h2v7zm4 0h-2V7h2v10zm4 0h-2v-4h2v4z\"/>\n",
              "    </g>\n",
              "</svg>\n",
              "  </button>\n",
              "\n",
              "<style>\n",
              "  .colab-df-quickchart {\n",
              "      --bg-color: #E8F0FE;\n",
              "      --fill-color: #1967D2;\n",
              "      --hover-bg-color: #E2EBFA;\n",
              "      --hover-fill-color: #174EA6;\n",
              "      --disabled-fill-color: #AAA;\n",
              "      --disabled-bg-color: #DDD;\n",
              "  }\n",
              "\n",
              "  [theme=dark] .colab-df-quickchart {\n",
              "      --bg-color: #3B4455;\n",
              "      --fill-color: #D2E3FC;\n",
              "      --hover-bg-color: #434B5C;\n",
              "      --hover-fill-color: #FFFFFF;\n",
              "      --disabled-bg-color: #3B4455;\n",
              "      --disabled-fill-color: #666;\n",
              "  }\n",
              "\n",
              "  .colab-df-quickchart {\n",
              "    background-color: var(--bg-color);\n",
              "    border: none;\n",
              "    border-radius: 50%;\n",
              "    cursor: pointer;\n",
              "    display: none;\n",
              "    fill: var(--fill-color);\n",
              "    height: 32px;\n",
              "    padding: 0;\n",
              "    width: 32px;\n",
              "  }\n",
              "\n",
              "  .colab-df-quickchart:hover {\n",
              "    background-color: var(--hover-bg-color);\n",
              "    box-shadow: 0 1px 2px rgba(60, 64, 67, 0.3), 0 1px 3px 1px rgba(60, 64, 67, 0.15);\n",
              "    fill: var(--button-hover-fill-color);\n",
              "  }\n",
              "\n",
              "  .colab-df-quickchart-complete:disabled,\n",
              "  .colab-df-quickchart-complete:disabled:hover {\n",
              "    background-color: var(--disabled-bg-color);\n",
              "    fill: var(--disabled-fill-color);\n",
              "    box-shadow: none;\n",
              "  }\n",
              "\n",
              "  .colab-df-spinner {\n",
              "    border: 2px solid var(--fill-color);\n",
              "    border-color: transparent;\n",
              "    border-bottom-color: var(--fill-color);\n",
              "    animation:\n",
              "      spin 1s steps(1) infinite;\n",
              "  }\n",
              "\n",
              "  @keyframes spin {\n",
              "    0% {\n",
              "      border-color: transparent;\n",
              "      border-bottom-color: var(--fill-color);\n",
              "      border-left-color: var(--fill-color);\n",
              "    }\n",
              "    20% {\n",
              "      border-color: transparent;\n",
              "      border-left-color: var(--fill-color);\n",
              "      border-top-color: var(--fill-color);\n",
              "    }\n",
              "    30% {\n",
              "      border-color: transparent;\n",
              "      border-left-color: var(--fill-color);\n",
              "      border-top-color: var(--fill-color);\n",
              "      border-right-color: var(--fill-color);\n",
              "    }\n",
              "    40% {\n",
              "      border-color: transparent;\n",
              "      border-right-color: var(--fill-color);\n",
              "      border-top-color: var(--fill-color);\n",
              "    }\n",
              "    60% {\n",
              "      border-color: transparent;\n",
              "      border-right-color: var(--fill-color);\n",
              "    }\n",
              "    80% {\n",
              "      border-color: transparent;\n",
              "      border-right-color: var(--fill-color);\n",
              "      border-bottom-color: var(--fill-color);\n",
              "    }\n",
              "    90% {\n",
              "      border-color: transparent;\n",
              "      border-bottom-color: var(--fill-color);\n",
              "    }\n",
              "  }\n",
              "</style>\n",
              "\n",
              "  <script>\n",
              "    async function quickchart(key) {\n",
              "      const quickchartButtonEl =\n",
              "        document.querySelector('#' + key + ' button');\n",
              "      quickchartButtonEl.disabled = true;  // To prevent multiple clicks.\n",
              "      quickchartButtonEl.classList.add('colab-df-spinner');\n",
              "      try {\n",
              "        const charts = await google.colab.kernel.invokeFunction(\n",
              "            'suggestCharts', [key], {});\n",
              "      } catch (error) {\n",
              "        console.error('Error during call to suggestCharts:', error);\n",
              "      }\n",
              "      quickchartButtonEl.classList.remove('colab-df-spinner');\n",
              "      quickchartButtonEl.classList.add('colab-df-quickchart-complete');\n",
              "    }\n",
              "    (() => {\n",
              "      let quickchartButtonEl =\n",
              "        document.querySelector('#df-d8d703e3-1946-4378-9872-5483450dacd3 button');\n",
              "      quickchartButtonEl.style.display =\n",
              "        google.colab.kernel.accessAllowed ? 'block' : 'none';\n",
              "    })();\n",
              "  </script>\n",
              "</div>\n",
              "\n",
              "    </div>\n",
              "  </div>\n"
            ],
            "application/vnd.google.colaboratory.intrinsic+json": {
              "type": "dataframe",
              "variable_name": "data_true",
              "summary": "{\n  \"name\": \"data_true\",\n  \"rows\": 21417,\n  \"fields\": [\n    {\n      \"column\": \"title\",\n      \"properties\": {\n        \"dtype\": \"string\",\n        \"num_unique_values\": 20826,\n        \"samples\": [\n          \"German, Turkish foreign ministers meet after detainee released\",\n          \"Kremlin calls North Korea's latest missile launch another 'provocation'\",\n          \"Transgender soldiers, veterans shaken by Trump's ban on their service\"\n        ],\n        \"semantic_type\": \"\",\n        \"description\": \"\"\n      }\n    },\n    {\n      \"column\": \"text\",\n      \"properties\": {\n        \"dtype\": \"string\",\n        \"num_unique_values\": 21192,\n        \"samples\": [\n          \"WASHINGTON (Reuters) - A majority of the U.S. Senate on Tuesday backed a new round of disaster aid to help Puerto Rico and several states recover from damage from hurricanes and wildfires. The legislation would provide $36.5 billion in emergency relief as Puerto Rico in particular struggles to regain electricity and other basic services following destructive hurricanes. The House of Representatives approved the bill earlier this month. The Trump administration already has indicated it will seek another round of emergency relief from Congress. \",\n          \"BUDAPEST (Reuters) - About a thousand Hungarians protested on Friday against a crackdown on the main opposition party Jobbik which has been  threatened by a record political campaign fine that the party leader describes as a  death sentence  for democracy. Despite the gloomy rhetoric and Jobbik saying it was fighting for survival, support for the demonstration was well down on other similar rallies over the past year. Hungarians will vote for a new parliament in April and Prime Minister Viktor Orban s conservative, anti-migrant Fidesz party is far ahead in the polls, with Jobbik its nearest rival. Jobbik, once on the far right, has turned toward the center in a bid to attract more support and is now campaigning nationwide against Orban, depicting him as the leader of a criminal gang. Orban, rejecting the charges, says his financial standing is  an open book . Last week the state audit office (ASZ) ruled Jobbik had bought political posters far below market prices, breaching rules on political funding, then it slapped a 663 million forint ($2.5 million) penalty on the party. The protesters, waving Jobbik flags and posters deriding the ruling elite, gathered outside the headquarters of Orban s Fidesz party.  What we see unfolding is not an audit office investigation. It is not an official penalty. This is a death sentence with Jobbik s name on it. But in reality, it is a death sentence for Hungarian democracy,  Jobbiik leader Gabor Vona told the crowd. A government spokesman could not comment immediately on his remarks. ASZ chairman Laszlo Domokos is a former Fidesz lawmaker, whom Jobbik and other critics accuse of making decisions in favor of Orban. The audit office denies that. On Friday, ASZ again called on Jobbik to submit information that would challenge its findings, saying it acted fully within its rights throughout the probe. The ruling Fidesz party and the government have denied any involvement in the ASZ probe.  This case has nothing to do with the election campaign,  Orban aide Janos Lazar said on Thursday. For over a year Fidesz has targeted Jobbik, whose move to the center could upend the longstanding status quo of a dominant Fidesz with weaker opponents to its left and its right, said analyst Zoltan Novak at the Centre for Fair Political Analysis. Gyorgy Illes, a 67-year-old pensioner attending the rally, said he used to be a Socialist supporter but got disillusioned as the party struggled to overcome its internal divisions.  This ASZ probe is a clear sign that Orban is way past any remedy. It is a ruthless attack on everything we hold dear. Democracy, the rule of law, equality, you name it,  he said. \",\n          \"BEIJING/TAIPEI (Reuters) - China accused the United States on Thursday of interfering in its internal affairs and said it had lodged a complaint after U.S. President Donald Trump signed into law an act laying the groundwork for possible U.S. navy visits to self-ruled Taiwan. Tensions have risen in recent days after a senior Chinese diplomat threatened China would invade Taiwan if any U.S. warships made port visits to the island which China claims as its own territory. On Monday, Chinese jets carried out  island encirclement patrols  around Taiwan, with state media showing pictures of bombers with cruise missiles slung under their wings as they carried out the exercise. On Tuesday, Trump signed into law the National Defense Authorization Act for the 2018 fiscal year, which authorizes the possibility of mutual visits by navy vessels between Taiwan and the United States. Such visits would be the first since the United States ended formal diplomatic relations with Taiwan in 1979 and established ties with Beijing. Chinese Foreign Ministry spokesman Lu Kang said while the Taiwan sections of the law were not legally binding, they seriously violate the  One China  policy and  constitute an interference in China s internal affairs .   China is resolutely opposed to this, and we have already lodged stern representations with the U.S. government,  Lu told a daily news briefing. China is firmly opposed to any official exchanges, military contact, or arms sales between Taiwan and the United States, he added.  Proudly democratic Taiwan has become increasingly concerned with the ramped up Chinese military presence, that has included several rounds of Chinese air force drills around the island in recent months.  Taiwan is confident of its defenses and responded quickly to the Chinese air force drills this week, its government said, denouncing the rise in China s military deployments as irresponsible. Taiwan presidential spokesman Alex Huang, speaking to Taiwan media in comments reported late on Wednesday, said the defense ministry had kept a close watch on the patrols and responded immediately and properly. Taiwan  can ensure there are no concerns at all about national security, and people can rest assured , Huang said. Both sides of the narrow Taiwan Strait, which separates Taiwan from its giant neighbor, have a responsibility to protect peace and stability, he added.  Such a raised military posture that may impact upon and harm regional peace and stability and cross-strait ties does not give a feeling of responsibility, and the international community does not look favorably upon this,  Huang was quoted as saying. Relations have soured considerably since Tsai Ing-wen, who leads Taiwan s independence-leaning Democratic Progressive Party, won presidential elections last year. China suspects Tsai wants to declare the island s formal independence, a red line for Beijing. Tsai says she wants to maintain peace with China but will defend Taiwan s security. Taiwan is well equipped with mostly U.S. weapons but has been pressing for more advanced equipment to deal with what it sees as a rising threat from China. The United States is bound by law to provide the island with the means to defend itself. China has never renounced the use of force to bring Taiwan under its control. \"\n        ],\n        \"semantic_type\": \"\",\n        \"description\": \"\"\n      }\n    },\n    {\n      \"column\": \"subject\",\n      \"properties\": {\n        \"dtype\": \"category\",\n        \"num_unique_values\": 2,\n        \"samples\": [\n          \"worldnews\",\n          \"politicsNews\"\n        ],\n        \"semantic_type\": \"\",\n        \"description\": \"\"\n      }\n    },\n    {\n      \"column\": \"date\",\n      \"properties\": {\n        \"dtype\": \"object\",\n        \"num_unique_values\": 716,\n        \"samples\": [\n          \"September 2, 2017 \",\n          \"February 2, 2017 \"\n        ],\n        \"semantic_type\": \"\",\n        \"description\": \"\"\n      }\n    }\n  ]\n}"
            }
          },
          "metadata": {},
          "execution_count": 3
        }
      ],
      "source": [
        "#leggiamo il testo che contiene le true news\n",
        "data_true=pd.read_csv(\"True.csv\",  encoding='utf-8')\n",
        "data_true.head()"
      ]
    },
    {
      "cell_type": "code",
      "execution_count": null,
      "metadata": {
        "id": "DNe2ikThVWBY",
        "colab": {
          "base_uri": "https://localhost:8080/"
        },
        "outputId": "2a3d1819-2b26-4b21-9931-5ab03bb270cf"
      },
      "outputs": [
        {
          "output_type": "stream",
          "name": "stderr",
          "text": [
            "/usr/local/lib/python3.10/dist-packages/ipykernel/ipkernel.py:283: DeprecationWarning: `should_run_async` will not call `transform_cell` automatically in the future. Please pass the result to `transformed_cell` argument and any exception that happen during thetransform in `preprocessing_exc_tuple` in IPython 7.17 and above.\n",
            "  and should_run_async(code)\n"
          ]
        }
      ],
      "source": [
        "#associamo un'etichetta ai due dataset\n",
        "data_fake['label']=0\n",
        "data_true['label']=1"
      ]
    },
    {
      "cell_type": "markdown",
      "metadata": {
        "id": "upuX6hFaK20g"
      },
      "source": [
        "###Le fake news sono più frequenti in una determinata categoria?"
      ]
    },
    {
      "cell_type": "code",
      "execution_count": null,
      "metadata": {
        "colab": {
          "base_uri": "https://localhost:8080/",
          "height": 360
        },
        "id": "1pr4ix5lKgb5",
        "outputId": "91538673-449b-4636-f205-df8e0e79a81f"
      },
      "outputs": [
        {
          "output_type": "stream",
          "name": "stderr",
          "text": [
            "/usr/local/lib/python3.10/dist-packages/ipykernel/ipkernel.py:283: DeprecationWarning: `should_run_async` will not call `transform_cell` automatically in the future. Please pass the result to `transformed_cell` argument and any exception that happen during thetransform in `preprocessing_exc_tuple` in IPython 7.17 and above.\n",
            "  and should_run_async(code)\n"
          ]
        },
        {
          "output_type": "execute_result",
          "data": {
            "text/plain": [
              "subject\n",
              "News               9050\n",
              "politics           6841\n",
              "left-news          4459\n",
              "Government News    1570\n",
              "US_News             783\n",
              "Middle-east         778\n",
              "Name: count, dtype: int64"
            ],
            "text/html": [
              "<div>\n",
              "<style scoped>\n",
              "    .dataframe tbody tr th:only-of-type {\n",
              "        vertical-align: middle;\n",
              "    }\n",
              "\n",
              "    .dataframe tbody tr th {\n",
              "        vertical-align: top;\n",
              "    }\n",
              "\n",
              "    .dataframe thead th {\n",
              "        text-align: right;\n",
              "    }\n",
              "</style>\n",
              "<table border=\"1\" class=\"dataframe\">\n",
              "  <thead>\n",
              "    <tr style=\"text-align: right;\">\n",
              "      <th></th>\n",
              "      <th>count</th>\n",
              "    </tr>\n",
              "    <tr>\n",
              "      <th>subject</th>\n",
              "      <th></th>\n",
              "    </tr>\n",
              "  </thead>\n",
              "  <tbody>\n",
              "    <tr>\n",
              "      <th>News</th>\n",
              "      <td>9050</td>\n",
              "    </tr>\n",
              "    <tr>\n",
              "      <th>politics</th>\n",
              "      <td>6841</td>\n",
              "    </tr>\n",
              "    <tr>\n",
              "      <th>left-news</th>\n",
              "      <td>4459</td>\n",
              "    </tr>\n",
              "    <tr>\n",
              "      <th>Government News</th>\n",
              "      <td>1570</td>\n",
              "    </tr>\n",
              "    <tr>\n",
              "      <th>US_News</th>\n",
              "      <td>783</td>\n",
              "    </tr>\n",
              "    <tr>\n",
              "      <th>Middle-east</th>\n",
              "      <td>778</td>\n",
              "    </tr>\n",
              "  </tbody>\n",
              "</table>\n",
              "</div><br><label><b>dtype:</b> int64</label>"
            ]
          },
          "metadata": {},
          "execution_count": 5
        }
      ],
      "source": [
        "data_fake[\"subject\"].value_counts()"
      ]
    },
    {
      "cell_type": "code",
      "execution_count": null,
      "metadata": {
        "colab": {
          "base_uri": "https://localhost:8080/",
          "height": 593
        },
        "id": "LrwrpDbiKgXk",
        "outputId": "8416419a-7128-402d-be6a-05226371733c"
      },
      "outputs": [
        {
          "output_type": "stream",
          "name": "stderr",
          "text": [
            "/usr/local/lib/python3.10/dist-packages/ipykernel/ipkernel.py:283: DeprecationWarning: `should_run_async` will not call `transform_cell` automatically in the future. Please pass the result to `transformed_cell` argument and any exception that happen during thetransform in `preprocessing_exc_tuple` in IPython 7.17 and above.\n",
            "  and should_run_async(code)\n"
          ]
        },
        {
          "output_type": "display_data",
          "data": {
            "text/plain": [
              "<Figure size 640x480 with 1 Axes>"
            ],
            "image/png": "[encoded data removed]"
          },
          "metadata": {}
        }
      ],
      "source": [
        "plt.bar(data_fake[\"subject\"].value_counts().index, data_fake[\"subject\"].value_counts())\n",
        "plt.xlabel('Subject')\n",
        "plt.xticks(rotation=45)\n",
        "plt.grid()\n",
        "plt.ylabel('Frequency')\n",
        "plt.show()"
      ]
    },
    {
      "cell_type": "markdown",
      "metadata": {
        "id": "vOvjKeV-WhW-"
      },
      "source": [
        "Il grafico e il conteggio dei valori ci mostrano che le categoria \"news\" e \"politics\" sono le più soggette a fake news. Abbiamo infatti 9050 notizie fake con categoria \"news\" e 6841 con categoria \"politics\"."
      ]
    },
    {
      "cell_type": "markdown",
      "metadata": {
        "id": "WmUdeHA2LGCm"
      },
      "source": [
        "###I titoli delle fake news presentano dei pattern ricorrenti?"
      ]
    },
    {
      "cell_type": "code",
      "execution_count": null,
      "metadata": {
        "id": "2EiP2-OiKgVi",
        "colab": {
          "base_uri": "https://localhost:8080/"
        },
        "outputId": "f8a42f95-69c0-4d63-f27e-6bb5dc7ebbd9"
      },
      "outputs": [
        {
          "output_type": "stream",
          "name": "stderr",
          "text": [
            "/usr/local/lib/python3.10/dist-packages/ipykernel/ipkernel.py:283: DeprecationWarning: `should_run_async` will not call `transform_cell` automatically in the future. Please pass the result to `transformed_cell` argument and any exception that happen during thetransform in `preprocessing_exc_tuple` in IPython 7.17 and above.\n",
            "  and should_run_async(code)\n"
          ]
        }
      ],
      "source": [
        "#estraiamo i titoli dal file delle fake new e analizziamoli\n",
        "data_fake_title=data_fake[\"title\"]"
      ]
    },
    {
      "cell_type": "code",
      "execution_count": null,
      "metadata": {
        "colab": {
          "base_uri": "https://localhost:8080/"
        },
        "id": "5e8Gh2ruKgPS",
        "outputId": "573e93e9-62a1-422a-c7fb-a93ffb9730c0"
      },
      "outputs": [
        {
          "output_type": "stream",
          "name": "stderr",
          "text": [
            "/usr/local/lib/python3.10/dist-packages/ipykernel/ipkernel.py:283: DeprecationWarning: `should_run_async` will not call `transform_cell` automatically in the future. Please pass the result to `transformed_cell` argument and any exception that happen during thetransform in `preprocessing_exc_tuple` in IPython 7.17 and above.\n",
            "  and should_run_async(code)\n"
          ]
        }
      ],
      "source": [
        "#creiamo due funzioni di pulizia del testo\n",
        "\n",
        "#trasformiamo le frasi in liste di parole pulite.\n",
        "def sent_to_words(items): #la funzione prende in input la lista di documenti\n",
        "\n",
        "    for item in items:\n",
        "        yield(simple_preprocess(item, deacc=True))\n",
        "\n",
        "#Rrimuoviamo le stopwords\n",
        "def remove_stopwords(texts): #prende in input la lista creata con la funzione sent_to_words\n",
        "    return [[word for word in words if word not in stop_words and len(word) >=5] for words in texts]\n",
        "\n",
        "#chiamiamo la prima funzione che riceve in input il nostro documento\n",
        "data_fake_title_words = list(sent_to_words(data_fake_title))\n",
        "#poi chiamiamo la seconda funzione che riceve in input la lista di liste data_fake_title_words\n",
        "data_fake_title_cleaned = remove_stopwords(data_fake_title_words)"
      ]
    },
    {
      "cell_type": "markdown",
      "source": [
        "###I titoli delle fake news presentano dei pattern ricorrenti?"
      ],
      "metadata": {
        "id": "Hz5OD_rZuq5S"
      }
    },
    {
      "cell_type": "code",
      "execution_count": null,
      "metadata": {
        "colab": {
          "base_uri": "https://localhost:8080/",
          "height": 551
        },
        "id": "IsJQ_5emVqCU",
        "outputId": "5b71f22f-fc36-40d0-eb0c-84140966ce49"
      },
      "outputs": [
        {
          "output_type": "stream",
          "name": "stderr",
          "text": [
            "/usr/local/lib/python3.10/dist-packages/ipykernel/ipkernel.py:283: DeprecationWarning: `should_run_async` will not call `transform_cell` automatically in the future. Please pass the result to `transformed_cell` argument and any exception that happen during thetransform in `preprocessing_exc_tuple` in IPython 7.17 and above.\n",
            "  and should_run_async(code)\n"
          ]
        },
        {
          "output_type": "display_data",
          "data": {
            "text/plain": [
              "<Figure size 640x480 with 1 Axes>"
            ],
            "image/png": "[encoded data removed]"
          },
          "metadata": {}
        }
      ],
      "source": [
        "#proviamo a vedere quali sono le 10 parole più utilizzate nei titoli di fake news\n",
        "\n",
        "# Uniamo tutte le liste di parole in un'unica lista\n",
        "all_title = [word for title in data_fake_title_cleaned for word in title]\n",
        "\n",
        "# Contiamo le parole\n",
        "word_counts = Counter(all_title)\n",
        "\n",
        "# Ottieniamo le 10 parole più comuni\n",
        "common_words = word_counts.most_common(10)\n",
        "\n",
        "# Visualizziamo le parole più comuni\n",
        "words = [word for word, count in common_words]\n",
        "counts = [count for word, count in common_words]\n",
        "plt.bar(words, counts)\n",
        "plt.title('Top 10 parole nei titoli delle fake news')\n",
        "plt.xticks(rotation=45)\n",
        "plt.grid()\n",
        "plt.show()\n",
        "\n"
      ]
    },
    {
      "cell_type": "markdown",
      "metadata": {
        "id": "GHvuvO-VYAQE"
      },
      "source": [
        "Il grafico mostra come le parole più ricorrenti nei titoli delle fake news siano \"Trump\" e \"video\""
      ]
    },
    {
      "cell_type": "markdown",
      "metadata": {
        "id": "RpjAspukRJeZ"
      },
      "source": [
        "###Esistono argomenti che sono più soggetti alle fake news?"
      ]
    },
    {
      "cell_type": "code",
      "execution_count": null,
      "metadata": {
        "id": "Q9-hi84LhaKe",
        "colab": {
          "base_uri": "https://localhost:8080/"
        },
        "outputId": "38c56c76-87eb-4937-fad7-6339d351ab74"
      },
      "outputs": [
        {
          "output_type": "stream",
          "name": "stderr",
          "text": [
            "/usr/local/lib/python3.10/dist-packages/ipykernel/ipkernel.py:283: DeprecationWarning: `should_run_async` will not call `transform_cell` automatically in the future. Please pass the result to `transformed_cell` argument and any exception that happen during thetransform in `preprocessing_exc_tuple` in IPython 7.17 and above.\n",
            "  and should_run_async(code)\n"
          ]
        }
      ],
      "source": [
        "#Procediamo con un'analisti di topic modeling per trovare gli argomenti più ricorrenti nelle fake news"
      ]
    },
    {
      "cell_type": "code",
      "execution_count": null,
      "metadata": {
        "id": "lwXgmaYOeQW6",
        "colab": {
          "base_uri": "https://localhost:8080/"
        },
        "outputId": "cb93ab4e-6fa7-4577-f97b-6883bcac0d53"
      },
      "outputs": [
        {
          "output_type": "stream",
          "name": "stderr",
          "text": [
            "/usr/local/lib/python3.10/dist-packages/ipykernel/ipkernel.py:283: DeprecationWarning: `should_run_async` will not call `transform_cell` automatically in the future. Please pass the result to `transformed_cell` argument and any exception that happen during thetransform in `preprocessing_exc_tuple` in IPython 7.17 and above.\n",
            "  and should_run_async(code)\n"
          ]
        }
      ],
      "source": [
        "#creiamo una variabile che unisca titoli e testo delle fake news\n",
        "data_fake_doc=data_fake[\"title\"]+\" \"+data_fake[\"text\"]"
      ]
    },
    {
      "cell_type": "code",
      "execution_count": null,
      "metadata": {
        "id": "iFK0nK2taFBR",
        "colab": {
          "base_uri": "https://localhost:8080/"
        },
        "outputId": "f7984af7-2033-4f14-c792-7b9c24da2c3f"
      },
      "outputs": [
        {
          "output_type": "stream",
          "name": "stderr",
          "text": [
            "/usr/local/lib/python3.10/dist-packages/ipykernel/ipkernel.py:283: DeprecationWarning: `should_run_async` will not call `transform_cell` automatically in the future. Please pass the result to `transformed_cell` argument and any exception that happen during thetransform in `preprocessing_exc_tuple` in IPython 7.17 and above.\n",
            "  and should_run_async(code)\n"
          ]
        }
      ],
      "source": [
        "#puliamo la variabile con le funzioni create\n",
        "data_fake_doc_words = list(sent_to_words(data_fake_doc))\n",
        "data_fake_complete_words = remove_stopwords(data_fake_doc_words)"
      ]
    },
    {
      "cell_type": "code",
      "execution_count": null,
      "metadata": {
        "id": "AMY-OvJ5ait3",
        "colab": {
          "base_uri": "https://localhost:8080/"
        },
        "outputId": "11db49c0-91ad-4780-9d37-a9a2bb15bdb8"
      },
      "outputs": [
        {
          "output_type": "stream",
          "name": "stderr",
          "text": [
            "/usr/local/lib/python3.10/dist-packages/ipykernel/ipkernel.py:283: DeprecationWarning: `should_run_async` will not call `transform_cell` automatically in the future. Please pass the result to `transformed_cell` argument and any exception that happen during thetransform in `preprocessing_exc_tuple` in IPython 7.17 and above.\n",
            "  and should_run_async(code)\n"
          ]
        }
      ],
      "source": [
        "# Creiamo il dizionario\n",
        "id2word = corpora.Dictionary(data_fake_complete_words) #passiamo la lista di documenti che contengono le singole parole\n",
        "\n",
        "# Vettorizziamo e sostiuiamo le parole con vettori numerici\n",
        "corpus = [id2word.doc2bow(text) for text in data_fake_complete_words]"
      ]
    },
    {
      "cell_type": "code",
      "execution_count": null,
      "metadata": {
        "id": "U_IXKaNkamS3",
        "colab": {
          "base_uri": "https://localhost:8080/"
        },
        "outputId": "99478ac3-ccf0-4552-89c9-916c3677be63"
      },
      "outputs": [
        {
          "output_type": "stream",
          "name": "stderr",
          "text": [
            "/usr/local/lib/python3.10/dist-packages/ipykernel/ipkernel.py:283: DeprecationWarning: `should_run_async` will not call `transform_cell` automatically in the future. Please pass the result to `transformed_cell` argument and any exception that happen during thetransform in `preprocessing_exc_tuple` in IPython 7.17 and above.\n",
            "  and should_run_async(code)\n"
          ]
        }
      ],
      "source": [
        "num_topics = 10\n",
        "\n",
        "# Costruiamo il modello LDA model\n",
        "lda_model = gensim.models.LdaMulticore(corpus=corpus, #passiamo il corpus\n",
        "                                       id2word=id2word,#il dizionario\n",
        "                                       num_topics=num_topics,\n",
        "                                       passes = 3) #indichiamo il numero di passi da eseguire\n",
        "\n",
        "doc_lda = lda_model[corpus] #inseriamo nella variabili doc_lda i documenti divisi per topic"
      ]
    },
    {
      "cell_type": "code",
      "execution_count": null,
      "metadata": {
        "colab": {
          "base_uri": "https://localhost:8080/"
        },
        "id": "WF5JcfVma5Rp",
        "outputId": "eb28632f-733f-48d0-c7e9-2b210bd77d81"
      },
      "outputs": [
        {
          "output_type": "stream",
          "name": "stdout",
          "text": [
            "(0, '0.039*\"obama\" + 0.028*\"president\" + 0.021*\"trump\" + 0.010*\"party\" + 0.010*\"house\" + 0.010*\"republican\" + 0.010*\"would\" + 0.009*\"republicans\" + 0.007*\"democrats\" + 0.006*\"senate\"')\n",
            "(1, '0.008*\"people\" + 0.006*\"america\" + 0.006*\"would\" + 0.006*\"government\" + 0.006*\"american\" + 0.005*\"states\" + 0.005*\"million\" + 0.005*\"state\" + 0.004*\"country\" + 0.004*\"united\"')\n",
            "(2, '0.041*\"trump\" + 0.016*\"people\" + 0.014*\"president\" + 0.013*\"video\" + 0.007*\"donald\" + 0.007*\"going\" + 0.007*\"watch\" + 0.006*\"think\" + 0.006*\"would\" + 0.006*\"country\"')\n",
            "(3, '0.011*\"school\" + 0.010*\"climate\" + 0.008*\"change\" + 0.008*\"children\" + 0.006*\"national\" + 0.006*\"world\" + 0.005*\"hollywood\" + 0.005*\"anthem\" + 0.005*\"germany\" + 0.005*\"global\"')\n",
            "(4, '0.057*\"clinton\" + 0.043*\"hillary\" + 0.014*\"state\" + 0.012*\"election\" + 0.012*\"campaign\" + 0.008*\"democratic\" + 0.007*\"email\" + 0.006*\"presidential\" + 0.006*\"party\" + 0.006*\"voters\"')\n",
            "(5, '0.015*\"police\" + 0.011*\"black\" + 0.007*\"people\" + 0.007*\"video\" + 0.006*\"white\" + 0.005*\"shooting\" + 0.004*\"muslim\" + 0.004*\"officers\" + 0.004*\"group\" + 0.004*\"lives\"')\n",
            "(6, '0.062*\"trump\" + 0.015*\"donald\" + 0.011*\"twitter\" + 0.009*\"media\" + 0.008*\"video\" + 0.006*\"campaign\" + 0.006*\"women\" + 0.006*\"hillary\" + 0.005*\"president\" + 0.005*\"supporters\"')\n",
            "(7, '0.014*\"court\" + 0.009*\"federal\" + 0.008*\"state\" + 0.007*\"judge\" + 0.007*\"would\" + 0.007*\"justice\" + 0.006*\"government\" + 0.005*\"rights\" + 0.005*\"supreme\" + 0.005*\"order\"')\n",
            "(8, '0.037*\"trump\" + 0.013*\"president\" + 0.011*\"media\" + 0.007*\"house\" + 0.006*\"white\" + 0.006*\"comey\" + 0.005*\"political\" + 0.005*\"press\" + 0.005*\"donald\" + 0.005*\"video\"')\n",
            "(9, '0.007*\"russia\" + 0.007*\"syria\" + 0.007*\"russian\" + 0.007*\"obama\" + 0.006*\"security\" + 0.005*\"intelligence\" + 0.005*\"president\" + 0.005*\"government\" + 0.005*\"military\" + 0.005*\"information\"')\n"
          ]
        },
        {
          "output_type": "stream",
          "name": "stderr",
          "text": [
            "/usr/local/lib/python3.10/dist-packages/ipykernel/ipkernel.py:283: DeprecationWarning: `should_run_async` will not call `transform_cell` automatically in the future. Please pass the result to `transformed_cell` argument and any exception that happen during thetransform in `preprocessing_exc_tuple` in IPython 7.17 and above.\n",
            "  and should_run_async(code)\n"
          ]
        }
      ],
      "source": [
        "#stampiamo i topics\n",
        "topics = lda_model.print_topics()\n",
        "for topic in topics:\n",
        "    print(topic)"
      ]
    },
    {
      "cell_type": "markdown",
      "metadata": {
        "id": "cnbUrqZQZlw0"
      },
      "source": [
        "L'analisi ci mostra 10 topics presenti nel dataset delle fakenews e vediamo come la parola \"Trump\" sia sempre una delle più presenti. In particolare nel topic n.6 è associata alle parole donald-twitter-media-video-campaing-hillary che ci fanno pensare a fakenews nell'ambito di notizie pubblicate sui social in merito alla campagna elettorale di Trump. Il topic n.4 invece potrebbe afferire maggiormente a notizie della campagna elettorale di Clinton."
      ]
    },
    {
      "cell_type": "code",
      "execution_count": null,
      "metadata": {
        "colab": {
          "base_uri": "https://localhost:8080/"
        },
        "id": "lUOtEViQkhEg",
        "outputId": "5bd187da-925a-4fab-c337-8d6619df1473"
      },
      "outputs": [
        {
          "output_type": "stream",
          "name": "stderr",
          "text": [
            "/usr/local/lib/python3.10/dist-packages/ipykernel/ipkernel.py:283: DeprecationWarning: `should_run_async` will not call `transform_cell` automatically in the future. Please pass the result to `transformed_cell` argument and any exception that happen during thetransform in `preprocessing_exc_tuple` in IPython 7.17 and above.\n",
            "  and should_run_async(code)\n"
          ]
        },
        {
          "output_type": "stream",
          "name": "stdout",
          "text": [
            "Requirement already satisfied: pyldavis in /usr/local/lib/python3.10/dist-packages (3.4.1)\n",
            "Requirement already satisfied: numpy>=1.24.2 in /usr/local/lib/python3.10/dist-packages (from pyldavis) (1.26.4)\n",
            "Requirement already satisfied: scipy in /usr/local/lib/python3.10/dist-packages (from pyldavis) (1.13.1)\n",
            "Requirement already satisfied: pandas>=2.0.0 in /usr/local/lib/python3.10/dist-packages (from pyldavis) (2.2.2)\n",
            "Requirement already satisfied: joblib>=1.2.0 in /usr/local/lib/python3.10/dist-packages (from pyldavis) (1.4.2)\n",
            "Requirement already satisfied: jinja2 in /usr/local/lib/python3.10/dist-packages (from pyldavis) (3.1.4)\n",
            "Requirement already satisfied: numexpr in /usr/local/lib/python3.10/dist-packages (from pyldavis) (2.10.1)\n",
            "Requirement already satisfied: funcy in /usr/local/lib/python3.10/dist-packages (from pyldavis) (2.0)\n",
            "Requirement already satisfied: scikit-learn>=1.0.0 in /usr/local/lib/python3.10/dist-packages (from pyldavis) (1.5.2)\n",
            "Requirement already satisfied: gensim in /usr/local/lib/python3.10/dist-packages (from pyldavis) (4.3.3)\n",
            "Requirement already satisfied: setuptools in /usr/local/lib/python3.10/dist-packages (from pyldavis) (75.1.0)\n",
            "Requirement already satisfied: python-dateutil>=2.8.2 in /usr/local/lib/python3.10/dist-packages (from pandas>=2.0.0->pyldavis) (2.8.2)\n",
            "Requirement already satisfied: pytz>=2020.1 in /usr/local/lib/python3.10/dist-packages (from pandas>=2.0.0->pyldavis) (2024.2)\n",
            "Requirement already satisfied: tzdata>=2022.7 in /usr/local/lib/python3.10/dist-packages (from pandas>=2.0.0->pyldavis) (2024.2)\n",
            "Requirement already satisfied: threadpoolctl>=3.1.0 in /usr/local/lib/python3.10/dist-packages (from scikit-learn>=1.0.0->pyldavis) (3.5.0)\n",
            "Requirement already satisfied: smart-open>=1.8.1 in /usr/local/lib/python3.10/dist-packages (from gensim->pyldavis) (7.0.5)\n",
            "Requirement already satisfied: MarkupSafe>=2.0 in /usr/local/lib/python3.10/dist-packages (from jinja2->pyldavis) (3.0.2)\n",
            "Requirement already satisfied: six>=1.5 in /usr/local/lib/python3.10/dist-packages (from python-dateutil>=2.8.2->pandas>=2.0.0->pyldavis) (1.16.0)\n",
            "Requirement already satisfied: wrapt in /usr/local/lib/python3.10/dist-packages (from smart-open>=1.8.1->gensim->pyldavis) (1.16.0)\n"
          ]
        }
      ],
      "source": [
        "#proviamo a visualizzarli graficamente con PLYDAVIS\n",
        "!pip install pyldavis"
      ]
    },
    {
      "cell_type": "code",
      "execution_count": null,
      "metadata": {
        "id": "LCe780FCktMY",
        "colab": {
          "base_uri": "https://localhost:8080/",
          "height": 1000
        },
        "outputId": "ae19bc10-04af-40d0-cd7c-b44e0a956055"
      },
      "outputs": [
        {
          "output_type": "stream",
          "name": "stderr",
          "text": [
            "/usr/local/lib/python3.10/dist-packages/ipykernel/ipkernel.py:283: DeprecationWarning: `should_run_async` will not call `transform_cell` automatically in the future. Please pass the result to `transformed_cell` argument and any exception that happen during thetransform in `preprocessing_exc_tuple` in IPython 7.17 and above.\n",
            "  and should_run_async(code)\n",
            "/usr/local/lib/python3.10/dist-packages/pyLDAvis/_prepare.py:299: SettingWithCopyWarning: \n",
            "A value is trying to be set on a copy of a slice from a DataFrame.\n",
            "Try using .loc[row_indexer,col_indexer] = value instead\n",
            "\n",
            "See the caveats in the documentation: https://pandas.pydata.org/pandas-docs/stable/user_guide/indexing.html#returning-a-view-versus-a-copy\n",
            "  token_table['Freq'] = token_table['Freq'].round()\n",
            "/usr/local/lib/python3.10/dist-packages/pyLDAvis/_prepare.py:300: SettingWithCopyWarning: \n",
            "A value is trying to be set on a copy of a slice from a DataFrame.\n",
            "Try using .loc[row_indexer,col_indexer] = value instead\n",
            "\n",
            "See the caveats in the documentation: https://pandas.pydata.org/pandas-docs/stable/user_guide/indexing.html#returning-a-view-versus-a-copy\n",
            "  token_table['Term'] = vocab[token_table.index.values].values\n"
          ]
        },
        {
          "output_type": "execute_result",
          "data": {
            "text/plain": [
              "<IPython.core.display.HTML object>"
            ],
            "text/html": [
              "\n",
              "<link rel=\"stylesheet\" type=\"text/css\" href=\"https://cdn.jsdelivr.net/gh/bmabey/pyLDAvis@3.4.0/pyLDAvis/js/ldavis.v1.0.0.css\">\n",
              "\n",
              "\n",
              "<div id=\"ldavis_el265251365885734231207593018569\" style=\"background-color:white;\"></div>\n",
              "<script type=\"text/javascript\">\n",
              "\n",
              "var ldavis_el265251365885734231207593018569_data = {\"mdsDat\": {\"x\": [-0.10015241103025328, 0.0006796251201561396, 0.1487489479372587, -0.1338584151441892, 0.05302488446863252, 0.04141062436161545, -0.12977705192888112, 0.15476510648782535, -0.08628858778249653, 0.051447277510331756], \"y\": [0.06216350322986078, 0.09921426601851724, -0.06273976569780403, -0.071985446533648, -0.06460405347215262, -0.10373654064890515, 0.044283179002130246, 0.0006259829958429998, -0.1034405990327359, 0.20021947413889438], \"topics\": [1, 2, 3, 4, 5, 6, 7, 8, 9, 10], \"cluster\": [1, 1, 1, 1, 1, 1, 1, 1, 1, 1], \"Freq\": [14.76416060549818, 14.321015765821867, 13.773091914670427, 11.891905342821815, 9.741789461768155, 8.448642452835225, 8.321081575263797, 8.136230528382074, 6.943065026822813, 3.659017326115637]}, \"tinfo\": {\"Term\": [\"trump\", \"clinton\", \"hillary\", \"obama\", \"president\", \"police\", \"court\", \"donald\", \"state\", \"black\", \"campaign\", \"election\", \"school\", \"party\", \"federal\", \"video\", \"russia\", \"media\", \"republican\", \"russian\", \"republicans\", \"syria\", \"twitter\", \"house\", \"people\", \"government\", \"democratic\", \"women\", \"children\", \"climate\", \"ranchers\", \"resettled\", \"rockefeller\", \"swedes\", \"hungarian\", \"maduro\", \"rankings\", \"somalis\", \"organisation\", \"enrollment\", \"koskinen\", \"sectors\", \"inflation\", \"daleiden\", \"cheaper\", \"resettlement\", \"rouhani\", \"hikes\", \"mortgages\", \"babin\", \"meanings\", \"naturalization\", \"mideast\", \"bodied\", \"capita\", \"revenues\", \"unskilled\", \"foundations\", \"orban\", \"imports\", \"income\", \"tuition\", \"loans\", \"shortages\", \"prices\", \"manufacturers\", \"billion\", \"venezuela\", \"rates\", \"corporations\", \"omnibus\", \"stamps\", \"increase\", \"aliens\", \"housing\", \"benefits\", \"profits\", \"workers\", \"costs\", \"sweden\", \"welfare\", \"distribute\", \"population\", \"immigrants\", \"refugees\", \"soros\", \"immigration\", \"companies\", \"labor\", \"economic\", \"illegal\", \"market\", \"poverty\", \"programs\", \"taxpayers\", \"million\", \"program\", \"countries\", \"financial\", \"refugee\", \"money\", \"border\", \"percent\", \"government\", \"funding\", \"states\", \"america\", \"american\", \"united\", \"world\", \"people\", \"system\", \"country\", \"would\", \"state\", \"americans\", \"policy\", \"years\", \"group\", \"public\", \"federal\", \"political\", \"could\", \"obama\", \"nusra\", \"deray\", \"beyonc\", \"panther\", \"theology\", \"zippers\", \"commutation\", \"rioters\", \"irving\", \"harney\", \"commuted\", \"tsarnaev\", \"hijab\", \"shoppers\", \"dearborn\", \"mckesson\", \"bacon\", \"allahu\", \"graffiti\", \"castile\", \"patsy\", \"guevara\", \"farook\", \"payne\", \"assimilating\", \"mcaleer\", \"crowder\", \"queer\", \"micah\", \"alton\", \"police\", \"shooting\", \"confederate\", \"antifa\", \"ferguson\", \"unarmed\", \"officers\", \"gunman\", \"mosque\", \"nightclub\", \"shootings\", \"trayvon\", \"campus\", \"shooter\", \"injured\", \"orlando\", \"palmer\", \"mateen\", \"beyonce\", \"officer\", \"mohamed\", \"black\", \"truck\", \"protesters\", \"dallas\", \"portland\", \"arrested\", \"violent\", \"baltimore\", \"violence\", \"riots\", \"islam\", \"lives\", \"protest\", \"students\", \"killed\", \"student\", \"scene\", \"muslim\", \"terror\", \"incident\", \"victim\", \"matter\", \"group\", \"white\", \"islamic\", \"community\", \"video\", \"people\", \"woman\", \"facebook\", \"muslims\", \"school\", \"attack\", \"event\", \"media\", \"university\", \"america\", \"twitter\", \"according\", \"would\", \"another\", \"right\", \"first\", \"affleck\", \"ailes\", \"nordstrom\", \"bonifield\", \"broaddrick\", \"mallory\", \"chappelle\", \"streep\", \"meryl\", \"fraternity\", \"santorum\", \"zakaria\", \"eichenwald\", \"seinfeld\", \"juanita\", \"zucker\", \"stahl\", \"karem\", \"atensnut\", \"kimmel\", \"gerster\", \"newscasts\", \"bette\", \"scapegoating\", \"driscoll\", \"corden\", \"rachael\", \"globes\", \"comics\", \"impersonation\", \"griffin\", \"megyn\", \"behar\", \"nugent\", \"schlussel\", \"ivanka\", \"madonna\", \"reilly\", \"kathy\", \"christie\", \"seanhannity\", \"hannity\", \"fiorina\", \"baldwin\", \"palin\", \"murdoch\", \"realdonaldtrump\", \"barron\", \"supporters\", \"trump\", \"donald\", \"twitter\", \"tweet\", \"kelly\", \"rally\", \"debate\", \"hilarious\", \"rallies\", \"comedian\", \"women\", \"ratings\", \"viewers\", \"sarah\", \"tweets\", \"jones\", \"media\", \"campaign\", \"sexual\", \"https\", \"hollywood\", \"candidate\", \"video\", \"night\", \"november\", \"image\", \"presidential\", \"watch\", \"liberal\", \"hillary\", \"featured\", \"really\", \"republican\", \"people\", \"president\", \"right\", \"would\", \"election\", \"think\", \"going\", \"never\", \"clinton\", \"assange\", \"guccifer\", \"malware\", \"moscow\", \"crowdstrike\", \"dossier\", \"lavrov\", \"pyongyang\", \"convoy\", \"snowden\", \"kirby\", \"veselnitskaya\", \"dobbs\", \"gaddafi\", \"clandestine\", \"sarin\", \"alperovitch\", \"deployment\", \"creamer\", \"contrived\", \"campos\", \"airstrikes\", \"assad\", \"schakowsky\", \"natalia\", \"pilger\", \"duterte\", \"rosatom\", \"hersh\", \"atomic\", \"pentagon\", \"cyber\", \"informant\", \"rebels\", \"korea\", \"missile\", \"bashar\", \"hackers\", \"syria\", \"uranium\", \"fusion\", \"julian\", \"missiles\", \"russian\", \"iranian\", \"qaeda\", \"ukraine\", \"hacking\", \"kremlin\", \"putin\", \"intelligence\", \"nuclear\", \"russia\", \"chemical\", \"wikileaks\", \"sanctions\", \"military\", \"information\", \"weapons\", \"regime\", \"security\", \"documents\", \"syrian\", \"ambassador\", \"operation\", \"officials\", \"foreign\", \"forces\", \"evidence\", \"report\", \"source\", \"agency\", \"official\", \"government\", \"washington\", \"administration\", \"story\", \"department\", \"obama\", \"state\", \"media\", \"investigation\", \"president\", \"former\", \"according\", \"would\", \"national\", \"could\", \"house\", \"united\", \"trump\", \"attack\", \"gabbard\", \"handel\", \"amtrak\", \"dicaprio\", \"leonardo\", \"gohmert\", \"portman\", \"sadiq\", \"havana\", \"stockpiles\", \"sarandon\", \"trumpcare\", \"flake\", \"corker\", \"cassidy\", \"wilkerson\", \"louie\", \"guant\", \"murkowski\", \"hodgkinson\", \"peaked\", \"souza\", \"tillis\", \"sarsour\", \"giffords\", \"wagner\", \"prima\", \"hastert\", \"copenhagen\", \"speakerryan\", \"boehner\", \"biden\", \"mcconnell\", \"ayotte\", \"mitch\", \"dinesh\", \"ellison\", \"schumer\", \"ossoff\", \"obamacare\", \"republicans\", \"repeal\", \"obama\", \"obamas\", \"senate\", \"michelle\", \"senators\", \"barack\", \"perez\", \"democrats\", \"senator\", \"party\", \"republican\", \"president\", \"speaker\", \"mccain\", \"pelosi\", \"rubio\", \"congress\", \"house\", \"legacy\", \"sanders\", \"leader\", \"presidency\", \"democrat\", \"would\", \"trump\", \"majority\", \"first\", \"white\", \"think\", \"democratic\", \"americans\", \"america\", \"people\", \"american\", \"office\", \"donald\", \"years\", \"going\", \"country\", \"could\", \"support\", \"video\", \"boiler\", \"subscribing\", \"uncensored\", \"hinckley\", \"gnashing\", \"neoconservative\", \"papadopoulos\", \"andrews\", \"transnational\", \"sekulow\", \"cadets\", \"headphones\", \"quigley\", \"cults\", \"sunglasses\", \"circa\", \"palmyra\", \"digenova\", \"defer\", \"vittert\", \"colgate\", \"schiller\", \"wiretapped\", \"sexton\", \"lemonade\", \"wiretap\", \"sociopathic\", \"dobias\", \"simulated\", \"goebbels\", \"neocons\", \"comey\", \"watergate\", \"mueller\", \"handler\", \"download\", \"bannon\", \"priebus\", \"custom\", \"randy\", \"nunes\", \"flynn\", \"alternate\", \"episode\", \"epstein\", \"yates\", \"spicer\", \"acosta\", \"broadcast\", \"misguided\", \"james\", \"miller\", \"director\", \"counsel\", \"radio\", \"press\", \"investigation\", \"trump\", \"media\", \"special\", \"animals\", \"corner\", \"house\", \"president\", \"patrick\", \"political\", \"white\", \"former\", \"inauguration\", \"listen\", \"story\", \"times\", \"donald\", \"video\", \"campaign\", \"would\", \"russia\", \"meeting\", \"mainstream\", \"washington\", \"people\", \"election\", \"first\", \"another\", \"right\", \"cliven\", \"hammonds\", \"abortions\", \"rancher\", \"mosby\", \"bundy\", \"scalia\", \"injunction\", \"kagan\", \"unborn\", \"plaintiffs\", \"rulings\", \"ammon\", \"santilli\", \"burgess\", \"occupiers\", \"aborted\", \"fetal\", \"fiore\", \"allred\", \"gratz\", \"grutter\", \"robart\", \"corfman\", \"antonin\", \"stemexpress\", \"stakeholders\", \"moratorium\", \"contraception\", \"ranch\", \"flint\", \"abortion\", \"finicum\", \"justices\", \"snyder\", \"supreme\", \"parenthood\", \"court\", \"lavoy\", \"malheur\", \"circuit\", \"judge\", \"moore\", \"wildlife\", \"ruling\", \"defendants\", \"appeals\", \"alabama\", \"marriage\", \"justice\", \"federal\", \"water\", \"lawsuit\", \"courts\", \"planned\", \"religious\", \"attorney\", \"rights\", \"constitutional\", \"constitution\", \"oregon\", \"order\", \"legal\", \"district\", \"amendment\", \"government\", \"state\", \"executive\", \"would\", \"texas\", \"decision\", \"women\", \"public\", \"states\", \"department\", \"could\", \"right\", \"years\", \"people\", \"president\", \"maxine\", \"pirro\", \"soundcloud\", \"aipac\", \"devos\", \"hanlon\", \"eminem\", \"arpaio\", \"jeanine\", \"marxists\", \"colts\", \"watters\", \"cortes\", \"andres\", \"boondoggle\", \"detainer\", \"foreman\", \"dennard\", \"params\", \"inglewood\", \"hbcus\", \"hanoi\", \"bethune\", \"cookman\", \"scotusblog\", \"finals\", \"auto_play\", \"oprah\", \"show_user\", \"show_comments\", \"kurdish\", \"cuomo\", \"kilmeade\", \"ditka\", \"piers\", \"waters\", \"zionist\", \"latina\", \"betsy\", \"jerusalem\", \"netanyahu\", \"israelis\", \"carson\", \"israel\", \"daniels\", \"vargas\", \"varney\", \"puerto\", \"tucker\", \"lefty\", \"israeli\", \"palestinians\", \"conway\", \"fence\", \"jackson\", \"raqqa\", \"palestinian\", \"kellyanne\", \"gonna\", \"carlson\", \"mexico\", \"racist\", \"mexican\", \"trump\", \"people\", \"video\", \"pence\", \"speech\", \"going\", \"think\", \"watch\", \"president\", \"country\", \"right\", \"donald\", \"america\", \"great\", \"saying\", \"something\", \"white\", \"would\", \"american\", \"things\", \"interview\", \"really\", \"asked\", \"https\", \"never\", \"thing\", \"first\", \"twitter\", \"recount\", \"ballots\", \"haitian\", \"abedin\", \"laureate\", \"superdelegates\", \"precincts\", \"stein\", \"haitians\", \"ceres\", \"mezvinsky\", \"precinct\", \"absentee\", \"youngblood\", \"rodham\", \"electors\", \"sonoma\", \"boucher\", \"goldsmith\", \"registrations\", \"chappaqua\", \"turki\", \"rumsfeld\", \"giustra\", \"doherty\", \"husted\", \"platte\", \"tayyip\", \"brazile\", \"eberwein\", \"haiti\", \"bratton\", \"delegates\", \"tripp\", \"clinton\", \"voter\", \"clintons\", \"delegate\", \"hillary\", \"electoral\", \"chelsea\", \"server\", \"foundation\", \"email\", \"polling\", \"ballot\", \"emails\", \"elections\", \"donors\", \"fraud\", \"voters\", \"voting\", \"democratic\", \"votes\", \"election\", \"benghazi\", \"campaign\", \"state\", \"polls\", \"sanders\", \"presidential\", \"secretary\", \"candidate\", \"bernie\", \"party\", \"percent\", \"former\", \"democrat\", \"department\", \"would\", \"according\", \"states\", \"million\", \"trump\", \"people\", \"republican\", \"cologne\", \"ayyadurai\", \"parentnode\", \"getelementbyid\", \"jolie\", \"insertbefore\", \"jssdk\", \"xfbml\", \"createelement\", \"osteen\", \"spacey\", \"vitale\", \"hamtramck\", \"ferrell\", \"shiva\", \"en_us\", \"irons\", \"kthopkins\", \"undergraduate\", \"tubman\", \"paltrow\", \"lolita\", \"athletics\", \"invaders\", \"angelina\", \"steelers\", \"haircut\", \"saranac\", \"sheen\", \"outage\", \"anthem\", \"cdata\", \"vatican\", \"warming\", \"merkel\", \"kaepernick\", \"weinstein\", \"climate\", \"kneel\", \"angela\", \"harvey\", \"warren\", \"germany\", \"german\", \"disney\", \"carbon\", \"migrant\", \"players\", \"script\", \"academy\", \"function\", \"francis\", \"migrants\", \"paris\", \"school\", \"teacher\", \"science\", \"elizabeth\", \"chancellor\", \"change\", \"global\", \"parents\", \"children\", \"hollywood\", \"actor\", \"europe\", \"facebook\", \"national\", \"world\", \"schools\", \"women\", \"girls\", \"child\", \"county\", \"first\", \"stand\", \"people\", \"would\", \"american\"], \"Freq\": [79429.0, 20906.0, 18097.0, 25329.0, 31679.0, 9818.0, 5744.0, 16569.0, 14215.0, 8349.0, 11101.0, 9334.0, 4342.0, 8923.0, 5981.0, 19225.0, 4952.0, 16322.0, 8786.0, 4102.0, 5364.0, 4134.0, 11884.0, 11521.0, 25027.0, 9942.0, 5235.0, 7650.0, 3946.0, 1963.0, 157.17023837702763, 100.36449130430319, 100.14220391017999, 169.14065866157543, 99.73582753772135, 81.63868354852939, 81.36745118802101, 78.22649319663141, 72.6581604498955, 63.19401896596341, 60.91354049165213, 81.1618596651247, 58.30278501042628, 56.67086275334133, 71.12517633921563, 444.2163558435354, 53.16494227143062, 51.978539139199945, 72.11898674195713, 50.84582626480891, 49.04304990694764, 49.329098908833274, 48.365445895663655, 45.585710821828066, 49.144183635965966, 57.08159251756219, 44.09650615628839, 137.25366937557789, 42.34611215006488, 56.32431010499037, 794.2645228086785, 175.43838283917015, 242.53882488580203, 72.13874226379347, 218.81053560040263, 92.80927905632146, 1550.8175297845953, 273.4920635773177, 305.35620936077123, 392.45171366769785, 153.44440550756246, 216.99518067892473, 748.0588880555744, 1105.4244927542072, 726.3819811834204, 665.7745332381556, 217.3574093149661, 1164.8574881470138, 617.315446924457, 727.3160434089829, 515.3259222986231, 217.43582702688246, 923.5757830403217, 1611.6846325235563, 2124.567744884978, 1229.808431206844, 2651.2638576768295, 963.9575050654568, 531.7713176836482, 1123.8356569956095, 2665.505058098726, 781.3651869330811, 504.7787022724089, 713.3589749856582, 615.8692142962577, 3165.474329574253, 1930.7724971593568, 1522.9512896906965, 1010.3507983892741, 1090.85504092742, 2404.7586112839786, 1649.965318916605, 1884.4741663248255, 3779.758191573242, 900.1939330828802, 3341.9235492052044, 4024.3232417450563, 3698.5391995433424, 2693.846035092126, 2674.203229273294, 4983.4365266529985, 1466.6963269445039, 2717.6841129515547, 3960.111676475713, 3068.2841124568645, 2123.2795186580047, 1639.9568618119047, 2142.0822426304885, 1731.8044001366873, 1771.5221402061068, 1590.9117957462993, 1727.0343670630855, 1632.299122938408, 1553.685140101475, 273.87547319489624, 148.68369081216255, 159.84133972446088, 176.98604344218717, 112.20179135991903, 106.05094794687885, 118.51757753104172, 223.050900048817, 99.23740232571109, 97.62822345255604, 137.98904859685967, 88.99391386527229, 109.51771368210656, 83.12452744826705, 83.08043157236273, 85.4095805007899, 79.57022031586077, 78.94450588232847, 80.86180629135175, 80.38014082842008, 134.80379481721312, 72.99938521065415, 72.34654824107018, 96.5586007643342, 70.33554180576911, 67.62297218321206, 67.6064476796534, 68.5668474297192, 63.95708343212515, 63.91083039403232, 9509.19213689738, 2955.377636753157, 742.1581767068094, 872.0818111390671, 665.8433293916271, 232.62507283573498, 2571.4745077267003, 355.73940269180696, 416.5321352916918, 279.02045615323556, 481.64062121679035, 134.14508633610967, 1269.5599480779063, 1151.4986355395256, 469.7334523332109, 735.3072127946011, 148.43730716653013, 555.694359521746, 214.8306923223315, 1895.6900223383025, 303.7408386792645, 6912.657541689565, 517.8023538326225, 1888.574153413391, 658.5052773412616, 304.43803716255945, 1395.2808626516432, 1587.2075121705923, 685.3528691031156, 2441.8947002154946, 376.10213439856614, 910.2212447052008, 2496.1884298370614, 1412.4415779171636, 2411.0823267904857, 1485.1422121945773, 1403.391132965872, 940.1936164260283, 2672.2735397581755, 1465.9862455636676, 1126.0233470066876, 901.1640580495748, 2082.7062196024135, 2524.931832825373, 3941.723275626094, 1307.6453014505753, 1629.5377943332667, 4318.601841853732, 4461.836385259015, 1867.9326668882854, 1569.7511878258895, 1310.3402244788388, 1698.9100784925674, 1693.918725785717, 1437.6754841230738, 2196.1334897636643, 1402.2718634875791, 1869.8179991612667, 1824.5065646536984, 1655.493062902953, 1732.5752187625378, 1497.1484548201138, 1494.6273505166448, 1488.3432027242868, 305.13384534476273, 349.08560286086265, 267.4616855638404, 202.4720458336491, 253.1864592622757, 177.4795597598222, 137.63403460673197, 196.74483676157294, 128.20336188938336, 103.95495842655727, 142.55250840771384, 75.6509858311613, 193.04974210759204, 61.07763844086204, 143.88942393341557, 104.84636171268318, 57.34451773329163, 55.38704590805261, 51.36894783280764, 371.58761807775204, 50.92813984728413, 49.92352172791239, 52.78114463754312, 49.454906667639584, 47.85015258748196, 45.22456656850826, 86.14001880617026, 42.986451632137246, 67.83849281789489, 44.52849113439523, 525.1558244871853, 807.6656611504212, 310.7597103370303, 211.5808030986015, 184.6926259741964, 832.1427230742619, 181.42908936799572, 1252.2961085659085, 321.99438519825964, 412.62009524206366, 170.60793077121485, 1340.2861677775277, 236.94296954143812, 321.4515459946952, 669.8183317887931, 334.6687732266447, 1769.8427052193706, 295.03148619581765, 3243.7970628671706, 37673.464991185305, 9120.247766663237, 6764.767787836501, 1811.4914572834641, 1287.167351960299, 1890.4893789214127, 1909.5713838233426, 627.2961741745828, 581.9371575586094, 561.5068112554986, 3681.545979455933, 570.0425480914498, 726.886536262763, 680.7892865202284, 906.3726806125089, 838.3817972726592, 5374.987793177095, 3910.8085583092757, 1495.1841804747971, 2265.4977120712856, 1314.8096192473968, 2067.0234364735074, 4912.946742943643, 1777.254495334329, 1369.3441512504357, 1892.3490921189016, 2143.1727296650974, 2678.255094008389, 1606.1056282038855, 3455.250710154927, 1461.536677415453, 1921.851918312082, 2180.3045521303784, 3161.1575200248617, 3275.6565970080555, 2126.542293024796, 2769.5465176668467, 2043.8816074676456, 1859.801292134198, 1854.971873210023, 1603.919189586374, 1690.6688761939379, 629.0020156815262, 215.51567827233362, 218.11325178320445, 499.6857448553061, 146.37382183180924, 564.1026714721528, 133.0916539890776, 133.46306624694662, 116.50805484095481, 168.13162804783565, 116.78413059994753, 159.93792223137424, 104.46236350961881, 156.28610989672367, 101.10911855891526, 94.81954899522218, 92.85281346163751, 88.54586124177752, 180.91065892490025, 86.85164175109541, 160.62246780548233, 152.24793145413298, 835.5649775621735, 77.23411795464706, 90.12489957700375, 72.84986360952139, 70.75810445761617, 64.91077637450923, 62.49685531021319, 63.88776112882805, 764.2694624621761, 558.8216957402371, 303.19541038824985, 446.2345997165193, 970.5469168574379, 417.40211638314463, 206.011373223753, 330.4944775597078, 3850.2526937617936, 423.11351351273163, 308.39201780633624, 368.57857173664723, 273.24870549373, 3696.238808452777, 625.0658215836726, 725.6509849227781, 324.88308715480764, 613.967661261952, 282.85610539676804, 1255.9678737594786, 2812.5381329224515, 1545.7967936285534, 3908.3927760393462, 423.67229766411583, 1359.1093392002558, 573.0336036183643, 2632.8740896148192, 2464.6067359817, 1204.4269574644607, 890.8423179050621, 3253.0871358448067, 1284.735734554601, 1373.1405838805763, 579.2436956747366, 813.7456217252035, 1888.1410792536358, 1721.1280843809031, 871.2647313070277, 1528.9744881341537, 2022.6384712117037, 1341.332056196129, 1174.5998225206617, 1346.6605556590946, 2673.057868636326, 2164.8701222112113, 1830.2796892785263, 2055.481568006663, 1833.7431409096368, 3588.166071354788, 2345.0973917091096, 2455.502625168948, 1383.0850310899975, 2702.7163278023145, 1724.2337389075662, 1663.638730374602, 1948.9688993038815, 1576.8567464866553, 1593.750124603163, 1602.8684742802754, 1516.0221112534675, 1889.682162496362, 1414.949175535238, 353.9706986996212, 193.0605216557471, 153.3064170889978, 119.90808067022735, 100.6938557976338, 85.39126349717552, 79.63228676596161, 93.70476395954435, 121.54803890848711, 60.808221338670286, 51.12149870445438, 61.09991873665767, 197.25179466715855, 86.7986003196395, 47.45385598282732, 56.7083382049937, 40.625990918201445, 38.36505880490376, 44.46809814392873, 135.62618006872023, 38.21101324328238, 235.52600257465224, 33.82466674020622, 93.10057013091946, 41.22236174338348, 41.724074538456456, 31.50347164180504, 46.19523411310748, 28.88588098166028, 44.03075766949931, 218.70306205113832, 1115.95899930781, 693.4576937952916, 96.25629058623413, 327.44436765323377, 181.65386607264708, 190.06051355091955, 525.3607842552607, 150.93066658904837, 1207.0309970397982, 4012.2456058081266, 486.6393410669121, 16791.67772060687, 254.80960948096626, 2759.5916253319942, 849.9000666506986, 559.8508393416641, 2468.6071518861563, 331.3336746010475, 3187.344954521079, 2257.4379256603556, 4345.875149663295, 4255.569114629214, 12110.919252926114, 744.8320272354689, 1199.3257093922914, 626.4686080972848, 1231.6386079777342, 2018.2001494027988, 4307.758261700784, 482.7012579574492, 1601.1718931169262, 1151.1824165712017, 855.7036572446372, 1456.6212830608988, 4199.231426651059, 8807.252250111876, 867.3364602486487, 2078.341430879655, 2090.6454855880793, 1707.2492027875583, 1319.2369055557258, 1497.1130242613162, 1882.783168471944, 2411.546470092407, 1761.1692680370604, 1322.6964489085894, 1774.442963927294, 1466.7994249006317, 1453.447667212603, 1394.9292336853139, 1390.37542942236, 1339.3109504745805, 1339.8485101344936, 1831.4101947973672, 403.22494356821636, 412.4961277622283, 179.27793672155983, 144.93361115176043, 135.04942260687608, 126.8302316514767, 116.24042720963088, 115.76443261132835, 152.94969220102703, 80.93401801166527, 73.77773611487495, 67.88390122390682, 66.62334016916323, 64.89652229217337, 105.19908609092022, 61.859881669802284, 60.170237023384644, 53.58242617420379, 52.943861512151486, 51.242079770826855, 62.506011751654135, 54.85954469056582, 49.774534234238864, 49.756506919630795, 50.22472534715366, 45.05450394646298, 44.731303808754916, 52.045467910954926, 76.83915889096085, 202.65600256028782, 2218.910132310912, 180.52486921292166, 695.1276744920339, 91.2897159416853, 305.6911840491705, 681.0647263208681, 265.16106863446703, 399.26688885297295, 302.5207327660305, 189.66139974224419, 812.3571398398025, 551.2440247232827, 1007.2618942747782, 175.38847874841318, 202.2527656849718, 444.40819248195754, 186.37381414512203, 884.1012694970732, 365.2315350277872, 1277.1149714224707, 504.2736187416183, 1655.8556226611263, 514.3645918251095, 1153.608585344441, 1912.3709079331825, 1609.0416695609167, 13577.013389404101, 4193.973382881541, 1138.3918890383588, 424.6602852566179, 404.3829715691909, 2601.9602195912726, 4677.594788961436, 549.3790406652679, 2022.661413471774, 2317.899370521966, 1701.3681506319322, 508.1232934143619, 656.9655787055598, 1326.746459779914, 1169.7205085831467, 1855.3094856370567, 1854.4417536015333, 1418.166214480211, 1655.4786486002572, 970.8089348984482, 776.8712572687064, 796.080333680437, 988.6066930543153, 1371.5135128991574, 1042.1586251828555, 1054.715925121, 908.5767427086962, 889.9137599135823, 209.59472567874138, 182.0713556672284, 260.8859361104492, 151.80490303771066, 140.68870065102809, 855.6386785538175, 704.3070540800139, 128.12126111152205, 121.71195678648643, 167.3564819708555, 136.9942495626945, 126.33932931732167, 201.7332900575831, 108.26199781068853, 106.49744858800675, 93.2076796420824, 143.3485534302674, 125.43974664640376, 79.40969135392285, 75.94990498109046, 72.55927633462449, 69.51692714775268, 69.03589934191936, 65.98734437476872, 196.827402533616, 57.65734573115024, 56.72769216951583, 56.22464076265862, 59.08064090587428, 347.1107930130128, 885.1725723517918, 1414.5656111158828, 537.2089156552433, 246.24276419102014, 296.0360717053377, 1789.2773091379233, 971.7468476821998, 5212.421136052597, 220.45550112962454, 162.49982555115878, 354.3817108524404, 2643.853830608818, 1224.598565623487, 293.4757562355108, 654.4822812372157, 272.4547027412745, 384.79465395914065, 573.368368721898, 644.5932266612808, 2569.785043460759, 3452.364600244925, 1339.3281360975411, 689.3872512551192, 415.1547361655584, 1129.0516900205525, 917.7606893467598, 1588.136793509445, 1893.830251519725, 529.1204102143454, 730.492679270321, 672.1401637354651, 1759.1095954755865, 1233.5162399504923, 956.4198690301588, 752.7462880133525, 2296.8281302331106, 2769.8653606059224, 1003.9246806376005, 2616.137432090313, 936.8962926707893, 1026.2808178122714, 1464.4936362206104, 1367.3606355614331, 1456.9329307957432, 1198.7133725817048, 1045.2852801190877, 1044.7982700688003, 1013.1014010518544, 1049.347245392511, 942.8493284437285, 701.2950370827635, 138.9243043592788, 85.11985300851526, 89.30887762492051, 348.97778926928225, 66.24834017510842, 59.40137916638151, 275.27233425054305, 334.5629296389071, 53.842014170649385, 53.01323827099011, 164.22109938005892, 48.642217681039845, 48.351654854009304, 48.031101097219526, 45.831219823148416, 42.26630890093546, 40.14580497401298, 39.741221450986465, 39.48616064075576, 39.74310011238558, 33.47017684407545, 32.673580176442236, 32.673031149357456, 32.88686548977163, 34.36945198465931, 29.700395554467626, 199.47560123955563, 29.14520687662032, 29.13644846350479, 248.9157868549286, 575.3442063085478, 89.5353057619714, 71.42785128484611, 113.67535535762177, 1152.4990050657912, 90.87394307968222, 105.66150623382916, 174.32528976742427, 635.8161206376278, 339.7506787569406, 149.72654495559513, 1050.1678502918162, 2053.10209385236, 81.35680575727433, 69.85402741696888, 70.11708164523014, 419.2907044522132, 674.821086359825, 174.29886361067997, 802.6997047481325, 240.65571339474377, 674.074451156907, 510.3593413830411, 710.4652361240229, 208.04750126770386, 349.5761090985862, 374.31190772373117, 687.0921903759336, 525.2290972744113, 931.1151311160555, 1420.8641934902091, 519.8936156361617, 14841.088829839833, 5669.2518040023415, 4605.521038402383, 547.1519621357355, 1680.48225117559, 2461.330282441733, 2314.325995914174, 2406.3164154940378, 5037.443050270707, 2299.335506104634, 2069.704589631399, 2631.16643533728, 2208.085643399394, 1314.496529140338, 1353.1947474456122, 1183.6622611704556, 1858.3537875463685, 2306.2726272483737, 1566.2769571819726, 1082.7889892745775, 1115.8913153698247, 1185.2531178880818, 1135.683601266917, 1054.4042785832478, 1042.5569506199163, 953.5574016198246, 1042.579931696754, 1036.5776241387355, 640.3558100892068, 338.2804704119324, 123.75179434629648, 582.8192370260805, 113.23798689594072, 94.04820463689953, 109.20554998182496, 522.9018890078262, 86.68172177859782, 83.86480773787605, 81.73702986763011, 91.46402837438562, 75.98153936495731, 74.70647313691877, 174.66225962567563, 297.8254682665814, 54.644426029338135, 55.400210966707256, 62.29914881727577, 60.444178809438, 47.78221427833035, 44.5243916440429, 43.96673224546492, 38.232811109849735, 37.43160926556312, 35.05980933428176, 37.135187009634485, 33.520643814722426, 268.4495624065663, 31.585953301894985, 373.28308117761173, 44.22778509148406, 577.0382380934346, 126.2990402286475, 17514.9889857483, 1276.3689343202213, 683.2255332967042, 164.55928711154272, 13084.891777638963, 553.2104157525513, 409.89215459861134, 844.7289957624262, 1702.4414271105068, 2040.3221115022632, 369.49316086531115, 319.99163666250234, 1552.938437499947, 935.7846405678148, 511.35967971564736, 867.2670791989774, 1715.5892819355975, 1009.3314837804413, 2481.3435390144527, 1033.2353695594477, 3765.4290931450637, 631.091489382794, 3516.2806548074764, 4132.872413630733, 666.8080519712279, 1552.3712834942514, 1891.7215092472948, 1355.6012441978091, 1590.352980453465, 1071.7545909552791, 1811.6771928579196, 985.9782674507132, 1163.662316797538, 937.4188853850277, 1029.688845143728, 1401.9022420343513, 1030.3789227813268, 1056.3470729268406, 936.5471934103508, 1167.8778157764777, 976.953328082961, 935.9284541117295, 116.45653926552734, 108.3670500120481, 138.4855453273115, 143.33093154014352, 96.24537449965804, 136.98371806255366, 135.76172287467904, 135.75290440095952, 140.35958332995492, 76.28046233590345, 75.53373326589463, 75.96042756752503, 70.28125091993732, 68.09902036680847, 82.71656265846873, 89.85245848629462, 62.11668762187876, 55.32286806601156, 54.39527135110036, 59.89917381243477, 51.39941489866365, 49.795505843380845, 52.151035319541315, 47.30387511438462, 46.37300657721761, 50.036221155468894, 45.66824951031015, 44.94988091390355, 55.27135207781779, 43.809690643861245, 824.2187398095615, 227.28801567044755, 138.9594493560837, 580.0449009647815, 460.7163102520624, 350.0311343856652, 548.626158209179, 1684.3957329927468, 83.33575619056045, 263.4659258034714, 393.58319828137223, 778.8256556997554, 811.4431491949888, 582.6786476699307, 285.6703183887537, 268.3409128803174, 305.0380644818413, 655.1978437357163, 225.3610574640499, 218.4922715201297, 292.98377259347785, 236.54003626353557, 643.8788927291666, 560.2650456890179, 1769.2473492422323, 394.75551232271874, 370.47018461411875, 337.1290894791569, 209.3938159407307, 1303.2007116142609, 794.8396295169259, 680.8652565675175, 1228.8456628476386, 860.8903346878856, 480.0082099820124, 589.3671697816395, 711.3863872911425, 923.8048835490471, 890.4900753293765, 430.38244571557675, 720.2389366415983, 381.5091537607921, 441.0883349313153, 458.22268553697035, 562.7001426995511, 437.7558131175461, 531.5793183172502, 502.70883362347774, 431.44605474967153], \"Total\": [79429.0, 20906.0, 18097.0, 25329.0, 31679.0, 9818.0, 5744.0, 16569.0, 14215.0, 8349.0, 11101.0, 9334.0, 4342.0, 8923.0, 5981.0, 19225.0, 4952.0, 16322.0, 8786.0, 4102.0, 5364.0, 4134.0, 11884.0, 11521.0, 25027.0, 9942.0, 5235.0, 7650.0, 3946.0, 1963.0, 158.56666166137796, 101.35416608463737, 101.13178519114899, 170.8803646795172, 100.76922054596108, 82.62902412773981, 82.36237701024716, 79.21644708533842, 73.64688069030232, 64.18559850129694, 61.902755442006075, 82.5312355267633, 59.31194457228041, 57.664660643918566, 72.38524562530623, 452.5643329341135, 54.207023470502115, 53.00359438759522, 73.54737258783794, 51.85343160087137, 50.034773714270464, 50.33132335490963, 49.36845038425741, 46.59489191873263, 50.25367673668039, 58.38142223454393, 45.10114688833026, 140.38796682713274, 43.33451232648467, 57.697398259675985, 823.6435174251737, 180.94135285819397, 251.16168172820085, 73.97261989891969, 226.98936674793882, 95.45444835173835, 1716.1890144362596, 289.5352589705331, 327.067378846033, 423.93574378968174, 161.64648258688854, 231.15658665531615, 845.2542690533049, 1278.1589603787918, 822.5339246948877, 754.1008194206123, 233.62461766808542, 1371.7858033343305, 711.4282790984028, 848.3761323803636, 592.7390007391249, 236.363038704366, 1119.7210395247232, 2040.5351113054635, 2804.746805896583, 1549.8661869349526, 3716.9407939582006, 1222.9016975158029, 649.0428542201521, 1507.1440184824917, 4126.223658000231, 1017.9193259642927, 618.7748977771913, 934.7600544194079, 787.2772262649546, 5411.152996287524, 3174.882622324302, 2380.5994476977835, 1445.3150840244919, 1622.6081768667436, 4431.497381205516, 2801.8050694107214, 3689.885531189439, 9942.934696261698, 1335.8134592096999, 9544.253308773114, 12901.371445676887, 12190.800495172061, 7609.090089157475, 7563.333799520175, 25027.204297876673, 2953.9151934912634, 9227.40227405617, 23092.933522456813, 14215.17156939256, 7158.378088282486, 4357.29023299637, 9299.239756890069, 6111.9530430729565, 7225.933017652204, 5981.016031220244, 9655.399935553878, 10221.544097852271, 25329.728346191772, 274.9227353830462, 149.7371993894826, 161.0125266680068, 178.49262831748294, 113.19129631742119, 107.05313551020562, 119.63992887885502, 225.21659384244555, 100.22685012586456, 98.63890487852363, 139.46725181375893, 89.98252847139196, 110.75816849872182, 84.11386918017627, 84.0702893356833, 86.44633070943097, 80.57925539047305, 79.95964419404312, 81.90507338906158, 81.42119821004285, 136.5519972997681, 73.99097801325563, 73.3385635878831, 97.88709184356337, 71.34889072377037, 68.61142584947387, 68.59540473832067, 69.57259664094666, 64.9521116273853, 64.9198483114196, 9818.41907527666, 3032.6954166423425, 755.6840181145122, 891.7512366915206, 680.3761224105019, 236.9783101964441, 2758.6681230763584, 368.0756096393252, 434.5757412562533, 288.9677533843606, 504.4051523796282, 137.04250559877562, 1360.9151628772272, 1235.907499690517, 493.89660923571023, 786.7974190259, 152.0356818529351, 599.1235273230141, 223.136927665012, 2157.906914973566, 320.4214267351361, 8349.158597089123, 563.8435097775003, 2202.150877571162, 727.3471858692902, 324.5012338526706, 1653.3118157557672, 1929.895297703265, 791.4126541429156, 3269.2320857337872, 414.7839188381462, 1130.350067061449, 3570.819890401539, 1878.8692964521938, 3527.7474262221285, 2025.9079154864312, 1904.149583270474, 1247.1725352335118, 4895.527164525448, 2262.6417932453483, 1668.6856169278424, 1236.602813488053, 4362.473055969063, 6111.9530430729565, 13176.154353000276, 2285.9171918337183, 3440.7437752369224, 19225.840925006938, 25027.204297876673, 4765.527277642426, 3533.677304039788, 2444.9954256553106, 4342.409286217021, 4500.816367899405, 3172.675816028355, 16322.693857174647, 3036.2889624800505, 12901.371445676887, 11884.648541364922, 7843.242757525229, 23092.933522456813, 7067.083134152793, 10314.737511871757, 11469.047345387437, 306.07282347471534, 350.5717418364135, 268.62387287747356, 203.38566085211608, 254.4395779900727, 178.4309626174385, 138.54635254857052, 198.05784713416145, 129.23352918448808, 104.86860881685087, 143.98963445045712, 76.58310616295415, 195.51022208455962, 61.99210566586954, 146.16073284195502, 106.52108917103642, 58.29992554751199, 56.31231223373407, 52.28576178023187, 378.2657400250329, 51.84445979185018, 50.836970881824584, 53.75031685011607, 50.41334135689784, 48.805475232288515, 46.13919275115457, 87.9656694161408, 43.9043726570359, 69.32151859419274, 45.53844150231544, 538.3181408205386, 832.3465250647116, 318.0595333012016, 217.01694715307505, 190.35124110090138, 874.4711411580151, 187.6964309635864, 1351.2419064339713, 338.98608309758237, 444.2463888052028, 179.22780701285814, 1515.9012142068736, 251.69005482173506, 349.43455377031904, 779.6134674954205, 373.5713490620209, 2314.8784354946356, 326.2112356465279, 4846.575560397209, 79429.87121066626, 16569.599077457315, 11884.648541364922, 2660.7694055172874, 1789.9325046933855, 2920.1924630907365, 3098.353027907777, 811.154411668933, 742.0788023138367, 715.3398816896315, 7650.990200061616, 747.4134002330713, 1027.4865957480324, 946.0632027089293, 1388.8595670197628, 1277.2747862012511, 16322.693857174647, 11101.69279917453, 2868.0695958706438, 5200.973758698273, 2444.572964480447, 5033.212448531981, 19225.840925006938, 4226.368859851726, 2956.409117694196, 5105.510994826889, 6405.18635417321, 9661.204045829772, 4173.481800341001, 18097.08036021, 3694.9541716524436, 6427.865121399004, 8786.997755618728, 25027.204297876673, 31679.26918116377, 10314.737511871757, 23092.933522456813, 9334.936150988087, 9047.95952348399, 9656.002753597091, 6577.868411955246, 20906.81072848736, 630.7323111908811, 216.5778220856208, 219.2290573383717, 502.5711513786715, 147.369572792276, 568.0350749553403, 134.08968969533962, 134.50489350549603, 117.50440375968711, 169.59791690057446, 117.8054714072244, 161.33699552979354, 105.46099240580307, 157.7977823339959, 102.11909761389022, 95.81572775208227, 93.8485099367598, 89.54675538106491, 183.00542995931596, 87.87708353996709, 162.61458593501263, 154.1408935247585, 846.3190071514105, 78.25382624888488, 91.35019016335019, 73.84603065941617, 71.76236499729355, 65.90645108694302, 63.493076100042586, 64.91257506148182, 777.9705970162095, 570.6348655715437, 308.43653743921016, 456.3128702100462, 1001.4069075475068, 427.70469107571046, 209.80292179953238, 338.8994647280729, 4134.6432204717, 435.1480096797648, 316.2201101352072, 379.779880506065, 280.59851733600703, 4102.779817826172, 662.1339363763207, 777.0645877305041, 338.6107125260331, 660.6539021634536, 294.9328416968847, 1427.7153036072314, 3402.915944039168, 1802.5191907870299, 4952.418415552663, 456.306134234004, 1621.9012359478934, 637.3132639413784, 4132.194987400893, 3958.121670484302, 1682.420149527164, 1190.288063200004, 6019.383291095489, 1889.466301140032, 2085.53377607715, 698.9279877514925, 1125.0626658449198, 3912.766904469387, 3527.720090110567, 1282.0731839316225, 3174.983746331506, 5002.838348825159, 2647.2984071886226, 2134.399864699353, 2797.500491558557, 9942.934696261698, 6747.341394681991, 5490.111847998468, 7155.096739292895, 5932.129899289001, 25329.728346191772, 14215.17156939256, 16322.693857174647, 3802.0120991250897, 31679.26918116377, 7770.761209965666, 7843.242757525229, 23092.933522456813, 7442.206870245455, 10221.544097852271, 11521.937333072885, 7609.090089157475, 79429.87121066626, 4500.816367899405, 354.914015944251, 194.09361488598185, 154.24957611511115, 120.85663116220569, 101.63880302001392, 86.35022403541205, 80.57932625576687, 94.86721083872567, 123.14296567291036, 61.751116938614004, 52.103644382780445, 62.38954452459049, 201.50357485652768, 88.6960772607587, 48.492888200322675, 58.0279578385427, 41.58009837580002, 39.343661706013954, 45.6219189064407, 139.23615617363933, 39.23829023474704, 241.9373419685471, 34.76970841111812, 95.75866510775913, 42.45600039792117, 42.98456498720983, 32.478721487459005, 47.674073917105275, 29.83260943815239, 45.50418802492827, 227.91023654012213, 1217.0691851152562, 753.2302653413686, 100.78594273969176, 353.81612810338135, 194.67805629656357, 205.34444428678756, 596.7479563333335, 165.27780704127588, 1485.699084544439, 5364.075726336488, 572.2833155105816, 25329.728346191772, 288.5293467605467, 3998.885668138777, 1116.104253057758, 711.4827071851346, 3792.572192501494, 397.25568510717767, 5262.727660866248, 3607.8914167284042, 8923.623108929072, 8786.997755618728, 31679.26918116377, 1117.7870345639662, 2001.1475996281022, 908.4359482372505, 2141.485492519941, 4020.693283094069, 11521.937333072885, 687.8912161680531, 4213.8190025804, 2688.3949027671433, 1771.7448414829391, 4114.103132587378, 23092.933522456813, 79429.87121066626, 1955.4834170955642, 11469.047345387437, 13176.154353000276, 9047.95952348399, 5235.952684840549, 7158.378088282486, 12901.371445676887, 25027.204297876673, 12190.800495172061, 5627.686669443188, 16569.599077457315, 9299.239756890069, 9656.002753597091, 9227.40227405617, 10221.544097852271, 6734.875146638631, 19225.840925006938, 1832.3977010445187, 404.3547931750358, 414.4559143093969, 180.24906922187282, 145.93926501600998, 136.02651146587107, 127.87150643139378, 117.21133599461967, 116.73798081881989, 154.26765097597988, 81.90412084393706, 74.74567682737278, 68.85122722279273, 67.59239237227705, 65.86445237356546, 106.80930626105891, 62.84059035011584, 61.13863198186305, 54.55093465772901, 53.91131632894238, 52.21140616836313, 63.701057065413444, 55.93211932518477, 50.74937034615344, 50.798870940381384, 51.28573481259779, 46.02198464894801, 45.69968798910234, 53.194866160373394, 78.74422362826674, 208.7161711409215, 2342.681904262906, 187.09641952000837, 741.8025697624374, 93.9598743577406, 329.34109300602876, 753.119214631729, 286.7894989871706, 440.99859065783954, 331.0562869557426, 205.05915873971978, 964.3728446654906, 638.8516363947751, 1226.2872212004143, 194.9788373326742, 228.03556704951447, 545.8445978780011, 213.4461216497078, 1263.9139742361353, 469.90962362644126, 2196.617846291254, 728.5938632139099, 3527.661217808335, 800.9568735620285, 2328.087833546677, 4604.513188117218, 3802.0120991250897, 79429.87121066626, 16322.693857174647, 2826.617130416332, 675.1570167116544, 639.3009069195384, 11521.937333072885, 31679.26918116377, 1061.510065138043, 9655.399935553878, 13176.154353000276, 7770.761209965666, 935.3239238349687, 1601.2629263794356, 7155.096739292895, 5757.388207955682, 16569.599077457315, 19225.840925006938, 11101.69279917453, 23092.933522456813, 4952.418415552663, 2691.18528666081, 2957.0750344061594, 6747.341394681991, 25027.204297876673, 9334.936150988087, 11469.047345387437, 7067.083134152793, 10314.737511871757, 210.61193603659126, 183.04282479771885, 262.34476021841397, 152.7766681054513, 141.66314725129206, 861.6467488602525, 709.5360249118564, 129.10474981563192, 122.69812815415006, 168.71428243459067, 138.10845371300098, 127.42412537164522, 203.53910855167467, 109.24270959259482, 107.52619858048709, 94.18639042130405, 144.8706640988993, 126.87032471436385, 80.38200482523906, 76.95942355935604, 73.53079611703808, 70.4884311823035, 70.05029674501026, 66.95990449434255, 199.96716318302904, 58.62903353395151, 57.710999465276586, 57.22364487530497, 60.188280458074914, 353.7946427997896, 903.5398874128407, 1456.403908270745, 548.4313097503639, 251.04256095040992, 304.0163543028071, 1919.3086643341603, 1030.2690238711027, 5744.2490508574365, 228.16480980411575, 167.21646451695486, 374.69055505825906, 3220.0208323635197, 1428.583660706419, 317.72949960508674, 772.4470689575672, 296.13823581618476, 432.9076898114581, 698.7960948930391, 822.5527334979262, 4199.743458802589, 5981.016031220244, 1968.9314033733895, 911.0273692853724, 501.6778382651902, 1777.4500374292413, 1399.730089404551, 2900.854836175407, 3935.029848743261, 734.3173284929615, 1181.2023862723718, 1048.8521456613637, 4315.144486044561, 2561.5184956260246, 1916.6360459658947, 1383.418844065045, 9942.934696261698, 14215.17156939256, 2331.8083679221736, 23092.933522456813, 2329.6531027597134, 2957.1673735567733, 7650.990200061616, 7225.933017652204, 9544.253308773114, 5932.129899289001, 10221.544097852271, 10314.737511871757, 9299.239756890069, 25027.204297876673, 31679.26918116377, 705.7061374722182, 140.0320470770017, 86.04130506859464, 90.38935010758871, 353.7882929363068, 67.22419528522516, 60.32897748444117, 279.58560795771814, 339.9169661572206, 54.77400994665652, 53.96022094797681, 167.16669414862523, 49.56617146369295, 49.27339093035587, 48.954216802733804, 46.76473832371623, 43.19749197344649, 41.068959743421516, 40.66235248586097, 40.40666857057155, 40.70079832258976, 34.40908895681395, 33.594281306463714, 33.59388338168009, 33.823516478864796, 35.39275699385535, 30.62141241396061, 205.7019345373375, 30.06648844176295, 30.057812805662948, 257.8742947611389, 602.071658478729, 92.46324675331185, 73.7591090079551, 118.22947586113517, 1238.9435196073432, 94.56624656217387, 110.64899056966921, 185.01760431858855, 717.8468774201712, 376.2561412126481, 160.42244120730058, 1239.0495482612928, 2582.398785205301, 85.6089450415165, 72.96846952232163, 73.32408436833147, 506.86243433356265, 860.7791334510999, 201.074692305061, 1104.1332802405434, 288.4739063776986, 919.0738358438731, 685.4595143491126, 1023.0733327999351, 249.37759330234337, 479.31452916249384, 525.1161776730562, 1127.4949656460074, 809.6399719495079, 1730.8179396343958, 3126.067914969629, 844.0477926430733, 79429.87121066626, 25027.204297876673, 19225.840925006938, 978.1985630599605, 5269.6219708233375, 9656.002753597091, 9047.95952348399, 9661.204045829772, 31679.26918116377, 9227.40227405617, 10314.737511871757, 16569.599077457315, 12901.371445676887, 4929.412252225391, 5318.801983798783, 4732.532057264963, 13176.154353000276, 23092.933522456813, 12190.800495172061, 4411.324046293773, 4935.357306468974, 6427.865121399004, 5641.0097429067355, 5200.973758698273, 6577.868411955246, 4323.446839519831, 11469.047345387437, 11884.648541364922, 643.8284250516591, 340.9592819344765, 124.7322037696536, 588.3094884983947, 114.32851548606746, 95.02994124971447, 110.41818078849549, 528.7240703349423, 87.66206257999902, 84.84627916556097, 82.71870380729217, 92.58355176650332, 76.97309581936942, 75.68698775445314, 177.28312407222396, 303.08674883404075, 55.62516784300906, 56.3963926283194, 63.431714918590345, 61.54978760923151, 48.76783052970589, 45.50984722080219, 44.99140287631265, 39.21422985446416, 38.4204347137008, 36.0408933731026, 38.17700450677648, 34.50359480210234, 276.6461316679857, 32.567310507964805, 392.8769924978332, 45.640203796816856, 620.5923177310947, 132.2276856320748, 20906.81072848736, 1489.0004110894065, 804.3469035505317, 179.977014770661, 18097.08036021, 671.1726362880129, 499.4143567247135, 1119.868396622847, 2458.8413651272836, 3157.7091870692625, 463.79631703272537, 407.33061229568824, 2591.5227938141643, 1486.8288824848678, 735.3249117405938, 1418.0930252984608, 3261.619796350291, 1714.3714919762022, 5235.952684840549, 1776.8749483387764, 9334.936150988087, 1033.051939460325, 11101.69279917453, 14215.17156939256, 1140.6760807527762, 4213.8190025804, 6405.18635417321, 3835.634877057916, 5033.212448531981, 2672.0081887837964, 8923.623108929072, 3689.885531189439, 7770.761209965666, 4114.103132587378, 5932.129899289001, 23092.933522456813, 7843.242757525229, 9544.253308773114, 5411.152996287524, 79429.87121066626, 25027.204297876673, 8786.997755618728, 117.44063694776449, 109.34380701031613, 139.8814201114146, 144.78649009350337, 97.22890946540137, 138.4083658960503, 137.19368717379916, 137.19236984868516, 141.8606537074874, 77.25718149253325, 76.51286493414784, 76.94951247218644, 71.25827841522113, 69.07814358761313, 84.03060164113298, 91.28816684952257, 63.11494618406155, 56.299805184984, 55.377137547315435, 61.01990548419663, 52.37874465705597, 50.772320993400314, 53.205408709642235, 48.296561564228384, 47.361184745684376, 51.10589220768734, 46.66018553950279, 45.92657274419696, 56.49509870163662, 44.79584143808372, 847.0082828780759, 233.5674870165647, 142.12098317203015, 602.737782378297, 478.2300388194593, 373.2482853962008, 599.5304264801856, 1963.433305319336, 86.94532103526188, 294.6469392159229, 460.98947461048607, 964.0449105425462, 1055.0908093927778, 734.9874757571829, 344.7829616589435, 321.71616484965307, 379.94835276421185, 927.4800505336852, 269.2418611734341, 269.33491469684407, 384.90723693767796, 297.690271046933, 1050.3183855400239, 907.8048869710175, 4342.409286217021, 603.9554127269636, 576.6182594758121, 514.8475312236745, 258.6932674913366, 4235.5727687643885, 1981.3129912650506, 1576.9721204757548, 3946.388858451025, 2444.572964480447, 952.832006593308, 1402.7637173612854, 3533.677304039788, 7442.206870245455, 7563.333799520175, 1244.3106946120329, 7650.990200061616, 971.5262212623688, 1886.0375446260014, 2435.280432580535, 11469.047345387437, 2550.8793961617534, 25027.204297876673, 23092.933522456813, 12190.800495172061], \"Category\": [\"Default\", \"Default\", \"Default\", \"Default\", \"Default\", \"Default\", \"Default\", \"Default\", \"Default\", \"Default\", \"Default\", \"Default\", \"Default\", \"Default\", \"Default\", \"Default\", \"Default\", \"Default\", \"Default\", \"Default\", \"Default\", \"Default\", \"Default\", \"Default\", \"Default\", \"Default\", \"Default\", \"Default\", \"Default\", \"Default\", \"Topic1\", \"Topic1\", \"Topic1\", \"Topic1\", \"Topic1\", \"Topic1\", \"Topic1\", \"Topic1\", \"Topic1\", \"Topic1\", \"Topic1\", \"Topic1\", \"Topic1\", \"Topic1\", \"Topic1\", \"Topic1\", \"Topic1\", \"Topic1\", \"Topic1\", \"Topic1\", \"Topic1\", \"Topic1\", \"Topic1\", \"Topic1\", \"Topic1\", \"Topic1\", \"Topic1\", \"Topic1\", \"Topic1\", \"Topic1\", \"Topic1\", \"Topic1\", \"Topic1\", \"Topic1\", \"Topic1\", \"Topic1\", \"Topic1\", \"Topic1\", \"Topic1\", \"Topic1\", \"Topic1\", \"Topic1\", \"Topic1\", \"Topic1\", \"Topic1\", \"Topic1\", \"Topic1\", \"Topic1\", \"Topic1\", \"Topic1\", \"Topic1\", \"Topic1\", \"Topic1\", \"Topic1\", \"Topic1\", \"Topic1\", \"Topic1\", \"Topic1\", \"Topic1\", \"Topic1\", \"Topic1\", \"Topic1\", \"Topic1\", \"Topic1\", \"Topic1\", \"Topic1\", \"Topic1\", \"Topic1\", \"Topic1\", \"Topic1\", \"Topic1\", \"Topic1\", \"Topic1\", \"Topic1\", \"Topic1\", \"Topic1\", \"Topic1\", \"Topic1\", \"Topic1\", \"Topic1\", \"Topic1\", \"Topic1\", \"Topic1\", \"Topic1\", \"Topic1\", \"Topic1\", \"Topic1\", \"Topic1\", \"Topic1\", \"Topic1\", \"Topic1\", \"Topic1\", \"Topic1\", \"Topic1\", \"Topic2\", \"Topic2\", \"Topic2\", \"Topic2\", \"Topic2\", \"Topic2\", \"Topic2\", \"Topic2\", \"Topic2\", \"Topic2\", \"Topic2\", \"Topic2\", \"Topic2\", \"Topic2\", \"Topic2\", \"Topic2\", \"Topic2\", \"Topic2\", \"Topic2\", \"Topic2\", \"Topic2\", \"Topic2\", \"Topic2\", \"Topic2\", \"Topic2\", \"Topic2\", \"Topic2\", \"Topic2\", \"Topic2\", \"Topic2\", \"Topic2\", \"Topic2\", \"Topic2\", \"Topic2\", \"Topic2\", \"Topic2\", \"Topic2\", \"Topic2\", \"Topic2\", \"Topic2\", \"Topic2\", \"Topic2\", \"Topic2\", \"Topic2\", \"Topic2\", \"Topic2\", \"Topic2\", \"Topic2\", \"Topic2\", \"Topic2\", \"Topic2\", \"Topic2\", \"Topic2\", \"Topic2\", \"Topic2\", \"Topic2\", \"Topic2\", \"Topic2\", \"Topic2\", \"Topic2\", \"Topic2\", \"Topic2\", \"Topic2\", \"Topic2\", \"Topic2\", \"Topic2\", \"Topic2\", \"Topic2\", \"Topic2\", \"Topic2\", \"Topic2\", \"Topic2\", \"Topic2\", \"Topic2\", \"Topic2\", \"Topic2\", \"Topic2\", \"Topic2\", \"Topic2\", \"Topic2\", \"Topic2\", \"Topic2\", \"Topic2\", \"Topic2\", \"Topic2\", \"Topic2\", \"Topic2\", \"Topic2\", \"Topic2\", \"Topic2\", \"Topic2\", \"Topic2\", \"Topic2\", \"Topic2\", \"Topic3\", \"Topic3\", \"Topic3\", \"Topic3\", \"Topic3\", \"Topic3\", \"Topic3\", \"Topic3\", \"Topic3\", \"Topic3\", \"Topic3\", \"Topic3\", \"Topic3\", \"Topic3\", \"Topic3\", \"Topic3\", \"Topic3\", \"Topic3\", \"Topic3\", \"Topic3\", \"Topic3\", \"Topic3\", \"Topic3\", \"Topic3\", \"Topic3\", \"Topic3\", \"Topic3\", \"Topic3\", \"Topic3\", \"Topic3\", \"Topic3\", \"Topic3\", \"Topic3\", \"Topic3\", \"Topic3\", \"Topic3\", \"Topic3\", \"Topic3\", \"Topic3\", \"Topic3\", \"Topic3\", \"Topic3\", \"Topic3\", \"Topic3\", \"Topic3\", \"Topic3\", \"Topic3\", \"Topic3\", \"Topic3\", \"Topic3\", \"Topic3\", \"Topic3\", \"Topic3\", \"Topic3\", \"Topic3\", \"Topic3\", \"Topic3\", \"Topic3\", \"Topic3\", \"Topic3\", \"Topic3\", \"Topic3\", \"Topic3\", \"Topic3\", \"Topic3\", \"Topic3\", \"Topic3\", \"Topic3\", \"Topic3\", \"Topic3\", \"Topic3\", \"Topic3\", \"Topic3\", \"Topic3\", \"Topic3\", \"Topic3\", \"Topic3\", \"Topic3\", \"Topic3\", \"Topic3\", \"Topic3\", \"Topic3\", \"Topic3\", \"Topic3\", \"Topic3\", \"Topic3\", \"Topic3\", \"Topic3\", \"Topic3\", \"Topic3\", \"Topic3\", \"Topic4\", \"Topic4\", \"Topic4\", \"Topic4\", \"Topic4\", \"Topic4\", \"Topic4\", \"Topic4\", \"Topic4\", \"Topic4\", \"Topic4\", \"Topic4\", \"Topic4\", \"Topic4\", \"Topic4\", \"Topic4\", \"Topic4\", \"Topic4\", \"Topic4\", \"Topic4\", \"Topic4\", \"Topic4\", \"Topic4\", \"Topic4\", \"Topic4\", \"Topic4\", \"Topic4\", \"Topic4\", \"Topic4\", \"Topic4\", \"Topic4\", \"Topic4\", \"Topic4\", \"Topic4\", \"Topic4\", \"Topic4\", \"Topic4\", \"Topic4\", \"Topic4\", \"Topic4\", \"Topic4\", \"Topic4\", \"Topic4\", \"Topic4\", \"Topic4\", \"Topic4\", \"Topic4\", \"Topic4\", \"Topic4\", \"Topic4\", \"Topic4\", \"Topic4\", \"Topic4\", \"Topic4\", \"Topic4\", \"Topic4\", \"Topic4\", \"Topic4\", \"Topic4\", \"Topic4\", \"Topic4\", \"Topic4\", \"Topic4\", \"Topic4\", \"Topic4\", \"Topic4\", \"Topic4\", \"Topic4\", \"Topic4\", \"Topic4\", \"Topic4\", \"Topic4\", \"Topic4\", \"Topic4\", \"Topic4\", \"Topic4\", \"Topic4\", \"Topic4\", \"Topic4\", \"Topic4\", \"Topic4\", \"Topic4\", \"Topic4\", \"Topic4\", \"Topic4\", \"Topic4\", \"Topic4\", \"Topic4\", \"Topic4\", \"Topic4\", \"Topic4\", \"Topic4\", \"Topic5\", \"Topic5\", \"Topic5\", \"Topic5\", \"Topic5\", \"Topic5\", \"Topic5\", \"Topic5\", \"Topic5\", \"Topic5\", \"Topic5\", \"Topic5\", \"Topic5\", \"Topic5\", \"Topic5\", \"Topic5\", \"Topic5\", \"Topic5\", \"Topic5\", \"Topic5\", \"Topic5\", \"Topic5\", \"Topic5\", \"Topic5\", \"Topic5\", \"Topic5\", \"Topic5\", \"Topic5\", \"Topic5\", \"Topic5\", \"Topic5\", \"Topic5\", \"Topic5\", \"Topic5\", \"Topic5\", \"Topic5\", \"Topic5\", \"Topic5\", \"Topic5\", \"Topic5\", \"Topic5\", \"Topic5\", \"Topic5\", \"Topic5\", \"Topic5\", \"Topic5\", \"Topic5\", \"Topic5\", \"Topic5\", \"Topic5\", \"Topic5\", \"Topic5\", \"Topic5\", \"Topic5\", \"Topic5\", \"Topic5\", \"Topic5\", \"Topic5\", \"Topic5\", \"Topic5\", \"Topic5\", \"Topic5\", \"Topic5\", \"Topic5\", \"Topic5\", \"Topic5\", \"Topic5\", \"Topic5\", \"Topic5\", \"Topic5\", \"Topic5\", \"Topic5\", \"Topic5\", \"Topic5\", \"Topic5\", \"Topic5\", \"Topic5\", \"Topic5\", \"Topic5\", \"Topic5\", \"Topic5\", \"Topic5\", \"Topic5\", \"Topic5\", \"Topic6\", \"Topic6\", \"Topic6\", \"Topic6\", \"Topic6\", \"Topic6\", \"Topic6\", \"Topic6\", \"Topic6\", \"Topic6\", \"Topic6\", \"Topic6\", \"Topic6\", \"Topic6\", \"Topic6\", \"Topic6\", \"Topic6\", \"Topic6\", \"Topic6\", \"Topic6\", \"Topic6\", \"Topic6\", \"Topic6\", \"Topic6\", \"Topic6\", \"Topic6\", \"Topic6\", \"Topic6\", \"Topic6\", \"Topic6\", \"Topic6\", \"Topic6\", \"Topic6\", \"Topic6\", \"Topic6\", \"Topic6\", \"Topic6\", \"Topic6\", \"Topic6\", \"Topic6\", \"Topic6\", \"Topic6\", \"Topic6\", \"Topic6\", \"Topic6\", \"Topic6\", \"Topic6\", \"Topic6\", \"Topic6\", \"Topic6\", \"Topic6\", \"Topic6\", \"Topic6\", \"Topic6\", \"Topic6\", \"Topic6\", \"Topic6\", \"Topic6\", \"Topic6\", \"Topic6\", \"Topic6\", \"Topic6\", \"Topic6\", \"Topic6\", \"Topic6\", \"Topic6\", \"Topic6\", \"Topic6\", \"Topic6\", \"Topic6\", \"Topic6\", \"Topic6\", \"Topic6\", \"Topic6\", \"Topic6\", \"Topic6\", \"Topic6\", \"Topic6\", \"Topic6\", \"Topic6\", \"Topic6\", \"Topic6\", \"Topic6\", \"Topic6\", \"Topic6\", \"Topic7\", \"Topic7\", \"Topic7\", \"Topic7\", \"Topic7\", \"Topic7\", \"Topic7\", \"Topic7\", \"Topic7\", \"Topic7\", \"Topic7\", \"Topic7\", \"Topic7\", \"Topic7\", \"Topic7\", \"Topic7\", \"Topic7\", \"Topic7\", \"Topic7\", \"Topic7\", \"Topic7\", \"Topic7\", \"Topic7\", \"Topic7\", \"Topic7\", \"Topic7\", \"Topic7\", \"Topic7\", \"Topic7\", \"Topic7\", \"Topic7\", \"Topic7\", \"Topic7\", \"Topic7\", \"Topic7\", \"Topic7\", \"Topic7\", \"Topic7\", \"Topic7\", \"Topic7\", \"Topic7\", \"Topic7\", \"Topic7\", \"Topic7\", \"Topic7\", \"Topic7\", \"Topic7\", \"Topic7\", \"Topic7\", \"Topic7\", \"Topic7\", \"Topic7\", \"Topic7\", \"Topic7\", \"Topic7\", \"Topic7\", \"Topic7\", \"Topic7\", \"Topic7\", \"Topic7\", \"Topic7\", \"Topic7\", \"Topic7\", \"Topic7\", \"Topic7\", \"Topic7\", \"Topic7\", \"Topic7\", \"Topic7\", \"Topic7\", \"Topic7\", \"Topic7\", \"Topic7\", \"Topic7\", \"Topic7\", \"Topic7\", \"Topic7\", \"Topic7\", \"Topic7\", \"Topic7\", \"Topic8\", \"Topic8\", \"Topic8\", \"Topic8\", \"Topic8\", \"Topic8\", \"Topic8\", \"Topic8\", \"Topic8\", \"Topic8\", \"Topic8\", \"Topic8\", \"Topic8\", \"Topic8\", \"Topic8\", \"Topic8\", \"Topic8\", \"Topic8\", \"Topic8\", \"Topic8\", \"Topic8\", \"Topic8\", \"Topic8\", \"Topic8\", \"Topic8\", \"Topic8\", \"Topic8\", \"Topic8\", \"Topic8\", \"Topic8\", \"Topic8\", \"Topic8\", \"Topic8\", \"Topic8\", \"Topic8\", \"Topic8\", \"Topic8\", \"Topic8\", \"Topic8\", \"Topic8\", \"Topic8\", \"Topic8\", \"Topic8\", \"Topic8\", \"Topic8\", \"Topic8\", \"Topic8\", \"Topic8\", \"Topic8\", \"Topic8\", \"Topic8\", \"Topic8\", \"Topic8\", \"Topic8\", \"Topic8\", \"Topic8\", \"Topic8\", \"Topic8\", \"Topic8\", \"Topic8\", \"Topic8\", \"Topic8\", \"Topic8\", \"Topic8\", \"Topic8\", \"Topic8\", \"Topic8\", \"Topic8\", \"Topic8\", \"Topic8\", \"Topic8\", \"Topic8\", \"Topic8\", \"Topic8\", \"Topic8\", \"Topic8\", \"Topic8\", \"Topic8\", \"Topic8\", \"Topic8\", \"Topic8\", \"Topic8\", \"Topic8\", \"Topic8\", \"Topic8\", \"Topic8\", \"Topic8\", \"Topic8\", \"Topic8\", \"Topic8\", \"Topic8\", \"Topic9\", \"Topic9\", \"Topic9\", \"Topic9\", \"Topic9\", \"Topic9\", \"Topic9\", \"Topic9\", \"Topic9\", \"Topic9\", \"Topic9\", \"Topic9\", \"Topic9\", \"Topic9\", \"Topic9\", \"Topic9\", \"Topic9\", \"Topic9\", \"Topic9\", \"Topic9\", \"Topic9\", \"Topic9\", \"Topic9\", \"Topic9\", \"Topic9\", \"Topic9\", \"Topic9\", \"Topic9\", \"Topic9\", \"Topic9\", \"Topic9\", \"Topic9\", \"Topic9\", \"Topic9\", \"Topic9\", \"Topic9\", \"Topic9\", \"Topic9\", \"Topic9\", \"Topic9\", \"Topic9\", \"Topic9\", \"Topic9\", \"Topic9\", \"Topic9\", \"Topic9\", \"Topic9\", \"Topic9\", \"Topic9\", \"Topic9\", \"Topic9\", \"Topic9\", \"Topic9\", \"Topic9\", \"Topic9\", \"Topic9\", \"Topic9\", \"Topic9\", \"Topic9\", \"Topic9\", \"Topic9\", \"Topic9\", \"Topic9\", \"Topic9\", \"Topic9\", \"Topic9\", \"Topic9\", \"Topic9\", \"Topic9\", \"Topic9\", \"Topic9\", \"Topic9\", \"Topic9\", \"Topic9\", \"Topic9\", \"Topic9\", \"Topic10\", \"Topic10\", \"Topic10\", \"Topic10\", \"Topic10\", \"Topic10\", \"Topic10\", \"Topic10\", \"Topic10\", \"Topic10\", \"Topic10\", \"Topic10\", \"Topic10\", \"Topic10\", \"Topic10\", \"Topic10\", \"Topic10\", \"Topic10\", \"Topic10\", \"Topic10\", \"Topic10\", \"Topic10\", \"Topic10\", \"Topic10\", \"Topic10\", \"Topic10\", \"Topic10\", \"Topic10\", \"Topic10\", \"Topic10\", \"Topic10\", \"Topic10\", \"Topic10\", \"Topic10\", \"Topic10\", \"Topic10\", \"Topic10\", \"Topic10\", \"Topic10\", \"Topic10\", \"Topic10\", \"Topic10\", \"Topic10\", \"Topic10\", \"Topic10\", \"Topic10\", \"Topic10\", \"Topic10\", \"Topic10\", \"Topic10\", \"Topic10\", \"Topic10\", \"Topic10\", \"Topic10\", \"Topic10\", \"Topic10\", \"Topic10\", \"Topic10\", \"Topic10\", \"Topic10\", \"Topic10\", \"Topic10\", \"Topic10\", \"Topic10\", \"Topic10\", \"Topic10\", \"Topic10\", \"Topic10\", \"Topic10\", \"Topic10\", \"Topic10\", \"Topic10\", \"Topic10\", \"Topic10\", \"Topic10\", \"Topic10\", \"Topic10\", \"Topic10\", \"Topic10\"], \"logprob\": [30.0, 29.0, 28.0, 27.0, 26.0, 25.0, 24.0, 23.0, 22.0, 21.0, 20.0, 19.0, 18.0, 17.0, 16.0, 15.0, 14.0, 13.0, 12.0, 11.0, 10.0, 9.0, 8.0, 7.0, 6.0, 5.0, 4.0, 3.0, 2.0, 1.0, -8.3258, -8.7743, -8.7765, -8.2524, -8.7806, -8.9808, -8.9841, -9.0235, -9.0973, -9.2369, -9.2736, -8.9867, -9.3175, -9.3458, -9.1187, -7.2868, -9.4097, -9.4323, -9.1048, -9.4543, -9.4904, -9.4846, -9.5043, -9.5635, -9.4883, -9.3386, -9.5967, -8.4613, -9.6372, -9.352, -6.7057, -8.2158, -7.8919, -9.1045, -7.9949, -8.8526, -6.0366, -7.7718, -7.6616, -7.4107, -8.3498, -8.0032, -6.7656, -6.3751, -6.795, -6.8821, -8.0016, -6.3227, -6.9577, -6.7937, -7.1383, -8.0012, -6.5548, -5.9981, -5.7218, -6.2685, -5.5003, -6.5121, -7.1069, -6.3586, -5.495, -6.7221, -7.159, -6.8131, -6.9601, -5.323, -5.8174, -6.0547, -6.465, -6.3884, -5.5979, -5.9746, -5.8417, -5.1457, -6.5805, -5.2688, -5.083, -5.1674, -5.4844, -5.4917, -4.8692, -6.0923, -5.4756, -5.0991, -5.3542, -5.7224, -5.9807, -5.7136, -5.9262, -5.9035, -6.011, -5.9289, -5.9854, -6.0347, -7.74, -8.3508, -8.2784, -8.1766, -8.6323, -8.6887, -8.5776, -7.9452, -8.7551, -8.7715, -8.4255, -8.8641, -8.6565, -8.9323, -8.9328, -8.9052, -8.976, -8.9839, -8.9599, -8.9659, -8.4488, -9.0622, -9.0712, -8.7825, -9.0993, -9.1387, -9.1389, -9.1248, -9.1944, -9.1951, -4.1926, -5.3612, -6.7431, -6.5817, -6.8516, -7.9032, -5.5004, -7.4784, -7.3207, -7.7213, -7.1754, -8.4537, -6.2062, -6.3038, -7.2005, -6.7523, -8.3525, -7.0324, -7.9828, -5.8053, -7.6365, -4.5115, -7.103, -5.809, -6.8627, -7.6342, -6.1118, -5.9829, -6.8227, -5.5521, -7.4228, -6.5389, -5.5301, -6.0996, -5.5648, -6.0494, -6.106, -6.5065, -5.4619, -6.0623, -6.3262, -6.5489, -5.7112, -5.5187, -5.0733, -6.1766, -5.9566, -4.9819, -4.9493, -5.82, -5.994, -6.1746, -5.9149, -5.9178, -6.0818, -5.6582, -6.1068, -5.819, -5.8436, -5.9408, -5.8953, -6.0413, -6.043, -6.0472, -7.5929, -7.4583, -7.7246, -8.003, -7.7795, -8.1348, -8.389, -8.0317, -8.46, -8.6697, -8.3539, -8.9875, -8.0507, -9.2015, -8.3446, -8.6611, -9.2645, -9.2993, -9.3746, -7.3958, -9.3832, -9.4031, -9.3475, -9.4126, -9.4455, -9.502, -8.8576, -9.5527, -9.0965, -9.5175, -7.0499, -6.6195, -7.5746, -7.959, -8.0949, -6.5896, -8.1127, -6.1809, -7.5391, -7.2911, -8.1742, -6.113, -7.8458, -7.5408, -6.8066, -7.5005, -5.835, -7.6265, -5.2291, -2.7769, -4.1954, -4.4941, -5.8117, -6.1534, -5.769, -5.759, -6.8722, -6.9473, -6.983, -5.1025, -6.9679, -6.7248, -6.7904, -6.5042, -6.5821, -4.7241, -5.0421, -6.0036, -5.5881, -6.1322, -5.6797, -4.814, -5.8308, -6.0915, -5.768, -5.6436, -5.4207, -5.932, -5.166, -6.0264, -5.7526, -5.6264, -5.2549, -5.2193, -5.6514, -5.3872, -5.691, -5.7854, -5.788, -5.9334, -5.8807, -6.7226, -7.7937, -7.7817, -6.9528, -8.1806, -6.8315, -8.2757, -8.2729, -8.4088, -8.042, -8.4064, -8.092, -8.5179, -8.1151, -8.5506, -8.6148, -8.6357, -8.6832, -7.9688, -8.7026, -8.0877, -8.1412, -6.4386, -8.8199, -8.6656, -8.8784, -8.9075, -8.9937, -9.0316, -9.0096, -6.5278, -6.8409, -7.4524, -7.0659, -6.2889, -7.1327, -7.8388, -7.3662, -4.9109, -7.1191, -7.4354, -7.2571, -7.5564, -4.9517, -6.7289, -6.5797, -7.3833, -6.7468, -7.5218, -6.0311, -5.2249, -5.8235, -4.8959, -7.1178, -5.9522, -6.8158, -5.2909, -5.357, -6.073, -6.3746, -5.0794, -6.0084, -5.9419, -6.805, -6.4651, -5.6234, -5.716, -6.3968, -5.8344, -5.5546, -5.9653, -6.0981, -5.9614, -5.2758, -5.4866, -5.6545, -5.5385, -5.6526, -4.9814, -5.4067, -5.3607, -5.9347, -5.2647, -5.7142, -5.75, -5.5917, -5.8036, -5.7929, -5.7872, -5.8429, -5.6226, -5.9119, -7.0981, -7.7043, -7.9349, -8.1806, -8.3552, -8.5201, -8.5899, -8.4272, -8.167, -8.8596, -9.0331, -8.8548, -7.6828, -8.5037, -9.1076, -8.9294, -9.2629, -9.3202, -9.1726, -8.0574, -9.3242, -7.5055, -9.4461, -8.4336, -9.2483, -9.2362, -9.5172, -9.1344, -9.604, -9.1824, -7.5796, -5.9499, -6.4256, -8.4003, -7.176, -7.7652, -7.72, -6.7032, -7.9505, -5.8714, -4.6702, -6.7798, -3.2387, -7.4268, -5.0445, -6.2222, -6.6397, -5.1559, -7.1642, -4.9004, -5.2453, -4.5903, -4.6113, -3.5655, -6.3542, -5.8778, -6.5272, -5.8512, -5.3574, -4.5991, -6.7879, -5.5888, -5.9188, -6.2154, -5.6834, -4.6247, -3.884, -6.2019, -5.328, -5.3221, -5.5247, -5.7825, -5.656, -5.4268, -5.1793, -5.4936, -5.7799, -5.4861, -5.6765, -5.6856, -5.7267, -5.73, -5.7674, -5.767, -5.3121, -6.8254, -6.8027, -7.636, -7.8486, -7.9193, -7.9821, -8.0692, -8.0733, -7.7948, -8.4313, -8.5238, -8.6071, -8.6258, -8.6521, -8.169, -8.7, -8.7277, -8.8437, -8.8557, -8.8883, -8.6896, -8.8201, -8.9174, -8.9178, -8.9084, -9.017, -9.0242, -8.8728, -8.4832, -7.5134, -5.1201, -7.629, -6.2808, -8.3109, -7.1023, -6.3012, -7.2446, -6.8353, -7.1128, -7.5797, -6.125, -6.5127, -5.9099, -7.6579, -7.5154, -6.7282, -7.5971, -6.0403, -6.9244, -5.6725, -6.6018, -5.4128, -6.582, -5.7743, -5.2688, -5.4415, -3.3088, -4.4835, -5.7875, -6.7736, -6.8225, -4.9609, -4.3744, -6.5161, -5.2127, -5.0765, -5.3857, -6.5942, -6.3373, -5.6344, -5.7604, -5.2991, -5.2996, -5.5678, -5.4131, -5.9468, -6.1696, -6.1452, -5.9286, -5.6012, -5.8759, -5.8639, -6.013, -6.0338, -7.4645, -7.6053, -7.2456, -7.7871, -7.8631, -6.0578, -6.2525, -7.9567, -8.008, -7.6896, -7.8898, -7.9707, -7.5027, -8.1251, -8.1416, -8.2749, -7.8444, -7.9779, -8.4351, -8.4796, -8.5253, -8.5681, -8.5751, -8.6202, -7.5274, -8.7552, -8.7714, -8.7803, -8.7308, -6.96, -6.0239, -5.5551, -6.5233, -7.3034, -7.1192, -5.3201, -5.9306, -4.2509, -7.414, -7.719, -6.9393, -4.9297, -5.6993, -7.1279, -6.3258, -7.2022, -6.857, -6.4582, -6.3411, -4.9581, -4.6629, -5.6098, -6.2739, -6.781, -5.7806, -5.9878, -5.4394, -5.2633, -6.5385, -6.216, -6.2992, -5.3371, -5.6921, -5.9465, -6.186, -5.0704, -4.8831, -5.898, -4.9402, -5.9671, -5.876, -5.5204, -5.5891, -5.5256, -5.7207, -5.8576, -5.8581, -5.8889, -5.8538, -5.9608, -6.2343, -7.8533, -8.3432, -8.2951, -6.9322, -8.5938, -8.7029, -7.1695, -6.9744, -8.8012, -8.8167, -7.686, -8.9027, -8.9087, -8.9154, -8.9623, -9.0432, -9.0947, -9.1048, -9.1113, -9.1048, -9.2766, -9.3007, -9.3007, -9.2942, -9.2501, -9.3961, -7.4915, -9.4149, -9.4152, -7.2701, -6.4323, -8.2926, -8.5185, -8.0539, -5.7375, -8.2778, -8.127, -7.6263, -6.3323, -6.959, -7.7784, -5.8305, -5.1601, -8.3884, -8.5408, -8.5371, -6.7487, -6.2728, -7.6265, -6.0992, -7.3039, -6.2739, -6.5521, -6.2213, -7.4495, -6.9305, -6.8621, -6.2548, -6.5234, -5.9508, -5.5282, -6.5336, -3.1821, -4.1444, -4.3522, -6.4825, -5.3604, -4.9788, -5.0404, -5.0014, -4.2626, -5.0468, -5.1521, -4.912, -5.0873, -5.606, -5.577, -5.7109, -5.2598, -5.0438, -5.4308, -5.7999, -5.7698, -5.7095, -5.7522, -5.8265, -5.8378, -5.927, -5.8378, -5.8435, -6.1666, -6.8048, -7.8104, -6.2608, -7.8991, -8.0848, -7.9354, -6.3692, -8.1664, -8.1994, -8.2251, -8.1127, -8.2982, -8.3151, -7.4658, -6.9321, -8.6278, -8.6141, -8.4967, -8.5269, -8.762, -8.8326, -8.8452, -8.9849, -9.0061, -9.0716, -9.0141, -9.1165, -7.036, -9.1759, -6.7063, -8.8393, -6.2707, -7.79, -2.8578, -5.4769, -6.1018, -7.5254, -3.1494, -6.3129, -6.6127, -5.8896, -5.1888, -5.0078, -6.7165, -6.8603, -5.2807, -5.7873, -6.3916, -5.8633, -5.1811, -5.7116, -4.8121, -5.6882, -4.395, -6.1812, -4.4635, -4.3019, -6.1261, -5.2811, -5.0834, -5.4166, -5.2569, -5.6516, -5.1266, -5.735, -5.5693, -5.7855, -5.6916, -5.3831, -5.691, -5.6661, -5.7864, -5.5657, -5.7442, -5.7871, -7.2306, -7.3026, -7.0573, -7.0229, -7.4212, -7.0682, -7.0772, -7.0773, -7.0439, -7.6537, -7.6635, -7.6579, -7.7356, -7.7671, -7.5727, -7.4899, -7.8591, -7.9749, -7.9918, -7.8954, -8.0485, -8.0802, -8.0339, -8.1315, -8.1514, -8.0753, -8.1667, -8.1825, -7.9758, -8.2082, -5.2737, -6.5619, -7.0539, -5.625, -5.8553, -6.1301, -5.6807, -4.5589, -7.5652, -6.4142, -6.0128, -5.3303, -5.2893, -5.6205, -6.3333, -6.3958, -6.2677, -5.5032, -6.5704, -6.6013, -6.308, -6.522, -5.5206, -5.6597, -4.5098, -6.0098, -6.0733, -6.1676, -6.6439, -4.8155, -5.31, -5.4647, -4.8743, -5.2301, -5.8143, -5.609, -5.4209, -5.1596, -5.1963, -5.9234, -5.4085, -6.044, -5.8988, -5.8607, -5.6553, -5.9064, -5.7122, -5.7681, -5.9209], \"loglift\": [30.0, 29.0, 28.0, 27.0, 26.0, 25.0, 24.0, 23.0, 22.0, 21.0, 20.0, 19.0, 18.0, 17.0, 16.0, 15.0, 14.0, 13.0, 12.0, 11.0, 10.0, 9.0, 8.0, 7.0, 6.0, 5.0, 4.0, 3.0, 2.0, 1.0, 1.9041, 1.9032, 1.9031, 1.9027, 1.9027, 1.9009, 1.9008, 1.9004, 1.8995, 1.8974, 1.8969, 1.8962, 1.8958, 1.8956, 1.8954, 1.8943, 1.8936, 1.8934, 1.8934, 1.8933, 1.8929, 1.8929, 1.8924, 1.8911, 1.8906, 1.8905, 1.8904, 1.8904, 1.8899, 1.8889, 1.8766, 1.8821, 1.878, 1.8879, 1.8763, 1.8849, 1.8116, 1.856, 1.8443, 1.8358, 1.8609, 1.8497, 1.7908, 1.7678, 1.7887, 1.7884, 1.8408, 1.7495, 1.7711, 1.759, 1.773, 1.8295, 1.7204, 1.677, 1.6352, 1.6817, 1.5751, 1.675, 1.7137, 1.6195, 1.476, 1.6485, 1.7093, 1.6427, 1.6674, 1.3768, 1.4156, 1.4663, 1.5549, 1.5159, 1.3017, 1.3835, 1.241, 0.9458, 1.5183, 0.8636, 0.748, 0.7202, 0.8746, 0.8733, 0.2991, 1.2128, 0.6906, 0.1497, 0.3798, 0.6976, 0.9358, 0.4448, 0.6519, 0.5071, 0.5887, 0.1919, 0.0785, -0.8784, 1.9396, 1.9364, 1.9361, 1.935, 1.9347, 1.934, 1.934, 1.9338, 1.9335, 1.9331, 1.9328, 1.9324, 1.9322, 1.9316, 1.9316, 1.9314, 1.9308, 1.9307, 1.9306, 1.9306, 1.9306, 1.9299, 1.9298, 1.9298, 1.9291, 1.9289, 1.9289, 1.9289, 1.928, 1.9278, 1.9114, 1.9176, 1.9254, 1.9211, 1.9219, 1.9249, 1.8732, 1.9094, 1.901, 1.9084, 1.8973, 1.9221, 1.874, 1.8727, 1.8933, 1.8758, 1.9195, 1.8682, 1.9055, 1.8139, 1.89, 1.7546, 1.8583, 1.7898, 1.844, 1.8796, 1.7738, 1.748, 1.7996, 1.6517, 1.8455, 1.7268, 1.5854, 1.6581, 1.5629, 1.6329, 1.6383, 1.6609, 1.338, 1.5094, 1.5501, 1.627, 1.2041, 1.0594, 0.7367, 1.3849, 1.1961, 0.4501, 0.219, 1.0069, 1.132, 1.3197, 1.005, 0.9662, 1.1519, -0.0624, 1.1709, 0.0119, 0.0695, 0.3879, -0.6465, 0.3916, 0.0117, -0.0985, 1.9794, 1.9782, 1.9781, 1.978, 1.9775, 1.9771, 1.9758, 1.9758, 1.9745, 1.9737, 1.9724, 1.9702, 1.9698, 1.9676, 1.9668, 1.9666, 1.9659, 1.9659, 1.9648, 1.9646, 1.9646, 1.9643, 1.9643, 1.9633, 1.9627, 1.9624, 1.9615, 1.9613, 1.9608, 1.96, 1.9577, 1.9524, 1.9592, 1.9571, 1.9523, 1.9328, 1.9485, 1.9064, 1.931, 1.9086, 1.9332, 1.8593, 1.9221, 1.899, 1.8307, 1.8725, 1.714, 1.882, 1.5809, 1.2365, 1.3854, 1.4189, 1.598, 1.6527, 1.5476, 1.4985, 1.7254, 1.7394, 1.7403, 1.251, 1.7115, 1.6364, 1.6534, 1.5557, 1.5614, 0.8717, 0.9391, 1.3311, 1.1514, 1.3623, 1.0925, 0.6181, 1.1162, 1.2128, 0.99, 0.8876, 0.6995, 1.0275, 0.3266, 1.055, 0.7751, 0.5886, -0.0866, -0.2867, 0.4034, -0.1384, 0.4635, 0.4004, 0.3327, 0.5712, -0.5325, 2.1266, 2.1244, 2.1242, 2.1236, 2.1225, 2.1224, 2.1218, 2.1215, 2.1208, 2.1206, 2.1206, 2.1206, 2.1198, 2.1197, 2.1194, 2.1189, 2.1186, 2.1181, 2.1178, 2.1176, 2.117, 2.117, 2.1165, 2.1162, 2.1158, 2.1157, 2.1152, 2.1141, 2.1135, 2.1134, 2.1115, 2.1084, 2.1122, 2.107, 2.098, 2.1049, 2.1111, 2.1042, 2.058, 2.1013, 2.1042, 2.0994, 2.1028, 2.025, 2.0717, 2.0609, 2.0879, 2.056, 2.0875, 2.0011, 1.9388, 1.9757, 1.8926, 2.0551, 1.9525, 2.023, 1.6786, 1.6556, 1.7951, 1.8395, 1.5139, 1.7436, 1.7114, 1.9415, 1.8054, 1.4007, 1.4116, 1.743, 1.3986, 1.2237, 1.4494, 1.5321, 1.3982, 0.8157, 0.9925, 1.0308, 0.882, 0.9553, 0.175, 0.3273, 0.2351, 1.1181, -0.3321, 0.6237, 0.5787, -0.3429, 0.5776, 0.2709, 0.1569, 0.5161, -1.6092, 0.9721, 2.3261, 2.3234, 2.3226, 2.3209, 2.3194, 2.3176, 2.3169, 2.3164, 2.3157, 2.3134, 2.3097, 2.3079, 2.3074, 2.3071, 2.3071, 2.3057, 2.3055, 2.3036, 2.3031, 2.3025, 2.3022, 2.3019, 2.3012, 2.3006, 2.2993, 2.299, 2.2983, 2.2972, 2.2965, 2.2958, 2.2875, 2.242, 2.2461, 2.2828, 2.2513, 2.2595, 2.2514, 2.2013, 2.2379, 2.121, 2.0384, 2.1666, 1.9177, 2.2045, 1.9578, 2.0563, 2.0891, 1.8994, 2.1473, 1.8273, 1.8599, 1.6093, 1.6037, 1.3672, 1.9228, 1.8168, 1.9571, 1.7756, 1.6395, 1.3449, 1.9745, 1.3611, 1.4806, 1.6009, 1.2904, 0.6241, 0.1294, 1.5158, 0.6207, 0.4878, 0.6611, 0.9503, 0.764, 0.4042, -0.0109, 0.394, 0.8807, 0.0947, 0.4819, 0.4351, 0.4394, 0.3338, 0.7136, -0.335, 2.4706, 2.4684, 2.4664, 2.4658, 2.4642, 2.464, 2.463, 2.4628, 2.4628, 2.4626, 2.4592, 2.4581, 2.457, 2.4567, 2.4564, 2.456, 2.4554, 2.4552, 2.4533, 2.4531, 2.4524, 2.4522, 2.4518, 2.4518, 2.4504, 2.4503, 2.4499, 2.4497, 2.4493, 2.4467, 2.4417, 2.4169, 2.4354, 2.4062, 2.4423, 2.3966, 2.3706, 2.3928, 2.3718, 2.381, 2.3931, 2.2996, 2.3237, 2.2744, 2.3653, 2.3512, 2.2656, 2.3355, 2.1138, 2.2192, 1.9288, 2.1032, 1.7148, 2.0283, 1.769, 1.5925, 1.6113, 0.7047, 1.1123, 1.5617, 2.0075, 2.0132, 0.9832, 0.5583, 1.8125, 0.9081, 0.7334, 0.9522, 1.861, 1.5802, 0.7861, 0.8774, 0.2816, 0.1325, 0.4134, -0.1643, 0.8417, 1.2287, 1.1589, 0.5506, -0.4329, 0.2787, 0.0848, 0.4198, 0.021, 2.4815, 2.4811, 2.4808, 2.48, 2.4795, 2.4794, 2.479, 2.4787, 2.4783, 2.4783, 2.4783, 2.4778, 2.4775, 2.4774, 2.4768, 2.4759, 2.4758, 2.475, 2.4742, 2.4732, 2.4731, 2.4725, 2.4718, 2.4717, 2.4706, 2.4697, 2.4692, 2.4688, 2.4678, 2.4673, 2.4658, 2.4572, 2.4657, 2.4671, 2.4598, 2.4162, 2.4279, 2.3892, 2.452, 2.4578, 2.4307, 2.2892, 2.3323, 2.407, 2.3207, 2.403, 2.3686, 2.2885, 2.2426, 1.9952, 1.9368, 2.1011, 2.2076, 2.2971, 2.0326, 2.0643, 1.8839, 1.7551, 2.1587, 2.0058, 2.0414, 1.5891, 1.7556, 1.7912, 1.8778, 1.021, 0.8509, 1.6437, 0.3086, 1.5755, 1.4281, 0.8331, 0.8216, 0.6068, 0.8872, 0.2062, 0.1966, 0.2695, -0.6854, -1.0281, 2.5026, 2.5009, 2.4981, 2.4968, 2.4952, 2.4942, 2.4933, 2.4933, 2.493, 2.4917, 2.4911, 2.4911, 2.49, 2.49, 2.4898, 2.4887, 2.4871, 2.4861, 2.4859, 2.4858, 2.485, 2.4812, 2.4811, 2.481, 2.4808, 2.4795, 2.4783, 2.4781, 2.4777, 2.4777, 2.4735, 2.4634, 2.4767, 2.4767, 2.4696, 2.4365, 2.469, 2.4627, 2.4493, 2.3875, 2.4068, 2.4398, 2.3434, 2.2795, 2.4579, 2.4652, 2.4641, 2.3192, 2.2655, 2.3659, 2.19, 2.3276, 2.1988, 2.2139, 2.1442, 2.3276, 2.1932, 2.1703, 2.0136, 2.0761, 1.8889, 1.7203, 2.0243, 0.8314, 1.0239, 1.0798, 1.9279, 1.366, 1.142, 1.1454, 1.1188, 0.6701, 1.1193, 0.9027, 0.6687, 0.7436, 1.1871, 1.1401, 1.123, 0.5501, 0.2049, 0.4569, 1.1042, 1.0221, 0.8182, 0.906, 0.913, 0.6668, 0.9972, 0.1109, 0.0695, 2.662, 2.6595, 2.6595, 2.6581, 2.6578, 2.657, 2.6564, 2.6564, 2.6562, 2.6558, 2.6555, 2.6553, 2.6545, 2.6544, 2.6525, 2.6499, 2.6496, 2.6496, 2.6494, 2.6493, 2.647, 2.6455, 2.6444, 2.6421, 2.6414, 2.6398, 2.6398, 2.6385, 2.6374, 2.6368, 2.6163, 2.636, 2.5947, 2.6216, 2.4904, 2.5133, 2.5042, 2.5779, 2.3431, 2.4741, 2.4699, 2.3855, 2.2998, 2.2307, 2.4401, 2.4261, 2.1553, 2.2044, 2.3042, 2.1757, 2.025, 2.1377, 1.9207, 2.1253, 1.7595, 2.1746, 1.5177, 1.4321, 2.1306, 1.6688, 1.4478, 1.6273, 1.5153, 1.7539, 1.073, 1.3477, 0.7686, 1.1884, 0.9163, -0.1343, 0.6377, 0.4663, 0.9134, -1.5523, -0.5759, 0.4279, 3.2996, 3.299, 3.2979, 3.2979, 3.2978, 3.2976, 3.2975, 3.2974, 3.2973, 3.2953, 3.2951, 3.295, 3.2942, 3.2937, 3.2922, 3.2921, 3.292, 3.2905, 3.2901, 3.2894, 3.2891, 3.2885, 3.288, 3.2872, 3.2869, 3.2868, 3.2865, 3.2865, 3.2861, 3.2857, 3.2807, 3.2807, 3.2855, 3.2696, 3.2707, 3.2438, 3.2192, 3.1547, 3.2656, 3.1961, 3.1499, 3.0946, 3.0454, 3.0758, 3.1199, 3.1266, 3.0884, 2.9604, 3.1301, 3.0988, 3.0351, 3.078, 2.8186, 2.8254, 2.4101, 2.8827, 2.8656, 2.8846, 3.0965, 2.1293, 2.3946, 2.4681, 2.1412, 2.2643, 2.6223, 2.4408, 1.7051, 1.2216, 1.1687, 2.2463, 0.945, 2.3732, 1.855, 1.6375, 0.2933, 1.5454, -0.5439, -0.5193, -0.0333]}, \"token.table\": {\"Topic\": [4, 6, 9, 1, 7, 1, 2, 3, 5, 7, 8, 9, 10, 7, 9, 1, 2, 3, 6, 10, 1, 2, 3, 4, 5, 6, 7, 8, 9, 10, 1, 3, 5, 6, 1, 2, 3, 4, 5, 6, 7, 8, 9, 10, 1, 2, 3, 4, 5, 6, 7, 8, 9, 10, 3, 1, 2, 4, 5, 6, 7, 8, 9, 10, 3, 4, 8, 4, 5, 1, 2, 3, 5, 6, 7, 8, 9, 10, 1, 2, 3, 6, 7, 8, 9, 2, 7, 4, 1, 2, 3, 4, 6, 8, 9, 10, 2, 1, 3, 4, 5, 6, 7, 8, 9, 10, 1, 2, 3, 4, 5, 6, 7, 8, 9, 10, 1, 2, 3, 4, 5, 6, 7, 8, 9, 10, 1, 2, 3, 4, 5, 6, 7, 8, 9, 10, 1, 2, 3, 4, 5, 6, 7, 8, 9, 10, 2, 7, 5, 8, 6, 1, 2, 4, 5, 6, 8, 9, 10, 10, 1, 2, 3, 6, 7, 8, 10, 1, 2, 3, 4, 5, 6, 7, 8, 9, 10, 2, 8, 10, 1, 2, 3, 6, 5, 7, 1, 2, 3, 5, 7, 8, 9, 2, 8, 1, 2, 3, 4, 6, 7, 8, 9, 10, 1, 2, 3, 4, 5, 6, 7, 8, 9, 10, 1, 4, 5, 4, 6, 2, 3, 10, 4, 1, 2, 3, 4, 5, 6, 7, 8, 9, 10, 1, 2, 3, 4, 5, 6, 7, 8, 9, 10, 8, 5, 9, 10, 1, 2, 2, 3, 4, 5, 8, 1, 3, 5, 7, 9, 1, 9, 1, 2, 7, 3, 5, 6, 7, 8, 1, 2, 3, 4, 5, 6, 7, 8, 9, 10, 3, 6, 10, 4, 10, 3, 6, 8, 1, 2, 3, 4, 5, 6, 7, 8, 9, 10, 3, 4, 5, 6, 7, 8, 9, 1, 2, 3, 4, 5, 6, 7, 8, 9, 10, 8, 2, 5, 7, 8, 10, 3, 2, 1, 2, 3, 6, 2, 3, 4, 5, 8, 9, 10, 1, 3, 4, 5, 6, 7, 8, 9, 10, 1, 2, 3, 4, 5, 6, 7, 8, 9, 10, 1, 1, 3, 5, 7, 8, 6, 3, 8, 1, 2, 3, 4, 5, 6, 7, 8, 9, 9, 6, 9, 3, 9, 1, 2, 3, 4, 5, 6, 7, 8, 9, 10, 3, 1, 2, 7, 8, 7, 6, 1, 2, 3, 4, 5, 6, 7, 8, 9, 10, 4, 6, 1, 2, 6, 7, 8, 9, 10, 1, 2, 3, 4, 5, 6, 7, 8, 9, 10, 1, 1, 5, 7, 9, 10, 1, 2, 3, 4, 5, 6, 7, 8, 10, 1, 3, 5, 6, 7, 8, 9, 5, 2, 2, 10, 9, 1, 2, 4, 5, 6, 10, 1, 2, 3, 4, 5, 6, 7, 8, 9, 10, 9, 3, 1, 2, 3, 4, 6, 7, 9, 10, 1, 2, 4, 5, 7, 8, 9, 1, 2, 3, 4, 5, 6, 7, 8, 9, 10, 1, 2, 3, 4, 5, 6, 7, 8, 9, 10, 1, 3, 5, 6, 7, 6, 2, 6, 7, 8, 9, 4, 1, 2, 3, 4, 5, 6, 7, 8, 9, 10, 1, 2, 3, 4, 5, 6, 7, 8, 9, 10, 3, 4, 5, 6, 9, 7, 6, 10, 8, 1, 2, 3, 5, 6, 8, 10, 3, 4, 5, 6, 9, 3, 6, 1, 2, 3, 4, 5, 6, 7, 8, 9, 10, 2, 2, 8, 1, 2, 3, 4, 5, 6, 7, 9, 10, 1, 2, 4, 7, 8, 1, 2, 3, 4, 5, 6, 7, 8, 9, 10, 1, 2, 3, 4, 5, 6, 7, 8, 9, 10, 1, 2, 3, 4, 5, 6, 7, 8, 9, 10, 7, 4, 4, 3, 4, 5, 6, 7, 8, 9, 8, 5, 3, 7, 5, 8, 1, 2, 3, 4, 5, 6, 7, 8, 10, 1, 4, 5, 7, 9, 8, 1, 2, 3, 4, 5, 6, 7, 9, 1, 2, 3, 4, 5, 6, 7, 8, 9, 10, 2, 4, 5, 6, 7, 9, 1, 2, 3, 4, 5, 6, 7, 8, 9, 10, 1, 2, 3, 4, 5, 6, 7, 8, 9, 10, 1, 2, 3, 4, 5, 6, 7, 8, 9, 10, 1, 2, 3, 4, 5, 6, 7, 8, 9, 10, 1, 2, 4, 5, 6, 7, 8, 9, 2, 4, 10, 2, 4, 6, 1, 3, 5, 6, 7, 8, 9, 1, 2, 3, 4, 6, 7, 9, 10, 4, 6, 9, 1, 1, 2, 3, 4, 5, 6, 7, 8, 9, 10, 2, 8, 2, 1, 2, 3, 4, 5, 6, 7, 8, 9, 10, 1, 2, 3, 4, 5, 6, 7, 8, 9, 10, 1, 2, 4, 7, 6, 2, 3, 5, 8, 9, 1, 3, 5, 9, 1, 2, 3, 4, 5, 6, 7, 8, 9, 10, 1, 2, 3, 4, 5, 6, 7, 8, 9, 10, 1, 2, 3, 4, 5, 6, 7, 8, 9, 10, 8, 1, 2, 3, 4, 5, 6, 7, 8, 9, 10, 4, 2, 8, 2, 7, 8, 5, 6, 1, 5, 6, 9, 1, 2, 3, 4, 5, 6, 7, 8, 9, 10, 1, 2, 4, 5, 10, 1, 3, 4, 6, 7, 8, 9, 1, 2, 4, 5, 6, 7, 8, 9, 10, 8, 10, 4, 6, 1, 2, 3, 4, 6, 7, 9, 9, 1, 2, 3, 4, 5, 6, 7, 8, 9, 10, 1, 3, 4, 5, 6, 7, 8, 9, 4, 6, 4, 6, 3, 4, 9, 1, 2, 3, 4, 5, 6, 7, 8, 9, 10, 3, 5, 1, 2, 3, 4, 5, 6, 7, 8, 9, 10, 1, 3, 4, 5, 6, 7, 8, 9, 1, 3, 4, 5, 6, 7, 8, 9, 1, 3, 9, 1, 3, 4, 5, 7, 9, 10, 1, 2, 5, 6, 9, 1, 2, 3, 4, 5, 6, 7, 8, 9, 10, 1, 3, 4, 6, 7, 9, 8, 10, 1, 1, 2, 3, 4, 5, 6, 7, 8, 9, 10, 2, 3, 4, 6, 7, 9, 10, 1, 2, 4, 5, 6, 7, 8, 9, 10, 1, 2, 3, 4, 5, 6, 7, 8, 9, 10, 1, 2, 3, 4, 5, 6, 7, 8, 9, 10, 1, 2, 3, 4, 5, 6, 7, 8, 9, 10, 1, 2, 3, 4, 5, 6, 7, 8, 9, 10, 2, 1, 2, 3, 4, 5, 6, 7, 8, 9, 10, 1, 2, 3, 4, 5, 6, 7, 8, 9, 10, 1, 2, 4, 7, 8, 9, 10, 1, 2, 7, 10, 1, 7, 8, 1, 2, 3, 4, 5, 6, 7, 8, 9, 10, 2, 7, 9, 7, 3, 4, 7, 8, 1, 2, 3, 4, 5, 6, 7, 8, 9, 10, 2, 5, 10, 1, 3, 7, 8, 9, 3, 4, 6, 8, 1, 2, 3, 4, 5, 6, 7, 8, 9, 10, 1, 2, 3, 4, 5, 6, 7, 8, 9, 10, 8, 1, 2, 3, 4, 5, 6, 7, 8, 9, 10, 1, 2, 3, 4, 5, 6, 7, 8, 9, 10, 1, 7, 9, 1, 2, 5, 7, 8, 9, 10, 3, 1, 3, 4, 5, 6, 7, 9, 10, 1, 2, 3, 4, 5, 6, 7, 9, 10, 1, 2, 3, 4, 5, 6, 7, 8, 9, 10, 4, 6, 5, 4, 1, 2, 4, 5, 6, 9, 10, 1, 2, 3, 4, 5, 6, 8, 9, 10, 3, 10, 5, 1, 2, 3, 4, 5, 6, 7, 8, 9, 10, 9, 1, 2, 3, 4, 5, 6, 7, 8, 9, 10, 3, 6, 2, 6, 5, 1, 2, 3, 4, 5, 6, 7, 8, 9, 10, 9, 1, 2, 3, 4, 5, 6, 7, 8, 9, 10, 1, 2, 3, 4, 5, 6, 7, 8, 9, 10, 2, 7, 1, 2, 3, 4, 5, 6, 7, 8, 9, 10, 3, 4, 6, 8, 1, 2, 3, 4, 5, 6, 7, 8, 9, 10, 7, 5, 4, 2, 2, 4, 5, 7, 4, 6, 9, 3, 4, 6, 9, 10, 1, 4, 5, 9, 9, 9, 7, 10, 5, 6, 9, 8, 1, 3, 4, 5, 6, 7, 8, 10, 8, 2, 3, 4, 7, 8, 10, 4, 5, 2, 5, 8, 6, 4, 2, 1, 1, 2, 3, 4, 5, 6, 7, 8, 9, 10, 1, 2, 3, 4, 5, 6, 7, 8, 9, 10, 6, 5, 6, 1, 2, 3, 4, 5, 6, 7, 8, 9, 10, 1, 2, 3, 4, 5, 6, 7, 8, 9, 10, 1, 2, 4, 5, 6, 7, 8, 9, 10, 1, 2, 3, 4, 5, 6, 7, 8, 9, 10, 1, 9, 1, 2, 3, 4, 5, 6, 7, 8, 9, 1, 2, 3, 4, 5, 6, 7, 8, 9, 10, 1, 2, 3, 5, 6, 7, 8, 9, 10, 1, 2, 3, 4, 5, 6, 7, 8, 9, 10, 3, 1, 1, 2, 3, 4, 5, 6, 8, 1, 2, 3, 4, 5, 6, 7, 8, 9, 10, 1, 3, 5, 7, 9, 1, 2, 3, 4, 5, 7, 8, 9, 10, 1, 2, 4, 6, 1, 2, 3, 4, 5, 6, 7, 8, 9, 10, 8, 7, 1, 2, 3, 4, 5, 7, 8, 10, 1, 3, 4, 5, 6, 7, 8, 9, 1, 2, 3, 4, 5, 6, 7, 8, 9, 10, 10, 1, 2, 3, 4, 5, 6, 7, 8, 9, 1, 2, 4, 5, 7, 8, 10, 10, 2, 1, 2, 3, 4, 5, 6, 7, 8, 9, 10, 1, 2, 4, 5, 7, 8, 9, 10, 1, 2, 3, 4, 5, 7, 8, 9, 10, 1, 2, 4, 5, 7, 8, 9, 10, 2, 8, 9, 3, 4, 5, 6, 7, 8, 10, 1, 2, 4, 5, 7, 8, 9, 10, 1, 2, 3, 4, 5, 6, 7, 8, 9, 10, 4, 6, 7, 8, 1, 2, 4, 5, 7, 8, 9, 10, 10, 1, 2, 3, 4, 5, 6, 7, 8, 9, 10, 10, 3, 9, 1, 2, 3, 4, 5, 6, 7, 8, 9, 1, 4, 1, 2, 3, 4, 5, 6, 7, 8, 9, 10, 5, 7, 2, 8, 10, 7, 3, 2, 3, 4, 8, 9, 2, 3, 4, 5, 6, 7, 8, 9, 10, 3, 5, 6, 8, 1, 2, 3, 4, 5, 6, 7, 8, 9, 10, 4, 8, 3, 5, 6, 4, 8, 10, 1, 3, 4, 5, 8, 10, 1, 4, 6, 8, 10, 1, 8, 9, 1, 2, 3, 4, 5, 7, 8, 9, 1, 8, 9, 2, 7, 4, 1, 2, 3, 4, 6, 7, 9, 10, 1, 2, 3, 4, 5, 6, 7, 8, 9, 10, 3, 8, 1, 2, 3, 4, 5, 6, 7, 8, 9, 10, 1, 2, 3, 4, 5, 6, 7, 8, 9, 10, 6, 5, 1, 2, 3, 4, 5, 6, 7, 8, 9, 10, 1, 2, 3, 4, 5, 6, 7, 8, 9, 10, 1, 2, 3, 4, 5, 6, 7, 8, 9, 10, 1, 3, 5, 7, 10, 5, 1, 3, 6, 10, 1, 1, 2, 3, 4, 5, 6, 7, 8, 9, 10, 1, 2, 3, 4, 5, 6, 7, 8, 9, 10, 2, 7, 10, 3, 4, 1, 5, 1, 2, 3, 4, 5, 6, 7, 8, 9, 10, 1, 2, 3, 5, 6, 7, 8, 9, 10, 8, 2, 4, 7, 1, 2, 3, 4, 5, 6, 7, 8, 9, 10, 6, 7, 8, 2, 1, 3, 4, 5, 6, 7, 8, 9, 3, 4, 5, 6, 7, 2, 1, 1, 2, 3, 4, 5, 6, 7, 8, 9, 10, 1, 2, 3, 4, 5, 6, 7, 8, 9, 10, 3, 5, 6, 7, 1, 4, 5, 6, 9, 10, 3, 1, 2, 3, 4, 5, 6, 7, 8, 9, 1, 2, 3, 4, 5, 6, 7, 8, 9, 9, 2, 1, 2, 3, 4, 5, 6, 7, 8, 9, 1, 1, 2, 7, 10, 1, 2, 7, 9, 10, 1, 2, 3, 4, 5, 6, 7, 8, 9, 10, 1, 2, 3, 4, 5, 6, 7, 8, 9, 1, 2, 3, 4, 5, 6, 7, 8, 9, 10, 1, 2, 3, 5, 6, 7, 10, 1, 4, 8, 1, 4, 1, 2, 3, 5, 7, 10, 2, 4, 7, 1, 2, 3, 4, 5, 6, 7, 8, 9, 10, 2, 3, 4, 5, 6, 7, 8, 10, 7, 1, 7, 4, 6, 1, 2, 5, 7, 8, 10, 4, 6, 8, 9, 3, 4, 5, 5, 1, 2, 3, 4, 5, 6, 7, 8, 9, 10, 1, 2, 3, 5, 6, 7, 8, 9, 10, 4, 1, 2, 3, 4, 5, 6, 7, 8, 9, 10, 1, 6, 8, 6, 1, 4, 5, 8, 1, 2, 3, 4, 5, 6, 7, 8, 9, 10, 3, 1, 2, 3, 4, 5, 6, 7, 8, 9, 10, 2, 4, 3, 1, 2, 3, 4, 5, 6, 7, 8, 9, 10, 1, 3, 4, 5, 6, 7, 8, 10, 2, 3, 4, 4, 6, 2, 1, 2, 3, 4, 5, 6, 7, 8, 9, 10, 1, 3, 4, 5, 7, 8, 1, 2, 4, 5, 6, 7, 1, 2, 3, 4, 5, 6, 7, 8, 9, 10, 1, 2, 4, 5, 6, 7, 9, 1, 2, 4, 6, 7, 8, 9, 10, 1, 2, 3, 4, 5, 6, 7, 8, 9, 10, 1, 2, 3, 4, 5, 6, 7, 8, 9, 10, 1, 7, 1, 2, 3, 4, 5, 6, 7, 9, 2, 3, 4, 8, 1, 1, 2, 3, 4, 5, 6, 7, 8, 9, 10, 1, 2, 5, 7, 8, 9, 1, 1, 2, 3, 4, 5, 6, 7, 8, 9, 10, 5, 9, 10, 10, 1, 2, 4, 5, 7, 8, 9, 10, 1, 2, 8, 10, 1, 2, 3, 5, 6, 8, 10, 1, 2, 4, 6, 10, 1, 2, 6, 8, 1, 3, 5, 7, 8, 9, 10, 1, 2, 3, 4, 5, 6, 7, 8, 9, 10, 1, 2, 4, 5, 6, 7, 8, 9, 10, 1, 2, 3, 4, 5, 6, 7, 8, 9, 10, 1, 2, 3, 4, 5, 6, 7, 8, 9, 10, 2, 6, 2, 5, 1, 3, 4, 5, 6, 7, 8, 9, 10, 2, 3, 4, 5, 6, 7, 8, 9, 1, 2, 4, 5, 6, 7, 9, 1, 2, 3, 4, 5, 6, 7, 8, 9, 10, 1, 2, 3, 4, 5, 6, 7, 8, 9, 10, 1, 2, 4, 5, 7, 8, 9, 6, 8, 4, 8, 7, 1, 2, 3, 4, 5, 6, 7, 8, 9, 10, 9, 1, 2, 3, 4, 5, 6, 7, 8, 9, 10, 1, 2, 3, 4, 5, 6, 7, 8, 9, 10, 1, 2, 3, 4, 5, 6, 7, 8, 9, 10, 1, 2, 3, 4, 5, 6, 7, 8, 9, 10, 1, 3, 5, 7, 8, 9, 1, 2, 3, 4, 5, 6, 7, 8, 9, 1, 2, 3, 4, 5, 6, 7, 8, 9, 10, 1, 2, 3, 5, 5, 1, 2, 3, 5, 6, 7, 8, 9, 9, 9, 1, 2, 3, 4, 5, 6, 7, 8, 9, 1, 2, 3, 4, 5, 6, 7, 8, 9, 10, 1, 2, 3, 4, 5, 6, 7, 8, 9, 10, 1, 2, 3, 4, 5, 6, 7, 8, 9, 10, 1, 3, 4, 8, 9, 3, 6, 8, 9, 5, 1, 3, 4, 7, 9, 1, 2, 3, 4, 5, 6, 7, 8, 9, 10, 1, 2, 3, 4, 5, 6, 7, 8, 9, 10, 1, 2, 3, 4, 5, 6, 7, 8, 9, 10, 1, 2, 3, 5, 6, 8, 9, 1, 2, 3, 4, 5, 6, 7, 8, 9, 10, 1, 5, 7, 8, 3, 4, 5, 6, 8, 4, 1, 2, 4, 5, 7, 9, 2, 6, 3, 6, 1, 2, 3, 5, 6, 7, 8, 9, 10, 1, 2, 3, 4, 5, 6, 7, 8, 9, 10, 1, 2, 3, 5, 6, 7, 8, 9, 1, 2, 3, 4, 5, 6, 8, 9, 10, 2, 4, 7, 7, 1, 1, 2, 3, 4, 6, 7, 1, 6, 7, 8, 1, 2, 3, 5, 7, 8, 1, 3, 4, 5, 6, 8, 9, 10, 1, 2, 3, 4, 5, 6, 8, 9, 10, 1, 2, 3, 4, 5, 6, 7, 8, 9, 10, 2, 4, 6, 7, 9, 1, 2, 4, 5, 7, 8, 9, 10, 1, 2, 4, 5, 7, 8, 9, 10, 1, 2, 3, 4, 5, 6, 7, 8, 9, 10, 9, 2, 3, 4, 5, 7, 8, 1, 2, 3, 5, 7, 8, 9, 10, 1, 5, 7, 1, 2, 3, 4, 5, 6, 7, 8, 9, 10, 1, 2, 3, 4, 5, 6, 7, 8, 9, 10, 1, 2, 3, 4, 5, 6, 7, 8, 9, 10, 1, 1, 2, 5, 7, 8, 10, 1, 1, 2, 3, 4, 5, 6, 7, 8, 9, 10, 1, 2, 3, 4, 5, 6, 7, 8, 9, 10, 1, 2, 1, 2, 3, 5, 6, 8, 7, 1, 4, 9, 4, 1, 1, 3, 4, 5, 6, 9, 1, 2, 4, 6, 7, 8, 9, 7, 9, 1, 3, 4, 5, 6, 8, 9, 1, 3, 4, 6, 8, 9, 10, 5, 1, 4, 5, 6, 7, 1, 2, 3, 4, 5, 6, 7, 8, 9, 10, 7, 1, 3, 1, 2, 3, 4, 5, 6, 7, 8, 10, 10, 5, 4, 2, 5, 1, 2, 3, 4, 5, 6, 7, 8, 9, 10, 2, 5, 7, 3, 1, 2, 3, 4, 5, 6, 7, 8, 9, 10, 4, 6, 3, 8, 1, 2, 3, 4, 5, 6, 7, 8, 9, 10, 1, 2, 7, 8, 9, 10, 1, 3, 5, 6, 7, 10, 1, 2, 3, 4, 5, 6, 7, 8, 9, 10, 8, 1, 2, 3, 5, 6, 8, 9, 10, 2, 3, 4, 1, 2, 3, 4, 5, 6, 7, 8, 9, 10, 1, 1, 2, 3, 4, 5, 6, 7, 8, 9, 10, 3, 6, 1, 2, 3, 4, 5, 6, 7, 8, 9, 10, 1, 2, 3, 4, 5, 6, 7, 8, 9, 10, 1, 4, 5, 6, 7, 8, 9, 4, 6, 9, 6, 1, 2, 3, 4, 5, 6, 7, 8, 9, 10, 10, 10, 2, 4, 5, 6, 1, 2, 3, 4, 5, 6, 7, 8, 10, 1, 2, 4, 5, 7, 8, 10, 2, 1, 8, 8, 6, 4, 6, 1, 6, 7, 6, 1, 1, 2, 3, 4, 5, 6, 7, 8, 9, 10, 9, 1, 2, 3, 4, 5, 6, 7, 9, 8, 1, 2, 3, 4, 5, 6, 7, 8, 9, 10, 1, 5, 6, 10, 1, 2, 3, 4, 5, 6, 7, 8, 9, 10, 1, 5, 1, 2, 3, 4, 5, 6, 7, 8, 9, 10, 1, 2, 3, 4, 5, 6, 7, 8, 9, 10, 3, 4, 5, 6, 8, 3, 7, 1, 2, 7, 8, 1, 2, 3, 4, 5, 6, 7, 8, 9, 10, 1, 2, 3, 4, 5, 6, 7, 8, 9, 10, 1, 2, 3, 4, 5, 6, 7, 8, 9, 10, 10, 5, 6, 7, 9, 7, 5, 1, 2, 3, 4, 5, 6, 7, 8, 9, 10, 3, 1, 2, 3, 4, 5, 6, 7, 8, 9, 10, 1, 2, 3, 4, 5, 6, 7, 8, 9, 10, 6, 6, 9, 1, 2, 3, 4, 5, 6, 7, 8, 9, 10, 1, 2, 3, 4, 5, 6, 7, 8, 9, 10, 1, 2, 3, 4, 5, 7, 8, 9, 1, 2, 4, 8, 10, 1, 4, 1, 2, 4, 5, 6, 7, 8, 9, 10, 1, 2, 4, 5, 7, 8, 9, 10, 1, 2, 3, 4, 5, 6, 7, 8, 9, 10, 1, 4, 5, 6, 7, 8, 9, 10, 9, 1, 2, 7, 8, 10, 1, 2, 3, 4, 5, 6, 7, 8, 9, 10, 1, 2, 3, 4, 5, 6, 7, 8, 9, 10, 2, 1, 2, 3, 4, 5, 6, 7, 8, 9, 10, 1, 2, 3, 4, 5, 6, 7, 8, 9, 10, 1, 2, 3, 4, 5, 6, 7, 8, 9, 10, 5, 1, 2, 3, 4, 5, 6, 7, 8, 9, 10, 6, 2, 5, 2, 9, 1, 2, 3, 4, 5, 9, 10, 1, 2, 3, 4, 5, 6, 7, 8, 9, 10, 5, 2, 10, 1, 2, 3, 4, 5, 6, 7, 8, 9, 1, 2, 5, 9, 9, 1, 2, 3, 4, 5, 6, 7, 8, 9, 10, 1, 2, 3, 4, 5, 6, 7, 8, 9, 10, 1, 2, 3, 4, 5, 6, 7, 8, 9, 10, 1, 4, 6, 1, 2, 7, 6, 9, 10, 1, 2, 3, 4, 5, 6, 7, 8, 9, 10, 1, 2, 3, 4, 5, 6, 7, 8, 9, 10, 1, 4, 6, 9, 1, 8, 5, 6, 8, 5, 9, 10, 1, 4, 9, 4, 6, 1, 2, 3, 4, 5, 6, 7, 8, 9, 10, 1, 2, 3, 4, 5, 6, 7, 8, 9, 10, 1, 2, 3, 4, 5, 6, 7, 8, 9, 10, 1, 2, 3, 4, 5, 6, 7, 8, 9, 10, 1, 2, 3, 4, 5, 6, 7, 8, 9, 10, 10, 6, 1, 3, 4, 5, 6, 7, 8, 9, 1, 2, 3, 4, 5, 6, 7, 8, 9, 1, 2, 3, 5, 6, 7, 8, 9, 1, 2, 3, 4, 5, 6, 7, 8, 9, 5, 1, 4, 5, 9, 10, 1, 3, 4, 5, 6, 7, 9, 10, 1, 2, 3, 4, 5, 6, 7, 8, 9, 10, 1, 2, 3, 4, 5, 6, 7, 8, 9, 10, 1, 2, 3, 4, 5, 6, 7, 8, 9, 10, 3, 4, 6, 1, 4, 5, 6, 7, 8, 3, 8, 1, 2, 3, 4, 5, 6, 7, 8, 9, 3, 4, 7, 10, 1, 2, 5, 7, 8, 10, 1, 2, 3, 4, 5, 6, 7, 8, 9, 10, 3, 4, 6, 9, 1, 2, 7, 5, 6, 6, 1, 2, 3, 4, 5, 6, 7, 8, 9, 10, 1, 2, 3, 4, 5, 6, 7, 8, 9, 10, 1, 2, 3, 4, 5, 6, 7, 8, 9, 10, 1, 2, 3, 4, 5, 6, 7, 8, 9, 10, 1, 2, 3, 4, 5, 6, 7, 8, 9, 10, 10, 2, 5, 6, 7, 1, 2, 3, 4, 5, 6, 7, 8, 9, 10, 9, 3, 8, 10, 2, 3, 6], \"Freq\": [0.005099356815844024, 0.0016997856052813412, 0.9909750078790219, 0.006902708745211017, 0.9870873505651754, 0.008926095244715111, 0.0013732454222638633, 0.011672586089242837, 0.0027464908445277267, 0.9715711362516832, 0.0013732454222638633, 0.0013732454222638633, 0.0006866227111319317, 0.9948740725094171, 0.9873579747701332, 0.08168268872516062, 0.048267043337594906, 0.04084134436258031, 0.014851397950029202, 0.8094011882765915, 0.17913509034920122, 0.2110096615857139, 0.030727086671998218, 0.21215714615022835, 0.02970710039242981, 0.06884907387086737, 0.09320124629556306, 0.009817367940845903, 0.13132323349443223, 0.03378704551070343, 0.032795161354526224, 0.06559032270905245, 0.02811013830387962, 0.8714142874202682, 0.007346520636966565, 0.010495029481380808, 0.43344471758102737, 0.01259403537765697, 0.0031485088444142425, 0.009445526533242727, 0.0010495029481380808, 0.01784155011834737, 0.0020990058962761615, 0.5037614151062788, 0.16720970818375505, 0.0034607673807095273, 0.001821456516162909, 0.33332654245781235, 0.1743133885967904, 0.12768410178301992, 0.13660923871221817, 0.040072043355584, 0.014207360826070691, 0.0012750195613140363, 0.9964948751001934, 0.20146178188620192, 0.0023425788591418827, 0.5505060318983425, 0.0028110946309702596, 0.04216641946455389, 0.16726013054273045, 0.00046851577182837657, 0.03045352516884448, 0.003279610402798636, 0.9955166328347511, 0.0028524831886382555, 0.9846292720775733, 0.9861108011261488, 0.006487571060040453, 0.032913750045384105, 0.04579304354140397, 0.04293097832006622, 0.011448260885350992, 0.002862065221337748, 0.8199816859132648, 0.022896521770701984, 0.008586195664013243, 0.008586195664013243, 0.864524706435986, 0.0125180047990731, 0.0007823752999420688, 0.0007823752999420688, 0.04381301679675585, 0.06728427579501792, 0.009388503599304826, 0.9879983933931185, 0.9875333842824839, 0.9909587276630011, 0.06104703780691288, 0.025044938587451437, 0.039132716542892874, 0.0015653086617157148, 0.8624850726053589, 0.0031306173234314297, 0.0046959259851471445, 0.0015653086617157148, 0.9858310157009749, 0.0014307625642765863, 0.0014307625642765863, 0.8284115247161435, 0.010015337949936105, 0.08012270359948884, 0.0028615251285531726, 0.031476776414084896, 0.027184488721255142, 0.015738388207042448, 0.02602248780580248, 0.0918015542038032, 0.05782775067956107, 0.007228468834945134, 0.10336710433971541, 0.007228468834945134, 0.5443037032713686, 0.1525206924173423, 0.003614234417472567, 0.007228468834945134, 0.3119048247656182, 0.14494583059436036, 0.11587915333613301, 0.02581120940530588, 0.14595347540597892, 0.028524099282740432, 0.016974939518804768, 0.1711445956964426, 0.017362495215581135, 0.021393074462055326, 0.30342552168456205, 0.11303605538830129, 0.04626439422278805, 0.10967286360969436, 0.1444531883445563, 0.05044787667910399, 0.03666699329359266, 0.12845752012923065, 0.03215539456619311, 0.035354528209258246, 0.29657556136565744, 0.1149701775807518, 0.1068677835349637, 0.04121045247426705, 0.2091255842507721, 0.03520350516445863, 0.023049914095776485, 0.12810164379289113, 0.02542475372988679, 0.01927810997101306, 0.0049130607238859906, 0.9924382662249701, 0.9918989980615659, 0.9741566207173419, 0.989665368248381, 0.006787784747814271, 0.05769617035642131, 0.006787784747814271, 0.010181677121721407, 0.020363354243442815, 0.0033938923739071356, 0.0033938923739071356, 0.8925936943375766, 0.9712594870041039, 0.17921757014291181, 0.10071731214642977, 0.017773643319958198, 0.6294832009151862, 0.03850956052657609, 0.0014811369433298496, 0.0325850127532567, 0.11815341409594164, 0.21182713880434087, 0.1614527490819993, 0.11263487140164018, 0.06098697182676748, 0.12862449510564186, 0.07018454298393659, 0.044855847028040116, 0.0687695320366798, 0.022640175156108576, 0.004722503995366226, 0.021251267979148017, 0.9728358230454426, 0.001121388969091977, 0.9778511810482041, 0.011213889690919772, 0.00784972278364384, 0.01000164211045695, 0.9851617478800097, 0.004619922554092418, 0.004619922554092418, 0.020789651493415884, 0.023099612770462092, 0.8893350916627906, 0.03233945787864693, 0.0254095740475083, 0.010730166055091403, 0.9835985550500452, 0.020564783772780218, 0.8437609812655413, 0.0024193863262094374, 0.07258158978628312, 0.0018145397446570782, 0.044758647034874595, 0.0012096931631047187, 0.00907269872328539, 0.0036290794893141564, 0.023577339175356028, 0.09484117638207124, 0.20971422740185097, 0.08597751503795242, 0.0973230015584245, 0.14288222086719515, 0.06559109394647918, 0.2013823857383793, 0.04290012090553502, 0.03598646505712236, 0.0011815875474259498, 0.9878071896480941, 0.010634287926833548, 0.9972534922341139, 0.001585458652200499, 0.9810944401505464, 0.9754089500381347, 0.9773442449014815, 0.9859414749666382, 0.012220005328870878, 0.37637616412922303, 0.10953568412969714, 0.3143874098245871, 0.05910038940872097, 0.03621565215647187, 0.007109821282252147, 0.0686542117567473, 0.01044255000830784, 0.005998911706900249, 0.0051708895643246145, 0.05515615535279588, 0.004136711651459691, 0.10893340682177187, 0.006894519419099485, 0.24165290563943698, 0.5474248418764992, 0.0010341779128649228, 0.029301707531172814, 0.0003447259709549743, 0.9797066051180153, 0.9525137870461478, 0.029766055845192117, 0.987710259528559, 0.983541463418652, 0.9928113583618255, 0.034341194568547215, 0.918626954708638, 0.005723532428091202, 0.02289412971236481, 0.011447064856182404, 0.03682512324684118, 0.01718505751519255, 0.14975550120382078, 0.007365024649368236, 0.7856026292659452, 0.005865803062033512, 0.9913207174836636, 0.122565641946993, 0.865540873543198, 0.008844943233288155, 0.06373492943407602, 0.022572787507901922, 0.9042393113459535, 0.0013278110298765836, 0.007966866179259503, 0.026894675914586382, 0.11258849623067044, 0.003955099399203879, 0.1160162490433138, 0.6510093611089586, 0.023994269688503538, 0.015029377716974743, 0.02715834920786664, 0.022412229928821983, 0.000791019879840776, 0.9043220090667037, 0.0888994517387607, 0.0030654983358193344, 0.9818738377572925, 0.014299133559572222, 0.9778043650258511, 0.015720327411991177, 0.003144065482398235, 0.8831710334325037, 0.009282578429470759, 0.002652165265563074, 0.003978247898344611, 0.018565156858941518, 0.007956495796689222, 0.051717222678479946, 0.005304330531126148, 0.003978247898344611, 0.01326082632781537, 0.004840027697554144, 0.2855616341556945, 0.004840027697554144, 0.09196052625352874, 0.0009680055395108289, 0.0009680055395108289, 0.610811495431333, 0.034056781854931356, 0.00486525455070448, 0.23278371773370665, 0.0018712517502709536, 0.32110680034649564, 0.0011227510501625722, 0.00037425035005419073, 0.0011227510501625722, 0.4011963752580925, 0.001497001400216763, 0.9823100455389301, 0.021619564336765783, 0.005404891084191446, 0.005404891084191446, 0.9404510486493115, 0.021619564336765783, 0.9860406990305127, 0.9937115037633404, 0.00896310629051294, 0.9635339262301411, 0.02240776572628235, 0.00448155314525647, 0.004108229886312092, 0.023827733340610134, 0.018076211499773207, 0.9169569106248591, 0.007394813795361766, 0.02711431724965981, 0.0008216459772624184, 0.9037466077181938, 0.00815760961189859, 0.03612655685269376, 0.021559396831446274, 0.0005826864008498993, 0.004078804805949295, 0.0011653728016997986, 0.02447282883569577, 0.0005826864008498993, 0.031500180160871916, 0.8279876252931847, 0.013893615584262898, 0.0014372705776823688, 0.004192039184906909, 0.00646771759957066, 0.007425897984692239, 0.08515828172768035, 0.01928338025057178, 0.002634996059084343, 0.9872326795012167, 0.008775384688120022, 0.021938461720300055, 0.9609046233491424, 0.004387692344060011, 0.004387692344060011, 0.9992372283354635, 0.9931870278056445, 0.9805079753072361, 0.5889060655982858, 0.005353691505438961, 0.00035691276702926413, 0.007138255340585283, 0.03212214903263377, 0.00035691276702926413, 0.041044968208365375, 0.30194820090675745, 0.02248550432284364, 0.975239681773224, 0.021910506895452212, 0.9640623033998974, 0.0253030828871339, 0.968746601964555, 0.03006533733671696, 0.04984516453192549, 0.15349145903481817, 0.025318178809866917, 0.003955965439041705, 0.6994146896225736, 0.008703123965891752, 0.01582386175616682, 0.0007911930878083411, 0.013450282492741798, 0.9943421616973093, 0.0011605684131260924, 0.0034817052393782775, 0.9934465616359351, 0.0011605684131260924, 0.9858062630257994, 0.988961228878095, 0.02314962273313033, 0.002341985179227193, 0.35228861676759815, 0.08007787785896056, 0.0672870357262582, 0.1277282686209292, 0.00963816977605037, 0.018555728727723143, 0.31670845731395425, 0.0021618324731327936, 0.9900710878687237, 0.006149509862538656, 0.055844774217462534, 0.9331955691602292, 0.000734799660756086, 0.002939198643024344, 0.002939198643024344, 0.002204398982268258, 0.001469599321512172, 0.013510258248652571, 0.004569646172338369, 0.41067211470536563, 0.012914217443564958, 0.15199040529734142, 0.02642447569221753, 0.02264955059332931, 0.04092813528268279, 0.3159016266964351, 0.0003973605367250756, 0.9750530345620398, 0.14919983900228245, 0.003108329979214218, 0.006216659958428436, 0.003108329979214218, 0.8330324344294103, 0.0012351168848446672, 0.03458327277565069, 0.2581394289325355, 0.014821402618136009, 0.0012351168848446672, 0.008645818193912672, 0.029642805236272017, 0.6484363645434503, 0.0024702337696893345, 0.005649491587985978, 0.05730198610671492, 0.004035351134275699, 0.0016141404537102794, 0.0016141404537102794, 0.8474237381978967, 0.08151409291236912, 0.9692142857287527, 0.9825451081378517, 0.021407089076766056, 0.971881844085179, 0.9900257362622865, 0.08504280073982505, 0.042521400369912525, 0.042521400369912525, 0.007731163703620459, 0.01159674555543069, 0.8079066070283379, 0.2571080841842521, 0.022192984309751786, 0.03423385877568095, 0.05430198288556288, 0.16455861770103186, 0.019832028532118618, 0.045802542086083475, 0.04108063053081713, 0.0531215049967463, 0.30763253782560185, 0.9842553888215679, 0.9960565360363494, 0.980862873181687, 0.04805628768343407, 0.04605394236329099, 0.052060978323720246, 0.02002345320143086, 0.0020023453201430865, 0.8209615812586654, 0.01001172660071543, 0.026298134300000733, 0.006574533575000183, 0.9292007452666926, 0.0043830223833334556, 0.021915111916667278, 0.0021915111916667278, 0.010957555958333639, 0.0726390629870345, 0.3154762224619381, 0.10445179130252406, 0.007422969940280897, 0.014315727741970303, 0.020678273405068216, 0.19140658203152885, 0.028631455483940606, 0.011664667049012839, 0.23382355311884828, 0.18801999159587082, 0.22577602764409826, 0.04941226194231107, 0.003547547011242846, 0.010896037248817311, 0.008868867528107114, 0.1601464079361056, 0.03598226254260601, 0.005828112947041818, 0.3114239483441041, 0.009004012414727713, 0.9296642818206362, 0.03151404345154699, 0.02251003103681928, 0.009004012414727713, 0.9830604062099545, 0.008006606944051586, 0.02135095185080423, 0.9447796193980871, 0.016013213888103173, 0.008006606944051586, 0.989041250461089, 0.06875711012656138, 0.0005093119268634176, 0.0025465596343170883, 0.0005093119268634176, 0.040235642222209995, 0.003055871561180506, 0.009676926610404936, 0.010186238537268353, 0.00662105504922443, 0.8576812848379953, 0.001530601697962339, 0.00014349390918396928, 0.08088273347669736, 0.047113833515403256, 0.005596262458174802, 0.02453745847045875, 0.001004457364287785, 0.00138710778877837, 0.8377652731190741, 4.78313030613231e-05, 0.018648670037501612, 0.1056757968791758, 0.0012432446691667742, 0.024864893383335484, 0.8491361090409068, 0.9970944854878265, 0.9767980551135362, 0.9877330625479726, 0.982205021938243, 0.0013979368767165642, 0.011183495013732513, 0.785640524714709, 0.0013979368767165642, 0.008387621260299386, 0.16495655145255458, 0.027958737534331285, 0.0004268611962129092, 0.044393564406142554, 0.0004268611962129092, 0.9472049943964455, 0.007683501531832365, 0.9809363871277995, 0.01442553510482058, 0.18949391253497352, 0.47373478133743385, 0.010753488901524572, 0.08748108538807828, 0.019181899121638424, 0.05289554000209384, 0.06975236044232154, 0.05667379285938626, 0.0241226913196362, 0.016566185605051367, 0.9946512098021807, 0.9894795961440592, 0.007170142001043907, 0.7882890357894387, 0.0008177272155492102, 0.04497499685520656, 0.08259044877047023, 0.017989998742082625, 0.0008177272155492102, 0.053969996226247874, 0.007359544939942892, 0.0024531816466476304, 0.0026466088365745097, 0.9818918783691432, 0.00793982650972353, 0.0026466088365745097, 0.003969913254861765, 0.11515427002273218, 0.0012435666309150344, 0.001740993283281048, 0.14972542236217012, 0.5019034922373079, 0.045017112039124244, 0.14002560264103286, 0.015668939549529432, 0.028850745837228797, 0.0002487133261830069, 0.05333548317559267, 0.01947168433394653, 0.007619354739370382, 0.001693189942082307, 0.09566523172765035, 0.040636558609975365, 0.618014328860042, 0.1566200696426134, 0.005079569826246921, 0.001693189942082307, 0.06264321733276504, 0.0068090453622570695, 0.0027236181449028277, 0.008170854434708483, 0.04357789031844524, 0.09805025321650179, 0.7203969993267979, 0.04630150846334807, 0.009532663507159898, 0.0027236181449028277, 0.980257278509516, 0.9900192006307517, 0.9957073629281274, 0.22849089138434964, 0.005440259318674991, 0.0010880518637349983, 0.021761037274699965, 0.007616363046144988, 0.7333469561573889, 0.0021761037274699965, 0.982321681154494, 0.9720906265381003, 0.9753096514432178, 0.9856644882995068, 0.9808776519420089, 0.011274455769448377, 0.08915989228711348, 0.12982931683913015, 0.06256834546464103, 0.031284172732320516, 0.006256834546464103, 0.6319402891928744, 0.01094946045631218, 0.014077877729544231, 0.02346312954924039, 0.9246684332295289, 0.009435392175811519, 0.009435392175811519, 0.030665024571387436, 0.021229632395575918, 0.9885774622696516, 0.8672694326713126, 0.008433738405231565, 0.0028112461350771885, 0.0042168692026157825, 0.05763054576908236, 0.0070281153376929705, 0.047791184296312204, 0.0042168692026157825, 0.1596627656620796, 0.08286419271800333, 0.10742016954470797, 0.15594512773612432, 0.13598728202836435, 0.07611374490508452, 0.10223504296377034, 0.07053728801615158, 0.08658183064395861, 0.022501492709729357, 0.009988053369742955, 0.13983274717640137, 0.0012485066712178694, 0.6417324290059848, 0.17229392062806598, 0.032461173451664604, 0.6397548321171183, 0.007981183066464378, 0.0004200622666560199, 0.11509706106374945, 0.03822566626569781, 0.0004200622666560199, 0.07015039853155532, 0.028984296399265374, 0.015122241599616715, 0.08401245333120398, 0.2945574408999105, 0.0689251406962263, 0.07282656375450325, 0.04226541646466707, 0.1511801435082322, 0.015497319370377925, 0.040856569249178167, 0.24914921141607585, 0.024058775526041253, 0.04053145066098842, 0.04393744497286412, 0.35971216631989694, 0.00041063032684919744, 0.00041063032684919744, 0.00041063032684919744, 0.00041063032684919744, 0.21434903061528104, 0.0012318909805475924, 0.1909431019848768, 0.1880686896969324, 0.003133568868730224, 0.021934982081111568, 0.0012186101156173093, 0.035687867671649776, 0.007485747853077757, 0.004874440462469237, 0.9073422746567738, 0.0017408715937390134, 0.016190105821772823, 0.00017408715937390133, 0.019933110927483177, 0.02391973311297981, 0.003986622185496635, 0.09368562135917093, 0.0019933110927483175, 0.8272241034905518, 0.003986622185496635, 0.02591304420572813, 0.005464318737549539, 0.9890416914964666, 0.9868839339248782, 0.9913200491987469, 0.9907065429699897, 0.9912358129149454, 0.013287454885708821, 0.004982795582140808, 0.0016609318607136026, 0.009965591164281615, 0.0033218637214272053, 0.9550358199103215, 0.009965591164281615, 0.006802742828553912, 0.027210971314215647, 0.002267580942851304, 0.004535161885702608, 0.9047647961976703, 0.03628129508562086, 0.002267580942851304, 0.015873066599959126, 0.9796106647639024, 0.0087621705256163, 0.01051460463073956, 0.9884736919198593, 0.021997747858029548, 0.9060322399025921, 0.0027497184822536935, 0.0013748592411268468, 0.00412457772338054, 0.0027497184822536935, 0.015123451652395316, 0.0013748592411268468, 0.00824915544676108, 0.03849605875155171, 0.03504306703633755, 0.9461628099811138, 0.9872691132129955, 0.04679905701317518, 0.02097888762659577, 0.6164565441045834, 0.015492101631947646, 0.12393681305558117, 0.012910084693289706, 0.036148237141211174, 0.03324346808522099, 0.08327004627171859, 0.010973571989296249, 0.04869524846231549, 0.06999941966457851, 0.06661780518802883, 0.10111027284883563, 0.11565121509799929, 0.0733810341411282, 0.34695364529399786, 0.05816376899665461, 0.050386055700590335, 0.06898493532161361, 0.0033768013686037743, 0.047275219160452846, 0.023637609580226423, 0.9184899722602267, 0.9899005459542397, 0.005556265066815717, 0.050006385601341456, 0.005556265066815717, 0.016668795200447152, 0.9167837360245934, 0.0032227276149857345, 0.05639773326225036, 0.009668182844957204, 0.9297569169233845, 0.04545340599723732, 0.07364910169605834, 0.12493609990684484, 0.01798690932510996, 0.35414766063088116, 0.04229354354823152, 0.06562791240242823, 0.03645995133468235, 0.22775316267064905, 0.01166718442709835, 0.05882406097590233, 0.00305579537537155, 0.07830475649389596, 0.08422536003367834, 0.25191213125719214, 0.025974260690658172, 0.01546996408781847, 0.006302577961703821, 0.47383927039355095, 0.0021008593205679403, 0.052064255963208905, 0.0068405591776478855, 0.08208671013177463, 0.019001553271244125, 0.6055795027545503, 0.02869234543957863, 0.02698220564516666, 0.01957159986938145, 0.15866296981488845, 0.00038003106542488255, 0.9739715894899738, 0.1424446218046031, 0.11968719701925232, 0.00033714703385704877, 0.3091638300469137, 0.002360029236999341, 0.0490548934262006, 0.20211964679730074, 0.0010114411015711463, 0.1736307224363801, 0.00033714703385704877, 0.9938941910431237, 0.9950767117824537, 0.9836471163716872, 0.005653098307467353, 0.005653098307467353, 0.9864656546530531, 0.9929120052911621, 0.9813762273548936, 0.03082011457346727, 0.9348768087285071, 0.005136685762244545, 0.025683428811222722, 0.07341974866875439, 0.011622431256443745, 0.011622431256443745, 0.23925199952289075, 0.01048853552410777, 0.4694328331870937, 0.09694808511472587, 0.005669478661679875, 0.06434858281006658, 0.01729190991812362, 0.16242101909721032, 0.002900375341021613, 0.002900375341021613, 0.002900375341021613, 0.8295073475321812, 0.918079244493956, 0.004230779928543576, 0.004230779928543576, 0.008461559857087152, 0.008461559857087152, 0.05076935914252291, 0.004230779928543576, 0.06313144337167137, 0.24522130896434333, 0.007304464522342142, 0.024522130896434333, 0.0015652423976447447, 0.498790577382792, 0.03443533274818438, 0.09234930146103994, 0.03234834288465806, 0.9625929726502319, 0.027115295004231883, 0.9861466085945663, 0.9846894361889476, 0.02116999915577511, 0.010055749598993177, 0.0005292499788943777, 0.6800862228792754, 0.05345424786833215, 0.09685274613767113, 0.13760499451253821, 0.9630291868302503, 0.015449981547730028, 0.0033796834635659435, 0.5504055926378822, 0.02752027963189411, 0.10706354400653542, 0.11195201473062188, 0.0021123021647287145, 0.15878477129717852, 0.021967942513178632, 0.0013277327892580492, 0.1060755575591279, 0.05983749400771317, 0.029918747003856584, 0.05439772182519379, 0.0040798291368895345, 0.04487812050578488, 0.0040798291368895345, 0.6949308963168507, 0.992896433454118, 0.005281364007734671, 0.06983641121145782, 0.9291279056828736, 0.9834962116759467, 0.9893765346596047, 0.9825803697291472, 0.7457814158541594, 0.0006635065977350172, 0.003981039586410103, 0.029857796898075776, 0.18511834076806982, 0.003981039586410103, 0.003981039586410103, 0.010616105563760275, 0.012606625356965327, 0.003317532988675086, 0.9871606606662544, 0.010229644151981911, 0.02153201658253704, 0.0008569956848770962, 0.21896239748609808, 0.0931982807303842, 0.1258712412163235, 0.11162368795524177, 0.011462317285231161, 0.012854935273156443, 0.4033235941952834, 0.00021424892121927404, 0.10962929353886756, 0.021522315295974, 0.10761157647987, 0.09483270177288544, 0.009416012941988626, 0.02488517706096994, 0.001345144705998375, 0.6295277224072395, 0.022348944502503847, 0.08641591874301488, 0.0074496481675012825, 0.028308663036504873, 0.019369085235503333, 0.008939577801001538, 0.002979859267000513, 0.8239310873256419, 0.0032993854196758815, 0.009898156259027645, 0.9832168550634127, 0.00776929043535067, 0.13402026000979905, 0.005826967826513003, 0.14567419566282505, 0.017480903479539008, 0.034961806959078016, 0.6545627191782939, 0.009739732705924908, 0.014609599058887363, 0.9252746070628662, 0.019479465411849816, 0.029219198117774726, 0.007600446582693359, 0.031035156879331213, 0.016150948988223387, 0.16277623097934943, 0.0006333705485577799, 0.10830636380338036, 0.007600446582693359, 0.00031668527427888995, 0.6460379595289355, 0.019317801731012288, 0.0011576205338270033, 0.0030869880902053425, 0.34072631045641466, 0.05247879753349082, 0.0030869880902053425, 0.5992615630111121, 0.9779711584738211, 0.985889005180201, 0.9815285900734729, 0.008970166050684346, 0.01794033210136869, 0.033434255279823466, 0.01386298389651217, 0.00815469640971304, 0.8211779284581032, 0.0016309392819426082, 0.02772596779302434, 0.01386298389651217, 0.05382099630410607, 0.005128761734760954, 0.041030093878087634, 0.015386285204282863, 0.897533303583167, 0.010257523469521908, 0.010257523469521908, 0.020515046939043817, 0.3692710280348574, 0.04491134124748265, 0.13188251001244908, 0.01069317648749587, 0.0007128784324997246, 0.0007128784324997246, 0.020673474542492017, 0.0007128784324997246, 0.4198853967423378, 0.03593181484980978, 0.4532451732809339, 0.20771110514056706, 0.045072364241428055, 0.0375077716414681, 0.06555980253298627, 0.0072494012416282885, 0.026791265458191504, 0.08825358033286612, 0.03246470990816147, 0.023622168172249002, 0.049764034282871225, 0.039055318044785015, 0.48157726847158294, 0.0047244336344498, 0.18708757192421208, 0.09543355941588597, 0.015433149872536014, 0.09637844614277592, 0.007244131572823027, 0.16853872102285755, 0.0038596653669356693, 0.016725216590054565, 0.08534148978002201, 0.19512752688396995, 0.07419134538665231, 0.43056711426704575, 0.008577034148745931, 0.01115014439336971, 0.006432775611559449, 0.0353739148328844, 0.44429637030102803, 0.0967830309827717, 0.030846053734275194, 0.005093843735935353, 0.15196633812207136, 0.01952640098775219, 0.004527861098609203, 0.009904696153207632, 0.20120682756944644, 0.981748161916492, 0.036265673070600773, 0.046820607770253236, 0.3956747315613308, 0.004600868971643381, 0.14831036449768076, 0.08281564148958086, 0.048444443877892075, 0.20974549723668356, 0.015697082373842125, 0.011366852753471882, 0.26600831559306237, 0.010031740374345531, 0.00033439134581151773, 0.07774598790117787, 0.0031767177852094182, 0.012372479795026156, 0.5771594628706795, 0.003511109131020936, 0.049322723507198865, 0.00016719567290575887, 0.17652391930819897, 0.03063638268985271, 0.023342005858935398, 0.004376626098550387, 0.7440264367535658, 0.01750650439420155, 0.0029177507323669247, 0.00146977527144413, 0.9788703307817905, 0.01616752798588543, 0.9843924064600014, 0.007882063849457329, 0.9852579811821661, 0.9606485305991519, 0.6988095614332389, 0.000691890654884395, 0.01660537571722548, 0.14252947490618537, 0.029059407505144588, 0.006918906548843949, 0.027675626195375797, 0.00138378130976879, 0.06711339352378631, 0.008994578513497135, 0.016410441635975596, 0.9791563509465439, 0.0018233824039972884, 0.9828070371192691, 0.9416343453374048, 0.02781198488338326, 0.01191942209287854, 0.01589256279050472, 0.12721196068536358, 0.129740505483085, 0.11439485429691364, 0.1002698799096423, 0.18118331343672756, 0.09198671591710662, 0.06739879753926391, 0.09094042151804949, 0.04769358635702116, 0.04908864555576401, 0.009925382224231097, 0.9776501490867631, 0.004962691112115549, 0.005533790007120545, 0.0022135160028482178, 0.9794808312603365, 0.003320274004272327, 0.007747306009968763, 0.0010369433415007318, 0.15450455788360903, 0.8419979932985943, 0.0010369433415007318, 0.10763816116706176, 0.10139826776607268, 0.0054599067258654516, 0.6793683940326869, 0.017939693527843626, 0.017159706852719992, 0.017939693527843626, 0.024959573603956352, 0.021839626903461806, 0.006239893400989088, 0.23131086910425044, 0.001133876809334561, 0.005669384046672805, 0.4878504972161949, 0.11168686571945427, 0.04875670280138612, 0.011905706498012892, 0.015590806128350215, 0.07852096904641835, 0.007370199260674647, 0.972278668998131, 0.024193254035254373, 0.04015050669680513, 0.11736301957527653, 0.22185728700414115, 0.13306289719389905, 0.21889747401046641, 0.03770544378898687, 0.04195213199730279, 0.1497922749842345, 0.015056440011301924, 0.17162554932784568, 0.010167390363024033, 0.021148171955089987, 0.07849225360254554, 0.004880347374251536, 0.008133912290419227, 0.010980781592065956, 0.001220086843562884, 0.6921959359146762, 0.0008133912290419226, 0.97586711380111, 0.007123117618986204, 0.014246235237972409, 0.0033591961083684284, 0.023514372758579, 0.010077588325105287, 0.08733909881757915, 0.05710633384226329, 0.020155176650210573, 0.7961294776833175, 0.9917171704035107, 0.22142411985554586, 0.04865689257972186, 0.03666896252384836, 0.000705172356227853, 0.010577585343417795, 0.0691068909103296, 0.6113844328495486, 0.000705172356227853, 0.0675487429305201, 0.036372400039510824, 0.0025980285742507733, 0.028578314316758505, 0.005196057148501547, 0.03377437146526005, 0.05715662863351701, 0.005196057148501547, 0.7612223722554765, 0.6737467674060285, 0.00449164511604019, 0.012726327828780538, 0.025452655657561076, 0.13998960611658592, 0.0014972150386800634, 0.12277163317176519, 0.0037430375967001583, 0.015720757906140664, 0.0007486075193400317, 0.9740051000181724, 0.022136479545867553, 0.9974246834354534, 0.9886070494312099, 0.06938893747469627, 0.0544226960585853, 0.07211007227762553, 0.0027211348029292652, 0.006802837007323163, 0.0013605674014646326, 0.7932107950538808, 0.10899535753342823, 0.05307600019019114, 0.004738928588409923, 0.04454592873105328, 0.007582285741455877, 0.007582285741455877, 0.0018955714353639692, 0.0009477857176819846, 0.7686542170400895, 0.9837116676450948, 0.9876612100179398, 0.9657056627031578, 0.019556857637163957, 0.28305978159053097, 0.09984290477920547, 0.004117233186771359, 0.023674090823935318, 0.008234466373542719, 0.1595427859873902, 0.0020586165933856797, 0.005146541483464199, 0.39319576933666484, 0.9690359887476936, 0.4244659999241357, 0.0005047158144163325, 0.0005047158144163325, 0.0994290154400175, 0.014132042803657312, 0.0045424423297469926, 0.00605658977299599, 0.001009431628832665, 0.04744328655513526, 0.40124907246098435, 0.9794013078355427, 0.9935640006415892, 0.01269934420486217, 0.9778495037743872, 0.9843633985841388, 0.09517395794627861, 0.0946561453350366, 0.19210847877078, 0.0285832561405581, 0.15047634482692362, 0.08036451726475756, 0.03956088349888839, 0.2548673672533097, 0.03686825792043002, 0.027340505873577316, 0.9774290365564318, 0.020399204165689525, 0.07804912898176862, 0.1569851798837846, 0.006208453441731594, 0.08248373858300546, 0.010643063042968448, 0.008869219202473706, 0.6093153592099436, 0.01862536032519478, 0.008869219202473706, 0.3801694485050966, 0.013074610662873692, 0.0019109046353430782, 0.2688341100143183, 0.03912325806044513, 0.016393550292680092, 0.23101831302016054, 0.017902159215319364, 0.030172178452785445, 0.0014080349944633208, 0.9889497273903615, 0.9927813087159669, 0.1324701539631225, 0.08013125699147533, 0.23735081184816742, 0.016229115340045636, 0.14099043951664647, 0.0645107334766814, 0.010751788912780233, 0.2665632194602496, 0.020692122058558186, 0.030226727320834996, 0.9752597213234571, 0.013003462950979428, 0.0018576375644256326, 0.009288187822128162, 0.2833791404799779, 0.41312490168126115, 0.0364858824059094, 0.07133562658733855, 0.021597024563139198, 0.023724004254963512, 0.07002671600775437, 0.012434650506049841, 0.05824652079149662, 0.009653215524433429, 0.9930707610580767, 0.965848076977325, 0.9973320348313764, 0.9866067723408374, 0.9671925840151212, 0.024451497910494637, 0.002716833101166071, 0.005433666202332142, 0.973740103911897, 0.0029507275876118092, 0.020655093113282664, 0.0030273036963084136, 0.9293822347666829, 0.02421842957046731, 0.042382251748317785, 0.9858512020072472, 0.025453259394045965, 0.020362607515236775, 0.002545325939404597, 0.9494065753979145, 0.9941297936898015, 0.9924475587213701, 0.9943028370608283, 0.9823420037193552, 0.9943655287855591, 0.9684985279304308, 0.02128568193253694, 0.9817893649744555, 0.013853145444564667, 0.8839626140817455, 0.06332866488943847, 0.003958041555589905, 0.025727270111334383, 0.0019790207777949523, 0.005937062333384858, 0.0006596735925983175, 0.9590489315604238, 0.9935227902285567, 0.13015481546665922, 0.008676987697777281, 0.0021692469244443202, 0.0021692469244443202, 0.8546832882310622, 0.02097576141151226, 0.964885024929564, 0.008120642494969448, 0.9907183843862728, 0.9827817057288332, 0.9900238132956514, 0.9764844264642333, 0.9931547396548854, 0.9810655409469721, 0.0049312435985771, 0.012328108996442752, 0.7729724340769605, 0.0036984326989328254, 0.027121839792174054, 0.05794211228328093, 0.0036984326989328254, 0.11218579186762904, 0.001232810899644275, 0.0049312435985771, 0.0014366958361507931, 0.001934013625587606, 0.19091477361157655, 0.02663413050094932, 0.01182511188216422, 0.03912233276902929, 0.0005525753215964589, 0.004420602572771671, 0.7230448083089664, 0.00011051506431929178, 0.993070315273943, 0.976757788619189, 0.02154612769012917, 0.004908832820439213, 0.03558903794818429, 0.5379262632397971, 0.012272082051098032, 0.004090694017032677, 0.0404978707686235, 0.0020453470085163386, 0.008181388034065354, 0.0020453470085163386, 0.35220875486651354, 0.04573883581950101, 0.04139928782903602, 0.04452376238217081, 0.13912590857430762, 0.37389545485846365, 0.22583007742379815, 0.04113891494960812, 0.056153750996616986, 0.03037683593325494, 0.0017358191961859965, 0.8826383668847505, 0.014589063915450421, 0.0012157553262875352, 0.0036472659788626054, 0.0012157553262875352, 0.04255143642006373, 0.04255143642006373, 0.007294531957725211, 0.0024315106525750704, 0.002884075308957967, 0.1169011858564296, 0.435495371652653, 0.045376118194272015, 0.07114052428762985, 0.08556090083241968, 0.008075410865082308, 0.20265435837611315, 0.01288220304667892, 0.019034897039122582, 0.9923665128916004, 0.9711191017845462, 0.646111365008283, 0.017934073897454217, 0.005331751699243146, 0.03126345314556208, 0.004604694649346353, 0.019388187997247803, 0.1083315004346221, 0.11947970853303959, 0.047743412943222714, 0.05014189573960169, 0.11869526882108838, 0.3705799482004938, 0.02428748074886957, 0.112623398633871, 0.09166565314895934, 0.05092536286053297, 0.1535595557025302, 0.014494141737228615, 0.01312307427559888, 0.7899888568781834, 0.007841080465292144, 0.0044106077617268305, 0.008331147994372902, 0.000490067529080759, 0.032834524448410854, 0.1386891107298548, 0.007351012936211385, 0.009311283052534421, 0.7132209381190946, 0.006456922864903157, 0.005918845959494561, 0.0005380769054085965, 0.04815788303406938, 0.015335191804144999, 0.11084384251417086, 0.08743749712889692, 0.011568653466284823, 0.0005380769054085965, 0.9881761104563039, 0.9705810259929472, 0.025659559633197868, 0.006414889908299467, 0.2865317492373762, 0.008553186544399289, 0.07484038226349378, 0.5431273455693548, 0.05345741590249556, 0.0005992740572913095, 0.6747825885100145, 0.11506061899993143, 0.1264468260884663, 0.001198548114582619, 0.04314773212497429, 0.005393466515621786, 0.005992740572913095, 0.01378330331770012, 0.01378330331770012, 0.9640092870300934, 0.0012141174899623342, 0.015783527369510345, 0.006070587449811671, 0.009712939919698673, 0.8849408129435052, 0.017746139296995426, 0.0011830759531330285, 0.0082815316719312, 0.024844595015793596, 0.02129536715639451, 0.01419691143759634, 0.020112291203261485, 0.00709845571879817, 0.9778806009187304, 0.009726474123031778, 0.9823738864262097, 0.003242158041010593, 0.04800256682780352, 0.013137544605504122, 0.010863738808397638, 0.6227701433186088, 0.0007579352657021608, 0.14400770048341055, 0.05937159581333593, 0.0050529017713477386, 0.09272074750423101, 0.0032843861513760305, 0.9651872173496621, 0.9914429963482401, 0.010123576283986533, 0.951616170694734, 0.0020247152567973064, 0.02429658308156768, 0.0020247152567973064, 0.00607414577039192, 0.004049430513594613, 0.9898245609148508, 0.007346640472795717, 0.0005877312378236574, 0.8266439859989742, 0.0017631937134709723, 0.1607444935447703, 0.0002938656189118287, 0.0008815968567354862, 0.002057059332382801, 0.027758881777501403, 0.03464794732812219, 0.28630145950079916, 0.10070192878407444, 0.10495693985945787, 0.13514725653717838, 0.028974599227610955, 0.2261234457203764, 0.03707938222834129, 0.018235761751643258, 0.9731541641426353, 0.0015781117586082132, 0.03813770083303182, 0.001052074505738809, 0.3637547603591932, 0.0005260372528694045, 0.42319696993343586, 0.08784822122919055, 0.00026301862643470224, 0.0833769045798006, 0.028695100728384115, 0.0015102684593886375, 0.9439177871178985, 0.015102684593886376, 0.0015102684593886375, 0.00604107383755455, 0.003020536918777275, 0.9823346726651712, 0.9877592668598895, 0.054850264362066435, 0.8050603317658138, 0.000884681683259136, 0.003538726733036544, 0.04777281089599335, 0.000884681683259136, 0.00884681683259136, 0.03273322228058803, 0.001769363366518272, 0.04511876584621594, 0.05337026224564765, 0.5721992050598945, 0.23710395194377892, 0.09580399534259701, 0.02231051946334451, 0.0026247669956875894, 0.0039371504935313845, 0.012686373812490015, 0.10068158391707498, 0.0007744737224390383, 0.00038723686121951915, 0.0464684233463423, 0.04801737079122038, 0.002323421167317115, 0.7949972760836729, 0.005034079195853749, 0.0011617105836585575, 0.09419152729219687, 0.0009056877624249699, 0.15306123184981993, 0.01358531643637455, 0.0018113755248499398, 0.7272672732272508, 0.00815118986182473, 0.0009056877624249699, 0.01870062553233029, 0.9350312766165145, 0.043634792908770675, 0.9514321980920115, 0.002287096630028874, 0.001143548315014437, 0.04002419102550529, 0.001143548315014437, 0.001143548315014437, 0.002287096630028874, 0.012706811509221682, 0.10165449207377346, 0.005864682235025392, 0.0009774470391708987, 0.00781957631336719, 0.693987397811338, 0.026391070057614263, 0.1485719499539766, 0.009560151773990262, 0.07557072354678017, 0.05326370274080289, 0.18164288370581497, 0.02048603951569342, 0.5813482769231221, 0.035964380483106226, 0.009104906451419297, 0.021851775483406312, 0.01138113306427412, 0.002941894931886023, 0.005883789863772046, 0.002941894931886023, 0.9855348021818177, 0.03761247816112784, 0.009751383226959068, 0.0041791642401253154, 0.005572218986833754, 0.006965273733542192, 0.8859828189065668, 0.04597080664137847, 0.0013930547467084385, 0.9873606577286699, 0.019572922185642307, 0.071245436755738, 0.65608435166273, 0.003131667549702769, 0.006263335099405538, 0.008612085761682615, 0.08846960827910322, 0.06889668609346092, 0.009395002649108307, 0.06889668609346092, 0.9912992558302848, 0.9852167350290215, 0.006841782882145982, 0.0018633419820442449, 0.022049546787523563, 0.002173898979051619, 0.010558937898250721, 0.0018633419820442449, 0.025776230751612055, 0.8211127000874973, 0.09316709910221224, 0.021428432793508815, 0.02633104204118128, 0.9716154513195892, 0.03428780862749569, 0.0985774498040501, 0.002857317385624641, 0.07071860529420985, 0.013572257581717043, 0.11357836607857948, 0.6119421400879439, 0.014286586928123204, 0.026668295599163314, 0.013572257581717043, 0.011950164898901782, 0.9799135217099462, 0.04018772647294974, 0.02143345411890653, 0.9377136177021607, 0.9943101971916558, 0.9766958204755101, 0.014749868060396664, 0.9498915030895453, 0.0029499736120793332, 0.014749868060396664, 0.017699841672476, 0.0005586802839648412, 0.7190215254627506, 0.005028122555683571, 0.1804537317206437, 0.06871767492767547, 0.00893888454343746, 0.00446944227171873, 0.005028122555683571, 0.0072628436915429355, 0.24946860441531132, 0.001904340491719934, 0.03427812885095881, 0.7122233439032553, 0.017276204773402207, 0.7330046882429223, 0.006910481909360883, 0.11797179830980364, 0.031097168592123976, 0.0014808175520059036, 0.031097168592123976, 0.04787976751485755, 0.010365722864041325, 0.002961635104011807, 0.021630216007187352, 0.9733597203234309, 0.9834356132156767, 0.007930932364642554, 0.007930932364642554, 0.9931626995112979, 0.03450444445174121, 0.9546229631648401, 0.007988760552483487, 0.0019971901381208718, 0.9696358120576832, 0.0019971901381208718, 0.01697611617402741, 0.0019971901381208718, 0.9854165547953382, 0.9595404783399857, 0.03051542157264972, 0.0067812047939221605, 0.97691279426788, 0.011633575199027916, 0.965586741519317, 0.02326715039805583, 0.8196685265708946, 0.0030814606262063705, 0.006162921252412741, 0.024651685009650964, 0.0523848306455083, 0.024651685009650964, 0.020029494070341408, 0.04930337001930193, 0.036150352383752055, 0.9579843381694295, 0.9883798413683649, 0.03067957765270484, 0.9642152976564379, 0.9918734266757164, 0.008781294909147851, 0.014269604227365259, 0.06805503554589584, 0.020855575409226147, 0.029636870318373996, 0.7562890240503587, 0.09549658213698288, 0.0043906474545739255, 0.04352039199284779, 0.10191955047897688, 0.06844232586909396, 0.10601121126462923, 0.4281365058441693, 0.061374911784785345, 0.03719691623320324, 0.11717028613459021, 0.010415136545296907, 0.025665872200910236, 0.1293051835710584, 0.8653500746678524, 0.10902886711912507, 0.10466771243436006, 0.001453718228255001, 0.040704110391140025, 0.7021459042471654, 0.002907436456510002, 0.010176027597785006, 0.011629745826040008, 0.013083464054295007, 0.002907436456510002, 0.18934081515638948, 0.04567603169752076, 0.010150229266115725, 0.05582626096363649, 0.004294327766433576, 0.11516606282708226, 0.4817454967071848, 0.03162186809828361, 0.06363412962987935, 0.003123147466497146, 0.984273844564007, 0.9937149690764447, 0.09632245190745865, 0.09680166808610272, 0.3848105914511905, 0.013897269180678113, 0.052953387740170055, 0.08434204744135683, 0.07260125106457704, 0.12914876014457763, 0.021325119949661242, 0.04768200977508525, 0.04434000115180074, 0.05620563526284601, 0.14051408815711502, 0.021857747046662337, 0.0711938046662716, 0.4103011374187759, 0.01935971881275807, 0.2217000057590037, 0.0037470423508564007, 0.011241127052569203, 0.09717656186825481, 0.6989991309024899, 0.022683866026883687, 0.014002386436347955, 0.032485536532327254, 0.006721145489447018, 0.028564868330149828, 0.05012854344212568, 0.017643006909798423, 0.03108529788869246, 0.9675042718616881, 0.01990749530579605, 0.00796299812231842, 0.00398149906115921, 0.9847885426884324, 0.9860486531186843, 0.010655503622165332, 0.9643230778059625, 0.015983255433248, 0.005327751811082666, 0.992387370728627, 0.09570267805423888, 0.11024407436636703, 0.22995696493598033, 0.21947363271095768, 0.024010212515374416, 0.2691849177780005, 0.01758494437745732, 0.003381720072587946, 0.03009730864603272, 0.0003381720072587946, 0.18972290777645048, 0.0588089875856922, 0.03937645255737652, 0.01176179751713844, 0.4433686281460447, 0.008182120011922393, 0.12733424268554225, 0.03528539255141532, 0.0577862225842019, 0.028126037540983227, 0.005980272354691517, 0.9688041214600256, 0.011960544709383033, 0.9919803009721664, 0.9943937297669684, 0.9742867053959183, 0.010476201133289445, 0.7672513725585719, 0.03438386432720873, 0.0363486565744778, 0.0559965790471685, 0.09431002786891537, 0.0029471883709036055, 0.00392958449453814, 0.00196479224726907, 0.00196479224726907, 0.00196479224726907, 0.012157275263647533, 0.03890328084367211, 0.04255046342276637, 0.026746005580024573, 0.00364718257909426, 0.7841442545052659, 0.03282464321184834, 0.035256098264577845, 0.024314550527295066, 0.9858690289900207, 0.9280223103310642, 0.06843329986254251, 0.0016691048746961586, 0.04951319979030073, 0.4774814590888723, 0.1102585606441419, 0.0469916942454243, 0.06326686639871759, 0.08091740521285258, 0.04401173314693398, 0.06532991638998012, 0.05478543865686053, 0.00733528885782233, 0.002834040819262019, 0.0014170204096310094, 0.9933313071513376, 0.9910885710083438, 0.0004997132646216812, 0.018989104055623887, 0.263348890455626, 0.5991562042813958, 0.0004997132646216812, 0.0064962724400818555, 0.10993691821676987, 0.0009994265292433623, 0.001327615267220833, 0.001327615267220833, 0.9200373801840372, 0.001327615267220833, 0.07567407023158748, 0.9832690329645978, 0.9793189088816577, 0.05391266954462885, 0.13453661627273292, 0.3292961350027046, 0.15046535954728232, 0.020155986682026013, 0.2569428818979243, 0.01213035064754149, 0.015071041713612156, 0.02168759661227115, 0.005758853337721718, 0.013377005358359536, 0.06762819375615099, 0.024152926341482497, 0.30469845538485607, 0.16684098349731755, 0.28872036565125997, 0.034185680360252144, 0.03492884732460545, 0.039016265628548645, 0.02675401071671907, 0.9707495323983977, 0.02162560839501381, 0.004805690754447514, 0.0012014226886118784, 0.0020910438885615853, 0.014637307219931096, 0.006273131665684755, 0.010455219442807926, 0.0020910438885615853, 0.9639712326268908, 0.9904550375411698, 0.2132580661532723, 0.021325806615327233, 0.04028207916228477, 0.0023695340683696922, 0.011847670341848462, 0.020141039581142384, 0.030803942888806002, 0.61607885777612, 0.04383638026483931, 0.30621360448341145, 0.003466569107359375, 0.016755084018903646, 0.0075108997326119795, 0.0375544986630599, 0.0011555230357864583, 0.03408792955570052, 0.5378959731585964, 0.054887344199856775, 0.9913114715993795, 0.9853413291187922, 0.005375841892513156, 0.14425175744910304, 0.01971142027254824, 0.014335578380035083, 0.7615776014393638, 0.011647657433778505, 0.004479868243760963, 0.0367349195988399, 0.0017919472975043854, 0.9722808722249509, 0.16054813649331795, 0.026319366638248843, 0.005263873327649769, 0.8027406824665897, 0.35798668782388177, 0.019041845097014988, 0.0009520922548507493, 0.008568830293656744, 0.6131474121238826, 0.11688703013112212, 0.05275646494530978, 0.005082044788309657, 0.6371916156009204, 0.04041435617370061, 0.01403612370104572, 0.017182151427142175, 0.09801086377454339, 0.004840042655533007, 0.01379412156826907, 0.0013725067564924127, 0.04529272296424961, 0.0658803243116358, 0.02745013512984825, 0.0027450135129848253, 0.6917434052721759, 0.12352560808431713, 0.006862533782462063, 0.034312668912310315, 0.5849030700428243, 0.008870567886905392, 0.0922169453242873, 0.04675528490389717, 0.03492786105468998, 0.006098515422247457, 0.030492577111237283, 0.016262707792659883, 0.173160877292299, 0.006283318919891319, 0.09150695758932408, 0.05745785709097093, 0.031921031717206075, 0.008512275124588286, 0.7767451051186811, 0.0148964814680295, 0.0148964814680295, 0.021042556202421587, 0.9749717707122002, 0.002338061800269065, 0.021382864232369438, 0.9729203225728094, 0.005652653570997253, 0.016957960712991757, 0.005652653570997253, 0.9242088588580508, 0.03108959464048489, 0.016957960712991757, 0.9487505348738422, 0.03120889917348165, 0.01872533950408899, 0.5427059508598332, 0.014442071041592234, 0.10380238561144418, 0.09387346177034951, 0.02843282736313471, 0.008574979680945389, 0.04422884256487621, 0.020309162402239078, 0.12411154801368325, 0.01963219032216444, 0.015399868138713864, 0.09519918485750388, 0.0006999940063051756, 0.027999760252207025, 0.002099982018915527, 0.8574926577238401, 0.0006999940063051756, 0.0013999880126103511, 0.9786164464362347, 0.9789608719741836, 0.9953188442854816, 0.9948840052366352, 0.003979536020946541, 0.009204379398714175, 0.9595565523159528, 0.0023010948496785437, 0.020709853647106896, 0.0046021896993570875, 0.0046021896993570875, 0.060663041399831315, 0.9369069727307281, 0.0013480675866629182, 0.0013480675866629182, 0.8967497128490515, 0.09101340369214253, 0.010707459257899121, 0.9644486916526493, 0.20692357859650362, 0.5458043455181221, 0.0053109704279457985, 0.013685962256629557, 0.06638713034932248, 0.0016341447470602456, 0.05760360233387366, 0.04514324863753929, 0.015320107003689803, 0.04248776342356639, 0.16441748552239335, 0.5357883234684958, 0.00899797184450909, 0.027402914253732227, 0.0008179974404099172, 0.03803688097906115, 0.2081803485843239, 0.003680988481844627, 0.012678960326353716, 0.9852196239445609, 0.19281914961773583, 0.054284973132798106, 0.02915801774707225, 0.2118995114614421, 0.07376844121263901, 0.10104529652441627, 0.06570631648994622, 0.05522555435044559, 0.09190822183869778, 0.12415672072946893, 0.9735488108365074, 0.9726127060032065, 0.023955977980374545, 0.9924535926503664, 0.0026577639285223827, 0.07441738999862671, 0.018604347499656677, 0.90363973569761, 0.0893906601918811, 0.13119751657413842, 0.24384799140778451, 0.0858940867490014, 0.09836013119752904, 0.07859688999864375, 0.043175080772949376, 0.15856200438797957, 0.049256078064914076, 0.021739565318773805, 0.9835361771697569, 0.011357267098945072, 0.21744434299855253, 0.4204554923921957, 0.04684872678314842, 0.08517950324208805, 0.08541611297331607, 0.010884047636489027, 0.0603354814631457, 0.02531724124139839, 0.03667450834034346, 0.9655056549818473, 0.031145343709091847, 0.9939548452634578, 0.0345013142428519, 0.14578496508499186, 0.4630617568476888, 0.062914161266377, 0.0598699276567136, 0.024353868877307228, 0.04938423411231743, 0.03991328510447573, 0.11398963627295187, 0.006088467219326807, 0.013314698740888819, 0.009431244941462913, 0.8576885105589215, 0.08210730890214772, 0.0005547791142037008, 0.004438232913629606, 0.03162240950961095, 0.0005547791142037008, 0.0184317402510439, 0.9768822333053266, 0.004607935062760975, 0.06827298076342012, 0.926561881789273, 0.9966436556010526, 0.061350835617375976, 0.05171788588079956, 0.0024871960385422693, 0.14165173629031208, 0.6629364425270124, 0.019384337379750066, 0.029017287116326475, 0.023174350390862096, 0.007777422533219476, 0.0005527102307871709, 0.17904029339936206, 0.0006730838097720378, 0.0006730838097720378, 0.8124121583948497, 0.005384670478176303, 0.0013461676195440757, 0.00346585195311141, 0.07971459492156244, 0.02426096367177987, 0.8837922480434096, 0.00693170390622282, 0.987403802014312, 0.09595416939824555, 0.06876715473540931, 0.0627255959214457, 0.12296349115478875, 0.2350877150257016, 0.11372346002755028, 0.1528158994120207, 0.04691092726136449, 0.09435493324160812, 0.006752330439135798, 0.010658476433994719, 0.8786291877762603, 0.09175557973612845, 0.0018536480754773425, 0.003707296150954685, 0.008804828358517376, 0.004634120188693356, 0.007974862875301747, 0.9319714751091268, 0.03516189540473952, 0.0007249875341183406, 0.02283710732472773, 0.0003624937670591703, 0.0003624937670591703, 0.0003624937670591703, 0.06541553810346112, 0.05898122288016987, 0.01394101631713106, 0.48150125587629583, 0.03646111959865046, 0.1218945272856844, 0.07399462506784947, 0.011438782619184459, 0.12618407076787855, 0.011081320662334944, 0.08663945700746312, 0.08740617786593624, 0.0005111472389820832, 0.4825229935990866, 0.005622619628802916, 0.05699291714650229, 0.16791186800561436, 0.0035780306728745827, 0.09814026988455998, 0.010734092018623749, 0.9465099243205564, 0.04330437562250911, 0.12977054917234704, 0.04177545076096103, 0.0017776787557855758, 0.7235152536047293, 0.0008888393778927879, 0.023109823825212483, 0.0364424144936043, 0.04266429013885382, 0.004861402991902768, 0.004861402991902768, 0.019445611967611073, 0.967419195388651, 0.9692043995688614, 0.16754943023072016, 0.0706812949106081, 0.02711380821161032, 0.11865187866961097, 0.07184000466324102, 0.05075148716532188, 0.40763409097626113, 0.03846916378741293, 0.04240877694636486, 0.004866580961058262, 0.04671773824622591, 0.2907940850020184, 0.0028602696885444436, 0.6407004102339553, 0.0009534232295148145, 0.01716161813126666, 0.9912164550047602, 0.002541950382191281, 0.9341667654552958, 0.013980727102052046, 0.02669047901300845, 0.010167801528765124, 0.0038129255732869214, 0.0012709751910956405, 0.0012709751910956405, 0.0012709751910956405, 0.002541950382191281, 0.9136132836170183, 0.07865544825841879, 0.9837273187004013, 0.98223403305899, 0.13769663964771062, 0.04172625443870019, 0.05424413077031025, 0.012517876331610056, 0.014604189053545066, 0.7302094526772533, 0.006258938165805028, 0.0020863127219350095, 0.12132813133599174, 0.031198662343540733, 0.8354308471992574, 0.006933036076342385, 0.005130747693277241, 0.03463254692962137, 0.8594002386239378, 0.020522990773108964, 0.0012826869233193102, 0.07824390232247792, 0.0012826869233193102, 0.006577403329353336, 0.9734556927442938, 0.006577403329353336, 0.9866234491841579, 0.9736774016620072, 0.005602472266929202, 0.9916375912464687, 0.9931845142384291, 0.9837109157397796, 0.020383025708271045, 0.0019412405436448612, 0.02814798788285049, 0.9434429042114025, 0.0009706202718224306, 0.0048531013591121535, 0.986549892688278, 0.09131423322598552, 0.26696730686208264, 0.019023798588746983, 0.01014602591399839, 0.003170633098124497, 0.0012682532392497988, 0.14141023617635257, 0.028535697883120475, 0.006975392815873894, 0.4318402279645565, 0.05177323968459813, 0.19056958437096758, 0.020929607532071584, 0.05507791455808311, 0.0011015582911616624, 0.0011015582911616624, 0.059484147722729766, 0.0022031165823233247, 0.6168726430505309, 0.0533415625233779, 0.04202328980308133, 0.14579280009015683, 0.019722930680912836, 0.4870219132911772, 0.021627986485319193, 0.013895701161552226, 0.013111266418561375, 0.203056536328489, 0.0004482484245662009, 0.05746530532620745, 0.10551006879565958, 0.005652325114053192, 0.16862769923592022, 0.059349413697558515, 0.5171877479358671, 0.02920367975594149, 0.0009420541856755319, 0.05275503439782979, 0.002826162557026596, 0.988634385944857, 0.007323217673665608, 0.9909376014052899, 0.9684417891977748, 0.006604758444051597, 0.004403172296034398, 0.008806344592068796, 0.6890964643293833, 0.18053006413741032, 0.018713482258146192, 0.08476106669866217, 0.002201586148017199, 0.0033023792220257986, 0.0010222873328211003, 0.285218165857087, 0.009200585995389903, 0.040891493312844016, 0.07973841196004583, 0.005111436664105502, 0.5591911710531419, 0.018401171990779806, 0.008997769358954515, 0.0025707912454155757, 0.9820422557487498, 0.0012853956227077878, 0.0012853956227077878, 0.0012853956227077878, 0.0012853956227077878, 0.19910334133576243, 0.17828599418827454, 0.12630256110020974, 0.016422129899457828, 0.09637512729316858, 0.05482034603906604, 0.041914389938032266, 0.22651351435529546, 0.0390375204665944, 0.02125686887229091, 0.5105849447293532, 0.019512800435516685, 0.01436358920947756, 0.0035231445230794016, 0.15447633678117376, 0.0016260667029597236, 0.014634600326637513, 0.010569433569238205, 0.2672169615197146, 0.0035231445230794016, 0.042793597769188584, 0.005034540914022186, 0.005034540914022186, 0.8332165212706718, 0.010069081828044371, 0.012586352285055466, 0.09062173645239935, 0.03383251063971683, 0.9642265532319297, 0.9885433157088953, 0.9926299222317718, 0.9919740342955079, 0.06807504990407749, 0.1299614589077843, 0.028692789628991338, 0.04332048630259477, 0.05175954207582751, 0.006751244618586197, 0.6351795978653181, 0.005626037182155165, 0.030380600783637888, 0.0005626037182155164, 0.9691698046511859, 0.011860093372003467, 0.047440373488013866, 0.015094664291640775, 0.04636218318146809, 0.0010781903065457696, 0.008625522452366157, 0.007547332145820387, 0.15525940414259082, 0.0010781903065457696, 0.7062146507874791, 0.0031573311102659866, 0.968485855726428, 0.000203698781307483, 0.021388372037285715, 0.0001018493906537415, 0.0005092469532687076, 0.00407397562614966, 0.000407397562614966, 0.0011203432971911564, 0.0005092469532687076, 0.37638071193440426, 0.033507063379526233, 0.011475021705317204, 0.1432082708823587, 0.2042553863546462, 0.03534306685237699, 0.08262015627828387, 0.0504900955033957, 0.044293583782524404, 0.01858953516261387, 0.17886364226516438, 0.0647306174960786, 0.15576775794256353, 0.07819458593526295, 0.12397207862848973, 0.2095200627113072, 0.04132402620949657, 0.05023095917695699, 0.08699794991472963, 0.010356898799372575, 0.0194050700048249, 0.12505489558664937, 0.047434615567349764, 0.0043122377788499784, 0.0043122377788499784, 0.795607870197821, 0.03331357660706125, 0.0008766730686068751, 0.25160517069017313, 0.0008766730686068751, 0.10870746050725251, 0.007890057617461876, 0.0035066922744275003, 0.00876673068606875, 0.5847409367607856, 0.8252055354717645, 0.04911937711141456, 0.0026792387515317028, 0.0026792387515317028, 0.01696851209303412, 0.0008930795838439009, 0.02768546709916093, 0.009823875422282911, 0.03572318335375604, 0.02947162626684873, 0.033898176193050154, 0.9368223238806588, 0.018489914287118266, 0.0030816523811863774, 0.9928104852362747, 0.8161287760930479, 0.05333118734865462, 0.0016160965863228672, 0.01131267610426007, 0.0016160965863228672, 0.030705835140134478, 0.08080482931614336, 0.0032321931726457345, 0.9828959708685939, 0.987156274642742, 0.06095685872555141, 0.003386492151419523, 0.18061291474237456, 0.019190122191377296, 0.4831395469358519, 0.1241713788853825, 0.004515322868559364, 0.052490628347002605, 0.07111633517980998, 0.03680640463427401, 0.023295991955483892, 0.10341147648531875, 0.08532393801581702, 0.38230048587109133, 0.14766754792378542, 0.029767100832007197, 0.1589998800538921, 0.024748045654606195, 0.007733764267064436, 0.026853238998727304, 0.0029663461684640625, 0.33457262310623614, 0.05667282416591867, 0.17376543607897377, 0.06276163998539754, 0.01108476726110255, 0.03497166009136579, 0.29538562898600035, 0.001092864377855181, 0.03865772400421423, 0.06428475452386187, 0.12943822194669485, 0.12096827118172657, 0.09490688421259337, 0.41524476570818886, 0.039309258678442566, 0.061244259377463, 0.021935000699020435, 0.014116584608280478, 0.9648029030504736, 0.00881098541598606, 0.01321647812397909, 0.00440549270799303, 0.00440549270799303, 0.0418425362238832, 0.9240226749440874, 0.013947512074627733, 0.013947512074627733, 0.9852604577540451, 0.9288404713765896, 0.012841112507510456, 0.02568222501502091, 0.017121483343347274, 0.008560741671673637, 0.6082114615583278, 0.01448872461506115, 0.014173752340820689, 0.16378558260503906, 0.042206284748221606, 0.03905656200581701, 0.10394085049935171, 0.005669500936328275, 0.0015748613712022988, 0.006614417759049655, 0.7627625898529158, 0.009628139282855878, 0.0021395865073013066, 0.11339808488696924, 0.022465658326663716, 0.0021395865073013066, 0.07167614799459376, 0.008558346029205226, 0.006418759521903919, 0.0010697932536506533, 0.03512751000009719, 0.7515158200020792, 0.03406304000009424, 0.00212894000000589, 0.007451290000020615, 0.018095990000050063, 0.01490258000004123, 0.05269126500014578, 0.0037256450000103074, 0.08036748500022235, 0.010444334325251863, 0.8577977191478596, 0.08400877609441716, 0.0009082029848045098, 0.007265623878436079, 0.03905272834659393, 0.0004541014924022549, 0.24522784748643364, 0.10586868133584748, 0.041240349069388955, 0.14697063997211768, 0.03819575954077634, 0.09825720751431596, 0.1891797220733379, 0.014530995477469262, 0.09216802845709075, 0.02837003878934475, 0.15191498675817597, 0.015783375247602698, 0.001972921905950337, 0.8266542785931913, 0.04482686417824277, 0.8797272094980143, 0.007704617280635476, 0.05323190121166329, 0.013307975302915822, 0.9888116077692405, 0.0051475772582590664, 0.04890198395346113, 0.9342852723740206, 0.0038606829436943, 0.0051475772582590664, 0.0012868943145647666, 0.9917697963193506, 0.9876367167713905, 0.9776541299669788, 0.011368071278685799, 0.019833222337590307, 0.32788794993596876, 0.152907746409164, 0.010876283217388233, 0.016634315508946708, 0.009916611168795154, 0.4545646603502553, 0.001599453414321799, 0.005758032291558476, 0.09320954169904143, 0.05283305819807418, 0.18985537986625028, 0.03264481644759055, 0.02706083468681848, 0.4956857655331512, 0.02963805703794405, 0.052403521139553245, 0.0012886111755627848, 0.025342686452734766, 0.014823223579088206, 0.07411611789544104, 0.7842832839117578, 0.028298881378259304, 0.06737828899585548, 0.0013475657799171096, 0.010780526239336877, 0.018865920918839534, 0.008561079557591885, 0.2520381821755051, 0.6472176145539466, 0.0003424431823036754, 0.017464602297487447, 0.03390187504806386, 0.036298977324189595, 0.003424431823036754, 0.0003424431823036754, 0.005652996846342268, 0.011305993692684537, 0.9807949528403836, 0.9949163172945019, 0.9901198546720773, 0.030206343736758134, 0.018123806242054882, 0.009061903121027441, 0.0030206343736758133, 0.9152522152237715, 0.021144440615730696, 0.9834587458533688, 0.02405990017204813, 0.14034941767028075, 0.8340765392976686, 0.932529563407113, 0.027517265805455795, 0.009172421935151932, 0.02140231784868784, 0.003057473978383977, 0.003057473978383977, 0.002675895293523404, 0.7626301586541702, 0.014717424114378723, 0.09767017821360426, 0.05886969645751489, 0.01873126705466383, 0.009365633527331914, 0.03612458646256596, 0.0008639762543611266, 0.0004319881271805633, 0.764618985109597, 0.02764724013955605, 0.06868611222170956, 0.056158456533473226, 0.07948581540122364, 0.0008639762543611266, 0.0017279525087222532, 0.085253811281082, 0.09209900780730026, 0.2990106300770796, 0.03842644413581616, 0.11014543501278479, 0.08603167452269772, 0.02784750404984248, 0.1843535882629237, 0.04962767481508241, 0.02706964080822677, 0.01972330957015785, 0.9773995631433778, 0.0015532088380840945, 0.003106417676168189, 0.9940536563738205, 0.6723742771386256, 0.05238479702729897, 0.0012325834594658581, 0.005546625567596362, 0.11278138654112603, 0.009244375945993937, 0.0006162917297329291, 0.1460611399467042, 0.7576441465348989, 0.02460115111101554, 0.0003565384218987759, 0.016757305829242466, 0.048489225378233525, 0.020679228470129003, 0.0003565384218987759, 0.13084960083685077, 0.1797884114074675, 0.015962522508139638, 0.003360531054345187, 0.7485582923553904, 0.02856451396193409, 0.010921725926621858, 0.00252039829075889, 0.0008401327635862968, 0.005880929345104077, 0.00504079658151778, 0.9748205855872187, 0.006660539432019005, 0.9265550409875326, 0.002960239747564002, 0.01628131861160201, 0.04588371608724203, 0.0007400599368910005, 0.14145584316489884, 0.12645295070801563, 0.0007144234503277719, 0.015002892456883209, 0.6558407274008946, 0.02643366766212756, 0.0014288469006555437, 0.03214905526474973, 0.1362961279596448, 0.8509771066198335, 0.012231703791250173, 0.17210230272624993, 0.11133679746634288, 0.04857242690183361, 0.4043704511210263, 0.020988085698323163, 0.0911482578898606, 0.05057129220643582, 0.0037978440787441916, 0.07895517953178714, 0.017989787741419856, 0.032889504246794966, 0.005121203083410981, 0.24809383826302087, 0.007966315907528193, 0.48435200717771415, 0.016729263405809207, 0.05280529401561545, 0.04529419615994601, 0.1065210241349484, 0.00011380451296468848, 0.04343711981097113, 0.0020506794760544312, 0.05611404748112579, 0.0041013589521088625, 0.7479387325391252, 0.010999099007928313, 0.06394391457151544, 0.03392942405835513, 0.0370986559758938, 0.00037285081382807837, 0.9866392656863601, 0.9810759878521838, 0.006628891809812053, 0.004419261206541368, 0.002209630603270684, 0.002209630603270684, 0.002209630603270684, 0.9763379825007662, 0.09316766412077244, 0.14493824959475007, 0.20620980393848387, 0.022492089569218738, 0.09491274003562562, 0.08628430912329603, 0.10131135172342061, 0.20068373020811547, 0.0290845985808863, 0.020940910978238136, 0.2378635070071787, 0.14713992580892785, 0.018297192846706053, 0.00432017053325004, 0.015755916062441325, 0.005844936603808878, 0.4813178229397398, 0.04879251425788281, 0.020838469630970784, 0.019821958917264893, 0.004440170162148747, 0.9901579461591706, 0.021698044671572506, 0.9064960885012513, 0.03134162008116029, 0.00482178770479389, 0.01446536311438167, 0.01928715081917556, 0.985006533964682, 0.9888088083384486, 0.0056406948221005325, 0.9871215938675932, 0.9862463981599124, 0.9777330797150494, 0.017277726199518235, 0.40579308290219857, 0.00046696557295995234, 0.5753015858866612, 0.00046696557295995234, 0.00046696557295995234, 0.07249687680940148, 0.0012945870858821693, 0.05696183177881545, 0.0038837612576465078, 0.8466599541669387, 0.0012945870858821693, 0.015535045030586031, 0.9888237383031541, 0.977964615172411, 0.0008076861978055669, 0.00706725423079871, 0.7891094152560388, 0.002624980142868092, 0.19606582451730137, 0.003634587890125051, 0.0006057646483541751, 0.00024373718415380202, 0.0019498974732304161, 0.9008526326324523, 0.0955449761882904, 0.0007312115524614061, 0.00024373718415380202, 0.00024373718415380202, 0.9908586873055651, 0.04236535080569659, 0.8990868893208943, 0.028243567203797726, 0.0015690870668776515, 0.028243567203797726, 0.023019498450360703, 0.0011865720850701394, 0.21334566089561108, 0.0009492576680561115, 0.37994038163945865, 0.009255262263547087, 0.00047462883402805576, 0.002610458587154307, 0.36831197520577125, 0.0007119432510420836, 0.9886243247057005, 0.006944944362255969, 0.9931270438026035, 0.01374115382859854, 0.011627130162660301, 0.7198250582519696, 0.014798165661567657, 0.1268414199562942, 0.05707863898033239, 0.010570118329691184, 0.02008322482641325, 0.02536828399125884, 0.9798249098760796, 0.9788182881283217, 0.9914864942194781, 0.020885838349452346, 0.9711914832495342, 0.02594569236086468, 0.12032784863009707, 0.21414596810887587, 0.07426484407638803, 0.10209065907209798, 0.07764906481910952, 0.05207939698521389, 0.2543805924945646, 0.0443708941823483, 0.034594256481152906, 0.0014093717089618206, 0.005637486835847283, 0.9921976831091217, 0.9719649339072334, 0.004810882079660776, 0.7537048591468549, 0.08338862271412012, 0.12748837511101058, 0.003207254719773851, 0.009621764159321552, 0.002405441039830388, 0.0008018136799434627, 0.002405441039830388, 0.012829018879095403, 0.9839774448229904, 0.9889945772062536, 0.971887542892012, 0.026267230888973297, 0.08198213860908, 0.3912574536427723, 0.008750902435800675, 0.0009211476248211237, 0.0013817214372316856, 0.005757172655132023, 0.08866045888903315, 0.011053771497853485, 0.002763442874463371, 0.40737753707714197, 0.3857557457943898, 0.14948035149532607, 0.08679504280373772, 0.03053899654205586, 0.0008036578037383122, 0.34557285560747425, 0.0016757493501015303, 0.005027248050304591, 0.8797684088033034, 0.018433242851116832, 0.006702997400406121, 0.0888147155553811, 0.1612852150824078, 0.006936998498168079, 0.015608246620878176, 0.026013744368130292, 0.031216493241756352, 0.013873996996336157, 0.048558989487176546, 0.017342496245420197, 0.034684992490840394, 0.6416723610805473, 0.9756525469674513, 0.018570663485271387, 0.04456959236465133, 0.04085545966759705, 0.0037141326970542773, 0.033427194273488496, 0.0037141326970542773, 0.01485653078821711, 0.8356798568372124, 0.005579491356094415, 0.9540930218921451, 0.033476948136566494, 0.05057832828676479, 0.0010428521296240163, 0.011210660393458177, 0.31650562134088894, 0.08160317914307928, 0.08134246611067328, 0.016946347106390265, 0.08316745733751531, 0.35352687194254157, 0.004171408518496065, 0.9814465939230154, 0.20085114064566734, 0.06994071977818524, 0.008140368810287592, 0.540420811017664, 0.0317308253625496, 0.0604713111621364, 0.02857435582386665, 0.019935597086418594, 0.03638246468271394, 0.003654859465843409, 0.9839962579878013, 0.9917827816268671, 0.009752716940805158, 0.0002500696651488502, 0.008002229284763206, 0.048263445373728085, 0.6901922758108265, 0.042511843075304534, 0.17079758129666467, 0.0007502089954465505, 0.022256200198247665, 0.007752159619614356, 0.010809637956167973, 0.002494531836038763, 0.10948223058170127, 0.058482913044908776, 0.6255731504377209, 0.034369105296534065, 0.06818387018505952, 0.006374914692099061, 0.06180895549296046, 0.02217361632034456, 0.05622062152185467, 0.0505985593696692, 0.7870887013059653, 0.007027577690231834, 0.09416954104910656, 0.0014055155380463668, 0.0028110310760927335, 0.2268123654225622, 0.01785924137185529, 0.754552947960886, 0.9852338986465822, 0.0013946662960198294, 0.05125398637872874, 0.5212565281374113, 0.004183998888059488, 0.0006973331480099147, 0.0024406660180347015, 0.29183392244214934, 0.0006973331480099147, 0.008367997776118977, 0.11819796858768054, 0.9735357803420687, 0.9877354009015152, 0.9312994704605494, 0.06472976336823975, 0.0008091220421029969, 0.0016182440842059938, 0.0006594793493025112, 0.9743807385944603, 0.0013189586986050224, 0.013189586986050224, 0.00527583479442009, 0.0019784380479075333, 0.0013189586986050224, 0.0003297396746512556, 0.0013189586986050224, 0.02379039933154468, 0.9555810398170447, 0.0019825332776287237, 0.009912666388143617, 0.0019825332776287237, 0.0019825332776287237, 0.003965066555257447, 0.9867576038169128, 0.9733331075522919, 0.9648073925903333, 0.964528998994057, 0.977537942162105, 0.9905782044392017, 0.005896298835947629, 0.01973578037852485, 0.0032892967297541422, 0.9736318320072261, 0.9777935554769394, 0.9846440085348948, 0.05367105746491072, 0.12762723901104753, 0.1992590834228772, 0.056629304726756195, 0.11051166556751302, 0.12297856474243322, 0.024088584846455992, 0.25018319700178854, 0.034653753638761255, 0.020496427457072204, 0.9887610614538104, 0.7936169008451455, 0.14646425731044554, 0.03935823654597876, 0.0006452169925570289, 0.007742603910684346, 0.0012904339851140577, 0.0012904339851140577, 0.008387820903241375, 0.9878976142009412, 0.09179169199065136, 0.0275752819560393, 0.06572738438836764, 0.5065541520965575, 0.05288410238144523, 0.15034194819868002, 0.057039281854273066, 0.018131692245066937, 0.027197538367600405, 0.003021948707511156, 0.01653320635604907, 0.975459175006895, 0.004133301589012268, 0.9932970104492983, 0.057255987071782005, 0.054572112677792224, 0.0590452366677752, 0.007156998383972751, 0.6664954745074625, 0.015208621565942096, 0.031311867929880784, 0.06620223505174795, 0.0295226183338876, 0.015208621565942096, 0.021975999208076767, 0.9669439651553778, 0.09728944080923166, 0.05235940814460468, 0.043514913525583614, 0.16556893926807426, 0.034670418906562556, 0.40260139505783865, 0.06544926018075585, 0.02476458493325897, 0.0841995887730805, 0.029717501919910762, 0.05730961379622737, 0.24024493730471472, 0.1379605603637659, 0.007021376524703353, 0.14213543289196787, 0.03662501808831749, 0.02125389650721015, 0.31880844760815225, 0.02144366344031024, 0.016889257045908067, 0.09343318629196867, 0.00549606978188051, 0.05129665129755143, 0.8134183277183155, 0.03297641869128306, 0.977702792322563, 0.9876800008340806, 0.9387575891297208, 0.03460857471445976, 0.00432607183930747, 0.01730428735722988, 0.053314947074579816, 0.24501354354126753, 0.09761339574684098, 0.028617581885620046, 0.13759960605277585, 0.03959418863626883, 0.06311548881623051, 0.1493602561427567, 0.01411278010797701, 0.1717054913137203, 0.2158257454033037, 0.05437852059868115, 0.008230642833176836, 0.16496459353674942, 0.025817486493811104, 0.01997865439848053, 0.19486222775982767, 0.02370706525453499, 0.2907456993976057, 0.0014772948674932785, 0.35015835098676823, 0.024307820894353748, 0.026193772515467402, 0.12415848172331549, 0.10372733916125092, 0.014039862068290528, 0.15265730622014403, 0.08004816880726838, 0.1106424951053343, 0.014039862068290528, 0.9783607689854401, 0.0037826914116715292, 0.0018913457058357646, 0.0037826914116715292, 0.989173804152105, 0.9892709550876829, 0.987836382953839, 0.049055940511950044, 0.18560196296259163, 0.17400184027742965, 0.2872078568434682, 0.008525391371022657, 0.18546220244831257, 0.03438108651264875, 0.015094135542138475, 0.03619797319827653, 0.024458089998835492, 0.9946588981478482, 0.09663106387050255, 0.736811862012582, 0.000525168825383166, 0.0031510129522989965, 0.000525168825383166, 0.0015755064761494983, 0.023107428316859305, 0.00787753238074749, 0.0031510129522989965, 0.12656568691734302, 0.1457020409622816, 0.6834389508950601, 0.0011338680230527749, 0.0002834670057631937, 0.0008504010172895812, 0.0005669340115263874, 0.039118446795320734, 0.008504010172895812, 0.0028346700576319375, 0.11792227439748859, 0.9966494939644518, 0.9868752818491147, 0.9891619290071111, 0.16555614999878585, 0.09428534103069866, 0.18070119690450437, 0.03801109811631316, 0.19881586085055986, 0.023014532062611486, 0.07824940901287905, 0.09413686017868181, 0.09859128573918727, 0.02850832358723487, 0.021664781388736783, 0.07840587550209502, 0.6693385792863059, 0.0022696437645343295, 0.03899660649972621, 0.03507631272462146, 0.009491237560779924, 0.08542113804701931, 0.05921706912921387, 0.0004126625026426054, 0.0005210209376858705, 0.0005210209376858705, 0.0015630628130576117, 0.004689188439172835, 0.051060051893215316, 0.9321064575200224, 0.007294293127602188, 0.002084083750743482, 0.856931226907801, 0.04361273094303802, 0.02593189407423882, 0.007072334747519678, 0.06482973518559705, 0.9889960166983269, 0.005852047436084775, 0.022251012988130134, 0.01015807114675506, 0.9311565217858805, 0.016204542067442596, 0.00024185883682750143, 0.0031441648787575186, 0.007739482778480046, 0.0007255765104825043, 0.008223200452135048, 0.2100181761735213, 0.02301569053956398, 0.6583446481421112, 0.023974677645379146, 0.012946325928504738, 0.02013872922211848, 0.0009589871058151658, 0.04986732950238862, 0.4966290173910299, 0.03554604418954201, 0.008801877608838975, 0.09004997861350644, 0.03960844923977539, 0.012525748904886233, 0.16351180327189327, 0.014218417675816806, 0.11848681396514005, 0.020989092759539096, 0.7824435655562682, 0.006351002967177502, 0.13210086171729205, 0.0012702005934355004, 0.050808023737420015, 0.007621203560613002, 0.011431805340919502, 0.007621203560613002, 0.9854045700168129, 0.004967254099858927, 0.32949452195730883, 0.008278756833098212, 0.0016557513666196422, 0.6540217898147587, 0.0702718390841457, 0.6479151955808655, 0.003977651268913908, 0.21214140100874176, 0.04463808646225608, 0.004419612521015454, 0.0030937287647108173, 0.0075133412857262705, 0.002651767512609272, 0.0030937287647108173, 0.13521326399490557, 0.267851037247051, 0.01588219291368732, 0.008584969142533688, 0.03863236114140159, 0.0030047391998867905, 0.40220580432770325, 0.04335409416979512, 0.05794854171210238, 0.027471901256107798, 0.9894753717275182, 0.09298136762672599, 0.09945768178978152, 0.25558311250629906, 0.018503754751587262, 0.15358116443817427, 0.07401501900634905, 0.03839529110954357, 0.2206572754126781, 0.024748771980247962, 0.022435802636299556, 0.09634295634143424, 0.06778010340256198, 0.247091346852149, 0.0319631925744523, 0.14870818672936673, 0.07526085060083804, 0.03513684290099366, 0.24550452168887832, 0.023575688140021554, 0.028562852938872268, 0.0699605251722278, 0.05824517656518807, 0.20557121140654613, 0.035035523664448995, 0.18866132143600767, 0.08057065221256567, 0.03603022307448067, 0.25574827053481064, 0.03680387817117197, 0.03348821347106639, 0.9778626728180444, 0.11758804088709997, 0.12992002154143395, 0.16795810271466124, 0.18237436178944605, 0.037864391304856415, 0.20321714599395416, 0.06339680195537886, 0.02449027144029704, 0.06165990327166985, 0.011637221180850366, 0.9936783143442813, 0.9777988180712102, 0.014594012210018062, 0.03781356359750985, 0.9529018026572482, 0.05852687745403368, 0.9186946218542256, 0.014188333928250587, 0.0035470834820626467, 0.0017735417410313233, 0.0017735417410313233, 0.0017735417410313233, 0.01236310704061839, 0.0011330749833560643, 0.4742925983108112, 0.02379457465047735, 0.11087768198240953, 0.17093065610028094, 0.0037517371671123016, 0.186844064755415, 0.014704795339554256, 0.0013093310918781188, 0.9777279264469897, 0.9890808972799165, 0.9832856921671115, 0.00813216739111121, 0.030205193166984497, 0.11501208167428713, 0.02091128757714311, 0.001161738198730173, 0.018587811179682768, 0.02091128757714311, 0.7841732841428667, 0.002323476397460346, 0.9671642067203384, 0.016579957829491516, 0.0055266526098305055, 0.0055266526098305055, 0.9887969911582313, 0.0026308179827552966, 0.044723905706840046, 0.6806301952528346, 0.022174037283223216, 0.07140791667478663, 0.09546110965997791, 0.0007516622807872276, 0.06426712500730797, 0.0015033245615744552, 0.016536570177319007, 0.0007200152007778699, 0.059041246463785335, 0.6523337719047502, 0.01728036481866888, 0.0741615656801206, 0.11376240172290344, 0.0014400304015557397, 0.07200152007778698, 0.00432009120466722, 0.005760121606222959, 0.0015987010414207753, 0.15355944213646922, 0.5692217129058708, 0.038368824994098605, 0.04324907027843571, 0.07421338518595388, 0.003365686402991106, 0.08725541999754442, 0.003618112883215439, 0.02574750098288196, 0.029532438372667193, 0.9598042471116838, 0.008859731511800157, 0.012659386411832957, 0.9832123446523596, 0.9898391386321708, 0.9940743653918194, 0.002412801857747134, 0.9751316588702553, 0.3540502173628879, 0.031015535002836506, 0.024575868836993333, 0.19923538586567857, 0.09436082259337547, 0.02037037256542228, 0.08673836060115293, 0.12853047979989027, 0.028387099833104598, 0.032724017863162244, 0.23087394140095974, 0.4617478828019195, 0.029641447540779423, 0.006916337759515199, 0.00724568717663497, 0.03293494171197714, 0.1070385605639257, 0.020749013278545596, 0.06817532934379267, 0.034581688797576, 0.9755849470733707, 0.9720830397714452, 0.020682617867477555, 0.004596137303883901, 0.027409098931260773, 0.959318462594127, 0.013638083702166189, 0.013638083702166189, 0.9546658591516332, 0.00703625866976695, 0.00703625866976695, 0.9780399550976061, 0.9428903442388136, 0.04489954020184827, 0.0034538107847575587, 0.9917130257359562, 0.006198206410849726, 0.004043335455380884, 0.7286090490596354, 0.105126721839903, 0.03881602037165649, 0.007278003819685593, 0.009704005092914122, 0.06631070146824651, 0.016982008912599714, 0.014556007639371185, 0.008895338001837946, 0.015187892229993297, 0.22464557034705837, 0.2555414881025927, 0.029075451221117304, 0.06969786160339389, 0.09643271299454648, 0.014615745604890809, 0.23957339592927782, 0.03308047759683471, 0.022209691719887455, 0.0038929948249961485, 0.059368171081191266, 0.7075518094430501, 0.029197461187471116, 0.020438222831229782, 0.1099771038061412, 0.0019464974124980743, 0.053528678843697046, 0.009732487062490372, 0.004866243531245186, 0.05291762574915807, 0.7469644050834914, 0.1067528981876079, 0.004588233446458792, 0.030588222976391948, 0.009788231352445423, 0.021717638313238283, 0.014682347028668134, 0.0067294090548062286, 0.005505880135750551, 0.06373402751246669, 0.8223244037584118, 0.0704701442414266, 0.00569979107835068, 0.011917744982005969, 0.009326930855482932, 0.004663465427741466, 0.00777244237956911, 0.003627139777132251, 0.0010363256506092146, 0.9876605784535718, 0.9830960104297596, 0.07253188057952469, 0.03223639136867764, 0.004701140407932155, 0.004701140407932155, 0.0026863659473898033, 0.012760238250101566, 0.013431829736949017, 0.8569507372173473, 0.06285220620422781, 0.0009197883834765045, 0.19560832955266996, 0.0003065961278255015, 0.16709488966489833, 0.003679153533906018, 0.014716614135624072, 0.028820036015597142, 0.5261189553485606, 0.0320787909432175, 0.0011255716120427191, 0.03489271997332429, 0.29433697654917107, 0.0005627858060213596, 0.04558565028773013, 0.009004572896341753, 0.5813577376200645, 0.09682848832760707, 0.004666433172414798, 0.10557805052588481, 0.0005833041465518497, 0.10149492150002186, 0.002333216586207399, 0.06999649758622198, 0.03033181562069619, 0.5885538838708164, 0.9770949179664191, 0.02986373266493296, 0.001659096259162942, 0.001659096259162942, 0.003318192518325884, 0.9622758303145065, 0.009335664657920314, 0.07675990940956703, 0.004149184292409029, 0.07675990940956703, 0.0010372960731022572, 0.0020745921462045143, 0.020745921462045146, 0.8080536409466583, 0.11649032619269815, 0.0666929348431478, 0.08240282616175594, 0.3208671198564777, 0.07840125007116708, 0.14657625013305148, 0.08344027181487157, 0.023268423934164898, 0.07588173919931482, 0.006224673918693795, 0.03715892949750515, 0.10671547719199946, 0.27719112310395205, 0.049579741585807705, 0.07659500787786576, 0.09118946208162126, 0.01832069783024627, 0.24903728237046624, 0.06458822285917329, 0.029602935477121093, 0.1193540819133527, 0.03504439000860143, 0.04571007392426273, 0.0030473382616175155, 0.009142014784852546, 0.03555227971887102, 0.6800643220509756, 0.03809172827021894, 0.012697242756739648, 0.020823478121053025, 0.01068967543649929, 0.02137935087299858, 0.9674156270031858, 0.024214178875166047, 0.01856420380429397, 0.0024214178875166044, 0.004035696479194341, 0.020178482395971704, 0.9298244688063761, 0.011964105710087394, 0.9810566682271663, 0.04992807535240694, 0.18485275517379235, 0.0023775273977336637, 0.7156357467178328, 0.010698873289801488, 0.0005943818494334159, 0.025558419525636887, 0.006538200343767575, 0.0029719092471670798, 0.07672671472249339, 0.005003916177553917, 0.001667972059184639, 0.9157166604923668, 0.8688478391970377, 0.015183748646161824, 0.0033741663658137387, 0.0657962441333679, 0.005061249548720608, 0.038802913206858, 0.042576914702904756, 0.29917682309955534, 0.0933504546962083, 0.0609434269276872, 0.1586957729835541, 0.1759238650291145, 0.00781715189732476, 0.1410123128663049, 0.017759354795864015, 0.0028839977873625325, 0.004932482831067412, 0.8379055209275766, 0.015414008847085664, 0.14119232103930468, 0.03462064433322103, 0.037767975636241125, 0.9221680717848875, 0.982285128120433, 0.9749299719055218, 0.9833348112599577, 0.005036168843812208, 0.3919818083433836, 0.2801368919370541, 0.00545584958079656, 0.01175106063556182, 0.023921802008107992, 0.09358880434751021, 0.0927494428735415, 0.06400131239011349, 0.031476055273826305, 0.029800064310390027, 0.11371077171069878, 0.4812448982055091, 0.0009149142551435534, 0.021827240086996203, 0.002091232583185265, 0.19134778136145175, 0.028493043945899237, 0.03646586816929306, 0.09410546624333692, 0.8492579505986236, 0.022598280230521316, 0.009476698161186358, 0.0021869303448891595, 0.0058318142530377585, 0.0007289767816297198, 0.019682373104002435, 0.017495442759113276, 0.0699817710364531, 0.0029159071265188793, 0.3535477966303221, 0.06544732959312245, 0.07020713538171318, 0.10881444900028238, 0.10286469176454398, 0.0423093847874731, 0.0050242394435124306, 0.11859849423238554, 0.015601585640380706, 0.11767297644015956, 0.17148102886751407, 0.07504460177459643, 0.11995011362702372, 0.0843981124400972, 0.18183051520573018, 0.07166694514538782, 0.11328140694884263, 0.0998573870122443, 0.06071121274551887, 0.02178155492938373, 0.9913087743144879, 0.008770561653506141, 0.004385280826753071, 0.8858267270041202, 0.09647617818856755, 0.23034141026560068, 0.11291245601254934, 0.10516988760026025, 0.10861102911683318, 0.15775483140039037, 0.03183055902829963, 0.1089336361340119, 0.06312343969463473, 0.040110805802553245, 0.04107862685408938, 0.9909233043243589, 0.9923859687577387, 0.9622883778111126, 0.03172379267509162, 0.9901624972945774, 0.9857203002440759, 0.009387812383276913], \"Term\": [\"abedin\", \"abedin\", \"abedin\", \"aborted\", \"aborted\", \"abortion\", \"abortion\", \"abortion\", \"abortion\", \"abortion\", \"abortion\", \"abortion\", \"abortion\", \"abortions\", \"absentee\", \"academy\", \"academy\", \"academy\", \"academy\", \"academy\", \"according\", \"according\", \"according\", \"according\", \"according\", \"according\", \"according\", \"according\", \"according\", \"according\", \"acosta\", \"acosta\", \"acosta\", \"acosta\", \"actor\", \"actor\", \"actor\", \"actor\", \"actor\", \"actor\", \"actor\", \"actor\", \"actor\", \"actor\", \"administration\", \"administration\", \"administration\", \"administration\", \"administration\", \"administration\", \"administration\", \"administration\", \"administration\", \"administration\", \"affleck\", \"agency\", \"agency\", \"agency\", \"agency\", \"agency\", \"agency\", \"agency\", \"agency\", \"agency\", \"ailes\", \"ailes\", \"aipac\", \"airstrikes\", \"airstrikes\", \"alabama\", \"alabama\", \"alabama\", \"alabama\", \"alabama\", \"alabama\", \"alabama\", \"alabama\", \"alabama\", \"aliens\", \"aliens\", \"aliens\", \"aliens\", \"aliens\", \"aliens\", \"aliens\", \"allahu\", \"allred\", \"alperovitch\", \"alternate\", \"alternate\", \"alternate\", \"alternate\", \"alternate\", \"alternate\", \"alternate\", \"alternate\", \"alton\", \"ambassador\", \"ambassador\", \"ambassador\", \"ambassador\", \"ambassador\", \"ambassador\", \"ambassador\", \"ambassador\", \"ambassador\", \"amendment\", \"amendment\", \"amendment\", \"amendment\", \"amendment\", \"amendment\", \"amendment\", \"amendment\", \"amendment\", \"amendment\", \"america\", \"america\", \"america\", \"america\", \"america\", \"america\", \"america\", \"america\", \"america\", \"america\", \"american\", \"american\", \"american\", \"american\", \"american\", \"american\", \"american\", \"american\", \"american\", \"american\", \"americans\", \"americans\", \"americans\", \"americans\", \"americans\", \"americans\", \"americans\", \"americans\", \"americans\", \"americans\", \"ammon\", \"ammon\", \"amtrak\", \"andres\", \"andrews\", \"angela\", \"angela\", \"angela\", \"angela\", \"angela\", \"angela\", \"angela\", \"angela\", \"angelina\", \"animals\", \"animals\", \"animals\", \"animals\", \"animals\", \"animals\", \"animals\", \"another\", \"another\", \"another\", \"another\", \"another\", \"another\", \"another\", \"another\", \"another\", \"another\", \"anthem\", \"anthem\", \"anthem\", \"antifa\", \"antifa\", \"antifa\", \"antifa\", \"antonin\", \"antonin\", \"appeals\", \"appeals\", \"appeals\", \"appeals\", \"appeals\", \"appeals\", \"appeals\", \"arpaio\", \"arpaio\", \"arrested\", \"arrested\", \"arrested\", \"arrested\", \"arrested\", \"arrested\", \"arrested\", \"arrested\", \"arrested\", \"asked\", \"asked\", \"asked\", \"asked\", \"asked\", \"asked\", \"asked\", \"asked\", \"asked\", \"asked\", \"assad\", \"assad\", \"assad\", \"assange\", \"assange\", \"assimilating\", \"atensnut\", \"athletics\", \"atomic\", \"attack\", \"attack\", \"attack\", \"attack\", \"attack\", \"attack\", \"attack\", \"attack\", \"attack\", \"attack\", \"attorney\", \"attorney\", \"attorney\", \"attorney\", \"attorney\", \"attorney\", \"attorney\", \"attorney\", \"attorney\", \"attorney\", \"auto_play\", \"ayotte\", \"ayotte\", \"ayyadurai\", \"babin\", \"bacon\", \"baldwin\", \"baldwin\", \"baldwin\", \"baldwin\", \"baldwin\", \"ballot\", \"ballot\", \"ballot\", \"ballot\", \"ballot\", \"ballots\", \"ballots\", \"baltimore\", \"baltimore\", \"baltimore\", \"bannon\", \"bannon\", \"bannon\", \"bannon\", \"bannon\", \"barack\", \"barack\", \"barack\", \"barack\", \"barack\", \"barack\", \"barack\", \"barack\", \"barack\", \"barack\", \"barron\", \"barron\", \"barron\", \"bashar\", \"bashar\", \"behar\", \"behar\", \"behar\", \"benefits\", \"benefits\", \"benefits\", \"benefits\", \"benefits\", \"benefits\", \"benefits\", \"benefits\", \"benefits\", \"benefits\", \"benghazi\", \"benghazi\", \"benghazi\", \"benghazi\", \"benghazi\", \"benghazi\", \"benghazi\", \"bernie\", \"bernie\", \"bernie\", \"bernie\", \"bernie\", \"bernie\", \"bernie\", \"bernie\", \"bernie\", \"bernie\", \"bethune\", \"betsy\", \"betsy\", \"betsy\", \"betsy\", \"betsy\", \"bette\", \"beyonc\", \"beyonce\", \"beyonce\", \"beyonce\", \"beyonce\", \"biden\", \"biden\", \"biden\", \"biden\", \"biden\", \"biden\", \"biden\", \"billion\", \"billion\", \"billion\", \"billion\", \"billion\", \"billion\", \"billion\", \"billion\", \"billion\", \"black\", \"black\", \"black\", \"black\", \"black\", \"black\", \"black\", \"black\", \"black\", \"black\", \"bodied\", \"boehner\", \"boehner\", \"boehner\", \"boehner\", \"boehner\", \"boiler\", \"bonifield\", \"boondoggle\", \"border\", \"border\", \"border\", \"border\", \"border\", \"border\", \"border\", \"border\", \"border\", \"boucher\", \"bratton\", \"bratton\", \"brazile\", \"brazile\", \"broadcast\", \"broadcast\", \"broadcast\", \"broadcast\", \"broadcast\", \"broadcast\", \"broadcast\", \"broadcast\", \"broadcast\", \"broadcast\", \"broaddrick\", \"bundy\", \"bundy\", \"bundy\", \"bundy\", \"burgess\", \"cadets\", \"campaign\", \"campaign\", \"campaign\", \"campaign\", \"campaign\", \"campaign\", \"campaign\", \"campaign\", \"campaign\", \"campaign\", \"campos\", \"campos\", \"campus\", \"campus\", \"campus\", \"campus\", \"campus\", \"campus\", \"campus\", \"candidate\", \"candidate\", \"candidate\", \"candidate\", \"candidate\", \"candidate\", \"candidate\", \"candidate\", \"candidate\", \"candidate\", \"capita\", \"carbon\", \"carbon\", \"carbon\", \"carbon\", \"carbon\", \"carlson\", \"carlson\", \"carlson\", \"carlson\", \"carlson\", \"carlson\", \"carlson\", \"carlson\", \"carlson\", \"carson\", \"carson\", \"carson\", \"carson\", \"carson\", \"carson\", \"carson\", \"cassidy\", \"castile\", \"cdata\", \"cdata\", \"ceres\", \"chancellor\", \"chancellor\", \"chancellor\", \"chancellor\", \"chancellor\", \"chancellor\", \"change\", \"change\", \"change\", \"change\", \"change\", \"change\", \"change\", \"change\", \"change\", \"change\", \"chappaqua\", \"chappelle\", \"cheaper\", \"chelsea\", \"chelsea\", \"chelsea\", \"chelsea\", \"chelsea\", \"chelsea\", \"chelsea\", \"chemical\", \"chemical\", \"chemical\", \"chemical\", \"chemical\", \"chemical\", \"chemical\", \"child\", \"child\", \"child\", \"child\", \"child\", \"child\", \"child\", \"child\", \"child\", \"child\", \"children\", \"children\", \"children\", \"children\", \"children\", \"children\", \"children\", \"children\", \"children\", \"children\", \"christie\", \"christie\", \"christie\", \"christie\", \"christie\", \"circa\", \"circuit\", \"circuit\", \"circuit\", \"circuit\", \"circuit\", \"clandestine\", \"climate\", \"climate\", \"climate\", \"climate\", \"climate\", \"climate\", \"climate\", \"climate\", \"climate\", \"climate\", \"clinton\", \"clinton\", \"clinton\", \"clinton\", \"clinton\", \"clinton\", \"clinton\", \"clinton\", \"clinton\", \"clinton\", \"clintons\", \"clintons\", \"clintons\", \"clintons\", \"clintons\", \"cliven\", \"colgate\", \"cologne\", \"colts\", \"comedian\", \"comedian\", \"comedian\", \"comedian\", \"comedian\", \"comedian\", \"comedian\", \"comey\", \"comey\", \"comey\", \"comey\", \"comey\", \"comics\", \"comics\", \"community\", \"community\", \"community\", \"community\", \"community\", \"community\", \"community\", \"community\", \"community\", \"community\", \"commutation\", \"commuted\", \"commuted\", \"companies\", \"companies\", \"companies\", \"companies\", \"companies\", \"companies\", \"companies\", \"companies\", \"companies\", \"confederate\", \"confederate\", \"confederate\", \"confederate\", \"confederate\", \"congress\", \"congress\", \"congress\", \"congress\", \"congress\", \"congress\", \"congress\", \"congress\", \"congress\", \"congress\", \"constitution\", \"constitution\", \"constitution\", \"constitution\", \"constitution\", \"constitution\", \"constitution\", \"constitution\", \"constitution\", \"constitution\", \"constitutional\", \"constitutional\", \"constitutional\", \"constitutional\", \"constitutional\", \"constitutional\", \"constitutional\", \"constitutional\", \"constitutional\", \"constitutional\", \"contraception\", \"contrived\", \"convoy\", \"conway\", \"conway\", \"conway\", \"conway\", \"conway\", \"conway\", \"conway\", \"cookman\", \"copenhagen\", \"corden\", \"corfman\", \"corker\", \"corker\", \"corner\", \"corner\", \"corner\", \"corner\", \"corner\", \"corner\", \"corner\", \"corner\", \"corner\", \"corporations\", \"corporations\", \"corporations\", \"corporations\", \"corporations\", \"cortes\", \"costs\", \"costs\", \"costs\", \"costs\", \"costs\", \"costs\", \"costs\", \"costs\", \"could\", \"could\", \"could\", \"could\", \"could\", \"could\", \"could\", \"could\", \"could\", \"could\", \"counsel\", \"counsel\", \"counsel\", \"counsel\", \"counsel\", \"counsel\", \"countries\", \"countries\", \"countries\", \"countries\", \"countries\", \"countries\", \"countries\", \"countries\", \"countries\", \"countries\", \"country\", \"country\", \"country\", \"country\", \"country\", \"country\", \"country\", \"country\", \"country\", \"country\", \"county\", \"county\", \"county\", \"county\", \"county\", \"county\", \"county\", \"county\", \"county\", \"county\", \"court\", \"court\", \"court\", \"court\", \"court\", \"court\", \"court\", \"court\", \"court\", \"court\", \"courts\", \"courts\", \"courts\", \"courts\", \"courts\", \"courts\", \"courts\", \"courts\", \"creamer\", \"creamer\", \"createelement\", \"crowder\", \"crowdstrike\", \"cults\", \"cuomo\", \"cuomo\", \"cuomo\", \"cuomo\", \"cuomo\", \"cuomo\", \"cuomo\", \"custom\", \"custom\", \"custom\", \"custom\", \"custom\", \"custom\", \"custom\", \"custom\", \"cyber\", \"cyber\", \"cyber\", \"daleiden\", \"dallas\", \"dallas\", \"dallas\", \"dallas\", \"dallas\", \"dallas\", \"dallas\", \"dallas\", \"dallas\", \"dallas\", \"daniels\", \"daniels\", \"dearborn\", \"debate\", \"debate\", \"debate\", \"debate\", \"debate\", \"debate\", \"debate\", \"debate\", \"debate\", \"debate\", \"decision\", \"decision\", \"decision\", \"decision\", \"decision\", \"decision\", \"decision\", \"decision\", \"decision\", \"decision\", \"defendants\", \"defendants\", \"defendants\", \"defendants\", \"defer\", \"delegate\", \"delegate\", \"delegate\", \"delegate\", \"delegate\", \"delegates\", \"delegates\", \"delegates\", \"delegates\", \"democrat\", \"democrat\", \"democrat\", \"democrat\", \"democrat\", \"democrat\", \"democrat\", \"democrat\", \"democrat\", \"democrat\", \"democratic\", \"democratic\", \"democratic\", \"democratic\", \"democratic\", \"democratic\", \"democratic\", \"democratic\", \"democratic\", \"democratic\", \"democrats\", \"democrats\", \"democrats\", \"democrats\", \"democrats\", \"democrats\", \"democrats\", \"democrats\", \"democrats\", \"democrats\", \"dennard\", \"department\", \"department\", \"department\", \"department\", \"department\", \"department\", \"department\", \"department\", \"department\", \"department\", \"deployment\", \"deray\", \"detainer\", \"devos\", \"devos\", \"devos\", \"dicaprio\", \"digenova\", \"dinesh\", \"dinesh\", \"dinesh\", \"dinesh\", \"director\", \"director\", \"director\", \"director\", \"director\", \"director\", \"director\", \"director\", \"director\", \"director\", \"disney\", \"disney\", \"disney\", \"disney\", \"disney\", \"distribute\", \"distribute\", \"distribute\", \"distribute\", \"distribute\", \"distribute\", \"distribute\", \"district\", \"district\", \"district\", \"district\", \"district\", \"district\", \"district\", \"district\", \"district\", \"ditka\", \"ditka\", \"dobbs\", \"dobias\", \"documents\", \"documents\", \"documents\", \"documents\", \"documents\", \"documents\", \"documents\", \"doherty\", \"donald\", \"donald\", \"donald\", \"donald\", \"donald\", \"donald\", \"donald\", \"donald\", \"donald\", \"donald\", \"donors\", \"donors\", \"donors\", \"donors\", \"donors\", \"donors\", \"donors\", \"donors\", \"dossier\", \"dossier\", \"download\", \"download\", \"driscoll\", \"duterte\", \"eberwein\", \"economic\", \"economic\", \"economic\", \"economic\", \"economic\", \"economic\", \"economic\", \"economic\", \"economic\", \"economic\", \"eichenwald\", \"eichenwald\", \"election\", \"election\", \"election\", \"election\", \"election\", \"election\", \"election\", \"election\", \"election\", \"election\", \"elections\", \"elections\", \"elections\", \"elections\", \"elections\", \"elections\", \"elections\", \"elections\", \"electoral\", \"electoral\", \"electoral\", \"electoral\", \"electoral\", \"electoral\", \"electoral\", \"electoral\", \"electors\", \"electors\", \"electors\", \"elizabeth\", \"elizabeth\", \"elizabeth\", \"elizabeth\", \"elizabeth\", \"elizabeth\", \"elizabeth\", \"ellison\", \"ellison\", \"ellison\", \"ellison\", \"ellison\", \"email\", \"email\", \"email\", \"email\", \"email\", \"email\", \"email\", \"email\", \"email\", \"email\", \"emails\", \"emails\", \"emails\", \"emails\", \"emails\", \"emails\", \"eminem\", \"en_us\", \"enrollment\", \"episode\", \"episode\", \"episode\", \"episode\", \"episode\", \"episode\", \"episode\", \"episode\", \"episode\", \"episode\", \"epstein\", \"epstein\", \"epstein\", \"epstein\", \"epstein\", \"epstein\", \"epstein\", \"europe\", \"europe\", \"europe\", \"europe\", \"europe\", \"europe\", \"europe\", \"europe\", \"europe\", \"event\", \"event\", \"event\", \"event\", \"event\", \"event\", \"event\", \"event\", \"event\", \"event\", \"evidence\", \"evidence\", \"evidence\", \"evidence\", \"evidence\", \"evidence\", \"evidence\", \"evidence\", \"evidence\", \"evidence\", \"executive\", \"executive\", \"executive\", \"executive\", \"executive\", \"executive\", \"executive\", \"executive\", \"executive\", \"executive\", \"facebook\", \"facebook\", \"facebook\", \"facebook\", \"facebook\", \"facebook\", \"facebook\", \"facebook\", \"facebook\", \"facebook\", \"farook\", \"featured\", \"featured\", \"featured\", \"featured\", \"featured\", \"featured\", \"featured\", \"featured\", \"featured\", \"featured\", \"federal\", \"federal\", \"federal\", \"federal\", \"federal\", \"federal\", \"federal\", \"federal\", \"federal\", \"federal\", \"fence\", \"fence\", \"fence\", \"fence\", \"fence\", \"fence\", \"fence\", \"ferguson\", \"ferguson\", \"ferguson\", \"ferrell\", \"fetal\", \"fetal\", \"finals\", \"financial\", \"financial\", \"financial\", \"financial\", \"financial\", \"financial\", \"financial\", \"financial\", \"financial\", \"financial\", \"finicum\", \"finicum\", \"finicum\", \"fiore\", \"fiorina\", \"fiorina\", \"fiorina\", \"fiorina\", \"first\", \"first\", \"first\", \"first\", \"first\", \"first\", \"first\", \"first\", \"first\", \"first\", \"flake\", \"flake\", \"flake\", \"flint\", \"flint\", \"flint\", \"flint\", \"flint\", \"flynn\", \"flynn\", \"flynn\", \"flynn\", \"forces\", \"forces\", \"forces\", \"forces\", \"forces\", \"forces\", \"forces\", \"forces\", \"forces\", \"forces\", \"foreign\", \"foreign\", \"foreign\", \"foreign\", \"foreign\", \"foreign\", \"foreign\", \"foreign\", \"foreign\", \"foreign\", \"foreman\", \"former\", \"former\", \"former\", \"former\", \"former\", \"former\", \"former\", \"former\", \"former\", \"former\", \"foundation\", \"foundation\", \"foundation\", \"foundation\", \"foundation\", \"foundation\", \"foundation\", \"foundation\", \"foundation\", \"foundation\", \"foundations\", \"foundations\", \"foundations\", \"francis\", \"francis\", \"francis\", \"francis\", \"francis\", \"francis\", \"francis\", \"fraternity\", \"fraud\", \"fraud\", \"fraud\", \"fraud\", \"fraud\", \"fraud\", \"fraud\", \"fraud\", \"function\", \"function\", \"function\", \"function\", \"function\", \"function\", \"function\", \"function\", \"function\", \"funding\", \"funding\", \"funding\", \"funding\", \"funding\", \"funding\", \"funding\", \"funding\", \"funding\", \"funding\", \"fusion\", \"fusion\", \"gabbard\", \"gaddafi\", \"german\", \"german\", \"german\", \"german\", \"german\", \"german\", \"german\", \"germany\", \"germany\", \"germany\", \"germany\", \"germany\", \"germany\", \"germany\", \"germany\", \"germany\", \"gerster\", \"getelementbyid\", \"giffords\", \"girls\", \"girls\", \"girls\", \"girls\", \"girls\", \"girls\", \"girls\", \"girls\", \"girls\", \"girls\", \"giustra\", \"global\", \"global\", \"global\", \"global\", \"global\", \"global\", \"global\", \"global\", \"global\", \"global\", \"globes\", \"gnashing\", \"goebbels\", \"goebbels\", \"gohmert\", \"going\", \"going\", \"going\", \"going\", \"going\", \"going\", \"going\", \"going\", \"going\", \"going\", \"goldsmith\", \"gonna\", \"gonna\", \"gonna\", \"gonna\", \"gonna\", \"gonna\", \"gonna\", \"gonna\", \"gonna\", \"gonna\", \"government\", \"government\", \"government\", \"government\", \"government\", \"government\", \"government\", \"government\", \"government\", \"government\", \"graffiti\", \"gratz\", \"great\", \"great\", \"great\", \"great\", \"great\", \"great\", \"great\", \"great\", \"great\", \"great\", \"griffin\", \"griffin\", \"griffin\", \"griffin\", \"group\", \"group\", \"group\", \"group\", \"group\", \"group\", \"group\", \"group\", \"group\", \"group\", \"grutter\", \"guant\", \"guccifer\", \"guevara\", \"gunman\", \"gunman\", \"gunman\", \"gunman\", \"hackers\", \"hackers\", \"hackers\", \"hacking\", \"hacking\", \"hacking\", \"hacking\", \"haircut\", \"haiti\", \"haiti\", \"haiti\", \"haiti\", \"haitian\", \"haitians\", \"hammonds\", \"hamtramck\", \"handel\", \"handler\", \"handler\", \"hanlon\", \"hannity\", \"hannity\", \"hannity\", \"hannity\", \"hannity\", \"hannity\", \"hannity\", \"hannity\", \"hanoi\", \"harney\", \"harvey\", \"harvey\", \"harvey\", \"harvey\", \"harvey\", \"hastert\", \"hastert\", \"havana\", \"havana\", \"hbcus\", \"headphones\", \"hersh\", \"hijab\", \"hikes\", \"hilarious\", \"hilarious\", \"hilarious\", \"hilarious\", \"hilarious\", \"hilarious\", \"hilarious\", \"hilarious\", \"hilarious\", \"hilarious\", \"hillary\", \"hillary\", \"hillary\", \"hillary\", \"hillary\", \"hillary\", \"hillary\", \"hillary\", \"hillary\", \"hillary\", \"hinckley\", \"hodgkinson\", \"hodgkinson\", \"hollywood\", \"hollywood\", \"hollywood\", \"hollywood\", \"hollywood\", \"hollywood\", \"hollywood\", \"hollywood\", \"hollywood\", \"hollywood\", \"house\", \"house\", \"house\", \"house\", \"house\", \"house\", \"house\", \"house\", \"house\", \"house\", \"housing\", \"housing\", \"housing\", \"housing\", \"housing\", \"housing\", \"housing\", \"housing\", \"housing\", \"https\", \"https\", \"https\", \"https\", \"https\", \"https\", \"https\", \"https\", \"https\", \"https\", \"hungarian\", \"husted\", \"illegal\", \"illegal\", \"illegal\", \"illegal\", \"illegal\", \"illegal\", \"illegal\", \"illegal\", \"illegal\", \"image\", \"image\", \"image\", \"image\", \"image\", \"image\", \"image\", \"image\", \"image\", \"image\", \"immigrants\", \"immigrants\", \"immigrants\", \"immigrants\", \"immigrants\", \"immigrants\", \"immigrants\", \"immigrants\", \"immigrants\", \"immigration\", \"immigration\", \"immigration\", \"immigration\", \"immigration\", \"immigration\", \"immigration\", \"immigration\", \"immigration\", \"immigration\", \"impersonation\", \"imports\", \"inauguration\", \"inauguration\", \"inauguration\", \"inauguration\", \"inauguration\", \"inauguration\", \"inauguration\", \"incident\", \"incident\", \"incident\", \"incident\", \"incident\", \"incident\", \"incident\", \"incident\", \"incident\", \"incident\", \"income\", \"income\", \"income\", \"income\", \"income\", \"increase\", \"increase\", \"increase\", \"increase\", \"increase\", \"increase\", \"increase\", \"increase\", \"increase\", \"inflation\", \"informant\", \"informant\", \"informant\", \"information\", \"information\", \"information\", \"information\", \"information\", \"information\", \"information\", \"information\", \"information\", \"information\", \"inglewood\", \"injunction\", \"injured\", \"injured\", \"injured\", \"injured\", \"injured\", \"injured\", \"injured\", \"insertbefore\", \"intelligence\", \"intelligence\", \"intelligence\", \"intelligence\", \"intelligence\", \"intelligence\", \"intelligence\", \"intelligence\", \"interview\", \"interview\", \"interview\", \"interview\", \"interview\", \"interview\", \"interview\", \"interview\", \"interview\", \"interview\", \"invaders\", \"investigation\", \"investigation\", \"investigation\", \"investigation\", \"investigation\", \"investigation\", \"investigation\", \"investigation\", \"investigation\", \"iranian\", \"iranian\", \"iranian\", \"iranian\", \"iranian\", \"iranian\", \"iranian\", \"irons\", \"irving\", \"islam\", \"islam\", \"islam\", \"islam\", \"islam\", \"islam\", \"islam\", \"islam\", \"islam\", \"islam\", \"islamic\", \"islamic\", \"islamic\", \"islamic\", \"islamic\", \"islamic\", \"islamic\", \"islamic\", \"israel\", \"israel\", \"israel\", \"israel\", \"israel\", \"israel\", \"israel\", \"israel\", \"israel\", \"israeli\", \"israeli\", \"israeli\", \"israeli\", \"israeli\", \"israeli\", \"israeli\", \"israeli\", \"israelis\", \"israelis\", \"israelis\", \"ivanka\", \"ivanka\", \"ivanka\", \"ivanka\", \"ivanka\", \"ivanka\", \"ivanka\", \"jackson\", \"jackson\", \"jackson\", \"jackson\", \"jackson\", \"jackson\", \"jackson\", \"jackson\", \"james\", \"james\", \"james\", \"james\", \"james\", \"james\", \"james\", \"james\", \"james\", \"james\", \"jeanine\", \"jeanine\", \"jeanine\", \"jeanine\", \"jerusalem\", \"jerusalem\", \"jerusalem\", \"jerusalem\", \"jerusalem\", \"jerusalem\", \"jerusalem\", \"jerusalem\", \"jolie\", \"jones\", \"jones\", \"jones\", \"jones\", \"jones\", \"jones\", \"jones\", \"jones\", \"jones\", \"jones\", \"jssdk\", \"juanita\", \"juanita\", \"judge\", \"judge\", \"judge\", \"judge\", \"judge\", \"judge\", \"judge\", \"judge\", \"judge\", \"julian\", \"julian\", \"justice\", \"justice\", \"justice\", \"justice\", \"justice\", \"justice\", \"justice\", \"justice\", \"justice\", \"justice\", \"justices\", \"justices\", \"kaepernick\", \"kaepernick\", \"kaepernick\", \"kagan\", \"karem\", \"kathy\", \"kathy\", \"kathy\", \"kathy\", \"kathy\", \"kelly\", \"kelly\", \"kelly\", \"kelly\", \"kelly\", \"kelly\", \"kelly\", \"kelly\", \"kelly\", \"kellyanne\", \"kellyanne\", \"kellyanne\", \"kellyanne\", \"killed\", \"killed\", \"killed\", \"killed\", \"killed\", \"killed\", \"killed\", \"killed\", \"killed\", \"killed\", \"kilmeade\", \"kilmeade\", \"kimmel\", \"kimmel\", \"kimmel\", \"kirby\", \"kneel\", \"kneel\", \"korea\", \"korea\", \"korea\", \"korea\", \"korea\", \"korea\", \"koskinen\", \"kremlin\", \"kremlin\", \"kremlin\", \"kthopkins\", \"kurdish\", \"kurdish\", \"kurdish\", \"labor\", \"labor\", \"labor\", \"labor\", \"labor\", \"labor\", \"labor\", \"labor\", \"latina\", \"latina\", \"laureate\", \"lavoy\", \"lavoy\", \"lavrov\", \"lawsuit\", \"lawsuit\", \"lawsuit\", \"lawsuit\", \"lawsuit\", \"lawsuit\", \"lawsuit\", \"lawsuit\", \"leader\", \"leader\", \"leader\", \"leader\", \"leader\", \"leader\", \"leader\", \"leader\", \"leader\", \"leader\", \"lefty\", \"lefty\", \"legacy\", \"legacy\", \"legacy\", \"legacy\", \"legacy\", \"legacy\", \"legacy\", \"legacy\", \"legacy\", \"legacy\", \"legal\", \"legal\", \"legal\", \"legal\", \"legal\", \"legal\", \"legal\", \"legal\", \"legal\", \"legal\", \"lemonade\", \"leonardo\", \"liberal\", \"liberal\", \"liberal\", \"liberal\", \"liberal\", \"liberal\", \"liberal\", \"liberal\", \"liberal\", \"liberal\", \"listen\", \"listen\", \"listen\", \"listen\", \"listen\", \"listen\", \"listen\", \"listen\", \"listen\", \"listen\", \"lives\", \"lives\", \"lives\", \"lives\", \"lives\", \"lives\", \"lives\", \"lives\", \"lives\", \"lives\", \"loans\", \"loans\", \"loans\", \"loans\", \"lolita\", \"louie\", \"madonna\", \"madonna\", \"madonna\", \"madonna\", \"maduro\", \"mainstream\", \"mainstream\", \"mainstream\", \"mainstream\", \"mainstream\", \"mainstream\", \"mainstream\", \"mainstream\", \"mainstream\", \"mainstream\", \"majority\", \"majority\", \"majority\", \"majority\", \"majority\", \"majority\", \"majority\", \"majority\", \"majority\", \"majority\", \"malheur\", \"malheur\", \"malheur\", \"mallory\", \"malware\", \"manufacturers\", \"manufacturers\", \"market\", \"market\", \"market\", \"market\", \"market\", \"market\", \"market\", \"market\", \"market\", \"market\", \"marriage\", \"marriage\", \"marriage\", \"marriage\", \"marriage\", \"marriage\", \"marriage\", \"marriage\", \"marriage\", \"marxists\", \"mateen\", \"mateen\", \"mateen\", \"matter\", \"matter\", \"matter\", \"matter\", \"matter\", \"matter\", \"matter\", \"matter\", \"matter\", \"matter\", \"maxine\", \"maxine\", \"maxine\", \"mcaleer\", \"mccain\", \"mccain\", \"mccain\", \"mccain\", \"mccain\", \"mccain\", \"mccain\", \"mccain\", \"mcconnell\", \"mcconnell\", \"mcconnell\", \"mcconnell\", \"mcconnell\", \"mckesson\", \"meanings\", \"media\", \"media\", \"media\", \"media\", \"media\", \"media\", \"media\", \"media\", \"media\", \"media\", \"meeting\", \"meeting\", \"meeting\", \"meeting\", \"meeting\", \"meeting\", \"meeting\", \"meeting\", \"meeting\", \"meeting\", \"megyn\", \"megyn\", \"megyn\", \"megyn\", \"merkel\", \"merkel\", \"merkel\", \"merkel\", \"merkel\", \"merkel\", \"meryl\", \"mexican\", \"mexican\", \"mexican\", \"mexican\", \"mexican\", \"mexican\", \"mexican\", \"mexican\", \"mexican\", \"mexico\", \"mexico\", \"mexico\", \"mexico\", \"mexico\", \"mexico\", \"mexico\", \"mexico\", \"mexico\", \"mezvinsky\", \"micah\", \"michelle\", \"michelle\", \"michelle\", \"michelle\", \"michelle\", \"michelle\", \"michelle\", \"michelle\", \"michelle\", \"mideast\", \"migrant\", \"migrant\", \"migrant\", \"migrant\", \"migrants\", \"migrants\", \"migrants\", \"migrants\", \"migrants\", \"military\", \"military\", \"military\", \"military\", \"military\", \"military\", \"military\", \"military\", \"military\", \"military\", \"miller\", \"miller\", \"miller\", \"miller\", \"miller\", \"miller\", \"miller\", \"miller\", \"miller\", \"million\", \"million\", \"million\", \"million\", \"million\", \"million\", \"million\", \"million\", \"million\", \"million\", \"misguided\", \"misguided\", \"misguided\", \"misguided\", \"misguided\", \"misguided\", \"misguided\", \"missile\", \"missile\", \"missile\", \"missiles\", \"missiles\", \"mitch\", \"mitch\", \"mitch\", \"mitch\", \"mitch\", \"mitch\", \"mohamed\", \"mohamed\", \"mohamed\", \"money\", \"money\", \"money\", \"money\", \"money\", \"money\", \"money\", \"money\", \"money\", \"money\", \"moore\", \"moore\", \"moore\", \"moore\", \"moore\", \"moore\", \"moore\", \"moore\", \"moratorium\", \"mortgages\", \"mosby\", \"moscow\", \"moscow\", \"mosque\", \"mosque\", \"mosque\", \"mosque\", \"mosque\", \"mosque\", \"mueller\", \"mueller\", \"mueller\", \"mueller\", \"murdoch\", \"murdoch\", \"murdoch\", \"murkowski\", \"muslim\", \"muslim\", \"muslim\", \"muslim\", \"muslim\", \"muslim\", \"muslim\", \"muslim\", \"muslim\", \"muslim\", \"muslims\", \"muslims\", \"muslims\", \"muslims\", \"muslims\", \"muslims\", \"muslims\", \"muslims\", \"muslims\", \"natalia\", \"national\", \"national\", \"national\", \"national\", \"national\", \"national\", \"national\", \"national\", \"national\", \"national\", \"naturalization\", \"neocons\", \"neocons\", \"neoconservative\", \"netanyahu\", \"netanyahu\", \"netanyahu\", \"netanyahu\", \"never\", \"never\", \"never\", \"never\", \"never\", \"never\", \"never\", \"never\", \"never\", \"never\", \"newscasts\", \"night\", \"night\", \"night\", \"night\", \"night\", \"night\", \"night\", \"night\", \"night\", \"night\", \"nightclub\", \"nightclub\", \"nordstrom\", \"november\", \"november\", \"november\", \"november\", \"november\", \"november\", \"november\", \"november\", \"november\", \"november\", \"nuclear\", \"nuclear\", \"nuclear\", \"nuclear\", \"nuclear\", \"nuclear\", \"nuclear\", \"nuclear\", \"nugent\", \"nugent\", \"nugent\", \"nunes\", \"nunes\", \"nusra\", \"obama\", \"obama\", \"obama\", \"obama\", \"obama\", \"obama\", \"obama\", \"obama\", \"obama\", \"obama\", \"obamacare\", \"obamacare\", \"obamacare\", \"obamacare\", \"obamacare\", \"obamacare\", \"obamas\", \"obamas\", \"obamas\", \"obamas\", \"obamas\", \"occupiers\", \"office\", \"office\", \"office\", \"office\", \"office\", \"office\", \"office\", \"office\", \"office\", \"office\", \"officer\", \"officer\", \"officer\", \"officer\", \"officer\", \"officer\", \"officer\", \"officers\", \"officers\", \"officers\", \"officers\", \"officers\", \"officers\", \"officers\", \"officers\", \"official\", \"official\", \"official\", \"official\", \"official\", \"official\", \"official\", \"official\", \"official\", \"official\", \"officials\", \"officials\", \"officials\", \"officials\", \"officials\", \"officials\", \"officials\", \"officials\", \"officials\", \"officials\", \"omnibus\", \"omnibus\", \"operation\", \"operation\", \"operation\", \"operation\", \"operation\", \"operation\", \"operation\", \"operation\", \"oprah\", \"oprah\", \"oprah\", \"oprah\", \"orban\", \"order\", \"order\", \"order\", \"order\", \"order\", \"order\", \"order\", \"order\", \"order\", \"order\", \"oregon\", \"oregon\", \"oregon\", \"oregon\", \"oregon\", \"oregon\", \"organisation\", \"orlando\", \"orlando\", \"orlando\", \"orlando\", \"orlando\", \"orlando\", \"orlando\", \"orlando\", \"orlando\", \"orlando\", \"ossoff\", \"ossoff\", \"osteen\", \"outage\", \"palestinian\", \"palestinian\", \"palestinian\", \"palestinian\", \"palestinian\", \"palestinian\", \"palestinian\", \"palestinian\", \"palestinians\", \"palestinians\", \"palestinians\", \"palestinians\", \"palin\", \"palin\", \"palin\", \"palin\", \"palin\", \"palin\", \"palin\", \"palmer\", \"palmer\", \"palmer\", \"palmyra\", \"paltrow\", \"panther\", \"panther\", \"papadopoulos\", \"params\", \"parenthood\", \"parenthood\", \"parenthood\", \"parenthood\", \"parenthood\", \"parenthood\", \"parentnode\", \"parents\", \"parents\", \"parents\", \"parents\", \"parents\", \"parents\", \"parents\", \"parents\", \"parents\", \"parents\", \"paris\", \"paris\", \"paris\", \"paris\", \"paris\", \"paris\", \"paris\", \"paris\", \"paris\", \"party\", \"party\", \"party\", \"party\", \"party\", \"party\", \"party\", \"party\", \"party\", \"party\", \"patrick\", \"patrick\", \"patrick\", \"patrick\", \"patrick\", \"patrick\", \"patrick\", \"patrick\", \"patrick\", \"patrick\", \"patsy\", \"patsy\", \"payne\", \"peaked\", \"pelosi\", \"pelosi\", \"pelosi\", \"pelosi\", \"pelosi\", \"pelosi\", \"pelosi\", \"pelosi\", \"pelosi\", \"pence\", \"pence\", \"pence\", \"pence\", \"pence\", \"pence\", \"pence\", \"pence\", \"pentagon\", \"pentagon\", \"pentagon\", \"pentagon\", \"pentagon\", \"pentagon\", \"pentagon\", \"people\", \"people\", \"people\", \"people\", \"people\", \"people\", \"people\", \"people\", \"people\", \"people\", \"percent\", \"percent\", \"percent\", \"percent\", \"percent\", \"percent\", \"percent\", \"percent\", \"percent\", \"percent\", \"perez\", \"perez\", \"perez\", \"perez\", \"perez\", \"perez\", \"perez\", \"piers\", \"piers\", \"pilger\", \"pirro\", \"plaintiffs\", \"planned\", \"planned\", \"planned\", \"planned\", \"planned\", \"planned\", \"planned\", \"planned\", \"planned\", \"planned\", \"platte\", \"players\", \"players\", \"players\", \"players\", \"players\", \"players\", \"players\", \"players\", \"players\", \"players\", \"police\", \"police\", \"police\", \"police\", \"police\", \"police\", \"police\", \"police\", \"police\", \"police\", \"policy\", \"policy\", \"policy\", \"policy\", \"policy\", \"policy\", \"policy\", \"policy\", \"policy\", \"policy\", \"political\", \"political\", \"political\", \"political\", \"political\", \"political\", \"political\", \"political\", \"political\", \"political\", \"polling\", \"polling\", \"polling\", \"polling\", \"polling\", \"polling\", \"polls\", \"polls\", \"polls\", \"polls\", \"polls\", \"polls\", \"polls\", \"polls\", \"polls\", \"population\", \"population\", \"population\", \"population\", \"population\", \"population\", \"population\", \"population\", \"population\", \"population\", \"portland\", \"portland\", \"portland\", \"portland\", \"portman\", \"poverty\", \"poverty\", \"poverty\", \"poverty\", \"poverty\", \"poverty\", \"poverty\", \"poverty\", \"precinct\", \"precincts\", \"presidency\", \"presidency\", \"presidency\", \"presidency\", \"presidency\", \"presidency\", \"presidency\", \"presidency\", \"presidency\", \"president\", \"president\", \"president\", \"president\", \"president\", \"president\", \"president\", \"president\", \"president\", \"president\", \"presidential\", \"presidential\", \"presidential\", \"presidential\", \"presidential\", \"presidential\", \"presidential\", \"presidential\", \"presidential\", \"presidential\", \"press\", \"press\", \"press\", \"press\", \"press\", \"press\", \"press\", \"press\", \"press\", \"press\", \"prices\", \"prices\", \"prices\", \"prices\", \"prices\", \"priebus\", \"priebus\", \"priebus\", \"priebus\", \"prima\", \"profits\", \"profits\", \"profits\", \"profits\", \"profits\", \"program\", \"program\", \"program\", \"program\", \"program\", \"program\", \"program\", \"program\", \"program\", \"program\", \"programs\", \"programs\", \"programs\", \"programs\", \"programs\", \"programs\", \"programs\", \"programs\", \"programs\", \"programs\", \"protest\", \"protest\", \"protest\", \"protest\", \"protest\", \"protest\", \"protest\", \"protest\", \"protest\", \"protest\", \"protesters\", \"protesters\", \"protesters\", \"protesters\", \"protesters\", \"protesters\", \"protesters\", \"public\", \"public\", \"public\", \"public\", \"public\", \"public\", \"public\", \"public\", \"public\", \"public\", \"puerto\", \"puerto\", \"puerto\", \"puerto\", \"putin\", \"putin\", \"putin\", \"putin\", \"putin\", \"pyongyang\", \"qaeda\", \"qaeda\", \"qaeda\", \"qaeda\", \"qaeda\", \"qaeda\", \"queer\", \"quigley\", \"rachael\", \"rachael\", \"racist\", \"racist\", \"racist\", \"racist\", \"racist\", \"racist\", \"racist\", \"racist\", \"racist\", \"radio\", \"radio\", \"radio\", \"radio\", \"radio\", \"radio\", \"radio\", \"radio\", \"radio\", \"radio\", \"rallies\", \"rallies\", \"rallies\", \"rallies\", \"rallies\", \"rallies\", \"rallies\", \"rallies\", \"rally\", \"rally\", \"rally\", \"rally\", \"rally\", \"rally\", \"rally\", \"rally\", \"rally\", \"ranch\", \"ranch\", \"ranch\", \"rancher\", \"ranchers\", \"randy\", \"randy\", \"randy\", \"randy\", \"randy\", \"randy\", \"rankings\", \"raqqa\", \"raqqa\", \"raqqa\", \"rates\", \"rates\", \"rates\", \"rates\", \"rates\", \"rates\", \"ratings\", \"ratings\", \"ratings\", \"ratings\", \"ratings\", \"ratings\", \"ratings\", \"ratings\", \"realdonaldtrump\", \"realdonaldtrump\", \"realdonaldtrump\", \"realdonaldtrump\", \"realdonaldtrump\", \"realdonaldtrump\", \"realdonaldtrump\", \"realdonaldtrump\", \"realdonaldtrump\", \"really\", \"really\", \"really\", \"really\", \"really\", \"really\", \"really\", \"really\", \"really\", \"really\", \"rebels\", \"rebels\", \"recount\", \"recount\", \"recount\", \"refugee\", \"refugee\", \"refugee\", \"refugee\", \"refugee\", \"refugee\", \"refugee\", \"refugee\", \"refugees\", \"refugees\", \"refugees\", \"refugees\", \"refugees\", \"refugees\", \"refugees\", \"refugees\", \"regime\", \"regime\", \"regime\", \"regime\", \"regime\", \"regime\", \"regime\", \"regime\", \"regime\", \"regime\", \"registrations\", \"reilly\", \"reilly\", \"reilly\", \"reilly\", \"reilly\", \"reilly\", \"religious\", \"religious\", \"religious\", \"religious\", \"religious\", \"religious\", \"religious\", \"religious\", \"repeal\", \"repeal\", \"repeal\", \"report\", \"report\", \"report\", \"report\", \"report\", \"report\", \"report\", \"report\", \"report\", \"report\", \"republican\", \"republican\", \"republican\", \"republican\", \"republican\", \"republican\", \"republican\", \"republican\", \"republican\", \"republican\", \"republicans\", \"republicans\", \"republicans\", \"republicans\", \"republicans\", \"republicans\", \"republicans\", \"republicans\", \"republicans\", \"republicans\", \"resettled\", \"resettlement\", \"resettlement\", \"resettlement\", \"resettlement\", \"resettlement\", \"resettlement\", \"revenues\", \"right\", \"right\", \"right\", \"right\", \"right\", \"right\", \"right\", \"right\", \"right\", \"right\", \"rights\", \"rights\", \"rights\", \"rights\", \"rights\", \"rights\", \"rights\", \"rights\", \"rights\", \"rights\", \"rioters\", \"rioters\", \"riots\", \"riots\", \"riots\", \"riots\", \"riots\", \"riots\", \"robart\", \"rockefeller\", \"rodham\", \"rodham\", \"rosatom\", \"rouhani\", \"rubio\", \"rubio\", \"rubio\", \"rubio\", \"rubio\", \"rubio\", \"ruling\", \"ruling\", \"ruling\", \"ruling\", \"ruling\", \"ruling\", \"ruling\", \"rulings\", \"rumsfeld\", \"russia\", \"russia\", \"russia\", \"russia\", \"russia\", \"russia\", \"russia\", \"russian\", \"russian\", \"russian\", \"russian\", \"russian\", \"russian\", \"russian\", \"sadiq\", \"sanctions\", \"sanctions\", \"sanctions\", \"sanctions\", \"sanctions\", \"sanders\", \"sanders\", \"sanders\", \"sanders\", \"sanders\", \"sanders\", \"sanders\", \"sanders\", \"sanders\", \"sanders\", \"santilli\", \"santorum\", \"santorum\", \"sarah\", \"sarah\", \"sarah\", \"sarah\", \"sarah\", \"sarah\", \"sarah\", \"sarah\", \"sarah\", \"saranac\", \"sarandon\", \"sarin\", \"sarsour\", \"sarsour\", \"saying\", \"saying\", \"saying\", \"saying\", \"saying\", \"saying\", \"saying\", \"saying\", \"saying\", \"saying\", \"scalia\", \"scalia\", \"scalia\", \"scapegoating\", \"scene\", \"scene\", \"scene\", \"scene\", \"scene\", \"scene\", \"scene\", \"scene\", \"scene\", \"scene\", \"schakowsky\", \"schiller\", \"schlussel\", \"schlussel\", \"school\", \"school\", \"school\", \"school\", \"school\", \"school\", \"school\", \"school\", \"school\", \"school\", \"schools\", \"schools\", \"schools\", \"schools\", \"schools\", \"schools\", \"schumer\", \"schumer\", \"schumer\", \"schumer\", \"schumer\", \"schumer\", \"science\", \"science\", \"science\", \"science\", \"science\", \"science\", \"science\", \"science\", \"science\", \"science\", \"scotusblog\", \"script\", \"script\", \"script\", \"script\", \"script\", \"script\", \"script\", \"script\", \"seanhannity\", \"seanhannity\", \"seanhannity\", \"secretary\", \"secretary\", \"secretary\", \"secretary\", \"secretary\", \"secretary\", \"secretary\", \"secretary\", \"secretary\", \"secretary\", \"sectors\", \"security\", \"security\", \"security\", \"security\", \"security\", \"security\", \"security\", \"security\", \"security\", \"security\", \"seinfeld\", \"sekulow\", \"senate\", \"senate\", \"senate\", \"senate\", \"senate\", \"senate\", \"senate\", \"senate\", \"senate\", \"senate\", \"senator\", \"senator\", \"senator\", \"senator\", \"senator\", \"senator\", \"senator\", \"senator\", \"senator\", \"senator\", \"senators\", \"senators\", \"senators\", \"senators\", \"senators\", \"senators\", \"senators\", \"server\", \"server\", \"server\", \"sexton\", \"sexual\", \"sexual\", \"sexual\", \"sexual\", \"sexual\", \"sexual\", \"sexual\", \"sexual\", \"sexual\", \"sexual\", \"sheen\", \"shiva\", \"shooter\", \"shooter\", \"shooter\", \"shooter\", \"shooting\", \"shooting\", \"shooting\", \"shooting\", \"shooting\", \"shooting\", \"shooting\", \"shooting\", \"shooting\", \"shootings\", \"shootings\", \"shootings\", \"shootings\", \"shootings\", \"shootings\", \"shootings\", \"shoppers\", \"shortages\", \"show_comments\", \"show_user\", \"simulated\", \"snowden\", \"snowden\", \"snyder\", \"snyder\", \"snyder\", \"sociopathic\", \"somalis\", \"something\", \"something\", \"something\", \"something\", \"something\", \"something\", \"something\", \"something\", \"something\", \"something\", \"sonoma\", \"soros\", \"soros\", \"soros\", \"soros\", \"soros\", \"soros\", \"soros\", \"soros\", \"soundcloud\", \"source\", \"source\", \"source\", \"source\", \"source\", \"source\", \"source\", \"source\", \"source\", \"source\", \"souza\", \"souza\", \"souza\", \"spacey\", \"speaker\", \"speaker\", \"speaker\", \"speaker\", \"speaker\", \"speaker\", \"speaker\", \"speaker\", \"speaker\", \"speaker\", \"speakerryan\", \"speakerryan\", \"special\", \"special\", \"special\", \"special\", \"special\", \"special\", \"special\", \"special\", \"special\", \"special\", \"speech\", \"speech\", \"speech\", \"speech\", \"speech\", \"speech\", \"speech\", \"speech\", \"speech\", \"speech\", \"spicer\", \"spicer\", \"spicer\", \"spicer\", \"spicer\", \"stahl\", \"stakeholders\", \"stamps\", \"stamps\", \"stamps\", \"stamps\", \"stand\", \"stand\", \"stand\", \"stand\", \"stand\", \"stand\", \"stand\", \"stand\", \"stand\", \"stand\", \"state\", \"state\", \"state\", \"state\", \"state\", \"state\", \"state\", \"state\", \"state\", \"state\", \"states\", \"states\", \"states\", \"states\", \"states\", \"states\", \"states\", \"states\", \"states\", \"states\", \"steelers\", \"stein\", \"stein\", \"stein\", \"stein\", \"stemexpress\", \"stockpiles\", \"story\", \"story\", \"story\", \"story\", \"story\", \"story\", \"story\", \"story\", \"story\", \"story\", \"streep\", \"student\", \"student\", \"student\", \"student\", \"student\", \"student\", \"student\", \"student\", \"student\", \"student\", \"students\", \"students\", \"students\", \"students\", \"students\", \"students\", \"students\", \"students\", \"students\", \"students\", \"subscribing\", \"sunglasses\", \"superdelegates\", \"support\", \"support\", \"support\", \"support\", \"support\", \"support\", \"support\", \"support\", \"support\", \"support\", \"supporters\", \"supporters\", \"supporters\", \"supporters\", \"supporters\", \"supporters\", \"supporters\", \"supporters\", \"supporters\", \"supporters\", \"supreme\", \"supreme\", \"supreme\", \"supreme\", \"supreme\", \"supreme\", \"supreme\", \"supreme\", \"sweden\", \"sweden\", \"sweden\", \"sweden\", \"sweden\", \"swedes\", \"swedes\", \"syria\", \"syria\", \"syria\", \"syria\", \"syria\", \"syria\", \"syria\", \"syria\", \"syria\", \"syrian\", \"syrian\", \"syrian\", \"syrian\", \"syrian\", \"syrian\", \"syrian\", \"syrian\", \"system\", \"system\", \"system\", \"system\", \"system\", \"system\", \"system\", \"system\", \"system\", \"system\", \"taxpayers\", \"taxpayers\", \"taxpayers\", \"taxpayers\", \"taxpayers\", \"taxpayers\", \"taxpayers\", \"taxpayers\", \"tayyip\", \"teacher\", \"teacher\", \"teacher\", \"teacher\", \"teacher\", \"terror\", \"terror\", \"terror\", \"terror\", \"terror\", \"terror\", \"terror\", \"terror\", \"terror\", \"terror\", \"texas\", \"texas\", \"texas\", \"texas\", \"texas\", \"texas\", \"texas\", \"texas\", \"texas\", \"texas\", \"theology\", \"thing\", \"thing\", \"thing\", \"thing\", \"thing\", \"thing\", \"thing\", \"thing\", \"thing\", \"thing\", \"things\", \"things\", \"things\", \"things\", \"things\", \"things\", \"things\", \"things\", \"things\", \"things\", \"think\", \"think\", \"think\", \"think\", \"think\", \"think\", \"think\", \"think\", \"think\", \"think\", \"tillis\", \"times\", \"times\", \"times\", \"times\", \"times\", \"times\", \"times\", \"times\", \"times\", \"times\", \"transnational\", \"trayvon\", \"trayvon\", \"tripp\", \"tripp\", \"truck\", \"truck\", \"truck\", \"truck\", \"truck\", \"truck\", \"truck\", \"trump\", \"trump\", \"trump\", \"trump\", \"trump\", \"trump\", \"trump\", \"trump\", \"trump\", \"trump\", \"trumpcare\", \"tsarnaev\", \"tubman\", \"tucker\", \"tucker\", \"tucker\", \"tucker\", \"tucker\", \"tucker\", \"tucker\", \"tucker\", \"tucker\", \"tuition\", \"tuition\", \"tuition\", \"tuition\", \"turki\", \"tweet\", \"tweet\", \"tweet\", \"tweet\", \"tweet\", \"tweet\", \"tweet\", \"tweet\", \"tweet\", \"tweet\", \"tweets\", \"tweets\", \"tweets\", \"tweets\", \"tweets\", \"tweets\", \"tweets\", \"tweets\", \"tweets\", \"tweets\", \"twitter\", \"twitter\", \"twitter\", \"twitter\", \"twitter\", \"twitter\", \"twitter\", \"twitter\", \"twitter\", \"twitter\", \"ukraine\", \"ukraine\", \"ukraine\", \"unarmed\", \"unarmed\", \"unborn\", \"uncensored\", \"uncensored\", \"undergraduate\", \"united\", \"united\", \"united\", \"united\", \"united\", \"united\", \"united\", \"united\", \"united\", \"united\", \"university\", \"university\", \"university\", \"university\", \"university\", \"university\", \"university\", \"university\", \"university\", \"university\", \"unskilled\", \"uranium\", \"uranium\", \"uranium\", \"vargas\", \"vargas\", \"varney\", \"varney\", \"varney\", \"vatican\", \"vatican\", \"vatican\", \"venezuela\", \"venezuela\", \"venezuela\", \"veselnitskaya\", \"veselnitskaya\", \"victim\", \"victim\", \"victim\", \"victim\", \"victim\", \"victim\", \"victim\", \"victim\", \"victim\", \"victim\", \"video\", \"video\", \"video\", \"video\", \"video\", \"video\", \"video\", \"video\", \"video\", \"video\", \"viewers\", \"viewers\", \"viewers\", \"viewers\", \"viewers\", \"viewers\", \"viewers\", \"viewers\", \"viewers\", \"viewers\", \"violence\", \"violence\", \"violence\", \"violence\", \"violence\", \"violence\", \"violence\", \"violence\", \"violence\", \"violence\", \"violent\", \"violent\", \"violent\", \"violent\", \"violent\", \"violent\", \"violent\", \"violent\", \"violent\", \"violent\", \"vitale\", \"vittert\", \"voter\", \"voter\", \"voter\", \"voter\", \"voter\", \"voter\", \"voter\", \"voter\", \"voters\", \"voters\", \"voters\", \"voters\", \"voters\", \"voters\", \"voters\", \"voters\", \"voters\", \"votes\", \"votes\", \"votes\", \"votes\", \"votes\", \"votes\", \"votes\", \"votes\", \"voting\", \"voting\", \"voting\", \"voting\", \"voting\", \"voting\", \"voting\", \"voting\", \"voting\", \"wagner\", \"warming\", \"warming\", \"warming\", \"warming\", \"warming\", \"warren\", \"warren\", \"warren\", \"warren\", \"warren\", \"warren\", \"warren\", \"warren\", \"washington\", \"washington\", \"washington\", \"washington\", \"washington\", \"washington\", \"washington\", \"washington\", \"washington\", \"washington\", \"watch\", \"watch\", \"watch\", \"watch\", \"watch\", \"watch\", \"watch\", \"watch\", \"watch\", \"watch\", \"water\", \"water\", \"water\", \"water\", \"water\", \"water\", \"water\", \"water\", \"water\", \"water\", \"watergate\", \"watergate\", \"watergate\", \"waters\", \"waters\", \"waters\", \"waters\", \"waters\", \"waters\", \"watters\", \"watters\", \"weapons\", \"weapons\", \"weapons\", \"weapons\", \"weapons\", \"weapons\", \"weapons\", \"weapons\", \"weapons\", \"weinstein\", \"weinstein\", \"weinstein\", \"weinstein\", \"welfare\", \"welfare\", \"welfare\", \"welfare\", \"welfare\", \"welfare\", \"white\", \"white\", \"white\", \"white\", \"white\", \"white\", \"white\", \"white\", \"white\", \"white\", \"wikileaks\", \"wikileaks\", \"wikileaks\", \"wikileaks\", \"wildlife\", \"wildlife\", \"wildlife\", \"wilkerson\", \"wiretap\", \"wiretapped\", \"woman\", \"woman\", \"woman\", \"woman\", \"woman\", \"woman\", \"woman\", \"woman\", \"woman\", \"woman\", \"women\", \"women\", \"women\", \"women\", \"women\", \"women\", \"women\", \"women\", \"women\", \"women\", \"workers\", \"workers\", \"workers\", \"workers\", \"workers\", \"workers\", \"workers\", \"workers\", \"workers\", \"workers\", \"world\", \"world\", \"world\", \"world\", \"world\", \"world\", \"world\", \"world\", \"world\", \"world\", \"would\", \"would\", \"would\", \"would\", \"would\", \"would\", \"would\", \"would\", \"would\", \"would\", \"xfbml\", \"yates\", \"yates\", \"yates\", \"yates\", \"years\", \"years\", \"years\", \"years\", \"years\", \"years\", \"years\", \"years\", \"years\", \"years\", \"youngblood\", \"zakaria\", \"zionist\", \"zionist\", \"zippers\", \"zucker\", \"zucker\"]}, \"R\": 30, \"lambda.step\": 0.01, \"plot.opts\": {\"xlab\": \"PC1\", \"ylab\": \"PC2\"}, \"topic.order\": [2, 6, 7, 10, 1, 9, 8, 3, 5, 4]};\n",
              "\n",
              "function LDAvis_load_lib(url, callback){\n",
              "  var s = document.createElement('script');\n",
              "  s.src = url;\n",
              "  s.async = true;\n",
              "  s.onreadystatechange = s.onload = callback;\n",
              "  s.onerror = function(){console.warn(\"failed to load library \" + url);};\n",
              "  document.getElementsByTagName(\"head\")[0].appendChild(s);\n",
              "}\n",
              "\n",
              "if(typeof(LDAvis) !== \"undefined\"){\n",
              "   // already loaded: just create the visualization\n",
              "   !function(LDAvis){\n",
              "       new LDAvis(\"#\" + \"ldavis_el265251365885734231207593018569\", ldavis_el265251365885734231207593018569_data);\n",
              "   }(LDAvis);\n",
              "}else if(typeof define === \"function\" && define.amd){\n",
              "   // require.js is available: use it to load d3/LDAvis\n",
              "   require.config({paths: {d3: \"https://d3js.org/d3.v5\"}});\n",
              "   require([\"d3\"], function(d3){\n",
              "      window.d3 = d3;\n",
              "      LDAvis_load_lib(\"https://cdn.jsdelivr.net/gh/bmabey/pyLDAvis@3.4.0/pyLDAvis/js/ldavis.v3.0.0.js\", function(){\n",
              "        new LDAvis(\"#\" + \"ldavis_el265251365885734231207593018569\", ldavis_el265251365885734231207593018569_data);\n",
              "      });\n",
              "    });\n",
              "}else{\n",
              "    // require.js not available: dynamically load d3 & LDAvis\n",
              "    LDAvis_load_lib(\"https://d3js.org/d3.v5.js\", function(){\n",
              "         LDAvis_load_lib(\"https://cdn.jsdelivr.net/gh/bmabey/pyLDAvis@3.4.0/pyLDAvis/js/ldavis.v3.0.0.js\", function(){\n",
              "                 new LDAvis(\"#\" + \"ldavis_el265251365885734231207593018569\", ldavis_el265251365885734231207593018569_data);\n",
              "            })\n",
              "         });\n",
              "}\n",
              "</script>"
            ]
          },
          "metadata": {},
          "execution_count": 17
        }
      ],
      "source": [
        "# Prepariamo i dati per la visualizzazione\n",
        "lda_display = gensimvis.prepare(lda_model, corpus, id2word)\n",
        "\n",
        "# Mostriamo la visualizzazione\n",
        "pyLDAvis.display(lda_display)"
      ]
    },
    {
      "cell_type": "markdown",
      "source": [
        "La visualizzazione grafica conferma che la parola \"Trump\", seguita da \"President\" sono le parole più ricorrenti nelle notizie false. il topic 1 e il topic 2 sembrano invece essere i più comuni tra tutte le fake news."
      ],
      "metadata": {
        "id": "A1tYWn4dxdoT"
      }
    },
    {
      "cell_type": "markdown",
      "metadata": {
        "id": "q_FOvOBQakPP"
      },
      "source": [
        "###Addestriamo un modello per riconoscere le fake news\n"
      ]
    },
    {
      "cell_type": "code",
      "execution_count": null,
      "metadata": {
        "id": "4a4dV6NYkt07",
        "colab": {
          "base_uri": "https://localhost:8080/"
        },
        "outputId": "c36adf65-76e0-41ab-a9a9-0745439fded7"
      },
      "outputs": [
        {
          "output_type": "stream",
          "name": "stderr",
          "text": [
            "/usr/local/lib/python3.10/dist-packages/ipykernel/ipkernel.py:283: DeprecationWarning: `should_run_async` will not call `transform_cell` automatically in the future. Please pass the result to `transformed_cell` argument and any exception that happen during thetransform in `preprocessing_exc_tuple` in IPython 7.17 and above.\n",
            "  and should_run_async(code)\n"
          ]
        }
      ],
      "source": [
        "#Concateniamo il dataset con fake news con il dataset con true news\n",
        "data_complete=pd.concat([data_fake,data_true], axis=0)"
      ]
    },
    {
      "cell_type": "code",
      "execution_count": null,
      "metadata": {
        "colab": {
          "base_uri": "https://localhost:8080/"
        },
        "id": "s0au-V-3NkYw",
        "outputId": "be2b4640-ec1b-48ff-ec5e-1441d17a3d2f"
      },
      "outputs": [
        {
          "output_type": "stream",
          "name": "stderr",
          "text": [
            "/usr/local/lib/python3.10/dist-packages/ipykernel/ipkernel.py:283: DeprecationWarning: `should_run_async` will not call `transform_cell` automatically in the future. Please pass the result to `transformed_cell` argument and any exception that happen during thetransform in `preprocessing_exc_tuple` in IPython 7.17 and above.\n",
            "  and should_run_async(code)\n"
          ]
        },
        {
          "output_type": "execute_result",
          "data": {
            "text/plain": [
              "44898"
            ]
          },
          "metadata": {},
          "execution_count": 19
        }
      ],
      "source": [
        "len(data_complete) #verifichiamo che l'unione sia riuscita"
      ]
    },
    {
      "cell_type": "code",
      "execution_count": null,
      "metadata": {
        "id": "dCMl2-6HVSf4",
        "colab": {
          "base_uri": "https://localhost:8080/"
        },
        "outputId": "714b7b0f-cdcc-48b3-8287-b548a7295454"
      },
      "outputs": [
        {
          "output_type": "stream",
          "name": "stderr",
          "text": [
            "/usr/local/lib/python3.10/dist-packages/ipykernel/ipkernel.py:283: DeprecationWarning: `should_run_async` will not call `transform_cell` automatically in the future. Please pass the result to `transformed_cell` argument and any exception that happen during thetransform in `preprocessing_exc_tuple` in IPython 7.17 and above.\n",
            "  and should_run_async(code)\n"
          ]
        }
      ],
      "source": [
        "#puliamo il dataset con le funzioni sent_to_words e remove_stopwords\n",
        "data_complete_words = list(sent_to_words(data_complete[\"title\"]+\" \"+data_complete[\"text\"]))\n",
        "data_complete_cleaned = remove_stopwords(data_complete_words)"
      ]
    },
    {
      "cell_type": "code",
      "execution_count": null,
      "metadata": {
        "id": "joNdx5fEWd0N",
        "colab": {
          "base_uri": "https://localhost:8080/"
        },
        "outputId": "83168d10-4a19-4e65-96b8-8386e3d4bd17"
      },
      "outputs": [
        {
          "output_type": "stream",
          "name": "stderr",
          "text": [
            "/usr/local/lib/python3.10/dist-packages/ipykernel/ipkernel.py:283: DeprecationWarning: `should_run_async` will not call `transform_cell` automatically in the future. Please pass the result to `transformed_cell` argument and any exception that happen during thetransform in `preprocessing_exc_tuple` in IPython 7.17 and above.\n",
            "  and should_run_async(code)\n"
          ]
        }
      ],
      "source": [
        "# Convertiamo le liste di parole in frasi\n",
        "cleaned_sentences = [' '.join(words) for words in data_complete_cleaned]\n",
        "\n",
        "# Aggiungi il testo pulito al DataFrame\n",
        "data_complete['cleaned_text'] = cleaned_sentences"
      ]
    },
    {
      "cell_type": "code",
      "execution_count": null,
      "metadata": {
        "id": "AmcaM85IZaDI",
        "colab": {
          "base_uri": "https://localhost:8080/"
        },
        "outputId": "04773340-2ae4-41d9-ebef-e22005d94056"
      },
      "outputs": [
        {
          "output_type": "stream",
          "name": "stderr",
          "text": [
            "/usr/local/lib/python3.10/dist-packages/ipykernel/ipkernel.py:283: DeprecationWarning: `should_run_async` will not call `transform_cell` automatically in the future. Please pass the result to `transformed_cell` argument and any exception that happen during thetransform in `preprocessing_exc_tuple` in IPython 7.17 and above.\n",
            "  and should_run_async(code)\n"
          ]
        }
      ],
      "source": [
        "X = data_complete['cleaned_text']  # Testo pulito\n",
        "y = data_complete['label']  # Target"
      ]
    },
    {
      "cell_type": "code",
      "execution_count": null,
      "metadata": {
        "id": "P08gXhTPdI2T",
        "colab": {
          "base_uri": "https://localhost:8080/"
        },
        "outputId": "bcbcd931-7c0c-46c7-ea7a-78aa50b6acce"
      },
      "outputs": [
        {
          "output_type": "stream",
          "name": "stderr",
          "text": [
            "/usr/local/lib/python3.10/dist-packages/ipykernel/ipkernel.py:283: DeprecationWarning: `should_run_async` will not call `transform_cell` automatically in the future. Please pass the result to `transformed_cell` argument and any exception that happen during thetransform in `preprocessing_exc_tuple` in IPython 7.17 and above.\n",
            "  and should_run_async(code)\n"
          ]
        }
      ],
      "source": [
        "# Dividiamo il dataset in train e test\n",
        "X_train, X_test, y_train, y_test = train_test_split(X, y, test_size=0.2, random_state=42)"
      ]
    },
    {
      "cell_type": "code",
      "execution_count": null,
      "metadata": {
        "id": "LdsePVMXdNQL",
        "colab": {
          "base_uri": "https://localhost:8080/"
        },
        "outputId": "efd6768a-15a8-47fd-ca59-c42aa7dc2247"
      },
      "outputs": [
        {
          "output_type": "stream",
          "name": "stderr",
          "text": [
            "/usr/local/lib/python3.10/dist-packages/ipykernel/ipkernel.py:283: DeprecationWarning: `should_run_async` will not call `transform_cell` automatically in the future. Please pass the result to `transformed_cell` argument and any exception that happen during thetransform in `preprocessing_exc_tuple` in IPython 7.17 and above.\n",
            "  and should_run_async(code)\n"
          ]
        }
      ],
      "source": [
        "# Converti il testo in una rappresentazione numerica (TF-IDF)\n",
        "vectorizer = TfidfVectorizer()\n",
        "X_train_tfidf = vectorizer.fit_transform(X_train)\n",
        "X_test_tfidf = vectorizer.transform(X_test)"
      ]
    },
    {
      "cell_type": "markdown",
      "metadata": {
        "id": "8ILlPDxdho63"
      },
      "source": [
        "REGRESSIONE LOGISTICA"
      ]
    },
    {
      "cell_type": "code",
      "execution_count": null,
      "metadata": {
        "colab": {
          "base_uri": "https://localhost:8080/",
          "height": 137
        },
        "id": "3mszOturdOqY",
        "outputId": "0eb20571-da49-450e-ef70-7ca381253ac9"
      },
      "outputs": [
        {
          "output_type": "stream",
          "name": "stderr",
          "text": [
            "/usr/local/lib/python3.10/dist-packages/ipykernel/ipkernel.py:283: DeprecationWarning: `should_run_async` will not call `transform_cell` automatically in the future. Please pass the result to `transformed_cell` argument and any exception that happen during thetransform in `preprocessing_exc_tuple` in IPython 7.17 and above.\n",
            "  and should_run_async(code)\n"
          ]
        },
        {
          "output_type": "execute_result",
          "data": {
            "text/plain": [
              "LogisticRegression()"
            ],
            "text/html": [
              "<style>#sk-container-id-1 {\n",
              "  /* Definition of color scheme common for light and dark mode */\n",
              "  --sklearn-color-text: black;\n",
              "  --sklearn-color-line: gray;\n",
              "  /* Definition of color scheme for unfitted estimators */\n",
              "  --sklearn-color-unfitted-level-0: #fff5e6;\n",
              "  --sklearn-color-unfitted-level-1: #f6e4d2;\n",
              "  --sklearn-color-unfitted-level-2: #ffe0b3;\n",
              "  --sklearn-color-unfitted-level-3: chocolate;\n",
              "  /* Definition of color scheme for fitted estimators */\n",
              "  --sklearn-color-fitted-level-0: #f0f8ff;\n",
              "  --sklearn-color-fitted-level-1: #d4ebff;\n",
              "  --sklearn-color-fitted-level-2: #b3dbfd;\n",
              "  --sklearn-color-fitted-level-3: cornflowerblue;\n",
              "\n",
              "  /* Specific color for light theme */\n",
              "  --sklearn-color-text-on-default-background: var(--sg-text-color, var(--theme-code-foreground, var(--jp-content-font-color1, black)));\n",
              "  --sklearn-color-background: var(--sg-background-color, var(--theme-background, var(--jp-layout-color0, white)));\n",
              "  --sklearn-color-border-box: var(--sg-text-color, var(--theme-code-foreground, var(--jp-content-font-color1, black)));\n",
              "  --sklearn-color-icon: #696969;\n",
              "\n",
              "  @media (prefers-color-scheme: dark) {\n",
              "    /* Redefinition of color scheme for dark theme */\n",
              "    --sklearn-color-text-on-default-background: var(--sg-text-color, var(--theme-code-foreground, var(--jp-content-font-color1, white)));\n",
              "    --sklearn-color-background: var(--sg-background-color, var(--theme-background, var(--jp-layout-color0, #111)));\n",
              "    --sklearn-color-border-box: var(--sg-text-color, var(--theme-code-foreground, var(--jp-content-font-color1, white)));\n",
              "    --sklearn-color-icon: #878787;\n",
              "  }\n",
              "}\n",
              "\n",
              "#sk-container-id-1 {\n",
              "  color: var(--sklearn-color-text);\n",
              "}\n",
              "\n",
              "#sk-container-id-1 pre {\n",
              "  padding: 0;\n",
              "}\n",
              "\n",
              "#sk-container-id-1 input.sk-hidden--visually {\n",
              "  border: 0;\n",
              "  clip: rect(1px 1px 1px 1px);\n",
              "  clip: rect(1px, 1px, 1px, 1px);\n",
              "  height: 1px;\n",
              "  margin: -1px;\n",
              "  overflow: hidden;\n",
              "  padding: 0;\n",
              "  position: absolute;\n",
              "  width: 1px;\n",
              "}\n",
              "\n",
              "#sk-container-id-1 div.sk-dashed-wrapped {\n",
              "  border: 1px dashed var(--sklearn-color-line);\n",
              "  margin: 0 0.4em 0.5em 0.4em;\n",
              "  box-sizing: border-box;\n",
              "  padding-bottom: 0.4em;\n",
              "  background-color: var(--sklearn-color-background);\n",
              "}\n",
              "\n",
              "#sk-container-id-1 div.sk-container {\n",
              "  /* jupyter's `normalize.less` sets `[hidden] { display: none; }`\n",
              "     but bootstrap.min.css set `[hidden] { display: none !important; }`\n",
              "     so we also need the `!important` here to be able to override the\n",
              "     default hidden behavior on the sphinx rendered scikit-learn.org.\n",
              "     See: https://github.com/scikit-learn/scikit-learn/issues/21755 */\n",
              "  display: inline-block !important;\n",
              "  position: relative;\n",
              "}\n",
              "\n",
              "#sk-container-id-1 div.sk-text-repr-fallback {\n",
              "  display: none;\n",
              "}\n",
              "\n",
              "div.sk-parallel-item,\n",
              "div.sk-serial,\n",
              "div.sk-item {\n",
              "  /* draw centered vertical line to link estimators */\n",
              "  background-image: linear-gradient(var(--sklearn-color-text-on-default-background), var(--sklearn-color-text-on-default-background));\n",
              "  background-size: 2px 100%;\n",
              "  background-repeat: no-repeat;\n",
              "  background-position: center center;\n",
              "}\n",
              "\n",
              "/* Parallel-specific style estimator block */\n",
              "\n",
              "#sk-container-id-1 div.sk-parallel-item::after {\n",
              "  content: \"\";\n",
              "  width: 100%;\n",
              "  border-bottom: 2px solid var(--sklearn-color-text-on-default-background);\n",
              "  flex-grow: 1;\n",
              "}\n",
              "\n",
              "#sk-container-id-1 div.sk-parallel {\n",
              "  display: flex;\n",
              "  align-items: stretch;\n",
              "  justify-content: center;\n",
              "  background-color: var(--sklearn-color-background);\n",
              "  position: relative;\n",
              "}\n",
              "\n",
              "#sk-container-id-1 div.sk-parallel-item {\n",
              "  display: flex;\n",
              "  flex-direction: column;\n",
              "}\n",
              "\n",
              "#sk-container-id-1 div.sk-parallel-item:first-child::after {\n",
              "  align-self: flex-end;\n",
              "  width: 50%;\n",
              "}\n",
              "\n",
              "#sk-container-id-1 div.sk-parallel-item:last-child::after {\n",
              "  align-self: flex-start;\n",
              "  width: 50%;\n",
              "}\n",
              "\n",
              "#sk-container-id-1 div.sk-parallel-item:only-child::after {\n",
              "  width: 0;\n",
              "}\n",
              "\n",
              "/* Serial-specific style estimator block */\n",
              "\n",
              "#sk-container-id-1 div.sk-serial {\n",
              "  display: flex;\n",
              "  flex-direction: column;\n",
              "  align-items: center;\n",
              "  background-color: var(--sklearn-color-background);\n",
              "  padding-right: 1em;\n",
              "  padding-left: 1em;\n",
              "}\n",
              "\n",
              "\n",
              "/* Toggleable style: style used for estimator/Pipeline/ColumnTransformer box that is\n",
              "clickable and can be expanded/collapsed.\n",
              "- Pipeline and ColumnTransformer use this feature and define the default style\n",
              "- Estimators will overwrite some part of the style using the `sk-estimator` class\n",
              "*/\n",
              "\n",
              "/* Pipeline and ColumnTransformer style (default) */\n",
              "\n",
              "#sk-container-id-1 div.sk-toggleable {\n",
              "  /* Default theme specific background. It is overwritten whether we have a\n",
              "  specific estimator or a Pipeline/ColumnTransformer */\n",
              "  background-color: var(--sklearn-color-background);\n",
              "}\n",
              "\n",
              "/* Toggleable label */\n",
              "#sk-container-id-1 label.sk-toggleable__label {\n",
              "  cursor: pointer;\n",
              "  display: block;\n",
              "  width: 100%;\n",
              "  margin-bottom: 0;\n",
              "  padding: 0.5em;\n",
              "  box-sizing: border-box;\n",
              "  text-align: center;\n",
              "}\n",
              "\n",
              "#sk-container-id-1 label.sk-toggleable__label-arrow:before {\n",
              "  /* Arrow on the left of the label */\n",
              "  content: \"▸\";\n",
              "  float: left;\n",
              "  margin-right: 0.25em;\n",
              "  color: var(--sklearn-color-icon);\n",
              "}\n",
              "\n",
              "#sk-container-id-1 label.sk-toggleable__label-arrow:hover:before {\n",
              "  color: var(--sklearn-color-text);\n",
              "}\n",
              "\n",
              "/* Toggleable content - dropdown */\n",
              "\n",
              "#sk-container-id-1 div.sk-toggleable__content {\n",
              "  max-height: 0;\n",
              "  max-width: 0;\n",
              "  overflow: hidden;\n",
              "  text-align: left;\n",
              "  /* unfitted */\n",
              "  background-color: var(--sklearn-color-unfitted-level-0);\n",
              "}\n",
              "\n",
              "#sk-container-id-1 div.sk-toggleable__content.fitted {\n",
              "  /* fitted */\n",
              "  background-color: var(--sklearn-color-fitted-level-0);\n",
              "}\n",
              "\n",
              "#sk-container-id-1 div.sk-toggleable__content pre {\n",
              "  margin: 0.2em;\n",
              "  border-radius: 0.25em;\n",
              "  color: var(--sklearn-color-text);\n",
              "  /* unfitted */\n",
              "  background-color: var(--sklearn-color-unfitted-level-0);\n",
              "}\n",
              "\n",
              "#sk-container-id-1 div.sk-toggleable__content.fitted pre {\n",
              "  /* unfitted */\n",
              "  background-color: var(--sklearn-color-fitted-level-0);\n",
              "}\n",
              "\n",
              "#sk-container-id-1 input.sk-toggleable__control:checked~div.sk-toggleable__content {\n",
              "  /* Expand drop-down */\n",
              "  max-height: 200px;\n",
              "  max-width: 100%;\n",
              "  overflow: auto;\n",
              "}\n",
              "\n",
              "#sk-container-id-1 input.sk-toggleable__control:checked~label.sk-toggleable__label-arrow:before {\n",
              "  content: \"▾\";\n",
              "}\n",
              "\n",
              "/* Pipeline/ColumnTransformer-specific style */\n",
              "\n",
              "#sk-container-id-1 div.sk-label input.sk-toggleable__control:checked~label.sk-toggleable__label {\n",
              "  color: var(--sklearn-color-text);\n",
              "  background-color: var(--sklearn-color-unfitted-level-2);\n",
              "}\n",
              "\n",
              "#sk-container-id-1 div.sk-label.fitted input.sk-toggleable__control:checked~label.sk-toggleable__label {\n",
              "  background-color: var(--sklearn-color-fitted-level-2);\n",
              "}\n",
              "\n",
              "/* Estimator-specific style */\n",
              "\n",
              "/* Colorize estimator box */\n",
              "#sk-container-id-1 div.sk-estimator input.sk-toggleable__control:checked~label.sk-toggleable__label {\n",
              "  /* unfitted */\n",
              "  background-color: var(--sklearn-color-unfitted-level-2);\n",
              "}\n",
              "\n",
              "#sk-container-id-1 div.sk-estimator.fitted input.sk-toggleable__control:checked~label.sk-toggleable__label {\n",
              "  /* fitted */\n",
              "  background-color: var(--sklearn-color-fitted-level-2);\n",
              "}\n",
              "\n",
              "#sk-container-id-1 div.sk-label label.sk-toggleable__label,\n",
              "#sk-container-id-1 div.sk-label label {\n",
              "  /* The background is the default theme color */\n",
              "  color: var(--sklearn-color-text-on-default-background);\n",
              "}\n",
              "\n",
              "/* On hover, darken the color of the background */\n",
              "#sk-container-id-1 div.sk-label:hover label.sk-toggleable__label {\n",
              "  color: var(--sklearn-color-text);\n",
              "  background-color: var(--sklearn-color-unfitted-level-2);\n",
              "}\n",
              "\n",
              "/* Label box, darken color on hover, fitted */\n",
              "#sk-container-id-1 div.sk-label.fitted:hover label.sk-toggleable__label.fitted {\n",
              "  color: var(--sklearn-color-text);\n",
              "  background-color: var(--sklearn-color-fitted-level-2);\n",
              "}\n",
              "\n",
              "/* Estimator label */\n",
              "\n",
              "#sk-container-id-1 div.sk-label label {\n",
              "  font-family: monospace;\n",
              "  font-weight: bold;\n",
              "  display: inline-block;\n",
              "  line-height: 1.2em;\n",
              "}\n",
              "\n",
              "#sk-container-id-1 div.sk-label-container {\n",
              "  text-align: center;\n",
              "}\n",
              "\n",
              "/* Estimator-specific */\n",
              "#sk-container-id-1 div.sk-estimator {\n",
              "  font-family: monospace;\n",
              "  border: 1px dotted var(--sklearn-color-border-box);\n",
              "  border-radius: 0.25em;\n",
              "  box-sizing: border-box;\n",
              "  margin-bottom: 0.5em;\n",
              "  /* unfitted */\n",
              "  background-color: var(--sklearn-color-unfitted-level-0);\n",
              "}\n",
              "\n",
              "#sk-container-id-1 div.sk-estimator.fitted {\n",
              "  /* fitted */\n",
              "  background-color: var(--sklearn-color-fitted-level-0);\n",
              "}\n",
              "\n",
              "/* on hover */\n",
              "#sk-container-id-1 div.sk-estimator:hover {\n",
              "  /* unfitted */\n",
              "  background-color: var(--sklearn-color-unfitted-level-2);\n",
              "}\n",
              "\n",
              "#sk-container-id-1 div.sk-estimator.fitted:hover {\n",
              "  /* fitted */\n",
              "  background-color: var(--sklearn-color-fitted-level-2);\n",
              "}\n",
              "\n",
              "/* Specification for estimator info (e.g. \"i\" and \"?\") */\n",
              "\n",
              "/* Common style for \"i\" and \"?\" */\n",
              "\n",
              ".sk-estimator-doc-link,\n",
              "a:link.sk-estimator-doc-link,\n",
              "a:visited.sk-estimator-doc-link {\n",
              "  float: right;\n",
              "  font-size: smaller;\n",
              "  line-height: 1em;\n",
              "  font-family: monospace;\n",
              "  background-color: var(--sklearn-color-background);\n",
              "  border-radius: 1em;\n",
              "  height: 1em;\n",
              "  width: 1em;\n",
              "  text-decoration: none !important;\n",
              "  margin-left: 1ex;\n",
              "  /* unfitted */\n",
              "  border: var(--sklearn-color-unfitted-level-1) 1pt solid;\n",
              "  color: var(--sklearn-color-unfitted-level-1);\n",
              "}\n",
              "\n",
              ".sk-estimator-doc-link.fitted,\n",
              "a:link.sk-estimator-doc-link.fitted,\n",
              "a:visited.sk-estimator-doc-link.fitted {\n",
              "  /* fitted */\n",
              "  border: var(--sklearn-color-fitted-level-1) 1pt solid;\n",
              "  color: var(--sklearn-color-fitted-level-1);\n",
              "}\n",
              "\n",
              "/* On hover */\n",
              "div.sk-estimator:hover .sk-estimator-doc-link:hover,\n",
              ".sk-estimator-doc-link:hover,\n",
              "div.sk-label-container:hover .sk-estimator-doc-link:hover,\n",
              ".sk-estimator-doc-link:hover {\n",
              "  /* unfitted */\n",
              "  background-color: var(--sklearn-color-unfitted-level-3);\n",
              "  color: var(--sklearn-color-background);\n",
              "  text-decoration: none;\n",
              "}\n",
              "\n",
              "div.sk-estimator.fitted:hover .sk-estimator-doc-link.fitted:hover,\n",
              ".sk-estimator-doc-link.fitted:hover,\n",
              "div.sk-label-container:hover .sk-estimator-doc-link.fitted:hover,\n",
              ".sk-estimator-doc-link.fitted:hover {\n",
              "  /* fitted */\n",
              "  background-color: var(--sklearn-color-fitted-level-3);\n",
              "  color: var(--sklearn-color-background);\n",
              "  text-decoration: none;\n",
              "}\n",
              "\n",
              "/* Span, style for the box shown on hovering the info icon */\n",
              ".sk-estimator-doc-link span {\n",
              "  display: none;\n",
              "  z-index: 9999;\n",
              "  position: relative;\n",
              "  font-weight: normal;\n",
              "  right: .2ex;\n",
              "  padding: .5ex;\n",
              "  margin: .5ex;\n",
              "  width: min-content;\n",
              "  min-width: 20ex;\n",
              "  max-width: 50ex;\n",
              "  color: var(--sklearn-color-text);\n",
              "  box-shadow: 2pt 2pt 4pt #999;\n",
              "  /* unfitted */\n",
              "  background: var(--sklearn-color-unfitted-level-0);\n",
              "  border: .5pt solid var(--sklearn-color-unfitted-level-3);\n",
              "}\n",
              "\n",
              ".sk-estimator-doc-link.fitted span {\n",
              "  /* fitted */\n",
              "  background: var(--sklearn-color-fitted-level-0);\n",
              "  border: var(--sklearn-color-fitted-level-3);\n",
              "}\n",
              "\n",
              ".sk-estimator-doc-link:hover span {\n",
              "  display: block;\n",
              "}\n",
              "\n",
              "/* \"?\"-specific style due to the `<a>` HTML tag */\n",
              "\n",
              "#sk-container-id-1 a.estimator_doc_link {\n",
              "  float: right;\n",
              "  font-size: 1rem;\n",
              "  line-height: 1em;\n",
              "  font-family: monospace;\n",
              "  background-color: var(--sklearn-color-background);\n",
              "  border-radius: 1rem;\n",
              "  height: 1rem;\n",
              "  width: 1rem;\n",
              "  text-decoration: none;\n",
              "  /* unfitted */\n",
              "  color: var(--sklearn-color-unfitted-level-1);\n",
              "  border: var(--sklearn-color-unfitted-level-1) 1pt solid;\n",
              "}\n",
              "\n",
              "#sk-container-id-1 a.estimator_doc_link.fitted {\n",
              "  /* fitted */\n",
              "  border: var(--sklearn-color-fitted-level-1) 1pt solid;\n",
              "  color: var(--sklearn-color-fitted-level-1);\n",
              "}\n",
              "\n",
              "/* On hover */\n",
              "#sk-container-id-1 a.estimator_doc_link:hover {\n",
              "  /* unfitted */\n",
              "  background-color: var(--sklearn-color-unfitted-level-3);\n",
              "  color: var(--sklearn-color-background);\n",
              "  text-decoration: none;\n",
              "}\n",
              "\n",
              "#sk-container-id-1 a.estimator_doc_link.fitted:hover {\n",
              "  /* fitted */\n",
              "  background-color: var(--sklearn-color-fitted-level-3);\n",
              "}\n",
              "</style><div id=\"sk-container-id-1\" class=\"sk-top-container\"><div class=\"sk-text-repr-fallback\"><pre>LogisticRegression()</pre><b>In a Jupyter environment, please rerun this cell to show the HTML representation or trust the notebook. <br />On GitHub, the HTML representation is unable to render, please try loading this page with nbviewer.org.</b></div><div class=\"sk-container\" hidden><div class=\"sk-item\"><div class=\"sk-estimator fitted sk-toggleable\"><input class=\"sk-toggleable__control sk-hidden--visually\" id=\"sk-estimator-id-1\" type=\"checkbox\" checked><label for=\"sk-estimator-id-1\" class=\"sk-toggleable__label fitted sk-toggleable__label-arrow fitted\">&nbsp;&nbsp;LogisticRegression<a class=\"sk-estimator-doc-link fitted\" rel=\"noreferrer\" target=\"_blank\" href=\"https://scikit-learn.org/1.5/modules/generated/sklearn.linear_model.LogisticRegression.html\">?<span>Documentation for LogisticRegression</span></a><span class=\"sk-estimator-doc-link fitted\">i<span>Fitted</span></span></label><div class=\"sk-toggleable__content fitted\"><pre>LogisticRegression()</pre></div> </div></div></div></div>"
            ]
          },
          "metadata": {},
          "execution_count": 25
        }
      ],
      "source": [
        "logistic_regression_model = LogisticRegression()\n",
        "logistic_regression_model.fit(X_train_tfidf, y_train)"
      ]
    },
    {
      "cell_type": "code",
      "execution_count": null,
      "metadata": {
        "colab": {
          "base_uri": "https://localhost:8080/"
        },
        "id": "tcDynjZCdhq_",
        "outputId": "09dde3a1-dfa8-4e4f-95a9-29339a32461d"
      },
      "outputs": [
        {
          "output_type": "stream",
          "name": "stdout",
          "text": [
            "Accuracy: 0.9828507795100223\n",
            "Classification Report:\n",
            "               precision    recall  f1-score   support\n",
            "\n",
            "           0       0.98      0.98      0.98      4733\n",
            "           1       0.98      0.98      0.98      4247\n",
            "\n",
            "    accuracy                           0.98      8980\n",
            "   macro avg       0.98      0.98      0.98      8980\n",
            "weighted avg       0.98      0.98      0.98      8980\n",
            "\n"
          ]
        },
        {
          "output_type": "stream",
          "name": "stderr",
          "text": [
            "/usr/local/lib/python3.10/dist-packages/ipykernel/ipkernel.py:283: DeprecationWarning: `should_run_async` will not call `transform_cell` automatically in the future. Please pass the result to `transformed_cell` argument and any exception that happen during thetransform in `preprocessing_exc_tuple` in IPython 7.17 and above.\n",
            "  and should_run_async(code)\n"
          ]
        }
      ],
      "source": [
        "y_pred = logistic_regression_model.predict(X_test_tfidf)\n",
        "print(\"Accuracy:\", accuracy_score(y_test, y_pred))\n",
        "print(\"Classification Report:\\n\", classification_report(y_test, y_pred))"
      ]
    },
    {
      "cell_type": "code",
      "execution_count": null,
      "metadata": {
        "id": "MoNuqzQ2fGcn",
        "colab": {
          "base_uri": "https://localhost:8080/"
        },
        "outputId": "8b925b8d-2780-48d9-8b8c-dd6a8de2923d"
      },
      "outputs": [
        {
          "output_type": "stream",
          "name": "stderr",
          "text": [
            "/usr/local/lib/python3.10/dist-packages/ipykernel/ipkernel.py:283: DeprecationWarning: `should_run_async` will not call `transform_cell` automatically in the future. Please pass the result to `transformed_cell` argument and any exception that happen during thetransform in `preprocessing_exc_tuple` in IPython 7.17 and above.\n",
            "  and should_run_async(code)\n"
          ]
        }
      ],
      "source": [
        "def evaluate_model(model,dataset):  #prende in input il modello e il dataset\n",
        "    X,y= dataset  #tupla con feature e target\n",
        "    y_pred=model.predict(X)\n",
        "\n",
        "    print(f\"MSE: {mean_squared_error(y,y_pred):.3f}\")\n",
        "    print(f\"R2: {r2_score(y, y_pred):.3f}\")"
      ]
    },
    {
      "cell_type": "code",
      "execution_count": null,
      "metadata": {
        "colab": {
          "base_uri": "https://localhost:8080/"
        },
        "id": "z5a0AZShfRw0",
        "outputId": "68e6a2a0-f787-4194-f461-342866ae05a9"
      },
      "outputs": [
        {
          "output_type": "stream",
          "name": "stdout",
          "text": [
            "MSE: 0.011\n",
            "R2: 0.957\n"
          ]
        },
        {
          "output_type": "stream",
          "name": "stderr",
          "text": [
            "/usr/local/lib/python3.10/dist-packages/ipykernel/ipkernel.py:283: DeprecationWarning: `should_run_async` will not call `transform_cell` automatically in the future. Please pass the result to `transformed_cell` argument and any exception that happen during thetransform in `preprocessing_exc_tuple` in IPython 7.17 and above.\n",
            "  and should_run_async(code)\n"
          ]
        }
      ],
      "source": [
        "#valutiamo il modello sul set di addestramento\n",
        "evaluate_model(logistic_regression_model, (X_train_tfidf, y_train))"
      ]
    },
    {
      "cell_type": "code",
      "execution_count": null,
      "metadata": {
        "colab": {
          "base_uri": "https://localhost:8080/"
        },
        "id": "kXRKeQN4fom-",
        "outputId": "e114f79b-4584-4c33-8048-6497f3a05a79"
      },
      "outputs": [
        {
          "output_type": "stream",
          "name": "stdout",
          "text": [
            "MSE: 0.017\n",
            "R2: 0.931\n"
          ]
        },
        {
          "output_type": "stream",
          "name": "stderr",
          "text": [
            "/usr/local/lib/python3.10/dist-packages/ipykernel/ipkernel.py:283: DeprecationWarning: `should_run_async` will not call `transform_cell` automatically in the future. Please pass the result to `transformed_cell` argument and any exception that happen during thetransform in `preprocessing_exc_tuple` in IPython 7.17 and above.\n",
            "  and should_run_async(code)\n"
          ]
        }
      ],
      "source": [
        "#valutiamo il modello sul set di test\n",
        "evaluate_model(logistic_regression_model, (X_test_tfidf, y_test))"
      ]
    },
    {
      "cell_type": "markdown",
      "source": [
        "Dopo vari test il modello di Regressione Logistica sembra essere il modello più performante, con una maggiore accuratezza e migliori metriche di valutazione complessive.\n",
        "Per completezza si riporta alla fine del codice il modello Naive Bayes che è stato testato e confrontato con il modello di Regressione Logistica."
      ],
      "metadata": {
        "id": "hGNZez6SvhUJ"
      }
    },
    {
      "cell_type": "markdown",
      "source": [
        "###Esportazione del modello in formato pkl per l'implementazione in Chrome."
      ],
      "metadata": {
        "id": "kcF-LLc1wCJ6"
      }
    },
    {
      "cell_type": "code",
      "source": [
        "import pickle\n",
        "# Salviamo il modello\n",
        "with open('filter_fake_news_model.pkl', 'wb') as file:\n",
        "    pickle.dump(logistic_regression_model, file)"
      ],
      "metadata": {
        "colab": {
          "base_uri": "https://localhost:8080/"
        },
        "id": "ClvR-LYKvoy_",
        "outputId": "d372cf83-4a04-473a-8e7c-bd01c6f9258d"
      },
      "execution_count": null,
      "outputs": [
        {
          "output_type": "stream",
          "name": "stderr",
          "text": [
            "/usr/local/lib/python3.10/dist-packages/ipykernel/ipkernel.py:283: DeprecationWarning: `should_run_async` will not call `transform_cell` automatically in the future. Please pass the result to `transformed_cell` argument and any exception that happen during thetransform in `preprocessing_exc_tuple` in IPython 7.17 and above.\n",
            "  and should_run_async(code)\n"
          ]
        }
      ]
    },
    {
      "cell_type": "code",
      "source": [],
      "metadata": {
        "colab": {
          "base_uri": "https://localhost:8080/"
        },
        "id": "OLrVulD6wfa0",
        "outputId": "f6da17c4-11b1-427d-8eab-ae308237ace0"
      },
      "execution_count": null,
      "outputs": [
        {
          "output_type": "stream",
          "name": "stderr",
          "text": [
            "/usr/local/lib/python3.10/dist-packages/ipykernel/ipkernel.py:283: DeprecationWarning: `should_run_async` will not call `transform_cell` automatically in the future. Please pass the result to `transformed_cell` argument and any exception that happen during thetransform in `preprocessing_exc_tuple` in IPython 7.17 and above.\n",
            "  and should_run_async(code)\n"
          ]
        }
      ]
    },
    {
      "cell_type": "code",
      "source": [],
      "metadata": {
        "colab": {
          "base_uri": "https://localhost:8080/"
        },
        "id": "tNE3B8liwfR8",
        "outputId": "03e62024-b2e5-47dd-fbe8-481bba458414"
      },
      "execution_count": null,
      "outputs": [
        {
          "output_type": "stream",
          "name": "stderr",
          "text": [
            "/usr/local/lib/python3.10/dist-packages/ipykernel/ipkernel.py:283: DeprecationWarning: `should_run_async` will not call `transform_cell` automatically in the future. Please pass the result to `transformed_cell` argument and any exception that happen during thetransform in `preprocessing_exc_tuple` in IPython 7.17 and above.\n",
            "  and should_run_async(code)\n"
          ]
        }
      ]
    },
    {
      "cell_type": "code",
      "source": [],
      "metadata": {
        "colab": {
          "base_uri": "https://localhost:8080/"
        },
        "id": "Ipi2V5D4wfJs",
        "outputId": "9200dc7c-ed90-461d-ee27-fe84db00e6f7"
      },
      "execution_count": null,
      "outputs": [
        {
          "output_type": "stream",
          "name": "stderr",
          "text": [
            "/usr/local/lib/python3.10/dist-packages/ipykernel/ipkernel.py:283: DeprecationWarning: `should_run_async` will not call `transform_cell` automatically in the future. Please pass the result to `transformed_cell` argument and any exception that happen during thetransform in `preprocessing_exc_tuple` in IPython 7.17 and above.\n",
            "  and should_run_async(code)\n"
          ]
        }
      ]
    },
    {
      "cell_type": "markdown",
      "metadata": {
        "id": "9cON-EUym4Fm"
      },
      "source": [
        "MODELLO NAIVE BAYES"
      ]
    },
    {
      "cell_type": "code",
      "source": [
        "naive_bayes_model = MultinomialNB() #inizializziamo il modello\n",
        "naive_bayes_model.fit(X_train_tfidf, y_train)"
      ],
      "metadata": {
        "colab": {
          "base_uri": "https://localhost:8080/",
          "height": 137
        },
        "id": "FwTxfasDn5MG",
        "outputId": "81371194-b230-440c-bdf8-3c55024b3d4e"
      },
      "execution_count": null,
      "outputs": [
        {
          "output_type": "stream",
          "name": "stderr",
          "text": [
            "/usr/local/lib/python3.10/dist-packages/ipykernel/ipkernel.py:283: DeprecationWarning: `should_run_async` will not call `transform_cell` automatically in the future. Please pass the result to `transformed_cell` argument and any exception that happen during thetransform in `preprocessing_exc_tuple` in IPython 7.17 and above.\n",
            "  and should_run_async(code)\n"
          ]
        },
        {
          "output_type": "execute_result",
          "data": {
            "text/plain": [
              "MultinomialNB()"
            ],
            "text/html": [
              "<style>#sk-container-id-2 {\n",
              "  /* Definition of color scheme common for light and dark mode */\n",
              "  --sklearn-color-text: black;\n",
              "  --sklearn-color-line: gray;\n",
              "  /* Definition of color scheme for unfitted estimators */\n",
              "  --sklearn-color-unfitted-level-0: #fff5e6;\n",
              "  --sklearn-color-unfitted-level-1: #f6e4d2;\n",
              "  --sklearn-color-unfitted-level-2: #ffe0b3;\n",
              "  --sklearn-color-unfitted-level-3: chocolate;\n",
              "  /* Definition of color scheme for fitted estimators */\n",
              "  --sklearn-color-fitted-level-0: #f0f8ff;\n",
              "  --sklearn-color-fitted-level-1: #d4ebff;\n",
              "  --sklearn-color-fitted-level-2: #b3dbfd;\n",
              "  --sklearn-color-fitted-level-3: cornflowerblue;\n",
              "\n",
              "  /* Specific color for light theme */\n",
              "  --sklearn-color-text-on-default-background: var(--sg-text-color, var(--theme-code-foreground, var(--jp-content-font-color1, black)));\n",
              "  --sklearn-color-background: var(--sg-background-color, var(--theme-background, var(--jp-layout-color0, white)));\n",
              "  --sklearn-color-border-box: var(--sg-text-color, var(--theme-code-foreground, var(--jp-content-font-color1, black)));\n",
              "  --sklearn-color-icon: #696969;\n",
              "\n",
              "  @media (prefers-color-scheme: dark) {\n",
              "    /* Redefinition of color scheme for dark theme */\n",
              "    --sklearn-color-text-on-default-background: var(--sg-text-color, var(--theme-code-foreground, var(--jp-content-font-color1, white)));\n",
              "    --sklearn-color-background: var(--sg-background-color, var(--theme-background, var(--jp-layout-color0, #111)));\n",
              "    --sklearn-color-border-box: var(--sg-text-color, var(--theme-code-foreground, var(--jp-content-font-color1, white)));\n",
              "    --sklearn-color-icon: #878787;\n",
              "  }\n",
              "}\n",
              "\n",
              "#sk-container-id-2 {\n",
              "  color: var(--sklearn-color-text);\n",
              "}\n",
              "\n",
              "#sk-container-id-2 pre {\n",
              "  padding: 0;\n",
              "}\n",
              "\n",
              "#sk-container-id-2 input.sk-hidden--visually {\n",
              "  border: 0;\n",
              "  clip: rect(1px 1px 1px 1px);\n",
              "  clip: rect(1px, 1px, 1px, 1px);\n",
              "  height: 1px;\n",
              "  margin: -1px;\n",
              "  overflow: hidden;\n",
              "  padding: 0;\n",
              "  position: absolute;\n",
              "  width: 1px;\n",
              "}\n",
              "\n",
              "#sk-container-id-2 div.sk-dashed-wrapped {\n",
              "  border: 1px dashed var(--sklearn-color-line);\n",
              "  margin: 0 0.4em 0.5em 0.4em;\n",
              "  box-sizing: border-box;\n",
              "  padding-bottom: 0.4em;\n",
              "  background-color: var(--sklearn-color-background);\n",
              "}\n",
              "\n",
              "#sk-container-id-2 div.sk-container {\n",
              "  /* jupyter's `normalize.less` sets `[hidden] { display: none; }`\n",
              "     but bootstrap.min.css set `[hidden] { display: none !important; }`\n",
              "     so we also need the `!important` here to be able to override the\n",
              "     default hidden behavior on the sphinx rendered scikit-learn.org.\n",
              "     See: https://github.com/scikit-learn/scikit-learn/issues/21755 */\n",
              "  display: inline-block !important;\n",
              "  position: relative;\n",
              "}\n",
              "\n",
              "#sk-container-id-2 div.sk-text-repr-fallback {\n",
              "  display: none;\n",
              "}\n",
              "\n",
              "div.sk-parallel-item,\n",
              "div.sk-serial,\n",
              "div.sk-item {\n",
              "  /* draw centered vertical line to link estimators */\n",
              "  background-image: linear-gradient(var(--sklearn-color-text-on-default-background), var(--sklearn-color-text-on-default-background));\n",
              "  background-size: 2px 100%;\n",
              "  background-repeat: no-repeat;\n",
              "  background-position: center center;\n",
              "}\n",
              "\n",
              "/* Parallel-specific style estimator block */\n",
              "\n",
              "#sk-container-id-2 div.sk-parallel-item::after {\n",
              "  content: \"\";\n",
              "  width: 100%;\n",
              "  border-bottom: 2px solid var(--sklearn-color-text-on-default-background);\n",
              "  flex-grow: 1;\n",
              "}\n",
              "\n",
              "#sk-container-id-2 div.sk-parallel {\n",
              "  display: flex;\n",
              "  align-items: stretch;\n",
              "  justify-content: center;\n",
              "  background-color: var(--sklearn-color-background);\n",
              "  position: relative;\n",
              "}\n",
              "\n",
              "#sk-container-id-2 div.sk-parallel-item {\n",
              "  display: flex;\n",
              "  flex-direction: column;\n",
              "}\n",
              "\n",
              "#sk-container-id-2 div.sk-parallel-item:first-child::after {\n",
              "  align-self: flex-end;\n",
              "  width: 50%;\n",
              "}\n",
              "\n",
              "#sk-container-id-2 div.sk-parallel-item:last-child::after {\n",
              "  align-self: flex-start;\n",
              "  width: 50%;\n",
              "}\n",
              "\n",
              "#sk-container-id-2 div.sk-parallel-item:only-child::after {\n",
              "  width: 0;\n",
              "}\n",
              "\n",
              "/* Serial-specific style estimator block */\n",
              "\n",
              "#sk-container-id-2 div.sk-serial {\n",
              "  display: flex;\n",
              "  flex-direction: column;\n",
              "  align-items: center;\n",
              "  background-color: var(--sklearn-color-background);\n",
              "  padding-right: 1em;\n",
              "  padding-left: 1em;\n",
              "}\n",
              "\n",
              "\n",
              "/* Toggleable style: style used for estimator/Pipeline/ColumnTransformer box that is\n",
              "clickable and can be expanded/collapsed.\n",
              "- Pipeline and ColumnTransformer use this feature and define the default style\n",
              "- Estimators will overwrite some part of the style using the `sk-estimator` class\n",
              "*/\n",
              "\n",
              "/* Pipeline and ColumnTransformer style (default) */\n",
              "\n",
              "#sk-container-id-2 div.sk-toggleable {\n",
              "  /* Default theme specific background. It is overwritten whether we have a\n",
              "  specific estimator or a Pipeline/ColumnTransformer */\n",
              "  background-color: var(--sklearn-color-background);\n",
              "}\n",
              "\n",
              "/* Toggleable label */\n",
              "#sk-container-id-2 label.sk-toggleable__label {\n",
              "  cursor: pointer;\n",
              "  display: block;\n",
              "  width: 100%;\n",
              "  margin-bottom: 0;\n",
              "  padding: 0.5em;\n",
              "  box-sizing: border-box;\n",
              "  text-align: center;\n",
              "}\n",
              "\n",
              "#sk-container-id-2 label.sk-toggleable__label-arrow:before {\n",
              "  /* Arrow on the left of the label */\n",
              "  content: \"▸\";\n",
              "  float: left;\n",
              "  margin-right: 0.25em;\n",
              "  color: var(--sklearn-color-icon);\n",
              "}\n",
              "\n",
              "#sk-container-id-2 label.sk-toggleable__label-arrow:hover:before {\n",
              "  color: var(--sklearn-color-text);\n",
              "}\n",
              "\n",
              "/* Toggleable content - dropdown */\n",
              "\n",
              "#sk-container-id-2 div.sk-toggleable__content {\n",
              "  max-height: 0;\n",
              "  max-width: 0;\n",
              "  overflow: hidden;\n",
              "  text-align: left;\n",
              "  /* unfitted */\n",
              "  background-color: var(--sklearn-color-unfitted-level-0);\n",
              "}\n",
              "\n",
              "#sk-container-id-2 div.sk-toggleable__content.fitted {\n",
              "  /* fitted */\n",
              "  background-color: var(--sklearn-color-fitted-level-0);\n",
              "}\n",
              "\n",
              "#sk-container-id-2 div.sk-toggleable__content pre {\n",
              "  margin: 0.2em;\n",
              "  border-radius: 0.25em;\n",
              "  color: var(--sklearn-color-text);\n",
              "  /* unfitted */\n",
              "  background-color: var(--sklearn-color-unfitted-level-0);\n",
              "}\n",
              "\n",
              "#sk-container-id-2 div.sk-toggleable__content.fitted pre {\n",
              "  /* unfitted */\n",
              "  background-color: var(--sklearn-color-fitted-level-0);\n",
              "}\n",
              "\n",
              "#sk-container-id-2 input.sk-toggleable__control:checked~div.sk-toggleable__content {\n",
              "  /* Expand drop-down */\n",
              "  max-height: 200px;\n",
              "  max-width: 100%;\n",
              "  overflow: auto;\n",
              "}\n",
              "\n",
              "#sk-container-id-2 input.sk-toggleable__control:checked~label.sk-toggleable__label-arrow:before {\n",
              "  content: \"▾\";\n",
              "}\n",
              "\n",
              "/* Pipeline/ColumnTransformer-specific style */\n",
              "\n",
              "#sk-container-id-2 div.sk-label input.sk-toggleable__control:checked~label.sk-toggleable__label {\n",
              "  color: var(--sklearn-color-text);\n",
              "  background-color: var(--sklearn-color-unfitted-level-2);\n",
              "}\n",
              "\n",
              "#sk-container-id-2 div.sk-label.fitted input.sk-toggleable__control:checked~label.sk-toggleable__label {\n",
              "  background-color: var(--sklearn-color-fitted-level-2);\n",
              "}\n",
              "\n",
              "/* Estimator-specific style */\n",
              "\n",
              "/* Colorize estimator box */\n",
              "#sk-container-id-2 div.sk-estimator input.sk-toggleable__control:checked~label.sk-toggleable__label {\n",
              "  /* unfitted */\n",
              "  background-color: var(--sklearn-color-unfitted-level-2);\n",
              "}\n",
              "\n",
              "#sk-container-id-2 div.sk-estimator.fitted input.sk-toggleable__control:checked~label.sk-toggleable__label {\n",
              "  /* fitted */\n",
              "  background-color: var(--sklearn-color-fitted-level-2);\n",
              "}\n",
              "\n",
              "#sk-container-id-2 div.sk-label label.sk-toggleable__label,\n",
              "#sk-container-id-2 div.sk-label label {\n",
              "  /* The background is the default theme color */\n",
              "  color: var(--sklearn-color-text-on-default-background);\n",
              "}\n",
              "\n",
              "/* On hover, darken the color of the background */\n",
              "#sk-container-id-2 div.sk-label:hover label.sk-toggleable__label {\n",
              "  color: var(--sklearn-color-text);\n",
              "  background-color: var(--sklearn-color-unfitted-level-2);\n",
              "}\n",
              "\n",
              "/* Label box, darken color on hover, fitted */\n",
              "#sk-container-id-2 div.sk-label.fitted:hover label.sk-toggleable__label.fitted {\n",
              "  color: var(--sklearn-color-text);\n",
              "  background-color: var(--sklearn-color-fitted-level-2);\n",
              "}\n",
              "\n",
              "/* Estimator label */\n",
              "\n",
              "#sk-container-id-2 div.sk-label label {\n",
              "  font-family: monospace;\n",
              "  font-weight: bold;\n",
              "  display: inline-block;\n",
              "  line-height: 1.2em;\n",
              "}\n",
              "\n",
              "#sk-container-id-2 div.sk-label-container {\n",
              "  text-align: center;\n",
              "}\n",
              "\n",
              "/* Estimator-specific */\n",
              "#sk-container-id-2 div.sk-estimator {\n",
              "  font-family: monospace;\n",
              "  border: 1px dotted var(--sklearn-color-border-box);\n",
              "  border-radius: 0.25em;\n",
              "  box-sizing: border-box;\n",
              "  margin-bottom: 0.5em;\n",
              "  /* unfitted */\n",
              "  background-color: var(--sklearn-color-unfitted-level-0);\n",
              "}\n",
              "\n",
              "#sk-container-id-2 div.sk-estimator.fitted {\n",
              "  /* fitted */\n",
              "  background-color: var(--sklearn-color-fitted-level-0);\n",
              "}\n",
              "\n",
              "/* on hover */\n",
              "#sk-container-id-2 div.sk-estimator:hover {\n",
              "  /* unfitted */\n",
              "  background-color: var(--sklearn-color-unfitted-level-2);\n",
              "}\n",
              "\n",
              "#sk-container-id-2 div.sk-estimator.fitted:hover {\n",
              "  /* fitted */\n",
              "  background-color: var(--sklearn-color-fitted-level-2);\n",
              "}\n",
              "\n",
              "/* Specification for estimator info (e.g. \"i\" and \"?\") */\n",
              "\n",
              "/* Common style for \"i\" and \"?\" */\n",
              "\n",
              ".sk-estimator-doc-link,\n",
              "a:link.sk-estimator-doc-link,\n",
              "a:visited.sk-estimator-doc-link {\n",
              "  float: right;\n",
              "  font-size: smaller;\n",
              "  line-height: 1em;\n",
              "  font-family: monospace;\n",
              "  background-color: var(--sklearn-color-background);\n",
              "  border-radius: 1em;\n",
              "  height: 1em;\n",
              "  width: 1em;\n",
              "  text-decoration: none !important;\n",
              "  margin-left: 1ex;\n",
              "  /* unfitted */\n",
              "  border: var(--sklearn-color-unfitted-level-1) 1pt solid;\n",
              "  color: var(--sklearn-color-unfitted-level-1);\n",
              "}\n",
              "\n",
              ".sk-estimator-doc-link.fitted,\n",
              "a:link.sk-estimator-doc-link.fitted,\n",
              "a:visited.sk-estimator-doc-link.fitted {\n",
              "  /* fitted */\n",
              "  border: var(--sklearn-color-fitted-level-1) 1pt solid;\n",
              "  color: var(--sklearn-color-fitted-level-1);\n",
              "}\n",
              "\n",
              "/* On hover */\n",
              "div.sk-estimator:hover .sk-estimator-doc-link:hover,\n",
              ".sk-estimator-doc-link:hover,\n",
              "div.sk-label-container:hover .sk-estimator-doc-link:hover,\n",
              ".sk-estimator-doc-link:hover {\n",
              "  /* unfitted */\n",
              "  background-color: var(--sklearn-color-unfitted-level-3);\n",
              "  color: var(--sklearn-color-background);\n",
              "  text-decoration: none;\n",
              "}\n",
              "\n",
              "div.sk-estimator.fitted:hover .sk-estimator-doc-link.fitted:hover,\n",
              ".sk-estimator-doc-link.fitted:hover,\n",
              "div.sk-label-container:hover .sk-estimator-doc-link.fitted:hover,\n",
              ".sk-estimator-doc-link.fitted:hover {\n",
              "  /* fitted */\n",
              "  background-color: var(--sklearn-color-fitted-level-3);\n",
              "  color: var(--sklearn-color-background);\n",
              "  text-decoration: none;\n",
              "}\n",
              "\n",
              "/* Span, style for the box shown on hovering the info icon */\n",
              ".sk-estimator-doc-link span {\n",
              "  display: none;\n",
              "  z-index: 9999;\n",
              "  position: relative;\n",
              "  font-weight: normal;\n",
              "  right: .2ex;\n",
              "  padding: .5ex;\n",
              "  margin: .5ex;\n",
              "  width: min-content;\n",
              "  min-width: 20ex;\n",
              "  max-width: 50ex;\n",
              "  color: var(--sklearn-color-text);\n",
              "  box-shadow: 2pt 2pt 4pt #999;\n",
              "  /* unfitted */\n",
              "  background: var(--sklearn-color-unfitted-level-0);\n",
              "  border: .5pt solid var(--sklearn-color-unfitted-level-3);\n",
              "}\n",
              "\n",
              ".sk-estimator-doc-link.fitted span {\n",
              "  /* fitted */\n",
              "  background: var(--sklearn-color-fitted-level-0);\n",
              "  border: var(--sklearn-color-fitted-level-3);\n",
              "}\n",
              "\n",
              ".sk-estimator-doc-link:hover span {\n",
              "  display: block;\n",
              "}\n",
              "\n",
              "/* \"?\"-specific style due to the `<a>` HTML tag */\n",
              "\n",
              "#sk-container-id-2 a.estimator_doc_link {\n",
              "  float: right;\n",
              "  font-size: 1rem;\n",
              "  line-height: 1em;\n",
              "  font-family: monospace;\n",
              "  background-color: var(--sklearn-color-background);\n",
              "  border-radius: 1rem;\n",
              "  height: 1rem;\n",
              "  width: 1rem;\n",
              "  text-decoration: none;\n",
              "  /* unfitted */\n",
              "  color: var(--sklearn-color-unfitted-level-1);\n",
              "  border: var(--sklearn-color-unfitted-level-1) 1pt solid;\n",
              "}\n",
              "\n",
              "#sk-container-id-2 a.estimator_doc_link.fitted {\n",
              "  /* fitted */\n",
              "  border: var(--sklearn-color-fitted-level-1) 1pt solid;\n",
              "  color: var(--sklearn-color-fitted-level-1);\n",
              "}\n",
              "\n",
              "/* On hover */\n",
              "#sk-container-id-2 a.estimator_doc_link:hover {\n",
              "  /* unfitted */\n",
              "  background-color: var(--sklearn-color-unfitted-level-3);\n",
              "  color: var(--sklearn-color-background);\n",
              "  text-decoration: none;\n",
              "}\n",
              "\n",
              "#sk-container-id-2 a.estimator_doc_link.fitted:hover {\n",
              "  /* fitted */\n",
              "  background-color: var(--sklearn-color-fitted-level-3);\n",
              "}\n",
              "</style><div id=\"sk-container-id-2\" class=\"sk-top-container\"><div class=\"sk-text-repr-fallback\"><pre>MultinomialNB()</pre><b>In a Jupyter environment, please rerun this cell to show the HTML representation or trust the notebook. <br />On GitHub, the HTML representation is unable to render, please try loading this page with nbviewer.org.</b></div><div class=\"sk-container\" hidden><div class=\"sk-item\"><div class=\"sk-estimator fitted sk-toggleable\"><input class=\"sk-toggleable__control sk-hidden--visually\" id=\"sk-estimator-id-2\" type=\"checkbox\" checked><label for=\"sk-estimator-id-2\" class=\"sk-toggleable__label fitted sk-toggleable__label-arrow fitted\">&nbsp;&nbsp;MultinomialNB<a class=\"sk-estimator-doc-link fitted\" rel=\"noreferrer\" target=\"_blank\" href=\"https://scikit-learn.org/1.5/modules/generated/sklearn.naive_bayes.MultinomialNB.html\">?<span>Documentation for MultinomialNB</span></a><span class=\"sk-estimator-doc-link fitted\">i<span>Fitted</span></span></label><div class=\"sk-toggleable__content fitted\"><pre>MultinomialNB()</pre></div> </div></div></div></div>"
            ]
          },
          "metadata": {},
          "execution_count": 31
        }
      ]
    },
    {
      "cell_type": "code",
      "source": [
        "naive_bayes_model.score(X_test_tfidf, y_test)"
      ],
      "metadata": {
        "colab": {
          "base_uri": "https://localhost:8080/"
        },
        "id": "hfyJ3jE3oOQ9",
        "outputId": "546fac28-d77a-4ac8-b884-b5c85ba8826a"
      },
      "execution_count": null,
      "outputs": [
        {
          "output_type": "stream",
          "name": "stderr",
          "text": [
            "/usr/local/lib/python3.10/dist-packages/ipykernel/ipkernel.py:283: DeprecationWarning: `should_run_async` will not call `transform_cell` automatically in the future. Please pass the result to `transformed_cell` argument and any exception that happen during thetransform in `preprocessing_exc_tuple` in IPython 7.17 and above.\n",
            "  and should_run_async(code)\n"
          ]
        },
        {
          "output_type": "execute_result",
          "data": {
            "text/plain": [
              "0.9291759465478842"
            ]
          },
          "metadata": {},
          "execution_count": 32
        }
      ]
    },
    {
      "cell_type": "code",
      "source": [
        "y_pred = naive_bayes_model.predict(X_test_tfidf)\n",
        "print(\"Accuracy:\", accuracy_score(y_test, y_pred))\n",
        "print(\"Classification Report:\\n\", classification_report(y_test, y_pred))"
      ],
      "metadata": {
        "colab": {
          "base_uri": "https://localhost:8080/"
        },
        "id": "vTNn159YoO5U",
        "outputId": "34e0b709-6427-4985-f470-898716d8ebe7"
      },
      "execution_count": null,
      "outputs": [
        {
          "output_type": "stream",
          "name": "stderr",
          "text": [
            "/usr/local/lib/python3.10/dist-packages/ipykernel/ipkernel.py:283: DeprecationWarning: `should_run_async` will not call `transform_cell` automatically in the future. Please pass the result to `transformed_cell` argument and any exception that happen during thetransform in `preprocessing_exc_tuple` in IPython 7.17 and above.\n",
            "  and should_run_async(code)\n"
          ]
        },
        {
          "output_type": "stream",
          "name": "stdout",
          "text": [
            "Accuracy: 0.9291759465478842\n",
            "Classification Report:\n",
            "               precision    recall  f1-score   support\n",
            "\n",
            "           0       0.93      0.94      0.93      4733\n",
            "           1       0.93      0.92      0.92      4247\n",
            "\n",
            "    accuracy                           0.93      8980\n",
            "   macro avg       0.93      0.93      0.93      8980\n",
            "weighted avg       0.93      0.93      0.93      8980\n",
            "\n"
          ]
        }
      ]
    },
    {
      "cell_type": "code",
      "source": [
        "evaluate_model(naive_bayes_model, (X_train_tfidf, y_train))"
      ],
      "metadata": {
        "colab": {
          "base_uri": "https://localhost:8080/"
        },
        "id": "n5PeWh4TpmgR",
        "outputId": "096fc94a-a7ce-4670-db56-263102df37ee"
      },
      "execution_count": null,
      "outputs": [
        {
          "output_type": "stream",
          "name": "stderr",
          "text": [
            "/usr/local/lib/python3.10/dist-packages/ipykernel/ipkernel.py:283: DeprecationWarning: `should_run_async` will not call `transform_cell` automatically in the future. Please pass the result to `transformed_cell` argument and any exception that happen during thetransform in `preprocessing_exc_tuple` in IPython 7.17 and above.\n",
            "  and should_run_async(code)\n"
          ]
        },
        {
          "output_type": "stream",
          "name": "stdout",
          "text": [
            "MSE: 0.060\n",
            "R2: 0.758\n"
          ]
        }
      ]
    },
    {
      "cell_type": "code",
      "source": [
        "evaluate_model(naive_bayes_model, (X_test_tfidf, y_test))"
      ],
      "metadata": {
        "colab": {
          "base_uri": "https://localhost:8080/"
        },
        "id": "003wEo53ppCP",
        "outputId": "c52721e9-565a-4562-e5cd-cbcc29ff7ac9"
      },
      "execution_count": null,
      "outputs": [
        {
          "output_type": "stream",
          "name": "stdout",
          "text": [
            "MSE: 0.071\n",
            "R2: 0.716\n"
          ]
        },
        {
          "output_type": "stream",
          "name": "stderr",
          "text": [
            "/usr/local/lib/python3.10/dist-packages/ipykernel/ipkernel.py:283: DeprecationWarning: `should_run_async` will not call `transform_cell` automatically in the future. Please pass the result to `transformed_cell` argument and any exception that happen during thetransform in `preprocessing_exc_tuple` in IPython 7.17 and above.\n",
            "  and should_run_async(code)\n"
          ]
        }
      ]
    }
  ],
  "metadata": {
    "colab": {
      "provenance": [],
      "authorship_tag": "ABX9TyMQZv4MFrkZsSAa8pIhvCAW",
      "include_colab_link": true
    },
    "kernelspec": {
      "display_name": "Python 3",
      "name": "python3"
    },
    "language_info": {
      "name": "python"
    }
  },
  "nbformat": 4,
  "nbformat_minor": 0
}