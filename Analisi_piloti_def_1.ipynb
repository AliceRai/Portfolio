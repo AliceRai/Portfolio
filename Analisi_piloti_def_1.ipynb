{
  "cells": [
    {
      "cell_type": "markdown",
      "metadata": {
        "id": "view-in-github",
        "colab_type": "text"
      },
      "source": [
        "<a href=\"https://colab.research.google.com/github/AliceRai/Portfolio/blob/main/Analisi_piloti_def_1.ipynb\" target=\"_parent\"><img src=\"https://colab.research.google.com/assets/colab-badge.svg\" alt=\"Open In Colab\"/></a>"
      ]
    },
    {
      "cell_type": "code",
      "execution_count": null,
      "id": "c67d27c1",
      "metadata": {
        "id": "c67d27c1"
      },
      "outputs": [],
      "source": [
        "import csv"
      ]
    },
    {
      "cell_type": "code",
      "execution_count": null,
      "id": "00fe1a25",
      "metadata": {
        "scrolled": true,
        "colab": {
          "base_uri": "https://localhost:8080/"
        },
        "id": "00fe1a25",
        "outputId": "e6adb32a-ae00-42a9-b41c-c9f298addebc"
      },
      "outputs": [
        {
          "output_type": "stream",
          "name": "stdout",
          "text": [
            "Enter the driver's name: massa\n",
            "(97, 6, 10)\n"
          ]
        }
      ],
      "source": [
        "formula1=open('formula1_data.csv', mode='r')\n",
        "#let's take the driver's name as input\n",
        "driver_name=input(\"Enter the driver's name: \")\n",
        "\n",
        "def driverDetails(driver_name):\n",
        "\n",
        "    \"\"\"\n",
        "\n",
        "    The function returns the details of the drivers (total points, total victories, total podiums).\n",
        "\n",
        "     VARIABLES\n",
        "     tot_points = returns the sum of the driver's points\n",
        "     tot_wins= returns the total wins (placements==1)\n",
        "     tot_podiums= returns the count of podiums (placements ==1 or 2 or 3)\n",
        "\n",
        "     position_to_points=list that contains the points gained in a race\n",
        "     driver=list that cointains the list of drivers\n",
        "     arrival=placement at the and of the race --> int\n",
        "\n",
        "\n",
        "     METHOD\n",
        "     Input control: We verify that the driver name is different from an empty field. We transform the input into a string\n",
        "     with the first letter in uppercase and the remaining letters in lowercase.\n",
        "\n",
        "     We create a list of drivers by reading the names from the Driver column of the formula1 file.\n",
        "\n",
        "     We check if the driver_name is in the driver list and if not we return a message.\n",
        "\n",
        "     We find the placement in the Position column then we sum to total_points the value that correspond to the position in the points_to_position list\n",
        "     We calculate victories and podiums\n",
        "\n",
        "     RETURN\n",
        "     The result is a list containing the driver's total points, number of victories and number of podiums\n",
        "\n",
        "    \"\"\"\n",
        "\n",
        "    tot_points=0\n",
        "    tot_wins=0\n",
        "    tot_podiums=0\n",
        "    position_to_points = [0, 10, 8, 6, 5, 4, 3, 2, 1]\n",
        "\n",
        "    if len(driver_name) == 0:  #if the input is empty return a sentence\n",
        "\n",
        "        return \"Empty field.\"\n",
        "    else:\n",
        "        driver_name = driver_name[0].upper() + driver_name[1:].lower()   #input control\n",
        "\n",
        "        csv_reader = csv.DictReader(formula1)\n",
        "\n",
        "        driver = []  #create a list of drivers\n",
        "\n",
        "        formula1.seek(0)  #read the file from the beggining\n",
        "\n",
        "        for row in csv_reader:\n",
        "            driver.append(row['Driver'])\n",
        "\n",
        "        if driver_name not in driver:    #if the driver_name is not in the driver list return a sentence\n",
        "            return \"The driver is not on the list.\"\n",
        "\n",
        "        formula1.seek(0)   #read the file from the beggining\n",
        "\n",
        "        for row in csv_reader:\n",
        "            if driver_name in row['Driver']:  #if the driver is the column \"Driver\"\n",
        "                arrival = int(row['Position'])\n",
        "                tot_points+= position_to_points[arrival]\n",
        "\n",
        "                if arrival==1:   #win if placement is 1\n",
        "                    tot_wins+=1\n",
        "\n",
        "                if arrival>=1 and arrival<=3:  #podium if placement is 1 or 2 or 3\n",
        "                    tot_podiums+=1\n",
        "\n",
        "\n",
        "    return (tot_points, tot_wins, tot_podiums)\n",
        "\n",
        "\n",
        "result = driverDetails(driver_name)\n",
        "print(result)"
      ]
    },
    {
      "cell_type": "code",
      "execution_count": null,
      "id": "62a3405c",
      "metadata": {
        "scrolled": true,
        "colab": {
          "base_uri": "https://localhost:8080/"
        },
        "id": "62a3405c",
        "outputId": "11d67c33-fb23-4917-8f47-b680f57319d2"
      },
      "outputs": [
        {
          "output_type": "stream",
          "name": "stdout",
          "text": [
            "{'Hamilton': 98, 'Massa': 97, 'Raikkonen': 75, 'Kubica': 75, 'Alonso': 61, 'Heidfeld': 60, 'Kovalainen': 53, 'Vettel': 35, 'Trulli': 31, 'Glock': 25}\n"
          ]
        }
      ],
      "source": [
        "def driverStandings():\n",
        "\n",
        "    \"\"\"\n",
        "    The function creates a dictionary containing the names of the drivers and their total points\n",
        "\n",
        "    VARIABLES\n",
        "    driver_score= dictionary name\n",
        "    driver_name= driver name and dictionary key\n",
        "    result=result of driverDetails and dictionary value\n",
        "\n",
        "    METHOD\n",
        "    Let's create the empty dictionary and read the formula1 file from the beginning\n",
        "    We look for each driver in the Driver column and create the driver key, then associate the value zero\n",
        "    We read each driver in the driver_score dictionary\n",
        "    Taking the result of the DriverDetails (list of points, victories, podiums), we access the first element (total driver points)\n",
        "    and associate it with the driver_name key\n",
        "\n",
        "    RETURN\n",
        "    The function returns the complete dictionary with key the driver's name and value the total of his points\n",
        "     \"\"\"\n",
        "    driver_score={}\n",
        "\n",
        "    # Create a csv.DictReader object\n",
        "    formula1.seek(0)\n",
        "    csv_reader = csv.DictReader(formula1)\n",
        "\n",
        "\n",
        "    for row in csv_reader:\n",
        "        driver_name=row[\"Driver\"]\n",
        "        if driver_name not in driver_score: #we create dictionary keys\n",
        "            driver_score[driver_name]=0\n",
        "\n",
        "    for driver_name in driver_score:\n",
        "        result = driverDetails(driver_name)\n",
        "\n",
        "        driver_score[driver_name]=result[0]\n",
        "\n",
        "    return driver_score\n",
        "\n",
        "driver_score = driverStandings()\n",
        "print(driver_score)"
      ]
    },
    {
      "cell_type": "code",
      "execution_count": null,
      "id": "e4e3466e",
      "metadata": {
        "id": "e4e3466e"
      },
      "outputs": [],
      "source": [
        "\"\"\"\n",
        "We open the Drivers Standings 2008 Formula 1 file for writing\n",
        "We write the title: Drivers Standings 2008 Formula 1\n",
        "We write the result of function driverStandings so that each key:value pair is on a different line\n",
        "\"\"\"\n",
        "Drivers_standings= open(\"Drivers Standings 2008 Formula 1.txt\", \"w\")\n",
        "Drivers_standings.write(\"Drivers Standings 2008 Formula 1 \\n\")\n",
        "\n",
        "for i in driver_score:\n",
        "    Drivers_standings.write(i+\": \"+str(driver_score[i])+\"\\n\") #we iterate over each line to write the individual lines\n",
        "Drivers_standings.close()"
      ]
    },
    {
      "cell_type": "code",
      "execution_count": null,
      "id": "4018b655",
      "metadata": {
        "colab": {
          "base_uri": "https://localhost:8080/"
        },
        "id": "4018b655",
        "outputId": "73ca2504-9156-458e-9483-e2056de9edea"
      },
      "outputs": [
        {
          "output_type": "stream",
          "name": "stdout",
          "text": [
            "{'McLaren': 151, 'Ferrari': 172, 'BMW': 135, 'Renault': 61, 'Toro Rosso': 35, 'Toyota': 56}\n"
          ]
        }
      ],
      "source": [
        "def findTeamStandings():\n",
        "\n",
        "    \"\"\"\n",
        "    The function findTeamStandings calculates the total points for each team starting from the 2008 Formula 1 Drivers Standings file\n",
        "    and from the formula1 file\n",
        "\n",
        "    VARIABLES\n",
        "    Data sources:\n",
        "        Drivers_standings= file containing the names of the drivers and their scores\n",
        "        csv_reader= file containing all data\n",
        "\n",
        "    score_for_each_driver=individual lines of the Drivers_standings file\n",
        "    teams_score= dictionary containing the pair \"team : team score\"\n",
        "    drivers_in_a_team= list of all drivers racing for a team\n",
        "\n",
        "    METHOD\n",
        "    1-We manage the sources\n",
        "    2-We find the team and drivers for each team\n",
        "    3-We attribute the sum of drivers' scores to the team\n",
        "\n",
        "    RETURN\n",
        "    Returns a dictionary containing the names of teams and their total points\n",
        "\n",
        "\n",
        "    STEP 1 - We manage the sources\n",
        "\n",
        "    We read formula1 file from the beginning and open it.\n",
        "    Then we read the Drivers Stantings 2008 formula 1 file.\n",
        "\n",
        "    We create teams_score and drivers_in_a_team dictionaries\n",
        "    \"\"\"\n",
        "\n",
        "    formula1.seek(0)\n",
        "    csv_reader = csv.DictReader(formula1)\n",
        "\n",
        "    Drivers_standings= open(\"Drivers Standings 2008 Formula 1.txt\", \"r\")\n",
        "    score_for_each_driver = Drivers_standings.readlines()\n",
        "\n",
        "    teams_score={}\n",
        "    drivers_in_a_team = {}\n",
        "\n",
        "\n",
        "    \"\"\"STEP 2 - we find teams and drivers for each teams\n",
        "\n",
        "         We read each line of the csv_reader: in column Team we find teams, in column Driver we find all drivers\n",
        "         Then we fill the teams_score and drivers_in_a_team dictionaries with their keys\n",
        "\n",
        "     \"\"\"\n",
        "    for row in csv_reader:\n",
        "        team=row[\"Team\"]\n",
        "        driver=row[\"Driver\"]\n",
        "        if not team in teams_score:\n",
        "            teams_score[team]=0\n",
        "            drivers_in_a_team[team]=[]\n",
        "\n",
        "        if not driver in drivers_in_a_team[team]:\n",
        "            drivers_in_a_team[team].append(driver)\n",
        "\n",
        "    \"\"\" STEP 3 - We attribute the drivers' scores to the teams\n",
        "\n",
        "     With nested for loops we iterate both in the created dictionary (drivers_in_a_team and score_for_each_driver),\n",
        "     and for each team and its drivers found we report the score by accessing the data in the file and converting it into integers.\n",
        "    \"\"\"\n",
        "    for team in drivers_in_a_team:\n",
        "        for item in score_for_each_driver:\n",
        "\n",
        "            for driver in drivers_in_a_team[team]:\n",
        "                if driver in item:\n",
        "                    teams_score[team]+=int(item.split(\": \")[1]) #we access the elements of the file by separating them using the split method\n",
        "\n",
        "    return teams_score\n",
        "\n",
        "teams_score=findTeamStandings()\n",
        "print(teams_score)"
      ]
    },
    {
      "cell_type": "code",
      "execution_count": null,
      "id": "3363db3d",
      "metadata": {
        "id": "3363db3d"
      },
      "outputs": [],
      "source": [
        "formula1.close()"
      ]
    },
    {
      "cell_type": "code",
      "execution_count": null,
      "id": "f8328522",
      "metadata": {
        "id": "f8328522"
      },
      "outputs": [],
      "source": []
    },
    {
      "cell_type": "code",
      "execution_count": null,
      "id": "c76ff89f",
      "metadata": {
        "id": "c76ff89f"
      },
      "outputs": [],
      "source": []
    }
  ],
  "metadata": {
    "celltoolbar": "Raw Cell Format",
    "kernelspec": {
      "display_name": "Python 3 (ipykernel)",
      "language": "python",
      "name": "python3"
    },
    "language_info": {
      "codemirror_mode": {
        "name": "ipython",
        "version": 3
      },
      "file_extension": ".py",
      "mimetype": "text/x-python",
      "name": "python",
      "nbconvert_exporter": "python",
      "pygments_lexer": "ipython3",
      "version": "3.11.5"
    },
    "colab": {
      "provenance": [],
      "include_colab_link": true
    }
  },
  "nbformat": 4,
  "nbformat_minor": 5
}